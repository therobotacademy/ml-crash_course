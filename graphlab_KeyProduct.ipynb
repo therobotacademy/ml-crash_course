{
 "cells": [
  {
   "cell_type": "code",
   "execution_count": null,
   "metadata": {
    "collapsed": false
   },
   "outputs": [],
   "source": [
    "# set product key\n",
    "import graphlab\n",
    "# Substitute XXXX-...-XXXX for the provided key\n",
    "graphlab.product_key.set_product_key('XXXX-XXXX-XXXX-XXXX-XXXX-XXXX-XXXX-XXXX')\n",
    "\n",
    "# output active product key\n",
    "graphlab.product_key.get_product_key()"
   ]
  }
 ],
 "metadata": {
  "kernelspec": {
   "display_name": "Python 2",
   "language": "python",
   "name": "python2"
  },
  "language_info": {
   "codemirror_mode": {
    "name": "ipython",
    "version": 2
   },
   "file_extension": ".py",
   "mimetype": "text/x-python",
   "name": "python",
   "nbconvert_exporter": "python",
   "pygments_lexer": "ipython2",
   "version": "2.7.11"
  }
 },
 "nbformat": 4,
 "nbformat_minor": 0
}
