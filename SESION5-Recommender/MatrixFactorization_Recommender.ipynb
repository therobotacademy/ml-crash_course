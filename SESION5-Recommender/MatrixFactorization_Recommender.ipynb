{
 "cells": [
  {
   "cell_type": "code",
   "execution_count": 6,
   "metadata": {
    "collapsed": true
   },
   "outputs": [],
   "source": [
    "import graphlab"
   ]
  },
  {
   "cell_type": "code",
   "execution_count": 9,
   "metadata": {
    "collapsed": false
   },
   "outputs": [
    {
     "data": {
      "text/html": [
       "<pre>Downloading https://static.turi.com/datasets/stack_overflow/m_74b0dc51.0000 to /var/tmp/graphlab-ubuntu/1479/71ac9eec-4b91-4feb-8a8e-3478c29ed09e.0000</pre>"
      ],
      "text/plain": [
       "Downloading https://static.turi.com/datasets/stack_overflow/m_74b0dc51.0000 to /var/tmp/graphlab-ubuntu/1479/71ac9eec-4b91-4feb-8a8e-3478c29ed09e.0000"
      ]
     },
     "metadata": {},
     "output_type": "display_data"
    },
    {
     "data": {
      "text/html": [
       "<pre>Downloading https://static.turi.com/datasets/stack_overflow/m_74b0dc51.0001 to /var/tmp/graphlab-ubuntu/1479/0145c1d7-a3d6-4f38-853f-febf65ab4e15.0001</pre>"
      ],
      "text/plain": [
       "Downloading https://static.turi.com/datasets/stack_overflow/m_74b0dc51.0001 to /var/tmp/graphlab-ubuntu/1479/0145c1d7-a3d6-4f38-853f-febf65ab4e15.0001"
      ]
     },
     "metadata": {},
     "output_type": "display_data"
    },
    {
     "data": {
      "text/html": [
       "<pre>Downloading https://static.turi.com/datasets/stack_overflow/m_74b0dc51.0002 to /var/tmp/graphlab-ubuntu/1479/f6baf285-8a72-406a-abc0-238f17585a29.0002</pre>"
      ],
      "text/plain": [
       "Downloading https://static.turi.com/datasets/stack_overflow/m_74b0dc51.0002 to /var/tmp/graphlab-ubuntu/1479/f6baf285-8a72-406a-abc0-238f17585a29.0002"
      ]
     },
     "metadata": {},
     "output_type": "display_data"
    },
    {
     "data": {
      "text/html": [
       "<pre>Downloading https://static.turi.com/datasets/stack_overflow/m_74b0dc51.0003 to /var/tmp/graphlab-ubuntu/1479/167dc32e-081a-4bf1-80de-d8ecdecc7d88.0003</pre>"
      ],
      "text/plain": [
       "Downloading https://static.turi.com/datasets/stack_overflow/m_74b0dc51.0003 to /var/tmp/graphlab-ubuntu/1479/167dc32e-081a-4bf1-80de-d8ecdecc7d88.0003"
      ]
     },
     "metadata": {},
     "output_type": "display_data"
    },
    {
     "data": {
      "text/html": [
       "<pre>Downloading https://static.turi.com/datasets/stack_overflow/m_74b0dc51.0004 to /var/tmp/graphlab-ubuntu/1479/7454acee-6977-46bf-aec8-a8f89e4a0ec0.0004</pre>"
      ],
      "text/plain": [
       "Downloading https://static.turi.com/datasets/stack_overflow/m_74b0dc51.0004 to /var/tmp/graphlab-ubuntu/1479/7454acee-6977-46bf-aec8-a8f89e4a0ec0.0004"
      ]
     },
     "metadata": {},
     "output_type": "display_data"
    },
    {
     "data": {
      "text/html": [
       "<pre>Downloading https://static.turi.com/datasets/stack_overflow/m_74b0dc51.0005 to /var/tmp/graphlab-ubuntu/1479/b0f89f1e-3b9d-4d09-8656-38ec519df709.0005</pre>"
      ],
      "text/plain": [
       "Downloading https://static.turi.com/datasets/stack_overflow/m_74b0dc51.0005 to /var/tmp/graphlab-ubuntu/1479/b0f89f1e-3b9d-4d09-8656-38ec519df709.0005"
      ]
     },
     "metadata": {},
     "output_type": "display_data"
    },
    {
     "data": {
      "text/html": [
       "<pre>Downloading https://static.turi.com/datasets/stack_overflow/m_74b0dc51.0006 to /var/tmp/graphlab-ubuntu/1479/a045a0f8-9dd1-463e-aa51-90f1b209d398.0006</pre>"
      ],
      "text/plain": [
       "Downloading https://static.turi.com/datasets/stack_overflow/m_74b0dc51.0006 to /var/tmp/graphlab-ubuntu/1479/a045a0f8-9dd1-463e-aa51-90f1b209d398.0006"
      ]
     },
     "metadata": {},
     "output_type": "display_data"
    },
    {
     "data": {
      "text/html": [
       "<pre>Downloading https://static.turi.com/datasets/stack_overflow/m_74b0dc51.0007 to /var/tmp/graphlab-ubuntu/1479/ebbc4aef-8ad0-45b5-967f-072daf4fa954.0007</pre>"
      ],
      "text/plain": [
       "Downloading https://static.turi.com/datasets/stack_overflow/m_74b0dc51.0007 to /var/tmp/graphlab-ubuntu/1479/ebbc4aef-8ad0-45b5-967f-072daf4fa954.0007"
      ]
     },
     "metadata": {},
     "output_type": "display_data"
    }
   ],
   "source": [
    "import os\n",
    "if os.path.exists('stack_overflow'):\n",
    "    sf = graphlab.SFrame('stack_overflow')\n",
    "else:\n",
    "    sf= graphlab.SFrame('https://static.turi.com/datasets/stack_overflow')\n",
    "    sf.save('stack_overflow')"
   ]
  },
  {
   "cell_type": "markdown",
   "metadata": {},
   "source": [
    "Visually explore the above data using GraphLab Canvas:"
   ]
  },
  {
   "cell_type": "markdown",
   "metadata": {},
   "source": [
    "Create a new column called *Tags* where each element is a list of all the tags used for that question:"
   ]
  },
  {
   "cell_type": "code",
   "execution_count": 10,
   "metadata": {
    "collapsed": false
   },
   "outputs": [],
   "source": [
    "sf = sf.pack_columns(column_prefix='Tag', new_column_name='Tags')"
   ]
  },
  {
   "cell_type": "markdown",
   "metadata": {},
   "source": [
    "Make your SFrame only contain the OwnerUserId column and the Tags column you created in the previous step."
   ]
  },
  {
   "cell_type": "code",
   "execution_count": 13,
   "metadata": {
    "collapsed": true
   },
   "outputs": [],
   "source": [
    "sf = sf[['OwnerUserId', 'Tags']]"
   ]
  },
  {
   "cell_type": "code",
   "execution_count": 23,
   "metadata": {
    "collapsed": false
   },
   "outputs": [
    {
     "data": {
      "application/javascript": [
       "$(\"head\").append($(\"<link/>\").attr({\n",
       "  rel:  \"stylesheet\",\n",
       "  type: \"text/css\",\n",
       "  href: \"//cdnjs.cloudflare.com/ajax/libs/font-awesome/4.1.0/css/font-awesome.min.css\"\n",
       "}));\n",
       "$(\"head\").append($(\"<link/>\").attr({\n",
       "  rel:  \"stylesheet\",\n",
       "  type: \"text/css\",\n",
       "  href: \"https://static.turi.com/products/graphlab-create/2.1/canvas/css/canvas.css\"\n",
       "}));\n",
       "\n",
       "            (function(){\n",
       "\n",
       "                var e = null;\n",
       "                if (typeof element == 'undefined') {\n",
       "                    var scripts = document.getElementsByTagName('script');\n",
       "                    var thisScriptTag = scripts[scripts.length-1];\n",
       "                    var parentDiv = thisScriptTag.parentNode;\n",
       "                    e = document.createElement('div');\n",
       "                    parentDiv.appendChild(e);\n",
       "                } else {\n",
       "                    e = element[0];\n",
       "                }\n",
       "\n",
       "                if (typeof requirejs !== 'undefined') {\n",
       "                    // disable load timeout; ipython_app.js is large and can take a while to load.\n",
       "                    requirejs.config({waitSeconds: 0});\n",
       "                }\n",
       "\n",
       "                require(['https://static.turi.com/products/graphlab-create/2.1/canvas/js/ipython_app.js'], function(IPythonApp){\n",
       "                    var app = new IPythonApp();\n",
       "                    app.attachView('sframe','Summary', {\"ipython\": true, \"sketch\": {\"OwnerUserId\": {\"complete\": true, \"numeric\": false, \"num_unique\": 654457, \"num_undefined\": 0, \"progress\": 1.0, \"frequent_items\": {\"418029\": {\"frequency\": 395, \"value\": \"418029\"}, \"642022\": {\"frequency\": 361, \"value\": \"642022\"}, \"146857\": {\"frequency\": 397, \"value\": \"146857\"}, \"277696\": {\"frequency\": 336, \"value\": \"277696\"}, \"383759\": {\"frequency\": 414, \"value\": \"383759\"}, \"41543\": {\"frequency\": 490, \"value\": \"41543\"}, \"122536\": {\"frequency\": 569, \"value\": \"122536\"}, \"508127\": {\"frequency\": 522, \"value\": \"508127\"}, \"222427\": {\"frequency\": 363, \"value\": \"222427\"}, \"707381\": {\"frequency\": 564, \"value\": \"707381\"}, \"48523\": {\"frequency\": 517, \"value\": \"48523\"}, \"892029\": {\"frequency\": 551, \"value\": \"892029\"}, \"5274\": {\"frequency\": 459, \"value\": \"5274\"}, \"31610\": {\"frequency\": 630, \"value\": \"31610\"}, \"95944\": {\"frequency\": 509, \"value\": \"95944\"}, \"470184\": {\"frequency\": 414, \"value\": \"470184\"}, \"129001\": {\"frequency\": 342, \"value\": \"129001\"}, \"172861\": {\"frequency\": 563, \"value\": \"172861\"}, \"741099\": {\"frequency\": 396, \"value\": \"741099\"}, \"181771\": {\"frequency\": 414, \"value\": \"181771\"}, \"302533\": {\"frequency\": 532, \"value\": \"302533\"}, \"164216\": {\"frequency\": 405, \"value\": \"164216\"}, \"112355\": {\"frequency\": 399, \"value\": \"112355\"}, \"277603\": {\"frequency\": 368, \"value\": \"277603\"}, \"3834\": {\"frequency\": 532, \"value\": \"3834\"}, \"117700\": {\"frequency\": 1094, \"value\": \"117700\"}, \"404020\": {\"frequency\": 401, \"value\": \"404020\"}, \"356849\": {\"frequency\": 546, \"value\": \"356849\"}, \"36590\": {\"frequency\": 485, \"value\": \"36590\"}, \"275390\": {\"frequency\": 381, \"value\": \"275390\"}, \"143030\": {\"frequency\": 561, \"value\": \"143030\"}, \"128071\": {\"frequency\": 373, \"value\": \"128071\"}, \"84539\": {\"frequency\": 439, \"value\": \"84539\"}, \"651174\": {\"frequency\": 510, \"value\": \"651174\"}, \"246776\": {\"frequency\": 402, \"value\": \"246776\"}, \"69803\": {\"frequency\": 336, \"value\": \"69803\"}, \"496949\": {\"frequency\": 481, \"value\": \"496949\"}, \"184046\": {\"frequency\": 458, \"value\": \"184046\"}, \"109676\": {\"frequency\": 440, \"value\": \"109676\"}, \"257022\": {\"frequency\": 842, \"value\": \"257022\"}, \"260127\": {\"frequency\": 642, \"value\": \"260127\"}, \"173520\": {\"frequency\": 617, \"value\": \"173520\"}, \"15055\": {\"frequency\": 423, \"value\": \"15055\"}, \"248959\": {\"frequency\": 424, \"value\": \"248959\"}, \"975566\": {\"frequency\": 434, \"value\": \"975566\"}, \"541686\": {\"frequency\": 509, \"value\": \"541686\"}, \"112100\": {\"frequency\": 419, \"value\": \"112100\"}, \"485743\": {\"frequency\": 413, \"value\": \"485743\"}, \"149080\": {\"frequency\": 1174, \"value\": \"149080\"}, \"807325\": {\"frequency\": 390, \"value\": \"807325\"}, \"242933\": {\"frequency\": 367, \"value\": \"242933\"}, \"486578\": {\"frequency\": 473, \"value\": \"486578\"}, \"48465\": {\"frequency\": 532, \"value\": \"48465\"}, \"268733\": {\"frequency\": 448, \"value\": \"268733\"}, \"260594\": {\"frequency\": 450, \"value\": \"260594\"}, \"4653\": {\"frequency\": 1447, \"value\": \"4653\"}, \"192910\": {\"frequency\": 499, \"value\": \"192910\"}, \"34537\": {\"frequency\": 1417, \"value\": \"34537\"}, \"19875\": {\"frequency\": 683, \"value\": \"19875\"}, \"63235\": {\"frequency\": 565, \"value\": \"63235\"}, \"31671\": {\"frequency\": 497, \"value\": \"31671\"}, \"9382\": {\"frequency\": 523, \"value\": \"9382\"}, \"108207\": {\"frequency\": 453, \"value\": \"108207\"}, \"78182\": {\"frequency\": 382, \"value\": \"78182\"}, \"466534\": {\"frequency\": 475, \"value\": \"466534\"}, \"342235\": {\"frequency\": 429, \"value\": \"342235\"}, \"146780\": {\"frequency\": 850, \"value\": \"146780\"}, \"234322\": {\"frequency\": 412, \"value\": \"234322\"}, \"84201\": {\"frequency\": 1167, \"value\": \"84201\"}, \"185593\": {\"frequency\": 440, \"value\": \"185593\"}, \"267679\": {\"frequency\": 361, \"value\": \"267679\"}, \"105167\": {\"frequency\": 372, \"value\": \"105167\"}, \"1444475\": {\"frequency\": 423, \"value\": \"1444475\"}, \"12597\": {\"frequency\": 698, \"value\": \"12597\"}, \"32484\": {\"frequency\": 761, \"value\": \"32484\"}, \"70942\": {\"frequency\": 386, \"value\": \"70942\"}, \"376947\": {\"frequency\": 593, \"value\": \"376947\"}, \"401025\": {\"frequency\": 431, \"value\": \"401025\"}, \"80002\": {\"frequency\": 415, \"value\": \"80002\"}, \"224922\": {\"frequency\": 562, \"value\": \"224922\"}, \"326821\": {\"frequency\": 320, \"value\": \"326821\"}, \"413225\": {\"frequency\": 412, \"value\": \"413225\"}, \"57997\": {\"frequency\": 258, \"value\": \"57997\"}, \"16241\": {\"frequency\": 754, \"value\": \"16241\"}, \"721937\": {\"frequency\": 388, \"value\": \"721937\"}, \"130015\": {\"frequency\": 783, \"value\": \"130015\"}, \"328397\": {\"frequency\": 437, \"value\": \"328397\"}, \"87152\": {\"frequency\": 454, \"value\": \"87152\"}, \"295189\": {\"frequency\": 431, \"value\": \"295189\"}, \"42636\": {\"frequency\": 376, \"value\": \"42636\"}, \"30674\": {\"frequency\": 565, \"value\": \"30674\"}, \"174614\": {\"frequency\": 401, \"value\": \"174614\"}, \"356387\": {\"frequency\": 437, \"value\": \"356387\"}, \"323698\": {\"frequency\": 362, \"value\": \"323698\"}, \"43907\": {\"frequency\": 537, \"value\": \"43907\"}, \"108869\": {\"frequency\": 419, \"value\": \"108869\"}, \"454049\": {\"frequency\": 419, \"value\": \"454049\"}, \"637142\": {\"frequency\": 437, \"value\": \"637142\"}, \"223863\": {\"frequency\": 344, \"value\": \"223863\"}, \"104015\": {\"frequency\": 383, \"value\": \"104015\"}, \"63051\": {\"frequency\": 366, \"value\": \"63051\"}, \"875317\": {\"frequency\": 407, \"value\": \"875317\"}, \"458960\": {\"frequency\": 342, \"value\": \"458960\"}, \"253976\": {\"frequency\": 457, \"value\": \"253976\"}, \"536768\": {\"frequency\": 334, \"value\": \"536768\"}, \"164002\": {\"frequency\": 384, \"value\": \"164002\"}, \"8741\": {\"frequency\": 789, \"value\": \"8741\"}, \"533941\": {\"frequency\": 391, \"value\": \"533941\"}, \"4639\": {\"frequency\": 965, \"value\": \"4639\"}, \"283055\": {\"frequency\": 567, \"value\": \"283055\"}, \"221023\": {\"frequency\": 382, \"value\": \"221023\"}, \"206446\": {\"frequency\": 465, \"value\": \"206446\"}, \"325418\": {\"frequency\": 931, \"value\": \"325418\"}, \"68571\": {\"frequency\": 535, \"value\": \"68571\"}, \"198729\": {\"frequency\": 558, \"value\": \"198729\"}, \"41021\": {\"frequency\": 436, \"value\": \"41021\"}, \"478573\": {\"frequency\": 460, \"value\": \"478573\"}, \"48082\": {\"frequency\": 405, \"value\": \"48082\"}, \"238232\": {\"frequency\": 401, \"value\": \"238232\"}, \"159072\": {\"frequency\": 411, \"value\": \"159072\"}, \"93468\": {\"frequency\": 569, \"value\": \"93468\"}, \"267304\": {\"frequency\": 535, \"value\": \"267304\"}, \"223367\": {\"frequency\": 748, \"value\": \"223367\"}, \"126353\": {\"frequency\": 382, \"value\": \"126353\"}, \"75500\": {\"frequency\": 434, \"value\": \"75500\"}, \"292291\": {\"frequency\": 710, \"value\": \"292291\"}, \"155196\": {\"frequency\": 387, \"value\": \"155196\"}, \"391104\": {\"frequency\": 463, \"value\": \"391104\"}, \"565968\": {\"frequency\": 582, \"value\": \"565968\"}, \"197606\": {\"frequency\": 505, \"value\": \"197606\"}, \"557527\": {\"frequency\": 407, \"value\": \"557527\"}, \"434051\": {\"frequency\": 1063, \"value\": \"434051\"}, \"478144\": {\"frequency\": 448, \"value\": \"478144\"}, \"295133\": {\"frequency\": 337, \"value\": \"295133\"}, \"11236\": {\"frequency\": 746, \"value\": \"11236\"}, \"69742\": {\"frequency\": 417, \"value\": \"69742\"}, \"244413\": {\"frequency\": 357, \"value\": \"244413\"}, \"434218\": {\"frequency\": 420, \"value\": \"434218\"}, \"142019\": {\"frequency\": 364, \"value\": \"142019\"}, \"379008\": {\"frequency\": 458, \"value\": \"379008\"}, \"54964\": {\"frequency\": 704, \"value\": \"54964\"}, \"169992\": {\"frequency\": 369, \"value\": \"169992\"}, \"554217\": {\"frequency\": 399, \"value\": \"554217\"}, \"136141\": {\"frequency\": 474, \"value\": \"136141\"}, \"237681\": {\"frequency\": 374, \"value\": \"237681\"}, \"188962\": {\"frequency\": 520, \"value\": \"188962\"}, \"99834\": {\"frequency\": 395, \"value\": \"99834\"}, \"51649\": {\"frequency\": 529, \"value\": \"51649\"}, \"700663\": {\"frequency\": 370, \"value\": \"700663\"}, \"44330\": {\"frequency\": 687, \"value\": \"44330\"}, \"656925\": {\"frequency\": 550, \"value\": \"656925\"}, \"365251\": {\"frequency\": 655, \"value\": \"365251\"}, \"561395\": {\"frequency\": 398, \"value\": \"561395\"}, \"478520\": {\"frequency\": 391, \"value\": \"478520\"}, \"247243\": {\"frequency\": 509, \"value\": \"247243\"}, \"172637\": {\"frequency\": 418, \"value\": \"172637\"}, \"39321\": {\"frequency\": 370, \"value\": \"39321\"}, \"33690\": {\"frequency\": 615, \"value\": \"33690\"}, \"147601\": {\"frequency\": 842, \"value\": \"147601\"}, \"130758\": {\"frequency\": 700, \"value\": \"130758\"}, \"226897\": {\"frequency\": 360, \"value\": \"226897\"}, \"310291\": {\"frequency\": 775, \"value\": \"310291\"}, \"197229\": {\"frequency\": 495, \"value\": \"197229\"}, \"187141\": {\"frequency\": 408, \"value\": \"187141\"}, \"39677\": {\"frequency\": 1779, \"value\": \"39677\"}, \"731255\": {\"frequency\": 441, \"value\": \"731255\"}, \"179736\": {\"frequency\": 1233, \"value\": \"179736\"}, \"634710\": {\"frequency\": 318, \"value\": \"634710\"}, \"577455\": {\"frequency\": 368, \"value\": \"577455\"}, \"190822\": {\"frequency\": 377, \"value\": \"190822\"}, \"49153\": {\"frequency\": 563, \"value\": \"49153\"}, \"92679\": {\"frequency\": 387, \"value\": \"92679\"}, \"111665\": {\"frequency\": 482, \"value\": \"111665\"}, \"224988\": {\"frequency\": 395, \"value\": \"224988\"}, \"2648\": {\"frequency\": 532, \"value\": \"2648\"}, \"91970\": {\"frequency\": 358, \"value\": \"91970\"}, \"51816\": {\"frequency\": 666, \"value\": \"51816\"}, \"359862\": {\"frequency\": 473, \"value\": \"359862\"}, \"356635\": {\"frequency\": 500, \"value\": \"356635\"}, \"18309\": {\"frequency\": 421, \"value\": \"18309\"}, \"164299\": {\"frequency\": 364, \"value\": \"164299\"}, \"207524\": {\"frequency\": 607, \"value\": \"207524\"}, \"72437\": {\"frequency\": 482, \"value\": \"72437\"}, \"62553\": {\"frequency\": 411, \"value\": \"62553\"}, \"95265\": {\"frequency\": 338, \"value\": \"95265\"}, \"364312\": {\"frequency\": 409, \"value\": \"364312\"}, \"40106\": {\"frequency\": 379, \"value\": \"40106\"}, \"535967\": {\"frequency\": 470, \"value\": \"535967\"}, \"683553\": {\"frequency\": 350, \"value\": \"683553\"}, \"508377\": {\"frequency\": 358, \"value\": \"508377\"}, \"265519\": {\"frequency\": 360, \"value\": \"265519\"}, \"46011\": {\"frequency\": 545, \"value\": \"46011\"}, \"93311\": {\"frequency\": 558, \"value\": \"93311\"}, \"63898\": {\"frequency\": 536, \"value\": \"63898\"}, \"68183\": {\"frequency\": 646, \"value\": \"68183\"}, \"316469\": {\"frequency\": 458, \"value\": \"316469\"}, \"65387\": {\"frequency\": 808, \"value\": \"65387\"}, \"165309\": {\"frequency\": 389, \"value\": \"165309\"}, \"859154\": {\"frequency\": 467, \"value\": \"859154\"}, \"57428\": {\"frequency\": 747, \"value\": \"57428\"}}, \"size\": 3643508}, \"Tags\": {\"complete\": true, \"numeric\": false, \"num_unique\": 44219, \"num_undefined\": 0, \"progress\": 1.0, \"frequent_items\": {\"bytearray\": {\"frequency\": 1322, \"value\": \"bytearray\"}, \"osx\": {\"frequency\": 21788, \"value\": \"osx\"}, \"msbuild\": {\"frequency\": 3670, \"value\": \"msbuild\"}, \"hashmap\": {\"frequency\": 1799, \"value\": \"hashmap\"}, \"iterator\": {\"frequency\": 2476, \"value\": \"iterator\"}, \"ef-code-first\": {\"frequency\": 2144, \"value\": \"ef-code-first\"}, \"duplicates\": {\"frequency\": 1488, \"value\": \"duplicates\"}, \"redis\": {\"frequency\": 1778, \"value\": \"redis\"}, \"dependency-injection\": {\"frequency\": 3725, \"value\": \"dependency- ...\"}, \"dynamic\": {\"frequency\": 7319, \"value\": \"dynamic\"}, \"drag-and-drop\": {\"frequency\": 3165, \"value\": \"drag-and-drop\"}, \"groovy\": {\"frequency\": 4809, \"value\": \"groovy\"}, \"cross-domain\": {\"frequency\": 1656, \"value\": \"cross-domain\"}, \"themes\": {\"frequency\": 1943, \"value\": \"themes\"}, \"cakephp-1.3\": {\"frequency\": 1646, \"value\": \"cakephp-1.3\"}, \"toggle\": {\"frequency\": 1331, \"value\": \"toggle\"}, \"gd\": {\"frequency\": 1145, \"value\": \"gd\"}, \"ggplot2\": {\"frequency\": 1585, \"value\": \"ggplot2\"}, \"mp3\": {\"frequency\": 1513, \"value\": \"mp3\"}, \"sharepoint2010\": {\"frequency\": 5128, \"value\": \"sharepoint2010\"}, \"go\": {\"frequency\": 1251, \"value\": \"go\"}, \"query\": {\"frequency\": 19569, \"value\": \"query\"}, \"flash-builder\": {\"frequency\": 1755, \"value\": \"flash-builder\"}, \"row\": {\"frequency\": 1401, \"value\": \"row\"}, \"const\": {\"frequency\": 1143, \"value\": \"const\"}, \"windows-ce\": {\"frequency\": 1106, \"value\": \"windows-ce\"}, \"icons\": {\"frequency\": 2166, \"value\": \"icons\"}, \"graph\": {\"frequency\": 4766, \"value\": \"graph\"}, \"base64\": {\"frequency\": 1277, \"value\": \"base64\"}, \"mpmovieplayercontroller\": {\"frequency\": 1176, \"value\": \"mpmovieplayercontr ...\"}, \"wmi\": {\"frequency\": 1307, \"value\": \"wmi\"}, \"matlab\": {\"frequency\": 11417, \"value\": \"matlab\"}, \"jvm\": {\"frequency\": 2340, \"value\": \"jvm\"}, \"eclipse-rcp\": {\"frequency\": 1449, \"value\": \"eclipse-rcp\"}, \"http-post\": {\"frequency\": 1220, \"value\": \"http-post\"}, \"include\": {\"frequency\": 2795, \"value\": \"include\"}, \"java-me\": {\"frequency\": 3802, \"value\": \"java-me\"}, \"junit\": {\"frequency\": 3723, \"value\": \"junit\"}, \"resources\": {\"frequency\": 3749, \"value\": \"resources\"}, \"string\": {\"frequency\": 25486, \"value\": \"string\"}, \"html-parsing\": {\"frequency\": 1431, \"value\": \"html-parsing\"}, \"monodevelop\": {\"frequency\": 1089, \"value\": \"monodevelop\"}, \"nsdictionary\": {\"frequency\": 1201, \"value\": \"nsdictionary\"}, \"focus\": {\"frequency\": 2151, \"value\": \"focus\"}, \"replication\": {\"frequency\": 1124, \"value\": \"replication\"}, \"computer-vision\": {\"frequency\": 1116, \"value\": \"computer-vision\"}, \"facebook\": {\"frequency\": 31517, \"value\": \"facebook\"}, \"prepared-statement\": {\"frequency\": 1042, \"value\": \"prepared-statement\"}, \"namespaces\": {\"frequency\": 3190, \"value\": \"namespaces\"}, \"ios-simulator\": {\"frequency\": 1641, \"value\": \"ios-simulator\"}, \"switch-statement\": {\"frequency\": 1086, \"value\": \"switch-statement\"}, \"join\": {\"frequency\": 6637, \"value\": \"join\"}, \"datetime\": {\"frequency\": 8535, \"value\": \"datetime\"}, \"push-notification\": {\"frequency\": 1453, \"value\": \"push-notification\"}, \"datagrid\": {\"frequency\": 4717, \"value\": \"datagrid\"}, \"open-source\": {\"frequency\": 3471, \"value\": \"open-source\"}, \"lisp\": {\"frequency\": 2084, \"value\": \"lisp\"}, \"mercurial\": {\"frequency\": 4320, \"value\": \"mercurial\"}, \"gui\": {\"frequency\": 9098, \"value\": \"gui\"}, \"cmd\": {\"frequency\": 1712, \"value\": \"cmd\"}, \"list\": {\"frequency\": 13330, \"value\": \"list\"}, \"upload\": {\"frequency\": 4000, \"value\": \"upload\"}, \"standards\": {\"frequency\": 1250, \"value\": \"standards\"}, \"try-catch\": {\"frequency\": 1215, \"value\": \"try-catch\"}, \"nsdate\": {\"frequency\": 1297, \"value\": \"nsdate\"}, \"ado.net\": {\"frequency\": 3713, \"value\": \"ado.net\"}, \"javascript\": {\"frequency\": 245096, \"value\": \"javascript\"}, \"nsarray\": {\"frequency\": 1779, \"value\": \"nsarray\"}, \"css3\": {\"frequency\": 9082, \"value\": \"css3\"}, \"google-maps-api-3\": {\"frequency\": 5193, \"value\": \"google-maps-api-3\"}, \"div\": {\"frequency\": 7748, \"value\": \"div\"}, \"listview\": {\"frequency\": 9977, \"value\": \"listview\"}, \"domain-driven-design\": {\"frequency\": 1883, \"value\": \"domain-driven- ...\"}, \"couchdb\": {\"frequency\": 1817, \"value\": \"couchdb\"}, \"cookies\": {\"frequency\": 6575, \"value\": \"cookies\"}, \"gridview\": {\"frequency\": 6717, \"value\": \"gridview\"}, \"netbeans\": {\"frequency\": 6408, \"value\": \"netbeans\"}, \"asp-classic\": {\"frequency\": 3916, \"value\": \"asp-classic\"}, \"edittext\": {\"frequency\": 1594, \"value\": \"edittext\"}, \"elisp\": {\"frequency\": 1208, \"value\": \"elisp\"}, \"joomla\": {\"frequency\": 4539, \"value\": \"joomla\"}, \"cron\": {\"frequency\": 2473, \"value\": \"cron\"}, \"aptana\": {\"frequency\": 1146, \"value\": \"aptana\"}, \"design\": {\"frequency\": 9623, \"value\": \"design\"}, \"phpunit\": {\"frequency\": 1624, \"value\": \"phpunit\"}, \"uiscrollview\": {\"frequency\": 3548, \"value\": \"uiscrollview\"}, \"plugins\": {\"frequency\": 7232, \"value\": \"plugins\"}, \"download\": {\"frequency\": 2959, \"value\": \"download\"}, \"shared-libraries\": {\"frequency\": 1289, \"value\": \"shared-libraries\"}, \"tortoisesvn\": {\"frequency\": 2074, \"value\": \"tortoisesvn\"}, \"listbox\": {\"frequency\": 2903, \"value\": \"listbox\"}, \"click\": {\"frequency\": 2525, \"value\": \"click\"}, \"append\": {\"frequency\": 1557, \"value\": \"append\"}, \"sql-server-2008\": {\"frequency\": 17541, \"value\": \"sql-server-2008\"}, \"windows-installer\": {\"frequency\": 1524, \"value\": \"windows-installer\"}, \"hide\": {\"frequency\": 1442, \"value\": \"hide\"}, \"jframe\": {\"frequency\": 1327, \"value\": \"jframe\"}, \"sql-server-2000\": {\"frequency\": 1240, \"value\": \"sql-server-2000\"}, \"64bit\": {\"frequency\": 1742, \"value\": \"64bit\"}, \"localization\": {\"frequency\": 3901, \"value\": \"localization\"}, \"sql-server-2005\": {\"frequency\": 11731, \"value\": \"sql-server-2005\"}, \"asp.net-mvc\": {\"frequency\": 36350, \"value\": \"asp.net-mvc\"}, \"box2d\": {\"frequency\": 1072, \"value\": \"box2d\"}, \"reporting-services\": {\"frequency\": 4614, \"value\": \"reporting-services\"}, \"ssis\": {\"frequency\": 3300, \"value\": \"ssis\"}, \"version\": {\"frequency\": 1597, \"value\": \"version\"}, \"embedded\": {\"frequency\": 2944, \"value\": \"embedded\"}, \"vb6\": {\"frequency\": 3790, \"value\": \"vb6\"}, \"iphone-sdk-3.0\": {\"frequency\": 2852, \"value\": \"iphone-sdk-3.0\"}, \"memcached\": {\"frequency\": 2058, \"value\": \"memcached\"}, \"jsf-2\": {\"frequency\": 5472, \"value\": \"jsf-2\"}, \"3d\": {\"frequency\": 3675, \"value\": \"3d\"}, \"text-files\": {\"frequency\": 1097, \"value\": \"text-files\"}, \"widget\": {\"frequency\": 2889, \"value\": \"widget\"}, \"mef\": {\"frequency\": 1063, \"value\": \"mef\"}, \"hash\": {\"frequency\": 5087, \"value\": \"hash\"}, \"transparency\": {\"frequency\": 1228, \"value\": \"transparency\"}, \"tags\": {\"frequency\": 3246, \"value\": \"tags\"}, \"winapi\": {\"frequency\": 11043, \"value\": \"winapi\"}, \"chat\": {\"frequency\": 1315, \"value\": \"chat\"}, \"compilation\": {\"frequency\": 3481, \"value\": \"compilation\"}, \"drupal-6\": {\"frequency\": 3033, \"value\": \"drupal-6\"}, \"pygtk\": {\"frequency\": 1072, \"value\": \"pygtk\"}, \"windows-8\": {\"frequency\": 2273, \"value\": \"windows-8\"}, \"studio\": {\"frequency\": 1042, \"value\": \"studio\"}, \"hashtable\": {\"frequency\": 1144, \"value\": \"hashtable\"}, \"ubuntu\": {\"frequency\": 7125, \"value\": \"ubuntu\"}, \"apache\": {\"frequency\": 18197, \"value\": \"apache\"}, \"path\": {\"frequency\": 3546, \"value\": \"path\"}, \"change\": {\"frequency\": 1040, \"value\": \"change\"}, \"c++-cli\": {\"frequency\": 1705, \"value\": \"c++-cli\"}, \"google-chrome\": {\"frequency\": 9795, \"value\": \"google-chrome\"}, \"search\": {\"frequency\": 9416, \"value\": \"search\"}, \"jax-ws\": {\"frequency\": 1336, \"value\": \"jax-ws\"}, \"uikit\": {\"frequency\": 1793, \"value\": \"uikit\"}, \"vb.net\": {\"frequency\": 30092, \"value\": \"vb.net\"}, \"queue\": {\"frequency\": 1832, \"value\": \"queue\"}, \"youtube-api\": {\"frequency\": 1128, \"value\": \"youtube-api\"}, \"nsstring\": {\"frequency\": 2831, \"value\": \"nsstring\"}, \"dependencies\": {\"frequency\": 2148, \"value\": \"dependencies\"}, \"emulator\": {\"frequency\": 1230, \"value\": \"emulator\"}, \"action\": {\"frequency\": 1595, \"value\": \"action\"}, \"visual-studio-2010\": {\"frequency\": 25361, \"value\": \"visual-studio-2010\"}, \"navigation\": {\"frequency\": 2866, \"value\": \"navigation\"}, \"eclipse\": {\"frequency\": 31462, \"value\": \"eclipse\"}, \"ipc\": {\"frequency\": 1041, \"value\": \"ipc\"}, \"jquery-ajax\": {\"frequency\": 9437, \"value\": \"jquery-ajax\"}, \"flash\": {\"frequency\": 19538, \"value\": \"flash\"}, \"firefox\": {\"frequency\": 9923, \"value\": \"firefox\"}, \"apple\": {\"frequency\": 2724, \"value\": \"apple\"}, \"sql-server-ce\": {\"frequency\": 1332, \"value\": \"sql-server-ce\"}, \"android-widget\": {\"frequency\": 3609, \"value\": \"android-widget\"}, \"compare\": {\"frequency\": 1619, \"value\": \"compare\"}, \"vim\": {\"frequency\": 7646, \"value\": \"vim\"}, \"unix\": {\"frequency\": 9534, \"value\": \"unix\"}, \"api\": {\"frequency\": 16073, \"value\": \"api\"}, \"controls\": {\"frequency\": 2067, \"value\": \"controls\"}, \"xcode4\": {\"frequency\": 5281, \"value\": \"xcode4\"}, \"plone\": {\"frequency\": 1269, \"value\": \"plone\"}, \"cloud\": {\"frequency\": 1538, \"value\": \"cloud\"}, \"wix\": {\"frequency\": 2321, \"value\": \"wix\"}, \"regex\": {\"frequency\": 38327, \"value\": \"regex\"}, \"plot\": {\"frequency\": 2127, \"value\": \"plot\"}, \"castle-windsor\": {\"frequency\": 1347, \"value\": \"castle-windsor\"}, \"usb\": {\"frequency\": 1859, \"value\": \"usb\"}, \"zip\": {\"frequency\": 1938, \"value\": \"zip\"}, \"google-app-engine\": {\"frequency\": 13453, \"value\": \"google-app-engine\"}, \"mouseevent\": {\"frequency\": 1158, \"value\": \"mouseevent\"}, \"hudson\": {\"frequency\": 1818, \"value\": \"hudson\"}, \"playframework-2.0\": {\"frequency\": 1040, \"value\": \"playframework-2.0\"}, \"itunes\": {\"frequency\": 1068, \"value\": \"itunes\"}, \"backgroundworker\": {\"frequency\": 1077, \"value\": \"backgroundworker\"}, \"perl\": {\"frequency\": 20364, \"value\": \"perl\"}, \"silverlight-3.0\": {\"frequency\": 1429, \"value\": \"silverlight-3.0\"}, \"stylesheet\": {\"frequency\": 1171, \"value\": \"stylesheet\"}, \"camera\": {\"frequency\": 2755, \"value\": \"camera\"}, \"call\": {\"frequency\": 1364, \"value\": \"call\"}, \"iphone\": {\"frequency\": 143088, \"value\": \"iphone\"}, \"dns\": {\"frequency\": 3617, \"value\": \"dns\"}, \"memory\": {\"frequency\": 8370, \"value\": \"memory\"}, \"xml-parsing\": {\"frequency\": 2890, \"value\": \"xml-parsing\"}, \"scope\": {\"frequency\": 2537, \"value\": \"scope\"}, \"annotations\": {\"frequency\": 2900, \"value\": \"annotations\"}, \"authorization\": {\"frequency\": 1691, \"value\": \"authorization\"}, \"android-activity\": {\"frequency\": 1114, \"value\": \"android-activity\"}, \"servlets\": {\"frequency\": 7290, \"value\": \"servlets\"}, \"iis\": {\"frequency\": 8834, \"value\": \"iis\"}, \"comparison\": {\"frequency\": 2107, \"value\": \"comparison\"}, \"jms\": {\"frequency\": 1637, \"value\": \"jms\"}, \"xaml\": {\"frequency\": 10156, \"value\": \"xaml\"}, \"line\": {\"frequency\": 1479, \"value\": \"line\"}, \"phone\": {\"frequency\": 1141, \"value\": \"phone\"}, \"visual\": {\"frequency\": 2854, \"value\": \"visual\"}, \"monotouch\": {\"frequency\": 3135, \"value\": \"monotouch\"}, \"webbrowser\": {\"frequency\": 2078, \"value\": \"webbrowser\"}, \"oop\": {\"frequency\": 13815, \"value\": \"oop\"}, \"jsonp\": {\"frequency\": 1378, \"value\": \"jsonp\"}, \"webkit\": {\"frequency\": 3170, \"value\": \"webkit\"}, \"git\": {\"frequency\": 19251, \"value\": \"git\"}, \"asp.net-ajax\": {\"frequency\": 2614, \"value\": \"asp.net-ajax\"}, \"resize\": {\"frequency\": 2805, \"value\": \"resize\"}, \"pagination\": {\"frequency\": 2322, \"value\": \"pagination\"}, \"salesforce\": {\"frequency\": 1594, \"value\": \"salesforce\"}, \"word\": {\"frequency\": 1981, \"value\": \"word\"}, \"tableview\": {\"frequency\": 1062, \"value\": \"tableview\"}, \"this\": {\"frequency\": 1055, \"value\": \"this\"}, \"setup\": {\"frequency\": 1306, \"value\": \"setup\"}, \"package\": {\"frequency\": 1467, \"value\": \"package\"}, \"for-loop\": {\"frequency\": 4068, \"value\": \"for-loop\"}, \"entity-framework-4.1\": {\"frequency\": 2255, \"value\": \"entity- ...\"}, \"html5-canvas\": {\"frequency\": 1042, \"value\": \"html5-canvas\"}, \"autocomplete\": {\"frequency\": 3942, \"value\": \"autocomplete\"}, \"drupal\": {\"frequency\": 9600, \"value\": \"drupal\"}, \"ninject\": {\"frequency\": 1399, \"value\": \"ninject\"}, \"winforms\": {\"frequency\": 22698, \"value\": \"winforms\"}, \"iframe\": {\"frequency\": 7063, \"value\": \"iframe\"}, \"jquery-mobile\": {\"frequency\": 7311, \"value\": \"jquery-mobile\"}, \"magento\": {\"frequency\": 10492, \"value\": \"magento\"}, \"nsmutablearray\": {\"frequency\": 2167, \"value\": \"nsmutablearray\"}, \"scripting\": {\"frequency\": 4799, \"value\": \"scripting\"}, \"control\": {\"frequency\": 1963, \"value\": \"control\"}, \"wordpress-theming\": {\"frequency\": 1317, \"value\": \"wordpress-theming\"}, \"sqlite\": {\"frequency\": 14140, \"value\": \"sqlite\"}, \"uitableview\": {\"frequency\": 11123, \"value\": \"uitableview\"}, \"stream\": {\"frequency\": 3113, \"value\": \"stream\"}, \"process\": {\"frequency\": 4145, \"value\": \"process\"}, \"smtp\": {\"frequency\": 2277, \"value\": \"smtp\"}, \"openssl\": {\"frequency\": 2077, \"value\": \"openssl\"}, \"titanium\": {\"frequency\": 1535, \"value\": \"titanium\"}, \"f#\": {\"frequency\": 3785, \"value\": \"f#\"}, \"uiimagepickercontroller\": {\"frequency\": 1220, \"value\": \"uiimagepickercontr ...\"}, \"numbers\": {\"frequency\": 2286, \"value\": \"numbers\"}, \"c++11\": {\"frequency\": 2612, \"value\": \"c++11\"}, \"cygwin\": {\"frequency\": 1859, \"value\": \"cygwin\"}, \"plist\": {\"frequency\": 1449, \"value\": \"plist\"}, \"filter\": {\"frequency\": 3893, \"value\": \"filter\"}, \"gcc\": {\"frequency\": 7270, \"value\": \"gcc\"}, \"javascript-events\": {\"frequency\": 6365, \"value\": \"javascript-events\"}, \"uitextview\": {\"frequency\": 1292, \"value\": \"uitextview\"}, \"axis2\": {\"frequency\": 1088, \"value\": \"axis2\"}, \"inheritance\": {\"frequency\": 7798, \"value\": \"inheritance\"}, \"capistrano\": {\"frequency\": 1108, \"value\": \"capistrano\"}, \"ascii\": {\"frequency\": 1179, \"value\": \"ascii\"}, \"sharepoint\": {\"frequency\": 10654, \"value\": \"sharepoint\"}, \"struts2\": {\"frequency\": 3767, \"value\": \"struts2\"}, \"pyqt\": {\"frequency\": 1753, \"value\": \"pyqt\"}, \"maps\": {\"frequency\": 2434, \"value\": \"maps\"}, \"foreach\": {\"frequency\": 3123, \"value\": \"foreach\"}, \"machine-learning\": {\"frequency\": 1518, \"value\": \"machine-learning\"}, \"actionscript\": {\"frequency\": 5579, \"value\": \"actionscript\"}, \".net-3.5\": {\"frequency\": 3737, \"value\": \".net-3.5\"}, \"xhtml\": {\"frequency\": 4331, \"value\": \"xhtml\"}, \"csv\": {\"frequency\": 5089, \"value\": \"csv\"}, \"core-graphics\": {\"frequency\": 1679, \"value\": \"core-graphics\"}, \"css\": {\"frequency\": 87243, \"value\": \"css\"}, \"datasource\": {\"frequency\": 1092, \"value\": \"datasource\"}, \"map\": {\"frequency\": 4530, \"value\": \"map\"}, \"modal\": {\"frequency\": 1169, \"value\": \"modal\"}, \"url-rewriting\": {\"frequency\": 3675, \"value\": \"url-rewriting\"}, \"clone\": {\"frequency\": 1157, \"value\": \"clone\"}, \"postback\": {\"frequency\": 1381, \"value\": \"postback\"}, \"mapping\": {\"frequency\": 2183, \"value\": \"mapping\"}, \"android-intent\": {\"frequency\": 5547, \"value\": \"android-intent\"}, \"loading\": {\"frequency\": 1130, \"value\": \"loading\"}, \"date\": {\"frequency\": 8995, \"value\": \"date\"}, \"lazy-loading\": {\"frequency\": 1096, \"value\": \"lazy-loading\"}, \"pdf\": {\"frequency\": 8211, \"value\": \"pdf\"}, \"data\": {\"frequency\": 6413, \"value\": \"data\"}, \"response\": {\"frequency\": 1050, \"value\": \"response\"}, \"types\": {\"frequency\": 4939, \"value\": \"types\"}, \"windows-services\": {\"frequency\": 3058, \"value\": \"windows-services\"}, \"inversion-of-control\": {\"frequency\": 1347, \"value\": \"inversion-of- ...\"}, \"github\": {\"frequency\": 3805, \"value\": \"github\"}, \"jetty\": {\"frequency\": 1629, \"value\": \"jetty\"}, \"bind\": {\"frequency\": 1101, \"value\": \"bind\"}, \"entity-framework\": {\"frequency\": 16665, \"value\": \"entity-framework\"}, \"documentation\": {\"frequency\": 3101, \"value\": \"documentation\"}, \"grails\": {\"frequency\": 8602, \"value\": \"grails\"}, \"django\": {\"frequency\": 38320, \"value\": \"django\"}, \"e-commerce\": {\"frequency\": 1780, \"value\": \"e-commerce\"}, \"thread-safety\": {\"frequency\": 2365, \"value\": \"thread-safety\"}, \"group-by\": {\"frequency\": 2379, \"value\": \"group-by\"}, \"osgi\": {\"frequency\": 1506, \"value\": \"osgi\"}, \"order\": {\"frequency\": 1505, \"value\": \"order\"}, \"extjs4\": {\"frequency\": 2207, \"value\": \"extjs4\"}, \"parsing\": {\"frequency\": 12061, \"value\": \"parsing\"}, \"dojo\": {\"frequency\": 3555, \"value\": \"dojo\"}, \"checkbox\": {\"frequency\": 4068, \"value\": \"checkbox\"}, \"excel-2007\": {\"frequency\": 1289, \"value\": \"excel-2007\"}, \"xmpp\": {\"frequency\": 1669, \"value\": \"xmpp\"}, \"database-connection\": {\"frequency\": 1437, \"value\": \"database- ...\"}, \"entity\": {\"frequency\": 2015, \"value\": \"entity\"}, \"keyboard-shortcuts\": {\"frequency\": 1348, \"value\": \"keyboard-shortcuts\"}, \"code-generation\": {\"frequency\": 1395, \"value\": \"code-generation\"}, \"concurrency\": {\"frequency\": 4319, \"value\": \"concurrency\"}, \"keyboard\": {\"frequency\": 3036, \"value\": \"keyboard\"}, \"installer\": {\"frequency\": 2626, \"value\": \"installer\"}, \"jni\": {\"frequency\": 2143, \"value\": \"jni\"}, \"custom-controls\": {\"frequency\": 1727, \"value\": \"custom-controls\"}, \"runtime\": {\"frequency\": 1912, \"value\": \"runtime\"}, \"directx\": {\"frequency\": 1806, \"value\": \"directx\"}, \"textbox\": {\"frequency\": 3420, \"value\": \"textbox\"}, \"memory-allocation\": {\"frequency\": 1293, \"value\": \"memory-allocation\"}, \"twitter\": {\"frequency\": 5875, \"value\": \"twitter\"}, \"combobox\": {\"frequency\": 3566, \"value\": \"combobox\"}, \"asp.net-membership\": {\"frequency\": 2037, \"value\": \"asp.net-membership\"}, \"gtk\": {\"frequency\": 2259, \"value\": \"gtk\"}, \"selenium\": {\"frequency\": 5120, \"value\": \"selenium\"}, \"unity\": {\"frequency\": 1622, \"value\": \"unity\"}, \"coordinates\": {\"frequency\": 1099, \"value\": \"coordinates\"}, \"uilabel\": {\"frequency\": 1421, \"value\": \"uilabel\"}, \"forms\": {\"frequency\": 21317, \"value\": \"forms\"}, \"window\": {\"frequency\": 2397, \"value\": \"window\"}, \"glassfish\": {\"frequency\": 2479, \"value\": \"glassfish\"}, \"paperclip\": {\"frequency\": 1476, \"value\": \"paperclip\"}, \"selection\": {\"frequency\": 1094, \"value\": \"selection\"}, \"flex3\": {\"frequency\": 2356, \"value\": \"flex3\"}, \"erlang\": {\"frequency\": 2629, \"value\": \"erlang\"}, \"clr\": {\"frequency\": 1560, \"value\": \"clr\"}, \"arguments\": {\"frequency\": 1763, \"value\": \"arguments\"}, \"xpath\": {\"frequency\": 5735, \"value\": \"xpath\"}, \"flex\": {\"frequency\": 17725, \"value\": \"flex\"}, \"ember.js\": {\"frequency\": 1327, \"value\": \"ember.js\"}, \"uinavigationcontroller\": {\"frequency\": 3559, \"value\": \"uinavigationcontro ...\"}, \"error-handling\": {\"frequency\": 3805, \"value\": \"error-handling\"}, \"views\": {\"frequency\": 2177, \"value\": \"views\"}, \"python\": {\"frequency\": 126981, \"value\": \"python\"}, \"timestamp\": {\"frequency\": 1856, \"value\": \"timestamp\"}, \"memory-management\": {\"frequency\": 6970, \"value\": \"memory-management\"}, \"rake\": {\"frequency\": 1705, \"value\": \"rake\"}, \"indexing\": {\"frequency\": 2529, \"value\": \"indexing\"}, \"aes\": {\"frequency\": 1067, \"value\": \"aes\"}, \"jruby\": {\"frequency\": 1288, \"value\": \"jruby\"}, \"refactoring\": {\"frequency\": 2506, \"value\": \"refactoring\"}, \"ms-word\": {\"frequency\": 1787, \"value\": \"ms-word\"}, \"scipy\": {\"frequency\": 1157, \"value\": \"scipy\"}, \"webparts\": {\"frequency\": 1052, \"value\": \"webparts\"}, \"safari\": {\"frequency\": 3595, \"value\": \"safari\"}, \"uitabbarcontroller\": {\"frequency\": 2097, \"value\": \"uitabbarcontroller\"}, \"httpclient\": {\"frequency\": 1221, \"value\": \"httpclient\"}, \"rotation\": {\"frequency\": 2683, \"value\": \"rotation\"}, \"amazon-ec2\": {\"frequency\": 2804, \"value\": \"amazon-ec2\"}, \"nhibernate\": {\"frequency\": 11819, \"value\": \"nhibernate\"}, \"permissions\": {\"frequency\": 3747, \"value\": \"permissions\"}, \"storyboard\": {\"frequency\": 1816, \"value\": \"storyboard\"}, \"left-join\": {\"frequency\": 1079, \"value\": \"left-join\"}, \"operator-overloading\": {\"frequency\": 1538, \"value\": \"operator- ...\"}, \"opengl-es-2.0\": {\"frequency\": 1154, \"value\": \"opengl-es-2.0\"}, \"decimal\": {\"frequency\": 1176, \"value\": \"decimal\"}, \".net\": {\"frequency\": 112051, \"value\": \".net\"}, \"odbc\": {\"frequency\": 1895, \"value\": \"odbc\"}, \"refresh\": {\"frequency\": 1629, \"value\": \"refresh\"}, \"log4j\": {\"frequency\": 2145, \"value\": \"log4j\"}, \"2d\": {\"frequency\": 1531, \"value\": \"2d\"}, \"merge\": {\"frequency\": 3164, \"value\": \"merge\"}, \"admob\": {\"frequency\": 1040, \"value\": \"admob\"}, \"scrollbar\": {\"frequency\": 1502, \"value\": \"scrollbar\"}, \"innodb\": {\"frequency\": 1048, \"value\": \"innodb\"}, \"textview\": {\"frequency\": 2097, \"value\": \"textview\"}, \"timeout\": {\"frequency\": 2360, \"value\": \"timeout\"}, \"google-analytics\": {\"frequency\": 2340, \"value\": \"google-analytics\"}, \"button\": {\"frequency\": 7738, \"value\": \"button\"}, \"constraints\": {\"frequency\": 1138, \"value\": \"constraints\"}, \"storage\": {\"frequency\": 1252, \"value\": \"storage\"}, \"adobe\": {\"frequency\": 2140, \"value\": \"adobe\"}, \"stored-procedures\": {\"frequency\": 6693, \"value\": \"stored-procedures\"}, \"jquery-animate\": {\"frequency\": 2077, \"value\": \"jquery-animate\"}, \"interop\": {\"frequency\": 2460, \"value\": \"interop\"}, \"functional-programming\": {\"frequency\": 2841, \"value\": \"functional- ...\"}, \"google-chrome-extension\": {\"frequency\": 3260, \"value\": \"google-chrome- ...\"}, \"android-manifest\": {\"frequency\": 1249, \"value\": \"android-manifest\"}, \"app-config\": {\"frequency\": 1065, \"value\": \"app-config\"}, \"mapreduce\": {\"frequency\": 1887, \"value\": \"mapreduce\"}, \"image-processing\": {\"frequency\": 6280, \"value\": \"image-processing\"}, \"books\": {\"frequency\": 2041, \"value\": \"books\"}, \"static\": {\"frequency\": 3931, \"value\": \"static\"}, \"mongoid\": {\"frequency\": 1680, \"value\": \"mongoid\"}, \"video-streaming\": {\"frequency\": 1716, \"value\": \"video-streaming\"}, \"ftp\": {\"frequency\": 3382, \"value\": \"ftp\"}, \"canvas\": {\"frequency\": 5963, \"value\": \"canvas\"}, \"uiviewcontroller\": {\"frequency\": 4174, \"value\": \"uiviewcontroller\"}, \"matrix\": {\"frequency\": 3412, \"value\": \"matrix\"}, \"command-line\": {\"frequency\": 4916, \"value\": \"command-line\"}, \"ios5\": {\"frequency\": 10016, \"value\": \"ios5\"}, \"sencha\": {\"frequency\": 1588, \"value\": \"sencha\"}, \"sms\": {\"frequency\": 2247, \"value\": \"sms\"}, \"preg-replace\": {\"frequency\": 1487, \"value\": \"preg-replace\"}, \"ejb\": {\"frequency\": 1876, \"value\": \"ejb\"}, \"ios4\": {\"frequency\": 4033, \"value\": \"ios4\"}, \"content\": {\"frequency\": 1511, \"value\": \"content\"}, \"vector\": {\"frequency\": 4253, \"value\": \"vector\"}, \"generics\": {\"frequency\": 9114, \"value\": \"generics\"}, \"internet\": {\"frequency\": 1445, \"value\": \"internet\"}, \"spring-mvc\": {\"frequency\": 6508, \"value\": \"spring-mvc\"}, \"ios6\": {\"frequency\": 1302, \"value\": \"ios6\"}, \"math\": {\"frequency\": 8479, \"value\": \"math\"}, \"dotnetnuke\": {\"frequency\": 1061, \"value\": \"dotnetnuke\"}, \"build-process\": {\"frequency\": 1349, \"value\": \"build-process\"}, \"core-animation\": {\"frequency\": 1767, \"value\": \"core-animation\"}, \"asp\": {\"frequency\": 3958, \"value\": \"asp\"}, \"query-optimization\": {\"frequency\": 1322, \"value\": \"query-optimization\"}, \"dictionary\": {\"frequency\": 4359, \"value\": \"dictionary\"}, \"workflow\": {\"frequency\": 1885, \"value\": \"workflow\"}, \"amazon-web-services\": {\"frequency\": 2617, \"value\": \"amazon-web- ...\"}, \"windows-vista\": {\"frequency\": 1310, \"value\": \"windows-vista\"}, \"delegates\": {\"frequency\": 3577, \"value\": \"delegates\"}, \"ajax\": {\"frequency\": 43607, \"value\": \"ajax\"}, \"orm\": {\"frequency\": 4621, \"value\": \"orm\"}, \"forms-authentication\": {\"frequency\": 1544, \"value\": \"forms- ...\"}, \"proxy\": {\"frequency\": 3570, \"value\": \"proxy\"}, \"segmentation-fault\": {\"frequency\": 1623, \"value\": \"segmentation-fault\"}, \"eclipse-plugin\": {\"frequency\": 3666, \"value\": \"eclipse-plugin\"}, \"mysqli\": {\"frequency\": 2069, \"value\": \"mysqli\"}, \"byte\": {\"frequency\": 1354, \"value\": \"byte\"}, \"firefox-addon\": {\"frequency\": 2033, \"value\": \"firefox-addon\"}, \"bash\": {\"frequency\": 14503, \"value\": \"bash\"}, \"md5\": {\"frequency\": 1088, \"value\": \"md5\"}, \"nhibernate-mapping\": {\"frequency\": 1535, \"value\": \"nhibernate-mapping\"}, \"logging\": {\"frequency\": 7555, \"value\": \"logging\"}, \"ckeditor\": {\"frequency\": 1432, \"value\": \"ckeditor\"}, \"client-server\": {\"frequency\": 1719, \"value\": \"client-server\"}, \"geometry\": {\"frequency\": 1712, \"value\": \"geometry\"}, \"activerecord\": {\"frequency\": 8056, \"value\": \"activerecord\"}, \"django-forms\": {\"frequency\": 2701, \"value\": \"django-forms\"}, \"positioning\": {\"frequency\": 1290, \"value\": \"positioning\"}, \"ocaml\": {\"frequency\": 1096, \"value\": \"ocaml\"}, \"timer\": {\"frequency\": 3580, \"value\": \"timer\"}, \"yui\": {\"frequency\": 1138, \"value\": \"yui\"}, \"django-models\": {\"frequency\": 4904, \"value\": \"django-models\"}, \"mvc\": {\"frequency\": 19275, \"value\": \"mvc\"}, \"simplexml\": {\"frequency\": 1197, \"value\": \"simplexml\"}, \"zend-form\": {\"frequency\": 1179, \"value\": \"zend-form\"}, \"swing\": {\"frequency\": 12335, \"value\": \"swing\"}, \"routes\": {\"frequency\": 2521, \"value\": \"routes\"}, \"posix\": {\"frequency\": 1135, \"value\": \"posix\"}, \"connection-string\": {\"frequency\": 1131, \"value\": \"connection-string\"}, \"lambda\": {\"frequency\": 3292, \"value\": \"lambda\"}, \"windows-mobile\": {\"frequency\": 2528, \"value\": \"windows-mobile\"}, \"sencha-touch-2\": {\"frequency\": 1330, \"value\": \"sencha-touch-2\"}, \"singleton\": {\"frequency\": 2082, \"value\": \"singleton\"}, \"maven-2\": {\"frequency\": 3199, \"value\": \"maven-2\"}, \"encoding\": {\"frequency\": 5341, \"value\": \"encoding\"}, \"yii\": {\"frequency\": 2755, \"value\": \"yii\"}, \"variables\": {\"frequency\": 9606, \"value\": \"variables\"}, \"webforms\": {\"frequency\": 2850, \"value\": \"webforms\"}, \"nested\": {\"frequency\": 1894, \"value\": \"nested\"}, \"hook\": {\"frequency\": 1414, \"value\": \"hook\"}, \"itextsharp\": {\"frequency\": 1138, \"value\": \"itextsharp\"}, \"mingw\": {\"frequency\": 1325, \"value\": \"mingw\"}, \"facebook-connect\": {\"frequency\": 2490, \"value\": \"facebook-connect\"}, \"customization\": {\"frequency\": 1239, \"value\": \"customization\"}, \"message\": {\"frequency\": 1107, \"value\": \"message\"}, \"open\": {\"frequency\": 1055, \"value\": \"open\"}, \"sockets\": {\"frequency\": 12198, \"value\": \"sockets\"}, \"size\": {\"frequency\": 2076, \"value\": \"size\"}, \"razor\": {\"frequency\": 5484, \"value\": \"razor\"}, \"properties\": {\"frequency\": 4900, \"value\": \"properties\"}, \"service\": {\"frequency\": 6158, \"value\": \"service\"}, \"script\": {\"frequency\": 5193, \"value\": \"script\"}, \"mediaplayer\": {\"frequency\": 1507, \"value\": \"mediaplayer\"}, \"android-fragments\": {\"frequency\": 1692, \"value\": \"android-fragments\"}, \"struts\": {\"frequency\": 1924, \"value\": \"struts\"}, \"makefile\": {\"frequency\": 2754, \"value\": \"makefile\"}, \"system\": {\"frequency\": 1521, \"value\": \"system\"}, \"rails\": {\"frequency\": 1241, \"value\": \"rails\"}, \"php5\": {\"frequency\": 13549, \"value\": \"php5\"}, \"visual-studio-2008\": {\"frequency\": 11141, \"value\": \"visual-studio-2008\"}, \"batch-file\": {\"frequency\": 3015, \"value\": \"batch-file\"}, \"weblogic\": {\"frequency\": 1479, \"value\": \"weblogic\"}, \"constants\": {\"frequency\": 1120, \"value\": \"constants\"}, \"hibernate\": {\"frequency\": 17957, \"value\": \"hibernate\"}, \"wordpress\": {\"frequency\": 19807, \"value\": \"wordpress\"}, \"scheme\": {\"frequency\": 1798, \"value\": \"scheme\"}, \"visual-studio-2005\": {\"frequency\": 2031, \"value\": \"visual-studio-2005\"}, \"vsto\": {\"frequency\": 1556, \"value\": \"vsto\"}, \"gps\": {\"frequency\": 2779, \"value\": \"gps\"}, \"udp\": {\"frequency\": 2122, \"value\": \"udp\"}, \"shell\": {\"frequency\": 10653, \"value\": \"shell\"}, \"progress-bar\": {\"frequency\": 1588, \"value\": \"progress-bar\"}, \"cross-browser\": {\"frequency\": 2618, \"value\": \"cross-browser\"}, \"rsa\": {\"frequency\": 1114, \"value\": \"rsa\"}, \"selector\": {\"frequency\": 1205, \"value\": \"selector\"}, \"slider\": {\"frequency\": 2089, \"value\": \"slider\"}, \"task\": {\"frequency\": 1076, \"value\": \"task\"}, \"closures\": {\"frequency\": 1374, \"value\": \"closures\"}, \"while-loop\": {\"frequency\": 1864, \"value\": \"while-loop\"}, \"translation\": {\"frequency\": 1156, \"value\": \"translation\"}, \"copy\": {\"frequency\": 2221, \"value\": \"copy\"}, \"tfs\": {\"frequency\": 3977, \"value\": \"tfs\"}, \"rss\": {\"frequency\": 3113, \"value\": \"rss\"}, \"ipad\": {\"frequency\": 20753, \"value\": \"ipad\"}, \"http-headers\": {\"frequency\": 2307, \"value\": \"http-headers\"}, \"grep\": {\"frequency\": 1999, \"value\": \"grep\"}, \"thumbnails\": {\"frequency\": 1157, \"value\": \"thumbnails\"}, \"add-in\": {\"frequency\": 1072, \"value\": \"add-in\"}, \"stl\": {\"frequency\": 4440, \"value\": \"stl\"}, \".htaccess\": {\"frequency\": 12747, \"value\": \".htaccess\"}, \"pointers\": {\"frequency\": 7555, \"value\": \"pointers\"}, \"contextmenu\": {\"frequency\": 1347, \"value\": \"contextmenu\"}, \"iteration\": {\"frequency\": 1135, \"value\": \"iteration\"}, \"hql\": {\"frequency\": 1288, \"value\": \"hql\"}, \"liferay\": {\"frequency\": 1260, \"value\": \"liferay\"}, \"project\": {\"frequency\": 1620, \"value\": \"project\"}, \"applet\": {\"frequency\": 2878, \"value\": \"applet\"}, \"file-upload\": {\"frequency\": 6007, \"value\": \"file-upload\"}, \"zend-framework\": {\"frequency\": 11540, \"value\": \"zend-framework\"}, \"ffmpeg\": {\"frequency\": 2511, \"value\": \"ffmpeg\"}, \"video\": {\"frequency\": 7136, \"value\": \"video\"}, \"amazon-s3\": {\"frequency\": 2887, \"value\": \"amazon-s3\"}, \"schema\": {\"frequency\": 1980, \"value\": \"schema\"}, \"gae-datastore\": {\"frequency\": 1234, \"value\": \"gae-datastore\"}, \"browser\": {\"frequency\": 6742, \"value\": \"browser\"}, \"build-automation\": {\"frequency\": 1050, \"value\": \"build-automation\"}, \"debugging\": {\"frequency\": 13417, \"value\": \"debugging\"}, \"websocket\": {\"frequency\": 1803, \"value\": \"websocket\"}, \"twitter-api\": {\"frequency\": 2313, \"value\": \"twitter-api\"}, \"mvvm\": {\"frequency\": 6003, \"value\": \"mvvm\"}, \"rewrite\": {\"frequency\": 1615, \"value\": \"rewrite\"}, \"tabs\": {\"frequency\": 3709, \"value\": \"tabs\"}, \"pinvoke\": {\"frequency\": 1184, \"value\": \"pinvoke\"}, \"mootools\": {\"frequency\": 1732, \"value\": \"mootools\"}, \"ant\": {\"frequency\": 5592, \"value\": \"ant\"}, \"javabeans\": {\"frequency\": 1141, \"value\": \"javabeans\"}, \"excel-vba\": {\"frequency\": 4086, \"value\": \"excel-vba\"}, \"jasper-reports\": {\"frequency\": 1749, \"value\": \"jasper-reports\"}, \"monodroid\": {\"frequency\": 1159, \"value\": \"monodroid\"}, \"jquery-selectors\": {\"frequency\": 3944, \"value\": \"jquery-selectors\"}, \"c++0x\": {\"frequency\": 1360, \"value\": \"c++0x\"}, \"element\": {\"frequency\": 1231, \"value\": \"element\"}, \"border\": {\"frequency\": 1305, \"value\": \"border\"}, \"calendar\": {\"frequency\": 2920, \"value\": \"calendar\"}, \"facebook-graph-api\": {\"frequency\": 9999, \"value\": \"facebook-graph-api\"}, \"character-encoding\": {\"frequency\": 3531, \"value\": \"character-encoding\"}, \"drop-down-menu\": {\"frequency\": 5242, \"value\": \"drop-down-menu\"}, \"msi\": {\"frequency\": 1312, \"value\": \"msi\"}, \"callback\": {\"frequency\": 3210, \"value\": \"callback\"}, \"asp.net\": {\"frequency\": 131848, \"value\": \"asp.net\"}, \"windows-phone-7\": {\"frequency\": 13094, \"value\": \"windows-phone-7\"}, \"tinymce\": {\"frequency\": 2056, \"value\": \"tinymce\"}, \"port\": {\"frequency\": 1294, \"value\": \"port\"}, \"sinatra\": {\"frequency\": 1808, \"value\": \"sinatra\"}, \"animation\": {\"frequency\": 7831, \"value\": \"animation\"}, \"build\": {\"frequency\": 4251, \"value\": \"build\"}, \"wcf\": {\"frequency\": 23568, \"value\": \"wcf\"}, \"mkmapview\": {\"frequency\": 1567, \"value\": \"mkmapview\"}, \"performance\": {\"frequency\": 22221, \"value\": \"performance\"}, \"microsoft-metro\": {\"frequency\": 1583, \"value\": \"microsoft-metro\"}, \"soap\": {\"frequency\": 6583, \"value\": \"soap\"}, \"visual-studio\": {\"frequency\": 19748, \"value\": \"visual-studio\"}, \"jsf\": {\"frequency\": 10182, \"value\": \"jsf\"}, \"paypal\": {\"frequency\": 3062, \"value\": \"paypal\"}, \"multiple\": {\"frequency\": 2019, \"value\": \"multiple\"}, \"internet-explorer-8\": {\"frequency\": 3778, \"value\": \"internet- ...\"}, \"warnings\": {\"frequency\": 1420, \"value\": \"warnings\"}, \"buffer\": {\"frequency\": 1398, \"value\": \"buffer\"}, \"automated-tests\": {\"frequency\": 1205, \"value\": \"automated-tests\"}, \"internet-explorer-7\": {\"frequency\": 2570, \"value\": \"internet- ...\"}, \"usercontrols\": {\"frequency\": 4170, \"value\": \"usercontrols\"}, \"c#-4.0\": {\"frequency\": 11051, \"value\": \"c#-4.0\"}, \"linq-to-xml\": {\"frequency\": 1682, \"value\": \"linq-to-xml\"}, \"crash\": {\"frequency\": 3184, \"value\": \"crash\"}, \"awk\": {\"frequency\": 2493, \"value\": \"awk\"}, \"software-engineering\": {\"frequency\": 1044, \"value\": \"software- ...\"}, \"mobile-safari\": {\"frequency\": 1422, \"value\": \"mobile-safari\"}, \"statistics\": {\"frequency\": 2204, \"value\": \"statistics\"}, \"ssl-certificate\": {\"frequency\": 1091, \"value\": \"ssl-certificate\"}, \"gallery\": {\"frequency\": 1505, \"value\": \"gallery\"}, \"oracle11g\": {\"frequency\": 2105, \"value\": \"oracle11g\"}, \"latex\": {\"frequency\": 2273, \"value\": \"latex\"}, \"filesystems\": {\"frequency\": 2550, \"value\": \"filesystems\"}, \"textarea\": {\"frequency\": 1825, \"value\": \"textarea\"}, \"dom\": {\"frequency\": 8551, \"value\": \"dom\"}, \"mobile\": {\"frequency\": 7649, \"value\": \"mobile\"}, \"viewmodel\": {\"frequency\": 1118, \"value\": \"viewmodel\"}, \"request\": {\"frequency\": 2113, \"value\": \"request\"}, \"uri\": {\"frequency\": 1311, \"value\": \"uri\"}, \"newline\": {\"frequency\": 1051, \"value\": \"newline\"}, \"phonegap\": {\"frequency\": 7606, \"value\": \"phonegap\"}, \"django-templates\": {\"frequency\": 2587, \"value\": \"django-templates\"}, \"file-download\": {\"frequency\": 1231, \"value\": \"file-download\"}, \"jpa\": {\"frequency\": 7508, \"value\": \"jpa\"}, \"caching\": {\"frequency\": 9323, \"value\": \"caching\"}, \"language-agnostic\": {\"frequency\": 4521, \"value\": \"language-agnostic\"}, \"webbrowser-control\": {\"frequency\": 1175, \"value\": \"webbrowser-control\"}, \"microsoft\": {\"frequency\": 2943, \"value\": \"microsoft\"}, \"screen-scraping\": {\"frequency\": 1216, \"value\": \"screen-scraping\"}, \"nlp\": {\"frequency\": 1304, \"value\": \"nlp\"}, \"xampp\": {\"frequency\": 1452, \"value\": \"xampp\"}, \"text\": {\"frequency\": 6765, \"value\": \"text\"}, \"xcode\": {\"frequency\": 42303, \"value\": \"xcode\"}, \"random\": {\"frequency\": 4497, \"value\": \"random\"}, \"eclipselink\": {\"frequency\": 1045, \"value\": \"eclipselink\"}, \"scrollview\": {\"frequency\": 1165, \"value\": \"scrollview\"}, \"syntax\": {\"frequency\": 4644, \"value\": \"syntax\"}, \"node.js\": {\"frequency\": 12736, \"value\": \"node.js\"}, \"oauth\": {\"frequency\": 4143, \"value\": \"oauth\"}, \"colors\": {\"frequency\": 3887, \"value\": \"colors\"}, \"session\": {\"frequency\": 10129, \"value\": \"session\"}, \"programming-languages\": {\"frequency\": 3349, \"value\": \"programming- ...\"}, \"css-selectors\": {\"frequency\": 1351, \"value\": \"css-selectors\"}, \"label\": {\"frequency\": 1588, \"value\": \"label\"}, \"find\": {\"frequency\": 2076, \"value\": \"find\"}, \"cocos2d\": {\"frequency\": 3219, \"value\": \"cocos2d\"}, \"xml\": {\"frequency\": 45872, \"value\": \"xml\"}, \"jboss\": {\"frequency\": 4094, \"value\": \"jboss\"}, \"layout\": {\"frequency\": 7580, \"value\": \"layout\"}, \"iis-7.5\": {\"frequency\": 1564, \"value\": \"iis-7.5\"}, \"parameters\": {\"frequency\": 4184, \"value\": \"parameters\"}, \"serial-port\": {\"frequency\": 1405, \"value\": \"serial-port\"}, \"menu\": {\"frequency\": 4183, \"value\": \"menu\"}, \"tooltip\": {\"frequency\": 1383, \"value\": \"tooltip\"}, \"jar\": {\"frequency\": 3731, \"value\": \"jar\"}, \"cross-platform\": {\"frequency\": 1773, \"value\": \"cross-platform\"}, \"terminal\": {\"frequency\": 2524, \"value\": \"terminal\"}, \"jtable\": {\"frequency\": 1712, \"value\": \"jtable\"}, \"png\": {\"frequency\": 1823, \"value\": \"png\"}, \"ldap\": {\"frequency\": 2351, \"value\": \"ldap\"}, \"override\": {\"frequency\": 1496, \"value\": \"override\"}, \"folder\": {\"frequency\": 1223, \"value\": \"folder\"}, \"c#-2.0\": {\"frequency\": 1206, \"value\": \"c#-2.0\"}, \"spring-security\": {\"frequency\": 2548, \"value\": \"spring-security\"}, \"winrt\": {\"frequency\": 1295, \"value\": \"winrt\"}, \"nunit\": {\"frequency\": 2050, \"value\": \"nunit\"}, \"uibutton\": {\"frequency\": 2628, \"value\": \"uibutton\"}, \"cryptography\": {\"frequency\": 2258, \"value\": \"cryptography\"}, \"get\": {\"frequency\": 3120, \"value\": \"get\"}, \"wsdl\": {\"frequency\": 2644, \"value\": \"wsdl\"}, \"express\": {\"frequency\": 2042, \"value\": \"express\"}, \"listener\": {\"frequency\": 1178, \"value\": \"listener\"}, \"ssl\": {\"frequency\": 6185, \"value\": \"ssl\"}, \"amazon\": {\"frequency\": 1299, \"value\": \"amazon\"}, \"synchronization\": {\"frequency\": 2712, \"value\": \"synchronization\"}, \"ssh\": {\"frequency\": 3562, \"value\": \"ssh\"}, \"jquery-ui\": {\"frequency\": 15361, \"value\": \"jquery-ui\"}, \"report\": {\"frequency\": 1739, \"value\": \"report\"}, \"db2\": {\"frequency\": 1775, \"value\": \"db2\"}, \"scrolling\": {\"frequency\": 2432, \"value\": \"scrolling\"}, \"gem\": {\"frequency\": 2338, \"value\": \"gem\"}, \"pdf-generation\": {\"frequency\": 1690, \"value\": \"pdf-generation\"}, \"design-patterns\": {\"frequency\": 9893, \"value\": \"design-patterns\"}, \"continuous-integration\": {\"frequency\": 2019, \"value\": \"continuous- ...\"}, \"qt\": {\"frequency\": 14878, \"value\": \"qt\"}, \"android-layout\": {\"frequency\": 10226, \"value\": \"android-layout\"}, \"settings\": {\"frequency\": 1590, \"value\": \"settings\"}, \"boost\": {\"frequency\": 6728, \"value\": \"boost\"}, \"ienumerable\": {\"frequency\": 1052, \"value\": \"ienumerable\"}, \"tcl\": {\"frequency\": 1068, \"value\": \"tcl\"}, \"c++\": {\"frequency\": 139001, \"value\": \"c++\"}, \"xmlhttprequest\": {\"frequency\": 2155, \"value\": \"xmlhttprequest\"}, \"rubygems\": {\"frequency\": 3096, \"value\": \"rubygems\"}, \"asp.net-mvc-2\": {\"frequency\": 7698, \"value\": \"asp.net-mvc-2\"}, \"architecture\": {\"frequency\": 5776, \"value\": \"architecture\"}, \"activity\": {\"frequency\": 4744, \"value\": \"activity\"}, \"release\": {\"frequency\": 1137, \"value\": \"release\"}, \"clickonce\": {\"frequency\": 1347, \"value\": \"clickonce\"}, \"metadata\": {\"frequency\": 1305, \"value\": \"metadata\"}, \"nginx\": {\"frequency\": 3119, \"value\": \"nginx\"}, \"view\": {\"frequency\": 5845, \"value\": \"view\"}, \"kernel\": {\"frequency\": 1824, \"value\": \"kernel\"}, \"set\": {\"frequency\": 1692, \"value\": \"set\"}, \"datatables\": {\"frequency\": 1166, \"value\": \"datatables\"}, \"reference\": {\"frequency\": 4094, \"value\": \"reference\"}, \"wpf-controls\": {\"frequency\": 2401, \"value\": \"wpf-controls\"}, \"fullcalendar\": {\"frequency\": 1166, \"value\": \"fullcalendar\"}, \"frame\": {\"frequency\": 1041, \"value\": \"frame\"}, \"testing\": {\"frequency\": 9101, \"value\": \"testing\"}, \"module\": {\"frequency\": 3754, \"value\": \"module\"}, \"jquery-plugins\": {\"frequency\": 7102, \"value\": \"jquery-plugins\"}, \"analytics\": {\"frequency\": 1075, \"value\": \"analytics\"}, \"socket.io\": {\"frequency\": 1349, \"value\": \"socket.io\"}, \"sed\": {\"frequency\": 2924, \"value\": \"sed\"}, \"migration\": {\"frequency\": 2214, \"value\": \"migration\"}, \"seam\": {\"frequency\": 1040, \"value\": \"seam\"}, \"seo\": {\"frequency\": 2881, \"value\": \"seo\"}, \"escaping\": {\"frequency\": 1949, \"value\": \"escaping\"}, \"web-applications\": {\"frequency\": 8167, \"value\": \"web-applications\"}, \"silverlight-4.0\": {\"frequency\": 4911, \"value\": \"silverlight-4.0\"}, \"arm\": {\"frequency\": 1508, \"value\": \"arm\"}, \"gmail\": {\"frequency\": 1981, \"value\": \"gmail\"}, \"lucene\": {\"frequency\": 3119, \"value\": \"lucene\"}, \"backbone.js\": {\"frequency\": 4932, \"value\": \"backbone.js\"}, \"redirect\": {\"frequency\": 7736, \"value\": \"redirect\"}, \"actionscript-2\": {\"frequency\": 1089, \"value\": \"actionscript-2\"}, \"actionscript-3\": {\"frequency\": 20277, \"value\": \"actionscript-3\"}, \"delphi\": {\"frequency\": 14627, \"value\": \"delphi\"}, \"dll\": {\"frequency\": 6543, \"value\": \"dll\"}, \"lua\": {\"frequency\": 2639, \"value\": \"lua\"}, \"g++\": {\"frequency\": 2131, \"value\": \"g++\"}, \"r\": {\"frequency\": 16657, \"value\": \"r\"}, \"routing\": {\"frequency\": 3461, \"value\": \"routing\"}, \"query-string\": {\"frequency\": 1221, \"value\": \"query-string\"}, \"network-programming\": {\"frequency\": 2981, \"value\": \"network- ...\"}, \"import\": {\"frequency\": 3861, \"value\": \"import\"}, \"ms-access\": {\"frequency\": 6778, \"value\": \"ms-access\"}, \"email\": {\"frequency\": 11273, \"value\": \"email\"}, \"qt4\": {\"frequency\": 3098, \"value\": \"qt4\"}, \"popup\": {\"frequency\": 2601, \"value\": \"popup\"}, \"imagemagick\": {\"frequency\": 1851, \"value\": \"imagemagick\"}, \"xslt\": {\"frequency\": 8922, \"value\": \"xslt\"}, \"websphere\": {\"frequency\": 1559, \"value\": \"websphere\"}, \"uitableviewcontroller\": {\"frequency\": 1302, \"value\": \"uitableviewcontrol ...\"}, \"screen\": {\"frequency\": 1737, \"value\": \"screen\"}, \"pthreads\": {\"frequency\": 1905, \"value\": \"pthreads\"}, \"jquery-validate\": {\"frequency\": 1963, \"value\": \"jquery-validate\"}, \"xml-schema\": {\"frequency\": 1797, \"value\": \"xml-schema\"}, \"teamcity\": {\"frequency\": 1190, \"value\": \"teamcity\"}, \"ms-access-2007\": {\"frequency\": 1356, \"value\": \"ms-access-2007\"}, \"html5\": {\"frequency\": 21039, \"value\": \"html5\"}, \"key\": {\"frequency\": 2056, \"value\": \"key\"}, \"opengl-es\": {\"frequency\": 3822, \"value\": \"opengl-es\"}, \"knockout.js\": {\"frequency\": 2579, \"value\": \"knockout.js\"}, \"console\": {\"frequency\": 2881, \"value\": \"console\"}, \"configuration\": {\"frequency\": 4933, \"value\": \"configuration\"}, \"solr\": {\"frequency\": 4130, \"value\": \"solr\"}, \"metaprogramming\": {\"frequency\": 1277, \"value\": \"metaprogramming\"}, \"gdi+\": {\"frequency\": 1141, \"value\": \"gdi+\"}, \"osx-snow-leopard\": {\"frequency\": 1135, \"value\": \"osx-snow-leopard\"}, \"treeview\": {\"frequency\": 2587, \"value\": \"treeview\"}, \"installation\": {\"frequency\": 2323, \"value\": \"installation\"}, \"richfaces\": {\"frequency\": 1965, \"value\": \"richfaces\"}, \"triggers\": {\"frequency\": 3387, \"value\": \"triggers\"}, \"coldfusion\": {\"frequency\": 4399, \"value\": \"coldfusion\"}, \"mono\": {\"frequency\": 3184, \"value\": \"mono\"}, \"arraylist\": {\"frequency\": 3065, \"value\": \"arraylist\"}, \"primary-key\": {\"frequency\": 1133, \"value\": \"primary-key\"}, \"datagridview\": {\"frequency\": 4162, \"value\": \"datagridview\"}, \"pdo\": {\"frequency\": 2853, \"value\": \"pdo\"}, \"gwt\": {\"frequency\": 9943, \"value\": \"gwt\"}, \"connection\": {\"frequency\": 2500, \"value\": \"connection\"}, \"tfs2010\": {\"frequency\": 2332, \"value\": \"tfs2010\"}, \"syntax-highlighting\": {\"frequency\": 1042, \"value\": \"syntax- ...\"}, \"context\": {\"frequency\": 1198, \"value\": \"context\"}, \"logic\": {\"frequency\": 1606, \"value\": \"logic\"}, \"modal-dialog\": {\"frequency\": 1059, \"value\": \"modal-dialog\"}, \"xcode4.3\": {\"frequency\": 1161, \"value\": \"xcode4.3\"}, \"login\": {\"frequency\": 4921, \"value\": \"login\"}, \"uiview\": {\"frequency\": 5366, \"value\": \"uiview\"}, \"expression\": {\"frequency\": 1373, \"value\": \"expression\"}, \"highcharts\": {\"frequency\": 1208, \"value\": \"highcharts\"}, \"jersey\": {\"frequency\": 1550, \"value\": \"jersey\"}, \"xcode4.2\": {\"frequency\": 2216, \"value\": \"xcode4.2\"}, \"file-io\": {\"frequency\": 4596, \"value\": \"file-io\"}, \"geolocation\": {\"frequency\": 2753, \"value\": \"geolocation\"}, \"interface-builder\": {\"frequency\": 2514, \"value\": \"interface-builder\"}, \"ruby-on-rails-3\": {\"frequency\": 32385, \"value\": \"ruby-on-rails-3\"}, \"android-ndk\": {\"frequency\": 2887, \"value\": \"android-ndk\"}, \"web-config\": {\"frequency\": 2765, \"value\": \"web-config\"}, \"uiimage\": {\"frequency\": 2583, \"value\": \"uiimage\"}, \"master-pages\": {\"frequency\": 1414, \"value\": \"master-pages\"}, \"height\": {\"frequency\": 1888, \"value\": \"height\"}, \"interface\": {\"frequency\": 4623, \"value\": \"interface\"}, \"search-engine\": {\"frequency\": 1220, \"value\": \"search-engine\"}, \"version-control\": {\"frequency\": 5648, \"value\": \"version-control\"}, \"cxf\": {\"frequency\": 1149, \"value\": \"cxf\"}, \"serialization\": {\"frequency\": 7434, \"value\": \"serialization\"}, \"event-handling\": {\"frequency\": 3212, \"value\": \"event-handling\"}, \"diff\": {\"frequency\": 1422, \"value\": \"diff\"}, \"android-webview\": {\"frequency\": 1096, \"value\": \"android-webview\"}, \"admin\": {\"frequency\": 1099, \"value\": \"admin\"}, \"spinner\": {\"frequency\": 1268, \"value\": \"spinner\"}, \"facebook-fql\": {\"frequency\": 1110, \"value\": \"facebook-fql\"}, \"java\": {\"frequency\": 278602, \"value\": \"java\"}, \"codeigniter\": {\"frequency\": 12801, \"value\": \"codeigniter\"}, \"fortran\": {\"frequency\": 1262, \"value\": \"fortran\"}, \"union\": {\"frequency\": 1070, \"value\": \"union\"}, \"encryption\": {\"frequency\": 6258, \"value\": \"encryption\"}, \"core-data\": {\"frequency\": 8164, \"value\": \"core-data\"}, \"charts\": {\"frequency\": 3538, \"value\": \"charts\"}, \"internet-explorer-6\": {\"frequency\": 1375, \"value\": \"internet- ...\"}, \"swf\": {\"frequency\": 1657, \"value\": \"swf\"}, \".net-2.0\": {\"frequency\": 1460, \"value\": \".net-2.0\"}, \"devise\": {\"frequency\": 3259, \"value\": \"devise\"}, \"json\": {\"frequency\": 28505, \"value\": \"json\"}, \"extension-methods\": {\"frequency\": 1167, \"value\": \"extension-methods\"}, \"special-characters\": {\"frequency\": 1082, \"value\": \"special-characters\"}, \"windows-7\": {\"frequency\": 5405, \"value\": \"windows-7\"}, \"uitableviewcell\": {\"frequency\": 4831, \"value\": \"uitableviewcell\"}, \"tutorials\": {\"frequency\": 1473, \"value\": \"tutorials\"}, \"prototype\": {\"frequency\": 2625, \"value\": \"prototype\"}, \"numpy\": {\"frequency\": 3288, \"value\": \"numpy\"}, \"swt\": {\"frequency\": 1834, \"value\": \"swt\"}, \"facebook-like\": {\"frequency\": 1915, \"value\": \"facebook-like\"}, \"website\": {\"frequency\": 3846, \"value\": \"website\"}, \"field\": {\"frequency\": 1073, \"value\": \"field\"}, \"linker\": {\"frequency\": 3114, \"value\": \"linker\"}, \"sencha-touch\": {\"frequency\": 2058, \"value\": \"sencha-touch\"}, \"html5-video\": {\"frequency\": 1176, \"value\": \"html5-video\"}, \"doctrine2\": {\"frequency\": 2595, \"value\": \"doctrine2\"}, \"c#\": {\"frequency\": 331827, \"value\": \"c#\"}, \"cakephp-2.0\": {\"frequency\": 1263, \"value\": \"cakephp-2.0\"}, \"vba\": {\"frequency\": 8872, \"value\": \"vba\"}, \"rspec\": {\"frequency\": 3762, \"value\": \"rspec\"}, \"accessibility\": {\"frequency\": 1071, \"value\": \"accessibility\"}, \"multidimensional-array\": {\"frequency\": 3777, \"value\": \"multidimensional- ...\"}, \"mocking\": {\"frequency\": 2305, \"value\": \"mocking\"}, \"controller\": {\"frequency\": 3337, \"value\": \"controller\"}, \"source-code\": {\"frequency\": 1343, \"value\": \"source-code\"}, \"external\": {\"frequency\": 1048, \"value\": \"external\"}, \"graphics\": {\"frequency\": 5832, \"value\": \"graphics\"}, \"char\": {\"frequency\": 1866, \"value\": \"char\"}, \"tkinter\": {\"frequency\": 1567, \"value\": \"tkinter\"}, \"ruby\": {\"frequency\": 53039, \"value\": \"ruby\"}, \"datatable\": {\"frequency\": 3107, \"value\": \"datatable\"}, \"protocols\": {\"frequency\": 1178, \"value\": \"protocols\"}, \"floating-point\": {\"frequency\": 1409, \"value\": \"floating-point\"}, \"exception\": {\"frequency\": 9750, \"value\": \"exception\"}, \"multithreading\": {\"frequency\": 26536, \"value\": \"multithreading\"}, \"fluent-nhibernate\": {\"frequency\": 3535, \"value\": \"fluent-nhibernate\"}, \"tomcat6\": {\"frequency\": 1080, \"value\": \"tomcat6\"}, \"hyperlink\": {\"frequency\": 3497, \"value\": \"hyperlink\"}, \"batch\": {\"frequency\": 3908, \"value\": \"batch\"}, \"air\": {\"frequency\": 4056, \"value\": \"air\"}, \"cursor\": {\"frequency\": 2257, \"value\": \"cursor\"}, \"frameworks\": {\"frequency\": 5099, \"value\": \"frameworks\"}, \"formatting\": {\"frequency\": 2780, \"value\": \"formatting\"}, \"flex4\": {\"frequency\": 2978, \"value\": \"flex4\"}, \"transactions\": {\"frequency\": 3761, \"value\": \"transactions\"}, \"drupal-7\": {\"frequency\": 2705, \"value\": \"drupal-7\"}, \"profiling\": {\"frequency\": 1869, \"value\": \"profiling\"}, \"visual-studio-2012\": {\"frequency\": 1253, \"value\": \"visual-studio-2012\"}, \"prolog\": {\"frequency\": 1820, \"value\": \"prolog\"}, \"associations\": {\"frequency\": 1807, \"value\": \"associations\"}, \"malloc\": {\"frequency\": 1390, \"value\": \"malloc\"}, \"project-management\": {\"frequency\": 1464, \"value\": \"project-management\"}, \"orientation\": {\"frequency\": 1515, \"value\": \"orientation\"}, \"data-structures\": {\"frequency\": 5453, \"value\": \"data-structures\"}, \"ip\": {\"frequency\": 1890, \"value\": \"ip\"}, \"binding\": {\"frequency\": 6062, \"value\": \"binding\"}, \"uiimageview\": {\"frequency\": 2968, \"value\": \"uiimageview\"}, \"hardware\": {\"frequency\": 1233, \"value\": \"hardware\"}, \"linq-to-entities\": {\"frequency\": 2750, \"value\": \"linq-to-entities\"}, \"io\": {\"frequency\": 3141, \"value\": \"io\"}, \"return\": {\"frequency\": 1465, \"value\": \"return\"}, \"mouse\": {\"frequency\": 1469, \"value\": \"mouse\"}, \"oracle10g\": {\"frequency\": 2475, \"value\": \"oracle10g\"}, \"plsql\": {\"frequency\": 3467, \"value\": \"plsql\"}, \"updatepanel\": {\"frequency\": 1562, \"value\": \"updatepanel\"}, \"binary\": {\"frequency\": 2864, \"value\": \"binary\"}, \"null\": {\"frequency\": 2999, \"value\": \"null\"}, \"if-statement\": {\"frequency\": 4739, \"value\": \"if-statement\"}, \"recursion\": {\"frequency\": 4542, \"value\": \"recursion\"}, \"make\": {\"frequency\": 2133, \"value\": \"make\"}, \"playframework\": {\"frequency\": 3094, \"value\": \"playframework\"}, \"locking\": {\"frequency\": 2408, \"value\": \"locking\"}, \"hadoop\": {\"frequency\": 3627, \"value\": \"hadoop\"}, \"coffeescript\": {\"frequency\": 2025, \"value\": \"coffeescript\"}, \"authentication\": {\"frequency\": 9289, \"value\": \"authentication\"}, \"jpa-2.0\": {\"frequency\": 1316, \"value\": \"jpa-2.0\"}, \"split\": {\"frequency\": 2362, \"value\": \"split\"}, \"onclick\": {\"frequency\": 2613, \"value\": \"onclick\"}, \"sqlite3\": {\"frequency\": 3752, \"value\": \"sqlite3\"}, \"windows-phone-7.1\": {\"frequency\": 1410, \"value\": \"windows-phone-7.1\"}, \"android\": {\"frequency\": 226132, \"value\": \"android\"}, \"subdomain\": {\"frequency\": 1346, \"value\": \"subdomain\"}, \"events\": {\"frequency\": 11607, \"value\": \"events\"}, \"templates\": {\"frequency\": 10823, \"value\": \"templates\"}, \"passwords\": {\"frequency\": 2582, \"value\": \"passwords\"}, \"http\": {\"frequency\": 12274, \"value\": \"http\"}, \"x86\": {\"frequency\": 1618, \"value\": \"x86\"}, \"classpath\": {\"frequency\": 1381, \"value\": \"classpath\"}, \"internet-explorer\": {\"frequency\": 13415, \"value\": \"internet-explorer\"}, \"initialization\": {\"frequency\": 1979, \"value\": \"initialization\"}, \"reporting\": {\"frequency\": 1460, \"value\": \"reporting\"}, \"ios\": {\"frequency\": 87279, \"value\": \"ios\"}, \"automation\": {\"frequency\": 2683, \"value\": \"automation\"}, \"symfony-1.4\": {\"frequency\": 1408, \"value\": \"symfony-1.4\"}, \"ajaxcontroltoolkit\": {\"frequency\": 1072, \"value\": \"ajaxcontroltoolkit\"}, \"cucumber\": {\"frequency\": 1778, \"value\": \"cucumber\"}, \"user\": {\"frequency\": 2583, \"value\": \"user\"}, \"global-variables\": {\"frequency\": 1480, \"value\": \"global-variables\"}, \"wpf\": {\"frequency\": 49994, \"value\": \"wpf\"}, \"php\": {\"frequency\": 261303, \"value\": \"php\"}, \"tsql\": {\"frequency\": 12481, \"value\": \"tsql\"}, \"stack\": {\"frequency\": 1863, \"value\": \"stack\"}, \"crystal-reports\": {\"frequency\": 3387, \"value\": \"crystal-reports\"}, \"background-image\": {\"frequency\": 1082, \"value\": \"background-image\"}, \"polymorphism\": {\"frequency\": 1664, \"value\": \"polymorphism\"}, \"coding-style\": {\"frequency\": 4505, \"value\": \"coding-style\"}, \"broadcastreceiver\": {\"frequency\": 1539, \"value\": \"broadcastreceiver\"}, \"reflection\": {\"frequency\": 6557, \"value\": \"reflection\"}, \"database\": {\"frequency\": 40934, \"value\": \"database\"}, \"com\": {\"frequency\": 5033, \"value\": \"com\"}, \"sharepoint2007\": {\"frequency\": 2609, \"value\": \"sharepoint2007\"}, \"object\": {\"frequency\": 8682, \"value\": \"object\"}, \"double\": {\"frequency\": 1463, \"value\": \"double\"}, \"matplotlib\": {\"frequency\": 2222, \"value\": \"matplotlib\"}, \"debian\": {\"frequency\": 1299, \"value\": \"debian\"}, \"client\": {\"frequency\": 2173, \"value\": \"client\"}, \"command\": {\"frequency\": 2154, \"value\": \"command\"}, \"components\": {\"frequency\": 1887, \"value\": \"components\"}, \"pyqt4\": {\"frequency\": 1125, \"value\": \"pyqt4\"}, \"gzip\": {\"frequency\": 1381, \"value\": \"gzip\"}, \"position\": {\"frequency\": 2084, \"value\": \"position\"}, \"model\": {\"frequency\": 4411, \"value\": \"model\"}, \"audio\": {\"frequency\": 7664, \"value\": \"audio\"}, \"parallel-processing\": {\"frequency\": 2861, \"value\": \"parallel- ...\"}, \"drawing\": {\"frequency\": 2082, \"value\": \"drawing\"}, \"compact-framework\": {\"frequency\": 1678, \"value\": \"compact-framework\"}, \"mfc\": {\"frequency\": 4096, \"value\": \"mfc\"}, \"nosql\": {\"frequency\": 2413, \"value\": \"nosql\"}, \"phpmyadmin\": {\"frequency\": 2474, \"value\": \"phpmyadmin\"}, \"antlr\": {\"frequency\": 1056, \"value\": \"antlr\"}, \"python-2.7\": {\"frequency\": 2166, \"value\": \"python-2.7\"}, \"radio-button\": {\"frequency\": 1907, \"value\": \"radio-button\"}, \"tcp\": {\"frequency\": 4273, \"value\": \"tcp\"}, \"bitmap\": {\"frequency\": 3305, \"value\": \"bitmap\"}, \"gdb\": {\"frequency\": 2359, \"value\": \"gdb\"}, \"unicode\": {\"frequency\": 5027, \"value\": \"unicode\"}, \"mysql\": {\"frequency\": 112752, \"value\": \"mysql\"}, \"internationalization\": {\"frequency\": 3398, \"value\": \"internationalizati ...\"}, \"xml-serialization\": {\"frequency\": 2251, \"value\": \"xml-serialization\"}, \"rest\": {\"frequency\": 10458, \"value\": \"rest\"}, \"log4net\": {\"frequency\": 1360, \"value\": \"log4net\"}, \"garbage-collection\": {\"frequency\": 2727, \"value\": \"garbage-collection\"}, \"alignment\": {\"frequency\": 1619, \"value\": \"alignment\"}, \"jqgrid\": {\"frequency\": 4472, \"value\": \"jqgrid\"}, \"web\": {\"frequency\": 4756, \"value\": \"web\"}, \"preprocessor\": {\"frequency\": 1311, \"value\": \"preprocessor\"}, \"cakephp\": {\"frequency\": 10576, \"value\": \"cakephp\"}, \"java-ee\": {\"frequency\": 9977, \"value\": \"java-ee\"}, \"struct\": {\"frequency\": 3363, \"value\": \"struct\"}, \"ruby-on-rails\": {\"frequency\": 85599, \"value\": \"ruby-on-rails\"}, \"in-app-purchase\": {\"frequency\": 1526, \"value\": \"in-app-purchase\"}, \"character\": {\"frequency\": 1439, \"value\": \"character\"}, \"prism\": {\"frequency\": 1316, \"value\": \"prism\"}, \"vb\": {\"frequency\": 4299, \"value\": \"vb\"}, \"apache2\": {\"frequency\": 2417, \"value\": \"apache2\"}, \"signals\": {\"frequency\": 1337, \"value\": \"signals\"}, \"opencv\": {\"frequency\": 6338, \"value\": \"opencv\"}, \"add\": {\"frequency\": 1070, \"value\": \"add\"}, \"collections\": {\"frequency\": 5242, \"value\": \"collections\"}, \"blob\": {\"frequency\": 1147, \"value\": \"blob\"}, \"osx-lion\": {\"frequency\": 1868, \"value\": \"osx-lion\"}, \"input\": {\"frequency\": 4745, \"value\": \"input\"}, \"save\": {\"frequency\": 1948, \"value\": \"save\"}, \"ide\": {\"frequency\": 3683, \"value\": \"ide\"}, \"database-design\": {\"frequency\": 7986, \"value\": \"database-design\"}, \"homework\": {\"frequency\": 8979, \"value\": \"homework\"}, \"primefaces\": {\"frequency\": 2844, \"value\": \"primefaces\"}, \"styles\": {\"frequency\": 1715, \"value\": \"styles\"}, \"hover\": {\"frequency\": 2206, \"value\": \"hover\"}, \"casting\": {\"frequency\": 3876, \"value\": \"casting\"}, \"asp.net-mvc-routing\": {\"frequency\": 1179, \"value\": \"asp.net-mvc- ...\"}, \"c#-3.0\": {\"frequency\": 2435, \"value\": \"c#-3.0\"}, \"format\": {\"frequency\": 1978, \"value\": \"format\"}, \"driver\": {\"frequency\": 1232, \"value\": \"driver\"}, \"operators\": {\"frequency\": 1288, \"value\": \"operators\"}, \"moq\": {\"frequency\": 1152, \"value\": \"moq\"}, \"load\": {\"frequency\": 2928, \"value\": \"load\"}, \"linked-list\": {\"frequency\": 1727, \"value\": \"linked-list\"}, \"jstl\": {\"frequency\": 1539, \"value\": \"jstl\"}, \"grid\": {\"frequency\": 2705, \"value\": \"grid\"}, \"console-application\": {\"frequency\": 1060, \"value\": \"console- ...\"}, \"background\": {\"frequency\": 3849, \"value\": \"background\"}, \"deployment\": {\"frequency\": 6263, \"value\": \"deployment\"}, \"integer\": {\"frequency\": 1947, \"value\": \"integer\"}, \"web-services\": {\"frequency\": 21016, \"value\": \"web-services\"}, \"unique\": {\"frequency\": 1049, \"value\": \"unique\"}, \"like\": {\"frequency\": 1605, \"value\": \"like\"}, \"xss\": {\"frequency\": 1117, \"value\": \"xss\"}, \"silverlight\": {\"frequency\": 20679, \"value\": \"silverlight\"}, \"sorting\": {\"frequency\": 8620, \"value\": \"sorting\"}, \"activex\": {\"frequency\": 1709, \"value\": \"activex\"}, \"header\": {\"frequency\": 3538, \"value\": \"header\"}, \"content-management-system\": {\"frequency\": 3150, \"value\": \"content- ...\"}, \"sqlalchemy\": {\"frequency\": 2014, \"value\": \"sqlalchemy\"}, \"html\": {\"frequency\": 111244, \"value\": \"html\"}, \"server\": {\"frequency\": 3477, \"value\": \"server\"}, \"android-listview\": {\"frequency\": 2299, \"value\": \"android-listview\"}, \"boolean\": {\"frequency\": 1576, \"value\": \"boolean\"}, \"index\": {\"frequency\": 2905, \"value\": \"index\"}, \"persistence\": {\"frequency\": 1811, \"value\": \"persistence\"}, \"xsd\": {\"frequency\": 2968, \"value\": \"xsd\"}, \"app-store\": {\"frequency\": 2113, \"value\": \"app-store\"}, \"memory-leaks\": {\"frequency\": 4616, \"value\": \"memory-leaks\"}, \"windows-server-2008\": {\"frequency\": 1422, \"value\": \"windows- ...\"}, \"android-mapview\": {\"frequency\": 1278, \"value\": \"android-mapview\"}, \"form-validation\": {\"frequency\": 1737, \"value\": \"form-validation\"}, \"licensing\": {\"frequency\": 2298, \"value\": \"licensing\"}, \"function\": {\"frequency\": 12723, \"value\": \"function\"}, \"mod-rewrite\": {\"frequency\": 7263, \"value\": \"mod-rewrite\"}, \"fancybox\": {\"frequency\": 2128, \"value\": \"fancybox\"}, \"google\": {\"frequency\": 11040, \"value\": \"google\"}, \"methods\": {\"frequency\": 5157, \"value\": \"methods\"}, \"centos\": {\"frequency\": 1530, \"value\": \"centos\"}, \"data-binding\": {\"frequency\": 7088, \"value\": \"data-binding\"}, \"touch\": {\"frequency\": 2053, \"value\": \"touch\"}, \"linux\": {\"frequency\": 36105, \"value\": \"linux\"}, \"google-api\": {\"frequency\": 1481, \"value\": \"google-api\"}, \"user-interface\": {\"frequency\": 6018, \"value\": \"user-interface\"}, \"streaming\": {\"frequency\": 2194, \"value\": \"streaming\"}, \"wxpython\": {\"frequency\": 2066, \"value\": \"wxpython\"}, \"export\": {\"frequency\": 1775, \"value\": \"export\"}, \"operating-system\": {\"frequency\": 2634, \"value\": \"operating-system\"}, \"table\": {\"frequency\": 10257, \"value\": \"table\"}, \"pattern-matching\": {\"frequency\": 1513, \"value\": \"pattern-matching\"}, \"imageview\": {\"frequency\": 1756, \"value\": \"imageview\"}, \"nsurlconnection\": {\"frequency\": 1221, \"value\": \"nsurlconnection\"}, \"raphael\": {\"frequency\": 1346, \"value\": \"raphael\"}, \"windows\": {\"frequency\": 34516, \"value\": \"windows\"}, \"scala\": {\"frequency\": 10936, \"value\": \"scala\"}, \"macros\": {\"frequency\": 3740, \"value\": \"macros\"}, \"applescript\": {\"frequency\": 1604, \"value\": \"applescript\"}, \"exec\": {\"frequency\": 1268, \"value\": \"exec\"}, \"ejb-3.0\": {\"frequency\": 1284, \"value\": \"ejb-3.0\"}, \"integration\": {\"frequency\": 1316, \"value\": \"integration\"}, \"comments\": {\"frequency\": 2324, \"value\": \"comments\"}, \"uitextfield\": {\"frequency\": 1937, \"value\": \"uitextfield\"}, \"django-views\": {\"frequency\": 1597, \"value\": \"django-views\"}, \"intellij-idea\": {\"frequency\": 2462, \"value\": \"intellij-idea\"}, \"jaxb\": {\"frequency\": 2707, \"value\": \"jaxb\"}, \"uml\": {\"frequency\": 1701, \"value\": \"uml\"}, \"localhost\": {\"frequency\": 1371, \"value\": \"localhost\"}, \"blackberry\": {\"frequency\": 6918, \"value\": \"blackberry\"}, \"cgi\": {\"frequency\": 1680, \"value\": \"cgi\"}, \"telerik\": {\"frequency\": 2638, \"value\": \"telerik\"}, \"awt\": {\"frequency\": 1038, \"value\": \"awt\"}, \"assembly\": {\"frequency\": 7178, \"value\": \"assembly\"}, \"repository\": {\"frequency\": 2108, \"value\": \"repository\"}, \"tree\": {\"frequency\": 3120, \"value\": \"tree\"}, \"compiler\": {\"frequency\": 5315, \"value\": \"compiler\"}, \"c\": {\"frequency\": 66612, \"value\": \"c\"}, \"tdd\": {\"frequency\": 2212, \"value\": \"tdd\"}, \"maven\": {\"frequency\": 9327, \"value\": \"maven\"}, \"mapkit\": {\"frequency\": 1279, \"value\": \"mapkit\"}, \"html-lists\": {\"frequency\": 1257, \"value\": \"html-lists\"}, \"asp.net-web-api\": {\"frequency\": 1226, \"value\": \"asp.net-web-api\"}, \"post\": {\"frequency\": 7763, \"value\": \"post\"}, \"twitter-bootstrap\": {\"frequency\": 2769, \"value\": \"twitter-bootstrap\"}, \"security\": {\"frequency\": 15700, \"value\": \"security\"}, \"panel\": {\"frequency\": 1082, \"value\": \"panel\"}, \"jquery\": {\"frequency\": 216998, \"value\": \"jquery\"}, \"postgresql\": {\"frequency\": 11637, \"value\": \"postgresql\"}, \"install\": {\"frequency\": 1911, \"value\": \"install\"}, \"internet-explorer-9\": {\"frequency\": 2121, \"value\": \"internet- ...\"}, \"relational-database\": {\"frequency\": 1359, \"value\": \"relational- ...\"}, \"foreign-keys\": {\"frequency\": 1988, \"value\": \"foreign-keys\"}, \"symfony1\": {\"frequency\": 3630, \"value\": \"symfony1\"}, \"location\": {\"frequency\": 2099, \"value\": \"location\"}, \"symfony2\": {\"frequency\": 5429, \"value\": \"symfony2\"}, \"xna\": {\"frequency\": 3207, \"value\": \"xna\"}, \"range\": {\"frequency\": 1177, \"value\": \"range\"}, \"wordpress-plugin\": {\"frequency\": 1948, \"value\": \"wordpress-plugin\"}, \"cuda\": {\"frequency\": 2942, \"value\": \"cuda\"}, \"dialog\": {\"frequency\": 3525, \"value\": \"dialog\"}, \"constructor\": {\"frequency\": 3544, \"value\": \"constructor\"}, \"azure\": {\"frequency\": 4744, \"value\": \"azure\"}, \"jsp\": {\"frequency\": 11934, \"value\": \"jsp\"}, \"webview\": {\"frequency\": 3550, \"value\": \"webview\"}, \"clojure\": {\"frequency\": 3788, \"value\": \"clojure\"}, \"backup\": {\"frequency\": 1581, \"value\": \"backup\"}, \"nullpointerexception\": {\"frequency\": 1823, \"value\": \"nullpointerexcepti ...\"}, \"environment-variables\": {\"frequency\": 1191, \"value\": \"environment- ...\"}, \"outlook\": {\"frequency\": 2438, \"value\": \"outlook\"}, \"iphone-sdk-4.0\": {\"frequency\": 7114, \"value\": \"iphone-sdk-4.0\"}, \"cassandra\": {\"frequency\": 1479, \"value\": \"cassandra\"}, \"sql-server-2008-r2\": {\"frequency\": 1838, \"value\": \"sql-server-2008-r2\"}, \"active-directory\": {\"frequency\": 2628, \"value\": \"active-directory\"}, \"image\": {\"frequency\": 22984, \"value\": \"image\"}, \"float\": {\"frequency\": 2487, \"value\": \"float\"}, \"smarty\": {\"frequency\": 1216, \"value\": \"smarty\"}, \"dataset\": {\"frequency\": 2278, \"value\": \"dataset\"}, \"cocoa\": {\"frequency\": 21216, \"value\": \"cocoa\"}, \"rendering\": {\"frequency\": 1560, \"value\": \"rendering\"}, \"haskell\": {\"frequency\": 8037, \"value\": \"haskell\"}, \"url\": {\"frequency\": 10421, \"value\": \"url\"}, \"doctrine\": {\"frequency\": 2969, \"value\": \"doctrine\"}, \"web-crawler\": {\"frequency\": 1060, \"value\": \"web-crawler\"}, \"wicket\": {\"frequency\": 1426, \"value\": \"wicket\"}, \"ruby-on-rails-3.1\": {\"frequency\": 4634, \"value\": \"ruby-on-rails-3.1\"}, \"enums\": {\"frequency\": 3335, \"value\": \"enums\"}, \"jdbc\": {\"frequency\": 4953, \"value\": \"jdbc\"}, \"networking\": {\"frequency\": 8382, \"value\": \"networking\"}, \"compression\": {\"frequency\": 2126, \"value\": \"compression\"}, \"opengl\": {\"frequency\": 10971, \"value\": \"opengl\"}, \"vbscript\": {\"frequency\": 3373, \"value\": \"vbscript\"}, \"hex\": {\"frequency\": 1549, \"value\": \"hex\"}, \"transform\": {\"frequency\": 1064, \"value\": \"transform\"}, \"submit\": {\"frequency\": 1630, \"value\": \"submit\"}, \"class\": {\"frequency\": 13442, \"value\": \"class\"}, \"width\": {\"frequency\": 1778, \"value\": \"width\"}, \"heroku\": {\"frequency\": 4884, \"value\": \"heroku\"}, \"ruby-on-rails-3.2\": {\"frequency\": 1400, \"value\": \"ruby-on-rails-3.2\"}, \"emacs\": {\"frequency\": 5908, \"value\": \"emacs\"}, \"editor\": {\"frequency\": 2246, \"value\": \"editor\"}, \"uiwebview\": {\"frequency\": 3972, \"value\": \"uiwebview\"}, \"spring\": {\"frequency\": 19778, \"value\": \"spring\"}, \"iis7\": {\"frequency\": 5377, \"value\": \"iis7\"}, \"iis6\": {\"frequency\": 2006, \"value\": \"iis6\"}, \"select\": {\"frequency\": 8161, \"value\": \"select\"}, \"linux-kernel\": {\"frequency\": 2458, \"value\": \"linux-kernel\"}, \"real-time\": {\"frequency\": 1138, \"value\": \"real-time\"}, \"conditional\": {\"frequency\": 1408, \"value\": \"conditional\"}, \"repeater\": {\"frequency\": 1074, \"value\": \"repeater\"}, \"https\": {\"frequency\": 3990, \"value\": \"https\"}, \"django-admin\": {\"frequency\": 2523, \"value\": \"django-admin\"}, \"preg-match\": {\"frequency\": 1292, \"value\": \"preg-match\"}, \"handler\": {\"frequency\": 1053, \"value\": \"handler\"}, \"httpwebrequest\": {\"frequency\": 2403, \"value\": \"httpwebrequest\"}, \"kohana\": {\"frequency\": 1300, \"value\": \"kohana\"}, \"linq\": {\"frequency\": 21884, \"value\": \"linq\"}, \"notifications\": {\"frequency\": 2708, \"value\": \"notifications\"}, \"certificate\": {\"frequency\": 1826, \"value\": \"certificate\"}, \"android-asynctask\": {\"frequency\": 2061, \"value\": \"android-asynctask\"}, \"zoom\": {\"frequency\": 1335, \"value\": \"zoom\"}, \"heap\": {\"frequency\": 1289, \"value\": \"heap\"}, \"branch\": {\"frequency\": 1495, \"value\": \"branch\"}, \"sdl\": {\"frequency\": 1140, \"value\": \"sdl\"}, \"overflow\": {\"frequency\": 1392, \"value\": \"overflow\"}, \"bluetooth\": {\"frequency\": 2770, \"value\": \"bluetooth\"}, \"naming-conventions\": {\"frequency\": 1491, \"value\": \"naming-conventions\"}, \"sdk\": {\"frequency\": 4761, \"value\": \"sdk\"}, \"count\": {\"frequency\": 3097, \"value\": \"count\"}, \"uinavigationbar\": {\"frequency\": 1247, \"value\": \"uinavigationbar\"}, \"web-scraping\": {\"frequency\": 1000, \"value\": \"web-scraping\"}, \"tomcat\": {\"frequency\": 8828, \"value\": \"tomcat\"}, \"python-3.x\": {\"frequency\": 2608, \"value\": \"python-3.x\"}, \"arrays\": {\"frequency\": 33190, \"value\": \"arrays\"}, \"devexpress\": {\"frequency\": 1795, \"value\": \"devexpress\"}, \"access\": {\"frequency\": 2381, \"value\": \"access\"}, \"hosting\": {\"frequency\": 1709, \"value\": \"hosting\"}, \"asp.net-mvc-4\": {\"frequency\": 1842, \"value\": \"asp.net-mvc-4\"}, \"cocos2d-iphone\": {\"frequency\": 3366, \"value\": \"cocos2d-iphone\"}, \"insert\": {\"frequency\": 3592, \"value\": \"insert\"}, \"compiler-errors\": {\"frequency\": 2371, \"value\": \"compiler-errors\"}, \"limit\": {\"frequency\": 1119, \"value\": \"limit\"}, \"subquery\": {\"frequency\": 1419, \"value\": \"subquery\"}, \"sum\": {\"frequency\": 1437, \"value\": \"sum\"}, \"cocoa-touch\": {\"frequency\": 14868, \"value\": \"cocoa-touch\"}, \"embed\": {\"frequency\": 1413, \"value\": \"embed\"}, \"ssrs-2008\": {\"frequency\": 1649, \"value\": \"ssrs-2008\"}, \"powershell\": {\"frequency\": 6472, \"value\": \"powershell\"}, \"delete\": {\"frequency\": 3605, \"value\": \"delete\"}, \"datepicker\": {\"frequency\": 2197, \"value\": \"datepicker\"}, \"sql-order-by\": {\"frequency\": 1410, \"value\": \"sql-order-by\"}, \"delphi-7\": {\"frequency\": 1055, \"value\": \"delphi-7\"}, \"links\": {\"frequency\": 1189, \"value\": \"links\"}, \"int\": {\"frequency\": 1585, \"value\": \"int\"}, \"attributes\": {\"frequency\": 3528, \"value\": \"attributes\"}, \"push\": {\"frequency\": 1209, \"value\": \"push\"}, \"zend\": {\"frequency\": 1760, \"value\": \"zend\"}, \"rvm\": {\"frequency\": 1366, \"value\": \"rvm\"}, \"android-emulator\": {\"frequency\": 3952, \"value\": \"android-emulator\"}, \".net-4.0\": {\"frequency\": 5031, \"value\": \".net-4.0\"}, \"loops\": {\"frequency\": 7562, \"value\": \"loops\"}, \"full-text-search\": {\"frequency\": 2190, \"value\": \"full-text-search\"}, \"asynchronous\": {\"frequency\": 5295, \"value\": \"asynchronous\"}, \"firebug\": {\"frequency\": 1517, \"value\": \"firebug\"}, \"file\": {\"frequency\": 15540, \"value\": \"file\"}, \"oauth-2.0\": {\"frequency\": 1223, \"value\": \"oauth-2.0\"}, \"facebook-javascript-sdk\": {\"frequency\": 1357, \"value\": \"facebook- ...\"}, \"timezone\": {\"frequency\": 2207, \"value\": \"timezone\"}, \"curl\": {\"frequency\": 5848, \"value\": \"curl\"}, \"google-maps\": {\"frequency\": 10826, \"value\": \"google-maps\"}, \"haml\": {\"frequency\": 1195, \"value\": \"haml\"}, \"objective-c\": {\"frequency\": 94610, \"value\": \"objective-c\"}, \"url-routing\": {\"frequency\": 1245, \"value\": \"url-routing\"}, \"visual-c++\": {\"frequency\": 9209, \"value\": \"visual-c++\"}, \"fonts\": {\"frequency\": 3808, \"value\": \"fonts\"}, \"cmake\": {\"frequency\": 1646, \"value\": \"cmake\"}, \"resharper\": {\"frequency\": 1376, \"value\": \"resharper\"}, \"sql-server\": {\"frequency\": 39705, \"value\": \"sql-server\"}, \"mathematica\": {\"frequency\": 2231, \"value\": \"mathematica\"}, \"excel\": {\"frequency\": 15331, \"value\": \"excel\"}, \"virtual\": {\"frequency\": 1292, \"value\": \"virtual\"}, \"entity-framework-4\": {\"frequency\": 5514, \"value\": \"entity-framework-4\"}, \"application\": {\"frequency\": 8276, \"value\": \"application\"}, \"windows-xp\": {\"frequency\": 2046, \"value\": \"windows-xp\"}, \"utf-8\": {\"frequency\": 4362, \"value\": \"utf-8\"}, \"artificial-intelligence\": {\"frequency\": 1297, \"value\": \"artificial- ...\"}, \"unit-testing\": {\"frequency\": 13443, \"value\": \"unit-testing\"}, \"type-conversion\": {\"frequency\": 1182, \"value\": \"type-conversion\"}, \"optimization\": {\"frequency\": 7962, \"value\": \"optimization\"}, \"google-apps-script\": {\"frequency\": 1140, \"value\": \"google-apps-script\"}, \"fork\": {\"frequency\": 1114, \"value\": \"fork\"}, \"openid\": {\"frequency\": 1767, \"value\": \"openid\"}, \"exception-handling\": {\"frequency\": 4077, \"value\": \"exception-handling\"}, \"mongodb\": {\"frequency\": 10431, \"value\": \"mongodb\"}, \"printing\": {\"frequency\": 4865, \"value\": \"printing\"}, \"richtextbox\": {\"frequency\": 1144, \"value\": \"richtextbox\"}, \"bundle\": {\"frequency\": 1092, \"value\": \"bundle\"}, \"asp.net-mvc-3\": {\"frequency\": 27136, \"value\": \"asp.net-mvc-3\"}, \"replace\": {\"frequency\": 3173, \"value\": \"replace\"}, \"oracle\": {\"frequency\": 18678, \"value\": \"oracle\"}, \"webserver\": {\"frequency\": 1979, \"value\": \"webserver\"}, \"many-to-many\": {\"frequency\": 1892, \"value\": \"many-to-many\"}, \"registry\": {\"frequency\": 1861, \"value\": \"registry\"}, \"sql\": {\"frequency\": 89838, \"value\": \"sql\"}, \"linq-to-sql\": {\"frequency\": 8765, \"value\": \"linq-to-sql\"}, \"extjs\": {\"frequency\": 6425, \"value\": \"extjs\"}, \"structure\": {\"frequency\": 1180, \"value\": \"structure\"}, \"source\": {\"frequency\": 1286, \"value\": \"source\"}, \"svn\": {\"frequency\": 12453, \"value\": \"svn\"}, \"webdriver\": {\"frequency\": 1566, \"value\": \"webdriver\"}, \"sphinx\": {\"frequency\": 1166, \"value\": \"sphinx\"}, \"algorithm\": {\"frequency\": 19726, \"value\": \"algorithm\"}, \"wifi\": {\"frequency\": 1366, \"value\": \"wifi\"}, \"svg\": {\"frequency\": 3452, \"value\": \"svg\"}, \"blogs\": {\"frequency\": 1089, \"value\": \"blogs\"}, \"overlay\": {\"frequency\": 1457, \"value\": \"overlay\"}, \"youtube\": {\"frequency\": 2940, \"value\": \"youtube\"}, \"z-index\": {\"frequency\": 1095, \"value\": \"z-index\"}, \"http-status-code-404\": {\"frequency\": 1217, \"value\": \"http-status- ...\"}, \"jenkins\": {\"frequency\": 2013, \"value\": \"jenkins\"}, \"jpanel\": {\"frequency\": 1157, \"value\": \"jpanel\"}, \"scheduled-tasks\": {\"frequency\": 1149, \"value\": \"scheduled-tasks\"}, \"time\": {\"frequency\": 4997, \"value\": \"time\"}, \"directory\": {\"frequency\": 2522, \"value\": \"directory\"}, \"validation\": {\"frequency\": 12755, \"value\": \"validation\"}, \"facebook-c#-sdk\": {\"frequency\": 1249, \"value\": \"facebook-c#-sdk\"}, \"scroll\": {\"frequency\": 2574, \"value\": \"scroll\"}}, \"size\": 10409170}}, \"selected_variable\": {\"name\": [\"sf\"], \"descriptives\": {\"rows\": 3643508, \"columns\": 2}, \"view_component\": \"Summary\", \"view_file\": \"sframe\", \"view_params\": {\"y\": null, \"x\": null, \"columns\": [\"OwnerUserId\", \"Tags\"], \"view\": null}, \"view_components\": [\"Summary\", \"Table\", \"Bar Chart\", \"BoxWhisker Plot\", \"Line Chart\", \"Scatter Plot\", \"Heat Map\", \"Plots\"], \"type\": \"SFrame\", \"columns\": [{\"dtype\": \"str\", \"name\": \"OwnerUserId\"}, {\"dtype\": \"list\", \"name\": \"Tags\"}], \"column_identifiers\": [\"OwnerUserId\", \"Tags\"]}, \"columns\": [{\"dtype\": \"str\", \"name\": \"OwnerUserId\"}, {\"dtype\": \"list\", \"name\": \"Tags\"}]}, e);\n",
       "                });\n",
       "            })();\n",
       "        "
      ]
     },
     "metadata": {},
     "output_type": "display_data"
    }
   ],
   "source": [
    "graphlab.canvas.set_target('ipynb')\n",
    "sf.show()"
   ]
  },
  {
   "cell_type": "markdown",
   "metadata": {
    "collapsed": true
   },
   "source": [
    "Use the following Python function to modify the Tags column to not have any empty strings in the list."
   ]
  },
  {
   "cell_type": "code",
   "execution_count": 14,
   "metadata": {
    "collapsed": true
   },
   "outputs": [],
   "source": [
    "def remove_empty(tags):\n",
    "    return [tag for tag in tags if tag != '']"
   ]
  },
  {
   "cell_type": "code",
   "execution_count": 15,
   "metadata": {
    "collapsed": true
   },
   "outputs": [],
   "source": [
    "sf['Tags'] = sf['Tags'].apply(remove_empty)"
   ]
  },
  {
   "cell_type": "markdown",
   "metadata": {},
   "source": [
    "Create a new SFrame called *user_tag* that has a row for every (user, tag) pair."
   ]
  },
  {
   "cell_type": "code",
   "execution_count": 16,
   "metadata": {
    "collapsed": true
   },
   "outputs": [],
   "source": [
    "user_tag = sf.stack(column_name='Tags', new_column_name='Tag')"
   ]
  },
  {
   "cell_type": "code",
   "execution_count": 25,
   "metadata": {
    "collapsed": false
   },
   "outputs": [
    {
     "data": {
      "application/javascript": [
       "$(\"head\").append($(\"<link/>\").attr({\n",
       "  rel:  \"stylesheet\",\n",
       "  type: \"text/css\",\n",
       "  href: \"//cdnjs.cloudflare.com/ajax/libs/font-awesome/4.1.0/css/font-awesome.min.css\"\n",
       "}));\n",
       "$(\"head\").append($(\"<link/>\").attr({\n",
       "  rel:  \"stylesheet\",\n",
       "  type: \"text/css\",\n",
       "  href: \"https://static.turi.com/products/graphlab-create/2.1/canvas/css/canvas.css\"\n",
       "}));\n",
       "\n",
       "            (function(){\n",
       "\n",
       "                var e = null;\n",
       "                if (typeof element == 'undefined') {\n",
       "                    var scripts = document.getElementsByTagName('script');\n",
       "                    var thisScriptTag = scripts[scripts.length-1];\n",
       "                    var parentDiv = thisScriptTag.parentNode;\n",
       "                    e = document.createElement('div');\n",
       "                    parentDiv.appendChild(e);\n",
       "                } else {\n",
       "                    e = element[0];\n",
       "                }\n",
       "\n",
       "                if (typeof requirejs !== 'undefined') {\n",
       "                    // disable load timeout; ipython_app.js is large and can take a while to load.\n",
       "                    requirejs.config({waitSeconds: 0});\n",
       "                }\n",
       "\n",
       "                require(['https://static.turi.com/products/graphlab-create/2.1/canvas/js/ipython_app.js'], function(IPythonApp){\n",
       "                    var app = new IPythonApp();\n",
       "                    app.attachView('sframe','Summary', {\"ipython\": true, \"sketch\": {\"OwnerUserId\": {\"complete\": true, \"numeric\": false, \"num_unique\": 654457, \"num_undefined\": 0, \"progress\": 1.0, \"frequent_items\": {\"418029\": {\"frequency\": 1422, \"value\": \"418029\"}, \"642022\": {\"frequency\": 1154, \"value\": \"642022\"}, \"727429\": {\"frequency\": 1097, \"value\": \"727429\"}, \"454049\": {\"frequency\": 1066, \"value\": \"454049\"}, \"85821\": {\"frequency\": 1110, \"value\": \"85821\"}, \"245549\": {\"frequency\": 1066, \"value\": \"245549\"}, \"257022\": {\"frequency\": 1562, \"value\": \"257022\"}, \"520957\": {\"frequency\": 968, \"value\": \"520957\"}, \"146857\": {\"frequency\": 1190, \"value\": \"146857\"}, \"48523\": {\"frequency\": 1328, \"value\": \"48523\"}, \"41956\": {\"frequency\": 1010, \"value\": \"41956\"}, \"146780\": {\"frequency\": 2168, \"value\": \"146780\"}, \"434051\": {\"frequency\": 4511, \"value\": \"434051\"}, \"31610\": {\"frequency\": 1679, \"value\": \"31610\"}, \"95944\": {\"frequency\": 1395, \"value\": \"95944\"}, \"536768\": {\"frequency\": 1345, \"value\": \"536768\"}, \"498624\": {\"frequency\": 1018, \"value\": \"498624\"}, \"172861\": {\"frequency\": 1582, \"value\": \"172861\"}, \"741099\": {\"frequency\": 1415, \"value\": \"741099\"}, \"1444475\": {\"frequency\": 1358, \"value\": \"1444475\"}, \"181771\": {\"frequency\": 1325, \"value\": \"181771\"}, \"103264\": {\"frequency\": 1268, \"value\": \"103264\"}, \"11236\": {\"frequency\": 2085, \"value\": \"11236\"}, \"314661\": {\"frequency\": 1006, \"value\": \"314661\"}, \"164216\": {\"frequency\": 1075, \"value\": \"164216\"}, \"193619\": {\"frequency\": 990, \"value\": \"193619\"}, \"112355\": {\"frequency\": 1121, \"value\": \"112355\"}, \"967484\": {\"frequency\": 1201, \"value\": \"967484\"}, \"277603\": {\"frequency\": 1139, \"value\": \"277603\"}, \"700663\": {\"frequency\": 1030, \"value\": \"700663\"}, \"117700\": {\"frequency\": 2725, \"value\": \"117700\"}, \"404020\": {\"frequency\": 1432, \"value\": \"404020\"}, \"356849\": {\"frequency\": 1211, \"value\": \"356849\"}, \"36590\": {\"frequency\": 1831, \"value\": \"36590\"}, \"143030\": {\"frequency\": 1285, \"value\": \"143030\"}, \"881635\": {\"frequency\": 996, \"value\": \"881635\"}, \"84539\": {\"frequency\": 1601, \"value\": \"84539\"}, \"651174\": {\"frequency\": 1169, \"value\": \"651174\"}, \"252000\": {\"frequency\": 1301, \"value\": \"252000\"}, \"373674\": {\"frequency\": 1079, \"value\": \"373674\"}, \"246776\": {\"frequency\": 1288, \"value\": \"246776\"}, \"184046\": {\"frequency\": 1631, \"value\": \"184046\"}, \"472300\": {\"frequency\": 996, \"value\": \"472300\"}, \"571507\": {\"frequency\": 1176, \"value\": \"571507\"}, \"174614\": {\"frequency\": 1068, \"value\": \"174614\"}, \"260127\": {\"frequency\": 1700, \"value\": \"260127\"}, \"556479\": {\"frequency\": 948, \"value\": \"556479\"}, \"30512\": {\"frequency\": 1157, \"value\": \"30512\"}, \"326389\": {\"frequency\": 1074, \"value\": \"326389\"}, \"173520\": {\"frequency\": 2303, \"value\": \"173520\"}, \"15055\": {\"frequency\": 1703, \"value\": \"15055\"}, \"149482\": {\"frequency\": 953, \"value\": \"149482\"}, \"541686\": {\"frequency\": 1769, \"value\": \"541686\"}, \"2147\": {\"frequency\": 1158, \"value\": \"2147\"}, \"112100\": {\"frequency\": 1115, \"value\": \"112100\"}, \"485743\": {\"frequency\": 1754, \"value\": \"485743\"}, \"149080\": {\"frequency\": 3255, \"value\": \"149080\"}, \"30674\": {\"frequency\": 1811, \"value\": \"30674\"}, \"530153\": {\"frequency\": 974, \"value\": \"530153\"}, \"499417\": {\"frequency\": 1216, \"value\": \"499417\"}, \"48465\": {\"frequency\": 1931, \"value\": \"48465\"}, \"268733\": {\"frequency\": 1041, \"value\": \"268733\"}, \"244413\": {\"frequency\": 1029, \"value\": \"244413\"}, \"79891\": {\"frequency\": 1518, \"value\": \"79891\"}, \"4653\": {\"frequency\": 4045, \"value\": \"4653\"}, \"666564\": {\"frequency\": 962, \"value\": \"666564\"}, \"32484\": {\"frequency\": 1311, \"value\": \"32484\"}, \"418343\": {\"frequency\": 1420, \"value\": \"418343\"}, \"34537\": {\"frequency\": 3519, \"value\": \"34537\"}, \"19875\": {\"frequency\": 3042, \"value\": \"19875\"}, \"63235\": {\"frequency\": 2259, \"value\": \"63235\"}, \"699978\": {\"frequency\": 1097, \"value\": \"699978\"}, \"31671\": {\"frequency\": 1305, \"value\": \"31671\"}, \"9382\": {\"frequency\": 1813, \"value\": \"9382\"}, \"108207\": {\"frequency\": 1578, \"value\": \"108207\"}, \"78182\": {\"frequency\": 1462, \"value\": \"78182\"}, \"342235\": {\"frequency\": 1061, \"value\": \"342235\"}, \"274627\": {\"frequency\": 1076, \"value\": \"274627\"}, \"84201\": {\"frequency\": 3608, \"value\": \"84201\"}, \"185593\": {\"frequency\": 1332, \"value\": \"185593\"}, \"892029\": {\"frequency\": 1944, \"value\": \"892029\"}, \"12597\": {\"frequency\": 2251, \"value\": \"12597\"}, \"297776\": {\"frequency\": 979, \"value\": \"297776\"}, \"376947\": {\"frequency\": 1984, \"value\": \"376947\"}, \"285594\": {\"frequency\": 1174, \"value\": \"285594\"}, \"191808\": {\"frequency\": 942, \"value\": \"191808\"}, \"246568\": {\"frequency\": 1067, \"value\": \"246568\"}, \"224922\": {\"frequency\": 1359, \"value\": \"224922\"}, \"413225\": {\"frequency\": 1599, \"value\": \"413225\"}, \"16241\": {\"frequency\": 2437, \"value\": \"16241\"}, \"721937\": {\"frequency\": 1376, \"value\": \"721937\"}, \"130015\": {\"frequency\": 2298, \"value\": \"130015\"}, \"328397\": {\"frequency\": 1899, \"value\": \"328397\"}, \"87152\": {\"frequency\": 1488, \"value\": \"87152\"}, \"295189\": {\"frequency\": 1296, \"value\": \"295189\"}, \"207524\": {\"frequency\": 1220, \"value\": \"207524\"}, \"144695\": {\"frequency\": 1300, \"value\": \"144695\"}, \"121646\": {\"frequency\": 1103, \"value\": \"121646\"}, \"122536\": {\"frequency\": 1063, \"value\": \"122536\"}, \"323698\": {\"frequency\": 1061, \"value\": \"323698\"}, \"108869\": {\"frequency\": 1387, \"value\": \"108869\"}, \"637142\": {\"frequency\": 1460, \"value\": \"637142\"}, \"63051\": {\"frequency\": 1276, \"value\": \"63051\"}, \"875317\": {\"frequency\": 1509, \"value\": \"875317\"}, \"384706\": {\"frequency\": 1227, \"value\": \"384706\"}, \"458960\": {\"frequency\": 1013, \"value\": \"458960\"}, \"253976\": {\"frequency\": 1458, \"value\": \"253976\"}, \"242933\": {\"frequency\": 1403, \"value\": \"242933\"}, \"8741\": {\"frequency\": 2063, \"value\": \"8741\"}, \"710818\": {\"frequency\": 999, \"value\": \"710818\"}, \"427292\": {\"frequency\": 1047, \"value\": \"427292\"}, \"533941\": {\"frequency\": 1247, \"value\": \"533941\"}, \"4639\": {\"frequency\": 2731, \"value\": \"4639\"}, \"287436\": {\"frequency\": 983, \"value\": \"287436\"}, \"283055\": {\"frequency\": 1670, \"value\": \"283055\"}, \"206446\": {\"frequency\": 1190, \"value\": \"206446\"}, \"325418\": {\"frequency\": 2559, \"value\": \"325418\"}, \"68571\": {\"frequency\": 1618, \"value\": \"68571\"}, \"208827\": {\"frequency\": 1096, \"value\": \"208827\"}, \"198729\": {\"frequency\": 1170, \"value\": \"198729\"}, \"824806\": {\"frequency\": 1141, \"value\": \"824806\"}, \"198128\": {\"frequency\": 1174, \"value\": \"198128\"}, \"41021\": {\"frequency\": 1774, \"value\": \"41021\"}, \"478573\": {\"frequency\": 1289, \"value\": \"478573\"}, \"48082\": {\"frequency\": 1160, \"value\": \"48082\"}, \"155077\": {\"frequency\": 1081, \"value\": \"155077\"}, \"383759\": {\"frequency\": 1200, \"value\": \"383759\"}, \"46724\": {\"frequency\": 1082, \"value\": \"46724\"}, \"683898\": {\"frequency\": 996, \"value\": \"683898\"}, \"267304\": {\"frequency\": 993, \"value\": \"267304\"}, \"223367\": {\"frequency\": 2138, \"value\": \"223367\"}, \"126353\": {\"frequency\": 1321, \"value\": \"126353\"}, \"75500\": {\"frequency\": 1746, \"value\": \"75500\"}, \"463857\": {\"frequency\": 1008, \"value\": \"463857\"}, \"292291\": {\"frequency\": 1587, \"value\": \"292291\"}, \"155196\": {\"frequency\": 1150, \"value\": \"155196\"}, \"64334\": {\"frequency\": 1187, \"value\": \"64334\"}, \"57872\": {\"frequency\": 1169, \"value\": \"57872\"}, \"565968\": {\"frequency\": 1032, \"value\": \"565968\"}, \"192910\": {\"frequency\": 1054, \"value\": \"192910\"}, \"557527\": {\"frequency\": 1132, \"value\": \"557527\"}, \"203262\": {\"frequency\": 1041, \"value\": \"203262\"}, \"478144\": {\"frequency\": 1162, \"value\": \"478144\"}, \"302533\": {\"frequency\": 964, \"value\": \"302533\"}, \"69742\": {\"frequency\": 1485, \"value\": \"69742\"}, \"142019\": {\"frequency\": 1265, \"value\": \"142019\"}, \"429377\": {\"frequency\": 1039, \"value\": \"429377\"}, \"54964\": {\"frequency\": 1734, \"value\": \"54964\"}, \"169992\": {\"frequency\": 1179, \"value\": \"169992\"}, \"554217\": {\"frequency\": 1015, \"value\": \"554217\"}, \"421109\": {\"frequency\": 1497, \"value\": \"421109\"}, \"136141\": {\"frequency\": 1863, \"value\": \"136141\"}, \"237681\": {\"frequency\": 998, \"value\": \"237681\"}, \"188962\": {\"frequency\": 1987, \"value\": \"188962\"}, \"99834\": {\"frequency\": 1033, \"value\": \"99834\"}, \"51649\": {\"frequency\": 1528, \"value\": \"51649\"}, \"502052\": {\"frequency\": 1560, \"value\": \"502052\"}, \"44330\": {\"frequency\": 1748, \"value\": \"44330\"}, \"656925\": {\"frequency\": 1000, \"value\": \"656925\"}, \"365251\": {\"frequency\": 1677, \"value\": \"365251\"}, \"561395\": {\"frequency\": 1410, \"value\": \"561395\"}, \"143378\": {\"frequency\": 966, \"value\": \"143378\"}, \"478520\": {\"frequency\": 1209, \"value\": \"478520\"}, \"247243\": {\"frequency\": 1625, \"value\": \"247243\"}, \"172637\": {\"frequency\": 1520, \"value\": \"172637\"}, \"39321\": {\"frequency\": 1228, \"value\": \"39321\"}, \"33690\": {\"frequency\": 1382, \"value\": \"33690\"}, \"147601\": {\"frequency\": 2530, \"value\": \"147601\"}, \"130758\": {\"frequency\": 2143, \"value\": \"130758\"}, \"310291\": {\"frequency\": 1724, \"value\": \"310291\"}, \"201934\": {\"frequency\": 984, \"value\": \"201934\"}, \"197229\": {\"frequency\": 1280, \"value\": \"197229\"}, \"198183\": {\"frequency\": 1056, \"value\": \"198183\"}, \"39677\": {\"frequency\": 4007, \"value\": \"39677\"}, \"179736\": {\"frequency\": 4316, \"value\": \"179736\"}, \"220180\": {\"frequency\": 1087, \"value\": \"220180\"}, \"52420\": {\"frequency\": 1091, \"value\": \"52420\"}, \"807400\": {\"frequency\": 1129, \"value\": \"807400\"}, \"984621\": {\"frequency\": 1220, \"value\": \"984621\"}, \"242769\": {\"frequency\": 1198, \"value\": \"242769\"}, \"49153\": {\"frequency\": 1566, \"value\": \"49153\"}, \"40106\": {\"frequency\": 1355, \"value\": \"40106\"}, \"224988\": {\"frequency\": 1438, \"value\": \"224988\"}, \"2648\": {\"frequency\": 1523, \"value\": \"2648\"}, \"51816\": {\"frequency\": 2444, \"value\": \"51816\"}, \"356635\": {\"frequency\": 1721, \"value\": \"356635\"}, \"18309\": {\"frequency\": 1119, \"value\": \"18309\"}, \"380714\": {\"frequency\": 923, \"value\": \"380714\"}, \"62553\": {\"frequency\": 1226, \"value\": \"62553\"}, \"364312\": {\"frequency\": 1376, \"value\": \"364312\"}, \"379008\": {\"frequency\": 1360, \"value\": \"379008\"}, \"46011\": {\"frequency\": 1382, \"value\": \"46011\"}, \"93311\": {\"frequency\": 1732, \"value\": \"93311\"}, \"63898\": {\"frequency\": 1454, \"value\": \"63898\"}, \"477228\": {\"frequency\": 1015, \"value\": \"477228\"}, \"68183\": {\"frequency\": 1360, \"value\": \"68183\"}, \"632951\": {\"frequency\": 1053, \"value\": \"632951\"}, \"65387\": {\"frequency\": 1873, \"value\": \"65387\"}, \"859154\": {\"frequency\": 1329, \"value\": \"859154\"}, \"57428\": {\"frequency\": 2922, \"value\": \"57428\"}}, \"size\": 10409170}, \"Tag\": {\"complete\": true, \"numeric\": false, \"num_unique\": 44219, \"num_undefined\": 0, \"progress\": 1.0, \"frequent_items\": {\"bytearray\": {\"frequency\": 1322, \"value\": \"bytearray\"}, \"osx\": {\"frequency\": 21788, \"value\": \"osx\"}, \"msbuild\": {\"frequency\": 3670, \"value\": \"msbuild\"}, \"hashmap\": {\"frequency\": 1799, \"value\": \"hashmap\"}, \"iterator\": {\"frequency\": 2476, \"value\": \"iterator\"}, \"ef-code-first\": {\"frequency\": 2144, \"value\": \"ef-code-first\"}, \"duplicates\": {\"frequency\": 1488, \"value\": \"duplicates\"}, \"redis\": {\"frequency\": 1778, \"value\": \"redis\"}, \"dependency-injection\": {\"frequency\": 3725, \"value\": \"dependency- ...\"}, \"dynamic\": {\"frequency\": 7319, \"value\": \"dynamic\"}, \"drag-and-drop\": {\"frequency\": 3165, \"value\": \"drag-and-drop\"}, \"groovy\": {\"frequency\": 4809, \"value\": \"groovy\"}, \"cross-domain\": {\"frequency\": 1656, \"value\": \"cross-domain\"}, \"themes\": {\"frequency\": 1943, \"value\": \"themes\"}, \"cakephp-1.3\": {\"frequency\": 1646, \"value\": \"cakephp-1.3\"}, \"toggle\": {\"frequency\": 1331, \"value\": \"toggle\"}, \"gd\": {\"frequency\": 1145, \"value\": \"gd\"}, \"ggplot2\": {\"frequency\": 1585, \"value\": \"ggplot2\"}, \"mp3\": {\"frequency\": 1513, \"value\": \"mp3\"}, \"sharepoint2010\": {\"frequency\": 5128, \"value\": \"sharepoint2010\"}, \"go\": {\"frequency\": 1251, \"value\": \"go\"}, \"query\": {\"frequency\": 19569, \"value\": \"query\"}, \"flash-builder\": {\"frequency\": 1755, \"value\": \"flash-builder\"}, \"row\": {\"frequency\": 1401, \"value\": \"row\"}, \"const\": {\"frequency\": 1143, \"value\": \"const\"}, \"windows-ce\": {\"frequency\": 1106, \"value\": \"windows-ce\"}, \"icons\": {\"frequency\": 2166, \"value\": \"icons\"}, \"graph\": {\"frequency\": 4766, \"value\": \"graph\"}, \"base64\": {\"frequency\": 1277, \"value\": \"base64\"}, \"mpmovieplayercontroller\": {\"frequency\": 1176, \"value\": \"mpmovieplayercontr ...\"}, \"wmi\": {\"frequency\": 1307, \"value\": \"wmi\"}, \"matlab\": {\"frequency\": 11417, \"value\": \"matlab\"}, \"jvm\": {\"frequency\": 2340, \"value\": \"jvm\"}, \"eclipse-rcp\": {\"frequency\": 1449, \"value\": \"eclipse-rcp\"}, \"http-post\": {\"frequency\": 1220, \"value\": \"http-post\"}, \"include\": {\"frequency\": 2795, \"value\": \"include\"}, \"java-me\": {\"frequency\": 3802, \"value\": \"java-me\"}, \"junit\": {\"frequency\": 3723, \"value\": \"junit\"}, \"resources\": {\"frequency\": 3749, \"value\": \"resources\"}, \"string\": {\"frequency\": 25486, \"value\": \"string\"}, \"html-parsing\": {\"frequency\": 1431, \"value\": \"html-parsing\"}, \"monodevelop\": {\"frequency\": 1089, \"value\": \"monodevelop\"}, \"nsdictionary\": {\"frequency\": 1201, \"value\": \"nsdictionary\"}, \"focus\": {\"frequency\": 2151, \"value\": \"focus\"}, \"replication\": {\"frequency\": 1124, \"value\": \"replication\"}, \"computer-vision\": {\"frequency\": 1116, \"value\": \"computer-vision\"}, \"facebook\": {\"frequency\": 31517, \"value\": \"facebook\"}, \"prepared-statement\": {\"frequency\": 1042, \"value\": \"prepared-statement\"}, \"namespaces\": {\"frequency\": 3190, \"value\": \"namespaces\"}, \"ios-simulator\": {\"frequency\": 1641, \"value\": \"ios-simulator\"}, \"switch-statement\": {\"frequency\": 1086, \"value\": \"switch-statement\"}, \"join\": {\"frequency\": 6637, \"value\": \"join\"}, \"datetime\": {\"frequency\": 8535, \"value\": \"datetime\"}, \"push-notification\": {\"frequency\": 1453, \"value\": \"push-notification\"}, \"datagrid\": {\"frequency\": 4717, \"value\": \"datagrid\"}, \"open-source\": {\"frequency\": 3471, \"value\": \"open-source\"}, \"lisp\": {\"frequency\": 2084, \"value\": \"lisp\"}, \"mercurial\": {\"frequency\": 4320, \"value\": \"mercurial\"}, \"gui\": {\"frequency\": 9098, \"value\": \"gui\"}, \"cmd\": {\"frequency\": 1712, \"value\": \"cmd\"}, \"list\": {\"frequency\": 13330, \"value\": \"list\"}, \"upload\": {\"frequency\": 4000, \"value\": \"upload\"}, \"standards\": {\"frequency\": 1250, \"value\": \"standards\"}, \"try-catch\": {\"frequency\": 1215, \"value\": \"try-catch\"}, \"nsdate\": {\"frequency\": 1297, \"value\": \"nsdate\"}, \"ado.net\": {\"frequency\": 3713, \"value\": \"ado.net\"}, \"javascript\": {\"frequency\": 245096, \"value\": \"javascript\"}, \"nsarray\": {\"frequency\": 1779, \"value\": \"nsarray\"}, \"css3\": {\"frequency\": 9082, \"value\": \"css3\"}, \"google-maps-api-3\": {\"frequency\": 5193, \"value\": \"google-maps-api-3\"}, \"div\": {\"frequency\": 7748, \"value\": \"div\"}, \"listview\": {\"frequency\": 9977, \"value\": \"listview\"}, \"domain-driven-design\": {\"frequency\": 1883, \"value\": \"domain-driven- ...\"}, \"couchdb\": {\"frequency\": 1817, \"value\": \"couchdb\"}, \"cookies\": {\"frequency\": 6575, \"value\": \"cookies\"}, \"gridview\": {\"frequency\": 6717, \"value\": \"gridview\"}, \"netbeans\": {\"frequency\": 6408, \"value\": \"netbeans\"}, \"asp-classic\": {\"frequency\": 3916, \"value\": \"asp-classic\"}, \"edittext\": {\"frequency\": 1594, \"value\": \"edittext\"}, \"elisp\": {\"frequency\": 1208, \"value\": \"elisp\"}, \"joomla\": {\"frequency\": 4539, \"value\": \"joomla\"}, \"cron\": {\"frequency\": 2473, \"value\": \"cron\"}, \"aptana\": {\"frequency\": 1146, \"value\": \"aptana\"}, \"design\": {\"frequency\": 9623, \"value\": \"design\"}, \"phpunit\": {\"frequency\": 1624, \"value\": \"phpunit\"}, \"uiscrollview\": {\"frequency\": 3548, \"value\": \"uiscrollview\"}, \"plugins\": {\"frequency\": 7232, \"value\": \"plugins\"}, \"download\": {\"frequency\": 2959, \"value\": \"download\"}, \"shared-libraries\": {\"frequency\": 1289, \"value\": \"shared-libraries\"}, \"tortoisesvn\": {\"frequency\": 2074, \"value\": \"tortoisesvn\"}, \"listbox\": {\"frequency\": 2903, \"value\": \"listbox\"}, \"click\": {\"frequency\": 2525, \"value\": \"click\"}, \"append\": {\"frequency\": 1557, \"value\": \"append\"}, \"sql-server-2008\": {\"frequency\": 17541, \"value\": \"sql-server-2008\"}, \"windows-installer\": {\"frequency\": 1524, \"value\": \"windows-installer\"}, \"hide\": {\"frequency\": 1442, \"value\": \"hide\"}, \"jframe\": {\"frequency\": 1327, \"value\": \"jframe\"}, \"sql-server-2000\": {\"frequency\": 1240, \"value\": \"sql-server-2000\"}, \"64bit\": {\"frequency\": 1742, \"value\": \"64bit\"}, \"localization\": {\"frequency\": 3901, \"value\": \"localization\"}, \"sql-server-2005\": {\"frequency\": 11731, \"value\": \"sql-server-2005\"}, \"asp.net-mvc\": {\"frequency\": 36350, \"value\": \"asp.net-mvc\"}, \"box2d\": {\"frequency\": 1072, \"value\": \"box2d\"}, \"reporting-services\": {\"frequency\": 4614, \"value\": \"reporting-services\"}, \"ssis\": {\"frequency\": 3300, \"value\": \"ssis\"}, \"version\": {\"frequency\": 1597, \"value\": \"version\"}, \"embedded\": {\"frequency\": 2944, \"value\": \"embedded\"}, \"vb6\": {\"frequency\": 3790, \"value\": \"vb6\"}, \"iphone-sdk-3.0\": {\"frequency\": 2852, \"value\": \"iphone-sdk-3.0\"}, \"memcached\": {\"frequency\": 2058, \"value\": \"memcached\"}, \"jsf-2\": {\"frequency\": 5472, \"value\": \"jsf-2\"}, \"3d\": {\"frequency\": 3675, \"value\": \"3d\"}, \"text-files\": {\"frequency\": 1097, \"value\": \"text-files\"}, \"widget\": {\"frequency\": 2889, \"value\": \"widget\"}, \"mef\": {\"frequency\": 1063, \"value\": \"mef\"}, \"hash\": {\"frequency\": 5087, \"value\": \"hash\"}, \"transparency\": {\"frequency\": 1228, \"value\": \"transparency\"}, \"tags\": {\"frequency\": 3246, \"value\": \"tags\"}, \"winapi\": {\"frequency\": 11043, \"value\": \"winapi\"}, \"chat\": {\"frequency\": 1315, \"value\": \"chat\"}, \"compilation\": {\"frequency\": 3481, \"value\": \"compilation\"}, \"drupal-6\": {\"frequency\": 3033, \"value\": \"drupal-6\"}, \"pygtk\": {\"frequency\": 1072, \"value\": \"pygtk\"}, \"windows-8\": {\"frequency\": 2273, \"value\": \"windows-8\"}, \"studio\": {\"frequency\": 1042, \"value\": \"studio\"}, \"hashtable\": {\"frequency\": 1144, \"value\": \"hashtable\"}, \"ubuntu\": {\"frequency\": 7125, \"value\": \"ubuntu\"}, \"apache\": {\"frequency\": 18197, \"value\": \"apache\"}, \"path\": {\"frequency\": 3546, \"value\": \"path\"}, \"change\": {\"frequency\": 1040, \"value\": \"change\"}, \"c++-cli\": {\"frequency\": 1705, \"value\": \"c++-cli\"}, \"google-chrome\": {\"frequency\": 9795, \"value\": \"google-chrome\"}, \"search\": {\"frequency\": 9416, \"value\": \"search\"}, \"jax-ws\": {\"frequency\": 1336, \"value\": \"jax-ws\"}, \"uikit\": {\"frequency\": 1793, \"value\": \"uikit\"}, \"vb.net\": {\"frequency\": 30092, \"value\": \"vb.net\"}, \"queue\": {\"frequency\": 1832, \"value\": \"queue\"}, \"youtube-api\": {\"frequency\": 1128, \"value\": \"youtube-api\"}, \"nsstring\": {\"frequency\": 2831, \"value\": \"nsstring\"}, \"dependencies\": {\"frequency\": 2148, \"value\": \"dependencies\"}, \"emulator\": {\"frequency\": 1230, \"value\": \"emulator\"}, \"action\": {\"frequency\": 1595, \"value\": \"action\"}, \"visual-studio-2010\": {\"frequency\": 25361, \"value\": \"visual-studio-2010\"}, \"navigation\": {\"frequency\": 2866, \"value\": \"navigation\"}, \"eclipse\": {\"frequency\": 31462, \"value\": \"eclipse\"}, \"ipc\": {\"frequency\": 1041, \"value\": \"ipc\"}, \"jquery-ajax\": {\"frequency\": 9437, \"value\": \"jquery-ajax\"}, \"flash\": {\"frequency\": 19538, \"value\": \"flash\"}, \"firefox\": {\"frequency\": 9923, \"value\": \"firefox\"}, \"apple\": {\"frequency\": 2724, \"value\": \"apple\"}, \"sql-server-ce\": {\"frequency\": 1332, \"value\": \"sql-server-ce\"}, \"android-widget\": {\"frequency\": 3609, \"value\": \"android-widget\"}, \"compare\": {\"frequency\": 1619, \"value\": \"compare\"}, \"vim\": {\"frequency\": 7646, \"value\": \"vim\"}, \"unix\": {\"frequency\": 9534, \"value\": \"unix\"}, \"api\": {\"frequency\": 16073, \"value\": \"api\"}, \"controls\": {\"frequency\": 2067, \"value\": \"controls\"}, \"xcode4\": {\"frequency\": 5281, \"value\": \"xcode4\"}, \"plone\": {\"frequency\": 1269, \"value\": \"plone\"}, \"cloud\": {\"frequency\": 1538, \"value\": \"cloud\"}, \"wix\": {\"frequency\": 2321, \"value\": \"wix\"}, \"regex\": {\"frequency\": 38327, \"value\": \"regex\"}, \"plot\": {\"frequency\": 2127, \"value\": \"plot\"}, \"castle-windsor\": {\"frequency\": 1347, \"value\": \"castle-windsor\"}, \"usb\": {\"frequency\": 1859, \"value\": \"usb\"}, \"zip\": {\"frequency\": 1938, \"value\": \"zip\"}, \"google-app-engine\": {\"frequency\": 13453, \"value\": \"google-app-engine\"}, \"mouseevent\": {\"frequency\": 1158, \"value\": \"mouseevent\"}, \"hudson\": {\"frequency\": 1818, \"value\": \"hudson\"}, \"playframework-2.0\": {\"frequency\": 1040, \"value\": \"playframework-2.0\"}, \"itunes\": {\"frequency\": 1068, \"value\": \"itunes\"}, \"backgroundworker\": {\"frequency\": 1077, \"value\": \"backgroundworker\"}, \"perl\": {\"frequency\": 20364, \"value\": \"perl\"}, \"silverlight-3.0\": {\"frequency\": 1429, \"value\": \"silverlight-3.0\"}, \"stylesheet\": {\"frequency\": 1171, \"value\": \"stylesheet\"}, \"camera\": {\"frequency\": 2755, \"value\": \"camera\"}, \"call\": {\"frequency\": 1364, \"value\": \"call\"}, \"iphone\": {\"frequency\": 143088, \"value\": \"iphone\"}, \"dns\": {\"frequency\": 3617, \"value\": \"dns\"}, \"memory\": {\"frequency\": 8370, \"value\": \"memory\"}, \"xml-parsing\": {\"frequency\": 2890, \"value\": \"xml-parsing\"}, \"scope\": {\"frequency\": 2537, \"value\": \"scope\"}, \"annotations\": {\"frequency\": 2900, \"value\": \"annotations\"}, \"authorization\": {\"frequency\": 1691, \"value\": \"authorization\"}, \"android-activity\": {\"frequency\": 1114, \"value\": \"android-activity\"}, \"servlets\": {\"frequency\": 7290, \"value\": \"servlets\"}, \"iis\": {\"frequency\": 8834, \"value\": \"iis\"}, \"comparison\": {\"frequency\": 2107, \"value\": \"comparison\"}, \"jms\": {\"frequency\": 1637, \"value\": \"jms\"}, \"xaml\": {\"frequency\": 10156, \"value\": \"xaml\"}, \"line\": {\"frequency\": 1479, \"value\": \"line\"}, \"phone\": {\"frequency\": 1141, \"value\": \"phone\"}, \"visual\": {\"frequency\": 2854, \"value\": \"visual\"}, \"monotouch\": {\"frequency\": 3135, \"value\": \"monotouch\"}, \"webbrowser\": {\"frequency\": 2078, \"value\": \"webbrowser\"}, \"oop\": {\"frequency\": 13815, \"value\": \"oop\"}, \"jsonp\": {\"frequency\": 1378, \"value\": \"jsonp\"}, \"webkit\": {\"frequency\": 3170, \"value\": \"webkit\"}, \"git\": {\"frequency\": 19251, \"value\": \"git\"}, \"asp.net-ajax\": {\"frequency\": 2614, \"value\": \"asp.net-ajax\"}, \"resize\": {\"frequency\": 2805, \"value\": \"resize\"}, \"pagination\": {\"frequency\": 2322, \"value\": \"pagination\"}, \"salesforce\": {\"frequency\": 1594, \"value\": \"salesforce\"}, \"word\": {\"frequency\": 1981, \"value\": \"word\"}, \"tableview\": {\"frequency\": 1062, \"value\": \"tableview\"}, \"this\": {\"frequency\": 1055, \"value\": \"this\"}, \"setup\": {\"frequency\": 1306, \"value\": \"setup\"}, \"package\": {\"frequency\": 1467, \"value\": \"package\"}, \"for-loop\": {\"frequency\": 4068, \"value\": \"for-loop\"}, \"entity-framework-4.1\": {\"frequency\": 2255, \"value\": \"entity- ...\"}, \"html5-canvas\": {\"frequency\": 1042, \"value\": \"html5-canvas\"}, \"autocomplete\": {\"frequency\": 3942, \"value\": \"autocomplete\"}, \"drupal\": {\"frequency\": 9600, \"value\": \"drupal\"}, \"ninject\": {\"frequency\": 1399, \"value\": \"ninject\"}, \"winforms\": {\"frequency\": 22698, \"value\": \"winforms\"}, \"iframe\": {\"frequency\": 7063, \"value\": \"iframe\"}, \"jquery-mobile\": {\"frequency\": 7311, \"value\": \"jquery-mobile\"}, \"magento\": {\"frequency\": 10492, \"value\": \"magento\"}, \"nsmutablearray\": {\"frequency\": 2167, \"value\": \"nsmutablearray\"}, \"scripting\": {\"frequency\": 4799, \"value\": \"scripting\"}, \"control\": {\"frequency\": 1963, \"value\": \"control\"}, \"wordpress-theming\": {\"frequency\": 1317, \"value\": \"wordpress-theming\"}, \"sqlite\": {\"frequency\": 14140, \"value\": \"sqlite\"}, \"uitableview\": {\"frequency\": 11123, \"value\": \"uitableview\"}, \"stream\": {\"frequency\": 3113, \"value\": \"stream\"}, \"process\": {\"frequency\": 4145, \"value\": \"process\"}, \"smtp\": {\"frequency\": 2277, \"value\": \"smtp\"}, \"openssl\": {\"frequency\": 2077, \"value\": \"openssl\"}, \"titanium\": {\"frequency\": 1535, \"value\": \"titanium\"}, \"f#\": {\"frequency\": 3785, \"value\": \"f#\"}, \"uiimagepickercontroller\": {\"frequency\": 1220, \"value\": \"uiimagepickercontr ...\"}, \"numbers\": {\"frequency\": 2286, \"value\": \"numbers\"}, \"c++11\": {\"frequency\": 2612, \"value\": \"c++11\"}, \"cygwin\": {\"frequency\": 1859, \"value\": \"cygwin\"}, \"plist\": {\"frequency\": 1449, \"value\": \"plist\"}, \"filter\": {\"frequency\": 3893, \"value\": \"filter\"}, \"gcc\": {\"frequency\": 7270, \"value\": \"gcc\"}, \"javascript-events\": {\"frequency\": 6365, \"value\": \"javascript-events\"}, \"uitextview\": {\"frequency\": 1292, \"value\": \"uitextview\"}, \"axis2\": {\"frequency\": 1088, \"value\": \"axis2\"}, \"inheritance\": {\"frequency\": 7798, \"value\": \"inheritance\"}, \"capistrano\": {\"frequency\": 1108, \"value\": \"capistrano\"}, \"ascii\": {\"frequency\": 1179, \"value\": \"ascii\"}, \"sharepoint\": {\"frequency\": 10654, \"value\": \"sharepoint\"}, \"struts2\": {\"frequency\": 3767, \"value\": \"struts2\"}, \"pyqt\": {\"frequency\": 1753, \"value\": \"pyqt\"}, \"maps\": {\"frequency\": 2434, \"value\": \"maps\"}, \"foreach\": {\"frequency\": 3123, \"value\": \"foreach\"}, \"machine-learning\": {\"frequency\": 1518, \"value\": \"machine-learning\"}, \"actionscript\": {\"frequency\": 5579, \"value\": \"actionscript\"}, \".net-3.5\": {\"frequency\": 3737, \"value\": \".net-3.5\"}, \"xhtml\": {\"frequency\": 4331, \"value\": \"xhtml\"}, \"csv\": {\"frequency\": 5089, \"value\": \"csv\"}, \"core-graphics\": {\"frequency\": 1679, \"value\": \"core-graphics\"}, \"css\": {\"frequency\": 87243, \"value\": \"css\"}, \"datasource\": {\"frequency\": 1092, \"value\": \"datasource\"}, \"map\": {\"frequency\": 4530, \"value\": \"map\"}, \"modal\": {\"frequency\": 1169, \"value\": \"modal\"}, \"url-rewriting\": {\"frequency\": 3675, \"value\": \"url-rewriting\"}, \"clone\": {\"frequency\": 1157, \"value\": \"clone\"}, \"postback\": {\"frequency\": 1381, \"value\": \"postback\"}, \"mapping\": {\"frequency\": 2183, \"value\": \"mapping\"}, \"android-intent\": {\"frequency\": 5547, \"value\": \"android-intent\"}, \"loading\": {\"frequency\": 1130, \"value\": \"loading\"}, \"date\": {\"frequency\": 8995, \"value\": \"date\"}, \"lazy-loading\": {\"frequency\": 1096, \"value\": \"lazy-loading\"}, \"pdf\": {\"frequency\": 8211, \"value\": \"pdf\"}, \"data\": {\"frequency\": 6413, \"value\": \"data\"}, \"response\": {\"frequency\": 1050, \"value\": \"response\"}, \"types\": {\"frequency\": 4939, \"value\": \"types\"}, \"windows-services\": {\"frequency\": 3058, \"value\": \"windows-services\"}, \"inversion-of-control\": {\"frequency\": 1347, \"value\": \"inversion-of- ...\"}, \"github\": {\"frequency\": 3805, \"value\": \"github\"}, \"jetty\": {\"frequency\": 1629, \"value\": \"jetty\"}, \"bind\": {\"frequency\": 1101, \"value\": \"bind\"}, \"entity-framework\": {\"frequency\": 16665, \"value\": \"entity-framework\"}, \"documentation\": {\"frequency\": 3101, \"value\": \"documentation\"}, \"grails\": {\"frequency\": 8602, \"value\": \"grails\"}, \"django\": {\"frequency\": 38320, \"value\": \"django\"}, \"e-commerce\": {\"frequency\": 1780, \"value\": \"e-commerce\"}, \"thread-safety\": {\"frequency\": 2365, \"value\": \"thread-safety\"}, \"group-by\": {\"frequency\": 2379, \"value\": \"group-by\"}, \"osgi\": {\"frequency\": 1506, \"value\": \"osgi\"}, \"order\": {\"frequency\": 1505, \"value\": \"order\"}, \"extjs4\": {\"frequency\": 2207, \"value\": \"extjs4\"}, \"parsing\": {\"frequency\": 12061, \"value\": \"parsing\"}, \"dojo\": {\"frequency\": 3555, \"value\": \"dojo\"}, \"checkbox\": {\"frequency\": 4068, \"value\": \"checkbox\"}, \"excel-2007\": {\"frequency\": 1289, \"value\": \"excel-2007\"}, \"xmpp\": {\"frequency\": 1669, \"value\": \"xmpp\"}, \"database-connection\": {\"frequency\": 1437, \"value\": \"database- ...\"}, \"entity\": {\"frequency\": 2015, \"value\": \"entity\"}, \"keyboard-shortcuts\": {\"frequency\": 1348, \"value\": \"keyboard-shortcuts\"}, \"code-generation\": {\"frequency\": 1395, \"value\": \"code-generation\"}, \"concurrency\": {\"frequency\": 4319, \"value\": \"concurrency\"}, \"keyboard\": {\"frequency\": 3036, \"value\": \"keyboard\"}, \"installer\": {\"frequency\": 2626, \"value\": \"installer\"}, \"jni\": {\"frequency\": 2143, \"value\": \"jni\"}, \"custom-controls\": {\"frequency\": 1727, \"value\": \"custom-controls\"}, \"runtime\": {\"frequency\": 1912, \"value\": \"runtime\"}, \"directx\": {\"frequency\": 1806, \"value\": \"directx\"}, \"textbox\": {\"frequency\": 3420, \"value\": \"textbox\"}, \"memory-allocation\": {\"frequency\": 1293, \"value\": \"memory-allocation\"}, \"twitter\": {\"frequency\": 5875, \"value\": \"twitter\"}, \"combobox\": {\"frequency\": 3566, \"value\": \"combobox\"}, \"asp.net-membership\": {\"frequency\": 2037, \"value\": \"asp.net-membership\"}, \"gtk\": {\"frequency\": 2259, \"value\": \"gtk\"}, \"selenium\": {\"frequency\": 5120, \"value\": \"selenium\"}, \"unity\": {\"frequency\": 1622, \"value\": \"unity\"}, \"coordinates\": {\"frequency\": 1099, \"value\": \"coordinates\"}, \"uilabel\": {\"frequency\": 1421, \"value\": \"uilabel\"}, \"forms\": {\"frequency\": 21317, \"value\": \"forms\"}, \"window\": {\"frequency\": 2397, \"value\": \"window\"}, \"glassfish\": {\"frequency\": 2479, \"value\": \"glassfish\"}, \"paperclip\": {\"frequency\": 1476, \"value\": \"paperclip\"}, \"selection\": {\"frequency\": 1094, \"value\": \"selection\"}, \"flex3\": {\"frequency\": 2356, \"value\": \"flex3\"}, \"erlang\": {\"frequency\": 2629, \"value\": \"erlang\"}, \"clr\": {\"frequency\": 1560, \"value\": \"clr\"}, \"arguments\": {\"frequency\": 1763, \"value\": \"arguments\"}, \"xpath\": {\"frequency\": 5735, \"value\": \"xpath\"}, \"flex\": {\"frequency\": 17725, \"value\": \"flex\"}, \"ember.js\": {\"frequency\": 1327, \"value\": \"ember.js\"}, \"uinavigationcontroller\": {\"frequency\": 3559, \"value\": \"uinavigationcontro ...\"}, \"error-handling\": {\"frequency\": 3805, \"value\": \"error-handling\"}, \"views\": {\"frequency\": 2177, \"value\": \"views\"}, \"python\": {\"frequency\": 126981, \"value\": \"python\"}, \"timestamp\": {\"frequency\": 1856, \"value\": \"timestamp\"}, \"memory-management\": {\"frequency\": 6970, \"value\": \"memory-management\"}, \"rake\": {\"frequency\": 1705, \"value\": \"rake\"}, \"indexing\": {\"frequency\": 2529, \"value\": \"indexing\"}, \"aes\": {\"frequency\": 1067, \"value\": \"aes\"}, \"jruby\": {\"frequency\": 1288, \"value\": \"jruby\"}, \"refactoring\": {\"frequency\": 2506, \"value\": \"refactoring\"}, \"ms-word\": {\"frequency\": 1787, \"value\": \"ms-word\"}, \"scipy\": {\"frequency\": 1157, \"value\": \"scipy\"}, \"webparts\": {\"frequency\": 1052, \"value\": \"webparts\"}, \"safari\": {\"frequency\": 3595, \"value\": \"safari\"}, \"uitabbarcontroller\": {\"frequency\": 2097, \"value\": \"uitabbarcontroller\"}, \"httpclient\": {\"frequency\": 1221, \"value\": \"httpclient\"}, \"rotation\": {\"frequency\": 2683, \"value\": \"rotation\"}, \"amazon-ec2\": {\"frequency\": 2804, \"value\": \"amazon-ec2\"}, \"nhibernate\": {\"frequency\": 11819, \"value\": \"nhibernate\"}, \"permissions\": {\"frequency\": 3747, \"value\": \"permissions\"}, \"storyboard\": {\"frequency\": 1816, \"value\": \"storyboard\"}, \"left-join\": {\"frequency\": 1079, \"value\": \"left-join\"}, \"operator-overloading\": {\"frequency\": 1538, \"value\": \"operator- ...\"}, \"opengl-es-2.0\": {\"frequency\": 1154, \"value\": \"opengl-es-2.0\"}, \"decimal\": {\"frequency\": 1176, \"value\": \"decimal\"}, \".net\": {\"frequency\": 112051, \"value\": \".net\"}, \"odbc\": {\"frequency\": 1895, \"value\": \"odbc\"}, \"refresh\": {\"frequency\": 1629, \"value\": \"refresh\"}, \"log4j\": {\"frequency\": 2145, \"value\": \"log4j\"}, \"2d\": {\"frequency\": 1531, \"value\": \"2d\"}, \"merge\": {\"frequency\": 3164, \"value\": \"merge\"}, \"admob\": {\"frequency\": 1040, \"value\": \"admob\"}, \"scrollbar\": {\"frequency\": 1502, \"value\": \"scrollbar\"}, \"innodb\": {\"frequency\": 1048, \"value\": \"innodb\"}, \"textview\": {\"frequency\": 2097, \"value\": \"textview\"}, \"timeout\": {\"frequency\": 2360, \"value\": \"timeout\"}, \"google-analytics\": {\"frequency\": 2340, \"value\": \"google-analytics\"}, \"button\": {\"frequency\": 7738, \"value\": \"button\"}, \"constraints\": {\"frequency\": 1138, \"value\": \"constraints\"}, \"storage\": {\"frequency\": 1252, \"value\": \"storage\"}, \"adobe\": {\"frequency\": 2140, \"value\": \"adobe\"}, \"stored-procedures\": {\"frequency\": 6693, \"value\": \"stored-procedures\"}, \"jquery-animate\": {\"frequency\": 2077, \"value\": \"jquery-animate\"}, \"interop\": {\"frequency\": 2460, \"value\": \"interop\"}, \"functional-programming\": {\"frequency\": 2841, \"value\": \"functional- ...\"}, \"google-chrome-extension\": {\"frequency\": 3260, \"value\": \"google-chrome- ...\"}, \"android-manifest\": {\"frequency\": 1249, \"value\": \"android-manifest\"}, \"app-config\": {\"frequency\": 1065, \"value\": \"app-config\"}, \"mapreduce\": {\"frequency\": 1887, \"value\": \"mapreduce\"}, \"image-processing\": {\"frequency\": 6280, \"value\": \"image-processing\"}, \"books\": {\"frequency\": 2041, \"value\": \"books\"}, \"static\": {\"frequency\": 3931, \"value\": \"static\"}, \"mongoid\": {\"frequency\": 1680, \"value\": \"mongoid\"}, \"video-streaming\": {\"frequency\": 1716, \"value\": \"video-streaming\"}, \"ftp\": {\"frequency\": 3382, \"value\": \"ftp\"}, \"canvas\": {\"frequency\": 5963, \"value\": \"canvas\"}, \"uiviewcontroller\": {\"frequency\": 4174, \"value\": \"uiviewcontroller\"}, \"matrix\": {\"frequency\": 3412, \"value\": \"matrix\"}, \"command-line\": {\"frequency\": 4916, \"value\": \"command-line\"}, \"ios5\": {\"frequency\": 10016, \"value\": \"ios5\"}, \"sencha\": {\"frequency\": 1588, \"value\": \"sencha\"}, \"sms\": {\"frequency\": 2247, \"value\": \"sms\"}, \"preg-replace\": {\"frequency\": 1487, \"value\": \"preg-replace\"}, \"ejb\": {\"frequency\": 1876, \"value\": \"ejb\"}, \"ios4\": {\"frequency\": 4033, \"value\": \"ios4\"}, \"content\": {\"frequency\": 1511, \"value\": \"content\"}, \"vector\": {\"frequency\": 4253, \"value\": \"vector\"}, \"generics\": {\"frequency\": 9114, \"value\": \"generics\"}, \"internet\": {\"frequency\": 1445, \"value\": \"internet\"}, \"spring-mvc\": {\"frequency\": 6508, \"value\": \"spring-mvc\"}, \"ios6\": {\"frequency\": 1302, \"value\": \"ios6\"}, \"math\": {\"frequency\": 8479, \"value\": \"math\"}, \"dotnetnuke\": {\"frequency\": 1061, \"value\": \"dotnetnuke\"}, \"build-process\": {\"frequency\": 1349, \"value\": \"build-process\"}, \"core-animation\": {\"frequency\": 1767, \"value\": \"core-animation\"}, \"asp\": {\"frequency\": 3958, \"value\": \"asp\"}, \"query-optimization\": {\"frequency\": 1322, \"value\": \"query-optimization\"}, \"dictionary\": {\"frequency\": 4359, \"value\": \"dictionary\"}, \"workflow\": {\"frequency\": 1885, \"value\": \"workflow\"}, \"amazon-web-services\": {\"frequency\": 2617, \"value\": \"amazon-web- ...\"}, \"windows-vista\": {\"frequency\": 1310, \"value\": \"windows-vista\"}, \"delegates\": {\"frequency\": 3577, \"value\": \"delegates\"}, \"ajax\": {\"frequency\": 43607, \"value\": \"ajax\"}, \"orm\": {\"frequency\": 4621, \"value\": \"orm\"}, \"forms-authentication\": {\"frequency\": 1544, \"value\": \"forms- ...\"}, \"proxy\": {\"frequency\": 3570, \"value\": \"proxy\"}, \"segmentation-fault\": {\"frequency\": 1623, \"value\": \"segmentation-fault\"}, \"eclipse-plugin\": {\"frequency\": 3666, \"value\": \"eclipse-plugin\"}, \"mysqli\": {\"frequency\": 2069, \"value\": \"mysqli\"}, \"byte\": {\"frequency\": 1354, \"value\": \"byte\"}, \"firefox-addon\": {\"frequency\": 2033, \"value\": \"firefox-addon\"}, \"bash\": {\"frequency\": 14503, \"value\": \"bash\"}, \"md5\": {\"frequency\": 1088, \"value\": \"md5\"}, \"nhibernate-mapping\": {\"frequency\": 1535, \"value\": \"nhibernate-mapping\"}, \"logging\": {\"frequency\": 7555, \"value\": \"logging\"}, \"ckeditor\": {\"frequency\": 1432, \"value\": \"ckeditor\"}, \"client-server\": {\"frequency\": 1719, \"value\": \"client-server\"}, \"geometry\": {\"frequency\": 1712, \"value\": \"geometry\"}, \"activerecord\": {\"frequency\": 8056, \"value\": \"activerecord\"}, \"django-forms\": {\"frequency\": 2701, \"value\": \"django-forms\"}, \"positioning\": {\"frequency\": 1290, \"value\": \"positioning\"}, \"ocaml\": {\"frequency\": 1096, \"value\": \"ocaml\"}, \"timer\": {\"frequency\": 3580, \"value\": \"timer\"}, \"yui\": {\"frequency\": 1138, \"value\": \"yui\"}, \"django-models\": {\"frequency\": 4904, \"value\": \"django-models\"}, \"mvc\": {\"frequency\": 19275, \"value\": \"mvc\"}, \"simplexml\": {\"frequency\": 1197, \"value\": \"simplexml\"}, \"zend-form\": {\"frequency\": 1179, \"value\": \"zend-form\"}, \"swing\": {\"frequency\": 12335, \"value\": \"swing\"}, \"routes\": {\"frequency\": 2521, \"value\": \"routes\"}, \"posix\": {\"frequency\": 1135, \"value\": \"posix\"}, \"connection-string\": {\"frequency\": 1131, \"value\": \"connection-string\"}, \"lambda\": {\"frequency\": 3292, \"value\": \"lambda\"}, \"windows-mobile\": {\"frequency\": 2528, \"value\": \"windows-mobile\"}, \"sencha-touch-2\": {\"frequency\": 1330, \"value\": \"sencha-touch-2\"}, \"singleton\": {\"frequency\": 2082, \"value\": \"singleton\"}, \"maven-2\": {\"frequency\": 3199, \"value\": \"maven-2\"}, \"encoding\": {\"frequency\": 5341, \"value\": \"encoding\"}, \"yii\": {\"frequency\": 2755, \"value\": \"yii\"}, \"variables\": {\"frequency\": 9606, \"value\": \"variables\"}, \"webforms\": {\"frequency\": 2850, \"value\": \"webforms\"}, \"nested\": {\"frequency\": 1894, \"value\": \"nested\"}, \"hook\": {\"frequency\": 1414, \"value\": \"hook\"}, \"itextsharp\": {\"frequency\": 1138, \"value\": \"itextsharp\"}, \"mingw\": {\"frequency\": 1325, \"value\": \"mingw\"}, \"facebook-connect\": {\"frequency\": 2490, \"value\": \"facebook-connect\"}, \"customization\": {\"frequency\": 1239, \"value\": \"customization\"}, \"message\": {\"frequency\": 1107, \"value\": \"message\"}, \"open\": {\"frequency\": 1055, \"value\": \"open\"}, \"sockets\": {\"frequency\": 12198, \"value\": \"sockets\"}, \"size\": {\"frequency\": 2076, \"value\": \"size\"}, \"razor\": {\"frequency\": 5484, \"value\": \"razor\"}, \"properties\": {\"frequency\": 4900, \"value\": \"properties\"}, \"service\": {\"frequency\": 6158, \"value\": \"service\"}, \"script\": {\"frequency\": 5193, \"value\": \"script\"}, \"mediaplayer\": {\"frequency\": 1507, \"value\": \"mediaplayer\"}, \"android-fragments\": {\"frequency\": 1692, \"value\": \"android-fragments\"}, \"struts\": {\"frequency\": 1924, \"value\": \"struts\"}, \"makefile\": {\"frequency\": 2754, \"value\": \"makefile\"}, \"system\": {\"frequency\": 1521, \"value\": \"system\"}, \"rails\": {\"frequency\": 1241, \"value\": \"rails\"}, \"php5\": {\"frequency\": 13549, \"value\": \"php5\"}, \"visual-studio-2008\": {\"frequency\": 11141, \"value\": \"visual-studio-2008\"}, \"batch-file\": {\"frequency\": 3015, \"value\": \"batch-file\"}, \"weblogic\": {\"frequency\": 1479, \"value\": \"weblogic\"}, \"constants\": {\"frequency\": 1120, \"value\": \"constants\"}, \"hibernate\": {\"frequency\": 17957, \"value\": \"hibernate\"}, \"wordpress\": {\"frequency\": 19807, \"value\": \"wordpress\"}, \"scheme\": {\"frequency\": 1798, \"value\": \"scheme\"}, \"visual-studio-2005\": {\"frequency\": 2031, \"value\": \"visual-studio-2005\"}, \"vsto\": {\"frequency\": 1556, \"value\": \"vsto\"}, \"gps\": {\"frequency\": 2779, \"value\": \"gps\"}, \"udp\": {\"frequency\": 2122, \"value\": \"udp\"}, \"shell\": {\"frequency\": 10653, \"value\": \"shell\"}, \"progress-bar\": {\"frequency\": 1588, \"value\": \"progress-bar\"}, \"cross-browser\": {\"frequency\": 2618, \"value\": \"cross-browser\"}, \"rsa\": {\"frequency\": 1114, \"value\": \"rsa\"}, \"selector\": {\"frequency\": 1205, \"value\": \"selector\"}, \"slider\": {\"frequency\": 2089, \"value\": \"slider\"}, \"task\": {\"frequency\": 1076, \"value\": \"task\"}, \"closures\": {\"frequency\": 1374, \"value\": \"closures\"}, \"while-loop\": {\"frequency\": 1864, \"value\": \"while-loop\"}, \"translation\": {\"frequency\": 1156, \"value\": \"translation\"}, \"copy\": {\"frequency\": 2221, \"value\": \"copy\"}, \"tfs\": {\"frequency\": 3977, \"value\": \"tfs\"}, \"rss\": {\"frequency\": 3113, \"value\": \"rss\"}, \"ipad\": {\"frequency\": 20753, \"value\": \"ipad\"}, \"http-headers\": {\"frequency\": 2307, \"value\": \"http-headers\"}, \"grep\": {\"frequency\": 1999, \"value\": \"grep\"}, \"thumbnails\": {\"frequency\": 1157, \"value\": \"thumbnails\"}, \"add-in\": {\"frequency\": 1072, \"value\": \"add-in\"}, \"stl\": {\"frequency\": 4440, \"value\": \"stl\"}, \".htaccess\": {\"frequency\": 12747, \"value\": \".htaccess\"}, \"pointers\": {\"frequency\": 7555, \"value\": \"pointers\"}, \"contextmenu\": {\"frequency\": 1347, \"value\": \"contextmenu\"}, \"iteration\": {\"frequency\": 1135, \"value\": \"iteration\"}, \"hql\": {\"frequency\": 1288, \"value\": \"hql\"}, \"liferay\": {\"frequency\": 1260, \"value\": \"liferay\"}, \"project\": {\"frequency\": 1620, \"value\": \"project\"}, \"applet\": {\"frequency\": 2878, \"value\": \"applet\"}, \"file-upload\": {\"frequency\": 6007, \"value\": \"file-upload\"}, \"zend-framework\": {\"frequency\": 11540, \"value\": \"zend-framework\"}, \"ffmpeg\": {\"frequency\": 2511, \"value\": \"ffmpeg\"}, \"video\": {\"frequency\": 7136, \"value\": \"video\"}, \"amazon-s3\": {\"frequency\": 2887, \"value\": \"amazon-s3\"}, \"schema\": {\"frequency\": 1980, \"value\": \"schema\"}, \"gae-datastore\": {\"frequency\": 1234, \"value\": \"gae-datastore\"}, \"browser\": {\"frequency\": 6742, \"value\": \"browser\"}, \"build-automation\": {\"frequency\": 1050, \"value\": \"build-automation\"}, \"debugging\": {\"frequency\": 13417, \"value\": \"debugging\"}, \"websocket\": {\"frequency\": 1803, \"value\": \"websocket\"}, \"twitter-api\": {\"frequency\": 2313, \"value\": \"twitter-api\"}, \"mvvm\": {\"frequency\": 6003, \"value\": \"mvvm\"}, \"rewrite\": {\"frequency\": 1615, \"value\": \"rewrite\"}, \"tabs\": {\"frequency\": 3709, \"value\": \"tabs\"}, \"pinvoke\": {\"frequency\": 1184, \"value\": \"pinvoke\"}, \"mootools\": {\"frequency\": 1732, \"value\": \"mootools\"}, \"ant\": {\"frequency\": 5592, \"value\": \"ant\"}, \"javabeans\": {\"frequency\": 1141, \"value\": \"javabeans\"}, \"excel-vba\": {\"frequency\": 4086, \"value\": \"excel-vba\"}, \"jasper-reports\": {\"frequency\": 1749, \"value\": \"jasper-reports\"}, \"monodroid\": {\"frequency\": 1159, \"value\": \"monodroid\"}, \"jquery-selectors\": {\"frequency\": 3944, \"value\": \"jquery-selectors\"}, \"c++0x\": {\"frequency\": 1360, \"value\": \"c++0x\"}, \"element\": {\"frequency\": 1231, \"value\": \"element\"}, \"border\": {\"frequency\": 1305, \"value\": \"border\"}, \"calendar\": {\"frequency\": 2920, \"value\": \"calendar\"}, \"facebook-graph-api\": {\"frequency\": 9999, \"value\": \"facebook-graph-api\"}, \"character-encoding\": {\"frequency\": 3531, \"value\": \"character-encoding\"}, \"drop-down-menu\": {\"frequency\": 5242, \"value\": \"drop-down-menu\"}, \"msi\": {\"frequency\": 1312, \"value\": \"msi\"}, \"callback\": {\"frequency\": 3210, \"value\": \"callback\"}, \"asp.net\": {\"frequency\": 131848, \"value\": \"asp.net\"}, \"windows-phone-7\": {\"frequency\": 13094, \"value\": \"windows-phone-7\"}, \"tinymce\": {\"frequency\": 2056, \"value\": \"tinymce\"}, \"port\": {\"frequency\": 1294, \"value\": \"port\"}, \"sinatra\": {\"frequency\": 1808, \"value\": \"sinatra\"}, \"animation\": {\"frequency\": 7831, \"value\": \"animation\"}, \"build\": {\"frequency\": 4251, \"value\": \"build\"}, \"wcf\": {\"frequency\": 23568, \"value\": \"wcf\"}, \"mkmapview\": {\"frequency\": 1567, \"value\": \"mkmapview\"}, \"performance\": {\"frequency\": 22221, \"value\": \"performance\"}, \"microsoft-metro\": {\"frequency\": 1583, \"value\": \"microsoft-metro\"}, \"soap\": {\"frequency\": 6583, \"value\": \"soap\"}, \"visual-studio\": {\"frequency\": 19748, \"value\": \"visual-studio\"}, \"jsf\": {\"frequency\": 10182, \"value\": \"jsf\"}, \"paypal\": {\"frequency\": 3062, \"value\": \"paypal\"}, \"multiple\": {\"frequency\": 2019, \"value\": \"multiple\"}, \"internet-explorer-8\": {\"frequency\": 3778, \"value\": \"internet- ...\"}, \"warnings\": {\"frequency\": 1420, \"value\": \"warnings\"}, \"buffer\": {\"frequency\": 1398, \"value\": \"buffer\"}, \"automated-tests\": {\"frequency\": 1205, \"value\": \"automated-tests\"}, \"internet-explorer-7\": {\"frequency\": 2570, \"value\": \"internet- ...\"}, \"usercontrols\": {\"frequency\": 4170, \"value\": \"usercontrols\"}, \"c#-4.0\": {\"frequency\": 11051, \"value\": \"c#-4.0\"}, \"linq-to-xml\": {\"frequency\": 1682, \"value\": \"linq-to-xml\"}, \"crash\": {\"frequency\": 3184, \"value\": \"crash\"}, \"awk\": {\"frequency\": 2493, \"value\": \"awk\"}, \"software-engineering\": {\"frequency\": 1044, \"value\": \"software- ...\"}, \"mobile-safari\": {\"frequency\": 1422, \"value\": \"mobile-safari\"}, \"statistics\": {\"frequency\": 2204, \"value\": \"statistics\"}, \"ssl-certificate\": {\"frequency\": 1091, \"value\": \"ssl-certificate\"}, \"gallery\": {\"frequency\": 1505, \"value\": \"gallery\"}, \"oracle11g\": {\"frequency\": 2105, \"value\": \"oracle11g\"}, \"latex\": {\"frequency\": 2273, \"value\": \"latex\"}, \"filesystems\": {\"frequency\": 2550, \"value\": \"filesystems\"}, \"textarea\": {\"frequency\": 1825, \"value\": \"textarea\"}, \"dom\": {\"frequency\": 8551, \"value\": \"dom\"}, \"mobile\": {\"frequency\": 7649, \"value\": \"mobile\"}, \"viewmodel\": {\"frequency\": 1118, \"value\": \"viewmodel\"}, \"request\": {\"frequency\": 2113, \"value\": \"request\"}, \"uri\": {\"frequency\": 1311, \"value\": \"uri\"}, \"newline\": {\"frequency\": 1051, \"value\": \"newline\"}, \"phonegap\": {\"frequency\": 7606, \"value\": \"phonegap\"}, \"django-templates\": {\"frequency\": 2587, \"value\": \"django-templates\"}, \"file-download\": {\"frequency\": 1231, \"value\": \"file-download\"}, \"jpa\": {\"frequency\": 7508, \"value\": \"jpa\"}, \"caching\": {\"frequency\": 9323, \"value\": \"caching\"}, \"language-agnostic\": {\"frequency\": 4521, \"value\": \"language-agnostic\"}, \"webbrowser-control\": {\"frequency\": 1175, \"value\": \"webbrowser-control\"}, \"microsoft\": {\"frequency\": 2943, \"value\": \"microsoft\"}, \"screen-scraping\": {\"frequency\": 1216, \"value\": \"screen-scraping\"}, \"nlp\": {\"frequency\": 1304, \"value\": \"nlp\"}, \"xampp\": {\"frequency\": 1452, \"value\": \"xampp\"}, \"text\": {\"frequency\": 6765, \"value\": \"text\"}, \"xcode\": {\"frequency\": 42303, \"value\": \"xcode\"}, \"random\": {\"frequency\": 4497, \"value\": \"random\"}, \"eclipselink\": {\"frequency\": 1045, \"value\": \"eclipselink\"}, \"scrollview\": {\"frequency\": 1165, \"value\": \"scrollview\"}, \"syntax\": {\"frequency\": 4644, \"value\": \"syntax\"}, \"node.js\": {\"frequency\": 12736, \"value\": \"node.js\"}, \"oauth\": {\"frequency\": 4143, \"value\": \"oauth\"}, \"colors\": {\"frequency\": 3887, \"value\": \"colors\"}, \"session\": {\"frequency\": 10129, \"value\": \"session\"}, \"programming-languages\": {\"frequency\": 3349, \"value\": \"programming- ...\"}, \"css-selectors\": {\"frequency\": 1351, \"value\": \"css-selectors\"}, \"label\": {\"frequency\": 1588, \"value\": \"label\"}, \"find\": {\"frequency\": 2076, \"value\": \"find\"}, \"cocos2d\": {\"frequency\": 3219, \"value\": \"cocos2d\"}, \"xml\": {\"frequency\": 45872, \"value\": \"xml\"}, \"jboss\": {\"frequency\": 4094, \"value\": \"jboss\"}, \"layout\": {\"frequency\": 7580, \"value\": \"layout\"}, \"iis-7.5\": {\"frequency\": 1564, \"value\": \"iis-7.5\"}, \"parameters\": {\"frequency\": 4184, \"value\": \"parameters\"}, \"serial-port\": {\"frequency\": 1405, \"value\": \"serial-port\"}, \"menu\": {\"frequency\": 4183, \"value\": \"menu\"}, \"tooltip\": {\"frequency\": 1383, \"value\": \"tooltip\"}, \"jar\": {\"frequency\": 3731, \"value\": \"jar\"}, \"cross-platform\": {\"frequency\": 1773, \"value\": \"cross-platform\"}, \"terminal\": {\"frequency\": 2524, \"value\": \"terminal\"}, \"jtable\": {\"frequency\": 1712, \"value\": \"jtable\"}, \"png\": {\"frequency\": 1823, \"value\": \"png\"}, \"ldap\": {\"frequency\": 2351, \"value\": \"ldap\"}, \"override\": {\"frequency\": 1496, \"value\": \"override\"}, \"folder\": {\"frequency\": 1223, \"value\": \"folder\"}, \"c#-2.0\": {\"frequency\": 1206, \"value\": \"c#-2.0\"}, \"spring-security\": {\"frequency\": 2548, \"value\": \"spring-security\"}, \"winrt\": {\"frequency\": 1295, \"value\": \"winrt\"}, \"nunit\": {\"frequency\": 2050, \"value\": \"nunit\"}, \"uibutton\": {\"frequency\": 2628, \"value\": \"uibutton\"}, \"cryptography\": {\"frequency\": 2258, \"value\": \"cryptography\"}, \"get\": {\"frequency\": 3120, \"value\": \"get\"}, \"wsdl\": {\"frequency\": 2644, \"value\": \"wsdl\"}, \"express\": {\"frequency\": 2042, \"value\": \"express\"}, \"listener\": {\"frequency\": 1178, \"value\": \"listener\"}, \"ssl\": {\"frequency\": 6185, \"value\": \"ssl\"}, \"amazon\": {\"frequency\": 1299, \"value\": \"amazon\"}, \"synchronization\": {\"frequency\": 2712, \"value\": \"synchronization\"}, \"ssh\": {\"frequency\": 3562, \"value\": \"ssh\"}, \"jquery-ui\": {\"frequency\": 15361, \"value\": \"jquery-ui\"}, \"report\": {\"frequency\": 1739, \"value\": \"report\"}, \"db2\": {\"frequency\": 1775, \"value\": \"db2\"}, \"scrolling\": {\"frequency\": 2432, \"value\": \"scrolling\"}, \"gem\": {\"frequency\": 2338, \"value\": \"gem\"}, \"pdf-generation\": {\"frequency\": 1690, \"value\": \"pdf-generation\"}, \"design-patterns\": {\"frequency\": 9893, \"value\": \"design-patterns\"}, \"continuous-integration\": {\"frequency\": 2019, \"value\": \"continuous- ...\"}, \"qt\": {\"frequency\": 14878, \"value\": \"qt\"}, \"android-layout\": {\"frequency\": 10226, \"value\": \"android-layout\"}, \"settings\": {\"frequency\": 1590, \"value\": \"settings\"}, \"boost\": {\"frequency\": 6728, \"value\": \"boost\"}, \"ienumerable\": {\"frequency\": 1052, \"value\": \"ienumerable\"}, \"tcl\": {\"frequency\": 1068, \"value\": \"tcl\"}, \"c++\": {\"frequency\": 139001, \"value\": \"c++\"}, \"xmlhttprequest\": {\"frequency\": 2155, \"value\": \"xmlhttprequest\"}, \"rubygems\": {\"frequency\": 3096, \"value\": \"rubygems\"}, \"asp.net-mvc-2\": {\"frequency\": 7698, \"value\": \"asp.net-mvc-2\"}, \"architecture\": {\"frequency\": 5776, \"value\": \"architecture\"}, \"activity\": {\"frequency\": 4744, \"value\": \"activity\"}, \"release\": {\"frequency\": 1137, \"value\": \"release\"}, \"clickonce\": {\"frequency\": 1347, \"value\": \"clickonce\"}, \"metadata\": {\"frequency\": 1305, \"value\": \"metadata\"}, \"nginx\": {\"frequency\": 3119, \"value\": \"nginx\"}, \"view\": {\"frequency\": 5845, \"value\": \"view\"}, \"kernel\": {\"frequency\": 1824, \"value\": \"kernel\"}, \"set\": {\"frequency\": 1692, \"value\": \"set\"}, \"datatables\": {\"frequency\": 1166, \"value\": \"datatables\"}, \"reference\": {\"frequency\": 4094, \"value\": \"reference\"}, \"wpf-controls\": {\"frequency\": 2401, \"value\": \"wpf-controls\"}, \"fullcalendar\": {\"frequency\": 1166, \"value\": \"fullcalendar\"}, \"frame\": {\"frequency\": 1041, \"value\": \"frame\"}, \"testing\": {\"frequency\": 9101, \"value\": \"testing\"}, \"module\": {\"frequency\": 3754, \"value\": \"module\"}, \"jquery-plugins\": {\"frequency\": 7102, \"value\": \"jquery-plugins\"}, \"analytics\": {\"frequency\": 1075, \"value\": \"analytics\"}, \"socket.io\": {\"frequency\": 1349, \"value\": \"socket.io\"}, \"sed\": {\"frequency\": 2924, \"value\": \"sed\"}, \"migration\": {\"frequency\": 2214, \"value\": \"migration\"}, \"seam\": {\"frequency\": 1040, \"value\": \"seam\"}, \"seo\": {\"frequency\": 2881, \"value\": \"seo\"}, \"escaping\": {\"frequency\": 1949, \"value\": \"escaping\"}, \"web-applications\": {\"frequency\": 8167, \"value\": \"web-applications\"}, \"silverlight-4.0\": {\"frequency\": 4911, \"value\": \"silverlight-4.0\"}, \"arm\": {\"frequency\": 1508, \"value\": \"arm\"}, \"gmail\": {\"frequency\": 1981, \"value\": \"gmail\"}, \"lucene\": {\"frequency\": 3119, \"value\": \"lucene\"}, \"backbone.js\": {\"frequency\": 4932, \"value\": \"backbone.js\"}, \"redirect\": {\"frequency\": 7736, \"value\": \"redirect\"}, \"actionscript-2\": {\"frequency\": 1089, \"value\": \"actionscript-2\"}, \"actionscript-3\": {\"frequency\": 20277, \"value\": \"actionscript-3\"}, \"delphi\": {\"frequency\": 14627, \"value\": \"delphi\"}, \"dll\": {\"frequency\": 6543, \"value\": \"dll\"}, \"lua\": {\"frequency\": 2639, \"value\": \"lua\"}, \"g++\": {\"frequency\": 2131, \"value\": \"g++\"}, \"r\": {\"frequency\": 16657, \"value\": \"r\"}, \"routing\": {\"frequency\": 3461, \"value\": \"routing\"}, \"query-string\": {\"frequency\": 1221, \"value\": \"query-string\"}, \"network-programming\": {\"frequency\": 2981, \"value\": \"network- ...\"}, \"import\": {\"frequency\": 3861, \"value\": \"import\"}, \"ms-access\": {\"frequency\": 6778, \"value\": \"ms-access\"}, \"email\": {\"frequency\": 11273, \"value\": \"email\"}, \"qt4\": {\"frequency\": 3098, \"value\": \"qt4\"}, \"popup\": {\"frequency\": 2601, \"value\": \"popup\"}, \"imagemagick\": {\"frequency\": 1851, \"value\": \"imagemagick\"}, \"xslt\": {\"frequency\": 8922, \"value\": \"xslt\"}, \"websphere\": {\"frequency\": 1559, \"value\": \"websphere\"}, \"uitableviewcontroller\": {\"frequency\": 1302, \"value\": \"uitableviewcontrol ...\"}, \"screen\": {\"frequency\": 1737, \"value\": \"screen\"}, \"pthreads\": {\"frequency\": 1905, \"value\": \"pthreads\"}, \"jquery-validate\": {\"frequency\": 1963, \"value\": \"jquery-validate\"}, \"xml-schema\": {\"frequency\": 1797, \"value\": \"xml-schema\"}, \"teamcity\": {\"frequency\": 1190, \"value\": \"teamcity\"}, \"ms-access-2007\": {\"frequency\": 1356, \"value\": \"ms-access-2007\"}, \"html5\": {\"frequency\": 21039, \"value\": \"html5\"}, \"key\": {\"frequency\": 2056, \"value\": \"key\"}, \"opengl-es\": {\"frequency\": 3822, \"value\": \"opengl-es\"}, \"knockout.js\": {\"frequency\": 2579, \"value\": \"knockout.js\"}, \"console\": {\"frequency\": 2881, \"value\": \"console\"}, \"configuration\": {\"frequency\": 4933, \"value\": \"configuration\"}, \"solr\": {\"frequency\": 4130, \"value\": \"solr\"}, \"metaprogramming\": {\"frequency\": 1277, \"value\": \"metaprogramming\"}, \"gdi+\": {\"frequency\": 1141, \"value\": \"gdi+\"}, \"osx-snow-leopard\": {\"frequency\": 1135, \"value\": \"osx-snow-leopard\"}, \"treeview\": {\"frequency\": 2587, \"value\": \"treeview\"}, \"installation\": {\"frequency\": 2323, \"value\": \"installation\"}, \"richfaces\": {\"frequency\": 1965, \"value\": \"richfaces\"}, \"triggers\": {\"frequency\": 3387, \"value\": \"triggers\"}, \"coldfusion\": {\"frequency\": 4399, \"value\": \"coldfusion\"}, \"mono\": {\"frequency\": 3184, \"value\": \"mono\"}, \"arraylist\": {\"frequency\": 3065, \"value\": \"arraylist\"}, \"primary-key\": {\"frequency\": 1133, \"value\": \"primary-key\"}, \"datagridview\": {\"frequency\": 4162, \"value\": \"datagridview\"}, \"pdo\": {\"frequency\": 2853, \"value\": \"pdo\"}, \"gwt\": {\"frequency\": 9943, \"value\": \"gwt\"}, \"connection\": {\"frequency\": 2500, \"value\": \"connection\"}, \"tfs2010\": {\"frequency\": 2332, \"value\": \"tfs2010\"}, \"syntax-highlighting\": {\"frequency\": 1042, \"value\": \"syntax- ...\"}, \"context\": {\"frequency\": 1198, \"value\": \"context\"}, \"logic\": {\"frequency\": 1606, \"value\": \"logic\"}, \"modal-dialog\": {\"frequency\": 1059, \"value\": \"modal-dialog\"}, \"xcode4.3\": {\"frequency\": 1161, \"value\": \"xcode4.3\"}, \"login\": {\"frequency\": 4921, \"value\": \"login\"}, \"uiview\": {\"frequency\": 5366, \"value\": \"uiview\"}, \"expression\": {\"frequency\": 1373, \"value\": \"expression\"}, \"highcharts\": {\"frequency\": 1208, \"value\": \"highcharts\"}, \"jersey\": {\"frequency\": 1550, \"value\": \"jersey\"}, \"xcode4.2\": {\"frequency\": 2216, \"value\": \"xcode4.2\"}, \"file-io\": {\"frequency\": 4596, \"value\": \"file-io\"}, \"geolocation\": {\"frequency\": 2753, \"value\": \"geolocation\"}, \"interface-builder\": {\"frequency\": 2514, \"value\": \"interface-builder\"}, \"ruby-on-rails-3\": {\"frequency\": 32385, \"value\": \"ruby-on-rails-3\"}, \"android-ndk\": {\"frequency\": 2887, \"value\": \"android-ndk\"}, \"web-config\": {\"frequency\": 2765, \"value\": \"web-config\"}, \"uiimage\": {\"frequency\": 2583, \"value\": \"uiimage\"}, \"master-pages\": {\"frequency\": 1414, \"value\": \"master-pages\"}, \"height\": {\"frequency\": 1888, \"value\": \"height\"}, \"interface\": {\"frequency\": 4623, \"value\": \"interface\"}, \"search-engine\": {\"frequency\": 1220, \"value\": \"search-engine\"}, \"version-control\": {\"frequency\": 5648, \"value\": \"version-control\"}, \"cxf\": {\"frequency\": 1149, \"value\": \"cxf\"}, \"serialization\": {\"frequency\": 7434, \"value\": \"serialization\"}, \"event-handling\": {\"frequency\": 3212, \"value\": \"event-handling\"}, \"diff\": {\"frequency\": 1422, \"value\": \"diff\"}, \"android-webview\": {\"frequency\": 1096, \"value\": \"android-webview\"}, \"admin\": {\"frequency\": 1099, \"value\": \"admin\"}, \"spinner\": {\"frequency\": 1268, \"value\": \"spinner\"}, \"facebook-fql\": {\"frequency\": 1110, \"value\": \"facebook-fql\"}, \"java\": {\"frequency\": 278602, \"value\": \"java\"}, \"codeigniter\": {\"frequency\": 12801, \"value\": \"codeigniter\"}, \"fortran\": {\"frequency\": 1262, \"value\": \"fortran\"}, \"union\": {\"frequency\": 1070, \"value\": \"union\"}, \"encryption\": {\"frequency\": 6258, \"value\": \"encryption\"}, \"core-data\": {\"frequency\": 8164, \"value\": \"core-data\"}, \"charts\": {\"frequency\": 3538, \"value\": \"charts\"}, \"internet-explorer-6\": {\"frequency\": 1375, \"value\": \"internet- ...\"}, \"swf\": {\"frequency\": 1657, \"value\": \"swf\"}, \".net-2.0\": {\"frequency\": 1460, \"value\": \".net-2.0\"}, \"devise\": {\"frequency\": 3259, \"value\": \"devise\"}, \"json\": {\"frequency\": 28505, \"value\": \"json\"}, \"extension-methods\": {\"frequency\": 1167, \"value\": \"extension-methods\"}, \"special-characters\": {\"frequency\": 1082, \"value\": \"special-characters\"}, \"windows-7\": {\"frequency\": 5405, \"value\": \"windows-7\"}, \"uitableviewcell\": {\"frequency\": 4831, \"value\": \"uitableviewcell\"}, \"tutorials\": {\"frequency\": 1473, \"value\": \"tutorials\"}, \"prototype\": {\"frequency\": 2625, \"value\": \"prototype\"}, \"numpy\": {\"frequency\": 3288, \"value\": \"numpy\"}, \"swt\": {\"frequency\": 1834, \"value\": \"swt\"}, \"facebook-like\": {\"frequency\": 1915, \"value\": \"facebook-like\"}, \"website\": {\"frequency\": 3846, \"value\": \"website\"}, \"field\": {\"frequency\": 1073, \"value\": \"field\"}, \"linker\": {\"frequency\": 3114, \"value\": \"linker\"}, \"sencha-touch\": {\"frequency\": 2058, \"value\": \"sencha-touch\"}, \"html5-video\": {\"frequency\": 1176, \"value\": \"html5-video\"}, \"doctrine2\": {\"frequency\": 2595, \"value\": \"doctrine2\"}, \"c#\": {\"frequency\": 331827, \"value\": \"c#\"}, \"cakephp-2.0\": {\"frequency\": 1263, \"value\": \"cakephp-2.0\"}, \"vba\": {\"frequency\": 8872, \"value\": \"vba\"}, \"rspec\": {\"frequency\": 3762, \"value\": \"rspec\"}, \"accessibility\": {\"frequency\": 1071, \"value\": \"accessibility\"}, \"multidimensional-array\": {\"frequency\": 3777, \"value\": \"multidimensional- ...\"}, \"mocking\": {\"frequency\": 2305, \"value\": \"mocking\"}, \"controller\": {\"frequency\": 3337, \"value\": \"controller\"}, \"source-code\": {\"frequency\": 1343, \"value\": \"source-code\"}, \"external\": {\"frequency\": 1048, \"value\": \"external\"}, \"graphics\": {\"frequency\": 5832, \"value\": \"graphics\"}, \"char\": {\"frequency\": 1866, \"value\": \"char\"}, \"tkinter\": {\"frequency\": 1567, \"value\": \"tkinter\"}, \"ruby\": {\"frequency\": 53039, \"value\": \"ruby\"}, \"datatable\": {\"frequency\": 3107, \"value\": \"datatable\"}, \"protocols\": {\"frequency\": 1178, \"value\": \"protocols\"}, \"floating-point\": {\"frequency\": 1409, \"value\": \"floating-point\"}, \"exception\": {\"frequency\": 9750, \"value\": \"exception\"}, \"multithreading\": {\"frequency\": 26536, \"value\": \"multithreading\"}, \"fluent-nhibernate\": {\"frequency\": 3535, \"value\": \"fluent-nhibernate\"}, \"tomcat6\": {\"frequency\": 1080, \"value\": \"tomcat6\"}, \"hyperlink\": {\"frequency\": 3497, \"value\": \"hyperlink\"}, \"batch\": {\"frequency\": 3908, \"value\": \"batch\"}, \"air\": {\"frequency\": 4056, \"value\": \"air\"}, \"cursor\": {\"frequency\": 2257, \"value\": \"cursor\"}, \"frameworks\": {\"frequency\": 5099, \"value\": \"frameworks\"}, \"formatting\": {\"frequency\": 2780, \"value\": \"formatting\"}, \"flex4\": {\"frequency\": 2978, \"value\": \"flex4\"}, \"transactions\": {\"frequency\": 3761, \"value\": \"transactions\"}, \"drupal-7\": {\"frequency\": 2705, \"value\": \"drupal-7\"}, \"profiling\": {\"frequency\": 1869, \"value\": \"profiling\"}, \"visual-studio-2012\": {\"frequency\": 1253, \"value\": \"visual-studio-2012\"}, \"prolog\": {\"frequency\": 1820, \"value\": \"prolog\"}, \"associations\": {\"frequency\": 1807, \"value\": \"associations\"}, \"malloc\": {\"frequency\": 1390, \"value\": \"malloc\"}, \"project-management\": {\"frequency\": 1464, \"value\": \"project-management\"}, \"orientation\": {\"frequency\": 1515, \"value\": \"orientation\"}, \"data-structures\": {\"frequency\": 5453, \"value\": \"data-structures\"}, \"ip\": {\"frequency\": 1890, \"value\": \"ip\"}, \"binding\": {\"frequency\": 6062, \"value\": \"binding\"}, \"uiimageview\": {\"frequency\": 2968, \"value\": \"uiimageview\"}, \"hardware\": {\"frequency\": 1233, \"value\": \"hardware\"}, \"linq-to-entities\": {\"frequency\": 2750, \"value\": \"linq-to-entities\"}, \"io\": {\"frequency\": 3141, \"value\": \"io\"}, \"return\": {\"frequency\": 1465, \"value\": \"return\"}, \"mouse\": {\"frequency\": 1469, \"value\": \"mouse\"}, \"oracle10g\": {\"frequency\": 2475, \"value\": \"oracle10g\"}, \"plsql\": {\"frequency\": 3467, \"value\": \"plsql\"}, \"updatepanel\": {\"frequency\": 1562, \"value\": \"updatepanel\"}, \"binary\": {\"frequency\": 2864, \"value\": \"binary\"}, \"null\": {\"frequency\": 2999, \"value\": \"null\"}, \"if-statement\": {\"frequency\": 4739, \"value\": \"if-statement\"}, \"recursion\": {\"frequency\": 4542, \"value\": \"recursion\"}, \"make\": {\"frequency\": 2133, \"value\": \"make\"}, \"playframework\": {\"frequency\": 3094, \"value\": \"playframework\"}, \"locking\": {\"frequency\": 2408, \"value\": \"locking\"}, \"hadoop\": {\"frequency\": 3627, \"value\": \"hadoop\"}, \"coffeescript\": {\"frequency\": 2025, \"value\": \"coffeescript\"}, \"authentication\": {\"frequency\": 9289, \"value\": \"authentication\"}, \"jpa-2.0\": {\"frequency\": 1316, \"value\": \"jpa-2.0\"}, \"split\": {\"frequency\": 2362, \"value\": \"split\"}, \"onclick\": {\"frequency\": 2613, \"value\": \"onclick\"}, \"sqlite3\": {\"frequency\": 3752, \"value\": \"sqlite3\"}, \"windows-phone-7.1\": {\"frequency\": 1410, \"value\": \"windows-phone-7.1\"}, \"android\": {\"frequency\": 226132, \"value\": \"android\"}, \"subdomain\": {\"frequency\": 1346, \"value\": \"subdomain\"}, \"events\": {\"frequency\": 11607, \"value\": \"events\"}, \"templates\": {\"frequency\": 10823, \"value\": \"templates\"}, \"passwords\": {\"frequency\": 2582, \"value\": \"passwords\"}, \"http\": {\"frequency\": 12274, \"value\": \"http\"}, \"x86\": {\"frequency\": 1618, \"value\": \"x86\"}, \"classpath\": {\"frequency\": 1381, \"value\": \"classpath\"}, \"internet-explorer\": {\"frequency\": 13415, \"value\": \"internet-explorer\"}, \"initialization\": {\"frequency\": 1979, \"value\": \"initialization\"}, \"reporting\": {\"frequency\": 1460, \"value\": \"reporting\"}, \"ios\": {\"frequency\": 87279, \"value\": \"ios\"}, \"automation\": {\"frequency\": 2683, \"value\": \"automation\"}, \"symfony-1.4\": {\"frequency\": 1408, \"value\": \"symfony-1.4\"}, \"ajaxcontroltoolkit\": {\"frequency\": 1072, \"value\": \"ajaxcontroltoolkit\"}, \"cucumber\": {\"frequency\": 1778, \"value\": \"cucumber\"}, \"user\": {\"frequency\": 2583, \"value\": \"user\"}, \"global-variables\": {\"frequency\": 1480, \"value\": \"global-variables\"}, \"wpf\": {\"frequency\": 49994, \"value\": \"wpf\"}, \"php\": {\"frequency\": 261303, \"value\": \"php\"}, \"tsql\": {\"frequency\": 12481, \"value\": \"tsql\"}, \"stack\": {\"frequency\": 1863, \"value\": \"stack\"}, \"crystal-reports\": {\"frequency\": 3387, \"value\": \"crystal-reports\"}, \"background-image\": {\"frequency\": 1082, \"value\": \"background-image\"}, \"polymorphism\": {\"frequency\": 1664, \"value\": \"polymorphism\"}, \"coding-style\": {\"frequency\": 4505, \"value\": \"coding-style\"}, \"broadcastreceiver\": {\"frequency\": 1539, \"value\": \"broadcastreceiver\"}, \"reflection\": {\"frequency\": 6557, \"value\": \"reflection\"}, \"database\": {\"frequency\": 40934, \"value\": \"database\"}, \"com\": {\"frequency\": 5033, \"value\": \"com\"}, \"sharepoint2007\": {\"frequency\": 2609, \"value\": \"sharepoint2007\"}, \"object\": {\"frequency\": 8682, \"value\": \"object\"}, \"double\": {\"frequency\": 1463, \"value\": \"double\"}, \"matplotlib\": {\"frequency\": 2222, \"value\": \"matplotlib\"}, \"debian\": {\"frequency\": 1299, \"value\": \"debian\"}, \"client\": {\"frequency\": 2173, \"value\": \"client\"}, \"command\": {\"frequency\": 2154, \"value\": \"command\"}, \"components\": {\"frequency\": 1887, \"value\": \"components\"}, \"pyqt4\": {\"frequency\": 1125, \"value\": \"pyqt4\"}, \"gzip\": {\"frequency\": 1381, \"value\": \"gzip\"}, \"position\": {\"frequency\": 2084, \"value\": \"position\"}, \"model\": {\"frequency\": 4411, \"value\": \"model\"}, \"audio\": {\"frequency\": 7664, \"value\": \"audio\"}, \"parallel-processing\": {\"frequency\": 2861, \"value\": \"parallel- ...\"}, \"drawing\": {\"frequency\": 2082, \"value\": \"drawing\"}, \"compact-framework\": {\"frequency\": 1678, \"value\": \"compact-framework\"}, \"mfc\": {\"frequency\": 4096, \"value\": \"mfc\"}, \"nosql\": {\"frequency\": 2413, \"value\": \"nosql\"}, \"phpmyadmin\": {\"frequency\": 2474, \"value\": \"phpmyadmin\"}, \"antlr\": {\"frequency\": 1056, \"value\": \"antlr\"}, \"python-2.7\": {\"frequency\": 2166, \"value\": \"python-2.7\"}, \"radio-button\": {\"frequency\": 1907, \"value\": \"radio-button\"}, \"tcp\": {\"frequency\": 4273, \"value\": \"tcp\"}, \"bitmap\": {\"frequency\": 3305, \"value\": \"bitmap\"}, \"gdb\": {\"frequency\": 2359, \"value\": \"gdb\"}, \"unicode\": {\"frequency\": 5027, \"value\": \"unicode\"}, \"mysql\": {\"frequency\": 112752, \"value\": \"mysql\"}, \"internationalization\": {\"frequency\": 3398, \"value\": \"internationalizati ...\"}, \"xml-serialization\": {\"frequency\": 2251, \"value\": \"xml-serialization\"}, \"rest\": {\"frequency\": 10458, \"value\": \"rest\"}, \"log4net\": {\"frequency\": 1360, \"value\": \"log4net\"}, \"garbage-collection\": {\"frequency\": 2727, \"value\": \"garbage-collection\"}, \"alignment\": {\"frequency\": 1619, \"value\": \"alignment\"}, \"jqgrid\": {\"frequency\": 4472, \"value\": \"jqgrid\"}, \"web\": {\"frequency\": 4756, \"value\": \"web\"}, \"preprocessor\": {\"frequency\": 1311, \"value\": \"preprocessor\"}, \"cakephp\": {\"frequency\": 10576, \"value\": \"cakephp\"}, \"java-ee\": {\"frequency\": 9977, \"value\": \"java-ee\"}, \"struct\": {\"frequency\": 3363, \"value\": \"struct\"}, \"ruby-on-rails\": {\"frequency\": 85599, \"value\": \"ruby-on-rails\"}, \"in-app-purchase\": {\"frequency\": 1526, \"value\": \"in-app-purchase\"}, \"character\": {\"frequency\": 1439, \"value\": \"character\"}, \"prism\": {\"frequency\": 1316, \"value\": \"prism\"}, \"vb\": {\"frequency\": 4299, \"value\": \"vb\"}, \"apache2\": {\"frequency\": 2417, \"value\": \"apache2\"}, \"signals\": {\"frequency\": 1337, \"value\": \"signals\"}, \"opencv\": {\"frequency\": 6338, \"value\": \"opencv\"}, \"add\": {\"frequency\": 1070, \"value\": \"add\"}, \"collections\": {\"frequency\": 5242, \"value\": \"collections\"}, \"blob\": {\"frequency\": 1147, \"value\": \"blob\"}, \"osx-lion\": {\"frequency\": 1868, \"value\": \"osx-lion\"}, \"input\": {\"frequency\": 4745, \"value\": \"input\"}, \"save\": {\"frequency\": 1948, \"value\": \"save\"}, \"ide\": {\"frequency\": 3683, \"value\": \"ide\"}, \"database-design\": {\"frequency\": 7986, \"value\": \"database-design\"}, \"homework\": {\"frequency\": 8979, \"value\": \"homework\"}, \"primefaces\": {\"frequency\": 2844, \"value\": \"primefaces\"}, \"styles\": {\"frequency\": 1715, \"value\": \"styles\"}, \"hover\": {\"frequency\": 2206, \"value\": \"hover\"}, \"casting\": {\"frequency\": 3876, \"value\": \"casting\"}, \"asp.net-mvc-routing\": {\"frequency\": 1179, \"value\": \"asp.net-mvc- ...\"}, \"c#-3.0\": {\"frequency\": 2435, \"value\": \"c#-3.0\"}, \"format\": {\"frequency\": 1978, \"value\": \"format\"}, \"driver\": {\"frequency\": 1232, \"value\": \"driver\"}, \"operators\": {\"frequency\": 1288, \"value\": \"operators\"}, \"moq\": {\"frequency\": 1152, \"value\": \"moq\"}, \"load\": {\"frequency\": 2928, \"value\": \"load\"}, \"linked-list\": {\"frequency\": 1727, \"value\": \"linked-list\"}, \"jstl\": {\"frequency\": 1539, \"value\": \"jstl\"}, \"grid\": {\"frequency\": 2705, \"value\": \"grid\"}, \"console-application\": {\"frequency\": 1060, \"value\": \"console- ...\"}, \"background\": {\"frequency\": 3849, \"value\": \"background\"}, \"deployment\": {\"frequency\": 6263, \"value\": \"deployment\"}, \"integer\": {\"frequency\": 1947, \"value\": \"integer\"}, \"web-services\": {\"frequency\": 21016, \"value\": \"web-services\"}, \"unique\": {\"frequency\": 1049, \"value\": \"unique\"}, \"like\": {\"frequency\": 1605, \"value\": \"like\"}, \"xss\": {\"frequency\": 1117, \"value\": \"xss\"}, \"silverlight\": {\"frequency\": 20679, \"value\": \"silverlight\"}, \"sorting\": {\"frequency\": 8620, \"value\": \"sorting\"}, \"activex\": {\"frequency\": 1709, \"value\": \"activex\"}, \"header\": {\"frequency\": 3538, \"value\": \"header\"}, \"content-management-system\": {\"frequency\": 3150, \"value\": \"content- ...\"}, \"sqlalchemy\": {\"frequency\": 2014, \"value\": \"sqlalchemy\"}, \"html\": {\"frequency\": 111244, \"value\": \"html\"}, \"server\": {\"frequency\": 3477, \"value\": \"server\"}, \"android-listview\": {\"frequency\": 2299, \"value\": \"android-listview\"}, \"boolean\": {\"frequency\": 1576, \"value\": \"boolean\"}, \"index\": {\"frequency\": 2905, \"value\": \"index\"}, \"persistence\": {\"frequency\": 1811, \"value\": \"persistence\"}, \"xsd\": {\"frequency\": 2968, \"value\": \"xsd\"}, \"app-store\": {\"frequency\": 2113, \"value\": \"app-store\"}, \"memory-leaks\": {\"frequency\": 4616, \"value\": \"memory-leaks\"}, \"windows-server-2008\": {\"frequency\": 1422, \"value\": \"windows- ...\"}, \"android-mapview\": {\"frequency\": 1278, \"value\": \"android-mapview\"}, \"form-validation\": {\"frequency\": 1737, \"value\": \"form-validation\"}, \"licensing\": {\"frequency\": 2298, \"value\": \"licensing\"}, \"function\": {\"frequency\": 12723, \"value\": \"function\"}, \"mod-rewrite\": {\"frequency\": 7263, \"value\": \"mod-rewrite\"}, \"fancybox\": {\"frequency\": 2128, \"value\": \"fancybox\"}, \"google\": {\"frequency\": 11040, \"value\": \"google\"}, \"methods\": {\"frequency\": 5157, \"value\": \"methods\"}, \"centos\": {\"frequency\": 1530, \"value\": \"centos\"}, \"data-binding\": {\"frequency\": 7088, \"value\": \"data-binding\"}, \"touch\": {\"frequency\": 2053, \"value\": \"touch\"}, \"linux\": {\"frequency\": 36105, \"value\": \"linux\"}, \"google-api\": {\"frequency\": 1481, \"value\": \"google-api\"}, \"user-interface\": {\"frequency\": 6018, \"value\": \"user-interface\"}, \"streaming\": {\"frequency\": 2194, \"value\": \"streaming\"}, \"wxpython\": {\"frequency\": 2066, \"value\": \"wxpython\"}, \"export\": {\"frequency\": 1775, \"value\": \"export\"}, \"operating-system\": {\"frequency\": 2634, \"value\": \"operating-system\"}, \"table\": {\"frequency\": 10257, \"value\": \"table\"}, \"pattern-matching\": {\"frequency\": 1513, \"value\": \"pattern-matching\"}, \"imageview\": {\"frequency\": 1756, \"value\": \"imageview\"}, \"nsurlconnection\": {\"frequency\": 1221, \"value\": \"nsurlconnection\"}, \"raphael\": {\"frequency\": 1346, \"value\": \"raphael\"}, \"windows\": {\"frequency\": 34516, \"value\": \"windows\"}, \"scala\": {\"frequency\": 10936, \"value\": \"scala\"}, \"macros\": {\"frequency\": 3740, \"value\": \"macros\"}, \"applescript\": {\"frequency\": 1604, \"value\": \"applescript\"}, \"exec\": {\"frequency\": 1268, \"value\": \"exec\"}, \"ejb-3.0\": {\"frequency\": 1284, \"value\": \"ejb-3.0\"}, \"integration\": {\"frequency\": 1316, \"value\": \"integration\"}, \"comments\": {\"frequency\": 2324, \"value\": \"comments\"}, \"uitextfield\": {\"frequency\": 1937, \"value\": \"uitextfield\"}, \"django-views\": {\"frequency\": 1597, \"value\": \"django-views\"}, \"intellij-idea\": {\"frequency\": 2462, \"value\": \"intellij-idea\"}, \"jaxb\": {\"frequency\": 2707, \"value\": \"jaxb\"}, \"uml\": {\"frequency\": 1701, \"value\": \"uml\"}, \"localhost\": {\"frequency\": 1371, \"value\": \"localhost\"}, \"blackberry\": {\"frequency\": 6918, \"value\": \"blackberry\"}, \"cgi\": {\"frequency\": 1680, \"value\": \"cgi\"}, \"telerik\": {\"frequency\": 2638, \"value\": \"telerik\"}, \"awt\": {\"frequency\": 1038, \"value\": \"awt\"}, \"assembly\": {\"frequency\": 7178, \"value\": \"assembly\"}, \"repository\": {\"frequency\": 2108, \"value\": \"repository\"}, \"tree\": {\"frequency\": 3120, \"value\": \"tree\"}, \"compiler\": {\"frequency\": 5315, \"value\": \"compiler\"}, \"c\": {\"frequency\": 66612, \"value\": \"c\"}, \"tdd\": {\"frequency\": 2212, \"value\": \"tdd\"}, \"maven\": {\"frequency\": 9327, \"value\": \"maven\"}, \"mapkit\": {\"frequency\": 1279, \"value\": \"mapkit\"}, \"html-lists\": {\"frequency\": 1257, \"value\": \"html-lists\"}, \"asp.net-web-api\": {\"frequency\": 1226, \"value\": \"asp.net-web-api\"}, \"post\": {\"frequency\": 7763, \"value\": \"post\"}, \"twitter-bootstrap\": {\"frequency\": 2769, \"value\": \"twitter-bootstrap\"}, \"security\": {\"frequency\": 15700, \"value\": \"security\"}, \"panel\": {\"frequency\": 1082, \"value\": \"panel\"}, \"jquery\": {\"frequency\": 216998, \"value\": \"jquery\"}, \"postgresql\": {\"frequency\": 11637, \"value\": \"postgresql\"}, \"install\": {\"frequency\": 1911, \"value\": \"install\"}, \"internet-explorer-9\": {\"frequency\": 2121, \"value\": \"internet- ...\"}, \"relational-database\": {\"frequency\": 1359, \"value\": \"relational- ...\"}, \"foreign-keys\": {\"frequency\": 1988, \"value\": \"foreign-keys\"}, \"symfony1\": {\"frequency\": 3630, \"value\": \"symfony1\"}, \"location\": {\"frequency\": 2099, \"value\": \"location\"}, \"symfony2\": {\"frequency\": 5429, \"value\": \"symfony2\"}, \"xna\": {\"frequency\": 3207, \"value\": \"xna\"}, \"range\": {\"frequency\": 1177, \"value\": \"range\"}, \"wordpress-plugin\": {\"frequency\": 1948, \"value\": \"wordpress-plugin\"}, \"cuda\": {\"frequency\": 2942, \"value\": \"cuda\"}, \"dialog\": {\"frequency\": 3525, \"value\": \"dialog\"}, \"constructor\": {\"frequency\": 3544, \"value\": \"constructor\"}, \"azure\": {\"frequency\": 4744, \"value\": \"azure\"}, \"jsp\": {\"frequency\": 11934, \"value\": \"jsp\"}, \"webview\": {\"frequency\": 3550, \"value\": \"webview\"}, \"clojure\": {\"frequency\": 3788, \"value\": \"clojure\"}, \"backup\": {\"frequency\": 1581, \"value\": \"backup\"}, \"nullpointerexception\": {\"frequency\": 1823, \"value\": \"nullpointerexcepti ...\"}, \"environment-variables\": {\"frequency\": 1191, \"value\": \"environment- ...\"}, \"outlook\": {\"frequency\": 2438, \"value\": \"outlook\"}, \"iphone-sdk-4.0\": {\"frequency\": 7114, \"value\": \"iphone-sdk-4.0\"}, \"cassandra\": {\"frequency\": 1479, \"value\": \"cassandra\"}, \"sql-server-2008-r2\": {\"frequency\": 1838, \"value\": \"sql-server-2008-r2\"}, \"active-directory\": {\"frequency\": 2628, \"value\": \"active-directory\"}, \"image\": {\"frequency\": 22984, \"value\": \"image\"}, \"float\": {\"frequency\": 2487, \"value\": \"float\"}, \"smarty\": {\"frequency\": 1216, \"value\": \"smarty\"}, \"dataset\": {\"frequency\": 2278, \"value\": \"dataset\"}, \"cocoa\": {\"frequency\": 21216, \"value\": \"cocoa\"}, \"rendering\": {\"frequency\": 1560, \"value\": \"rendering\"}, \"haskell\": {\"frequency\": 8037, \"value\": \"haskell\"}, \"url\": {\"frequency\": 10421, \"value\": \"url\"}, \"doctrine\": {\"frequency\": 2969, \"value\": \"doctrine\"}, \"web-crawler\": {\"frequency\": 1060, \"value\": \"web-crawler\"}, \"wicket\": {\"frequency\": 1426, \"value\": \"wicket\"}, \"ruby-on-rails-3.1\": {\"frequency\": 4634, \"value\": \"ruby-on-rails-3.1\"}, \"enums\": {\"frequency\": 3335, \"value\": \"enums\"}, \"jdbc\": {\"frequency\": 4953, \"value\": \"jdbc\"}, \"networking\": {\"frequency\": 8382, \"value\": \"networking\"}, \"compression\": {\"frequency\": 2126, \"value\": \"compression\"}, \"opengl\": {\"frequency\": 10971, \"value\": \"opengl\"}, \"vbscript\": {\"frequency\": 3373, \"value\": \"vbscript\"}, \"hex\": {\"frequency\": 1549, \"value\": \"hex\"}, \"transform\": {\"frequency\": 1064, \"value\": \"transform\"}, \"submit\": {\"frequency\": 1630, \"value\": \"submit\"}, \"class\": {\"frequency\": 13442, \"value\": \"class\"}, \"width\": {\"frequency\": 1778, \"value\": \"width\"}, \"heroku\": {\"frequency\": 4884, \"value\": \"heroku\"}, \"ruby-on-rails-3.2\": {\"frequency\": 1400, \"value\": \"ruby-on-rails-3.2\"}, \"emacs\": {\"frequency\": 5908, \"value\": \"emacs\"}, \"editor\": {\"frequency\": 2246, \"value\": \"editor\"}, \"uiwebview\": {\"frequency\": 3972, \"value\": \"uiwebview\"}, \"spring\": {\"frequency\": 19778, \"value\": \"spring\"}, \"iis7\": {\"frequency\": 5377, \"value\": \"iis7\"}, \"iis6\": {\"frequency\": 2006, \"value\": \"iis6\"}, \"select\": {\"frequency\": 8161, \"value\": \"select\"}, \"linux-kernel\": {\"frequency\": 2458, \"value\": \"linux-kernel\"}, \"real-time\": {\"frequency\": 1138, \"value\": \"real-time\"}, \"conditional\": {\"frequency\": 1408, \"value\": \"conditional\"}, \"repeater\": {\"frequency\": 1074, \"value\": \"repeater\"}, \"https\": {\"frequency\": 3990, \"value\": \"https\"}, \"django-admin\": {\"frequency\": 2523, \"value\": \"django-admin\"}, \"preg-match\": {\"frequency\": 1292, \"value\": \"preg-match\"}, \"handler\": {\"frequency\": 1053, \"value\": \"handler\"}, \"httpwebrequest\": {\"frequency\": 2403, \"value\": \"httpwebrequest\"}, \"kohana\": {\"frequency\": 1300, \"value\": \"kohana\"}, \"linq\": {\"frequency\": 21884, \"value\": \"linq\"}, \"notifications\": {\"frequency\": 2708, \"value\": \"notifications\"}, \"certificate\": {\"frequency\": 1826, \"value\": \"certificate\"}, \"android-asynctask\": {\"frequency\": 2061, \"value\": \"android-asynctask\"}, \"zoom\": {\"frequency\": 1335, \"value\": \"zoom\"}, \"heap\": {\"frequency\": 1289, \"value\": \"heap\"}, \"branch\": {\"frequency\": 1495, \"value\": \"branch\"}, \"sdl\": {\"frequency\": 1140, \"value\": \"sdl\"}, \"overflow\": {\"frequency\": 1392, \"value\": \"overflow\"}, \"bluetooth\": {\"frequency\": 2770, \"value\": \"bluetooth\"}, \"naming-conventions\": {\"frequency\": 1491, \"value\": \"naming-conventions\"}, \"sdk\": {\"frequency\": 4761, \"value\": \"sdk\"}, \"count\": {\"frequency\": 3097, \"value\": \"count\"}, \"uinavigationbar\": {\"frequency\": 1247, \"value\": \"uinavigationbar\"}, \"web-scraping\": {\"frequency\": 1000, \"value\": \"web-scraping\"}, \"tomcat\": {\"frequency\": 8828, \"value\": \"tomcat\"}, \"python-3.x\": {\"frequency\": 2608, \"value\": \"python-3.x\"}, \"arrays\": {\"frequency\": 33190, \"value\": \"arrays\"}, \"devexpress\": {\"frequency\": 1795, \"value\": \"devexpress\"}, \"access\": {\"frequency\": 2381, \"value\": \"access\"}, \"hosting\": {\"frequency\": 1709, \"value\": \"hosting\"}, \"asp.net-mvc-4\": {\"frequency\": 1842, \"value\": \"asp.net-mvc-4\"}, \"cocos2d-iphone\": {\"frequency\": 3366, \"value\": \"cocos2d-iphone\"}, \"insert\": {\"frequency\": 3592, \"value\": \"insert\"}, \"compiler-errors\": {\"frequency\": 2371, \"value\": \"compiler-errors\"}, \"limit\": {\"frequency\": 1119, \"value\": \"limit\"}, \"subquery\": {\"frequency\": 1419, \"value\": \"subquery\"}, \"sum\": {\"frequency\": 1437, \"value\": \"sum\"}, \"cocoa-touch\": {\"frequency\": 14868, \"value\": \"cocoa-touch\"}, \"embed\": {\"frequency\": 1413, \"value\": \"embed\"}, \"ssrs-2008\": {\"frequency\": 1649, \"value\": \"ssrs-2008\"}, \"powershell\": {\"frequency\": 6472, \"value\": \"powershell\"}, \"delete\": {\"frequency\": 3605, \"value\": \"delete\"}, \"datepicker\": {\"frequency\": 2197, \"value\": \"datepicker\"}, \"sql-order-by\": {\"frequency\": 1410, \"value\": \"sql-order-by\"}, \"delphi-7\": {\"frequency\": 1055, \"value\": \"delphi-7\"}, \"links\": {\"frequency\": 1189, \"value\": \"links\"}, \"int\": {\"frequency\": 1585, \"value\": \"int\"}, \"attributes\": {\"frequency\": 3528, \"value\": \"attributes\"}, \"push\": {\"frequency\": 1209, \"value\": \"push\"}, \"zend\": {\"frequency\": 1760, \"value\": \"zend\"}, \"rvm\": {\"frequency\": 1366, \"value\": \"rvm\"}, \"android-emulator\": {\"frequency\": 3952, \"value\": \"android-emulator\"}, \".net-4.0\": {\"frequency\": 5031, \"value\": \".net-4.0\"}, \"loops\": {\"frequency\": 7562, \"value\": \"loops\"}, \"full-text-search\": {\"frequency\": 2190, \"value\": \"full-text-search\"}, \"asynchronous\": {\"frequency\": 5295, \"value\": \"asynchronous\"}, \"firebug\": {\"frequency\": 1517, \"value\": \"firebug\"}, \"file\": {\"frequency\": 15540, \"value\": \"file\"}, \"oauth-2.0\": {\"frequency\": 1223, \"value\": \"oauth-2.0\"}, \"facebook-javascript-sdk\": {\"frequency\": 1357, \"value\": \"facebook- ...\"}, \"timezone\": {\"frequency\": 2207, \"value\": \"timezone\"}, \"curl\": {\"frequency\": 5848, \"value\": \"curl\"}, \"google-maps\": {\"frequency\": 10826, \"value\": \"google-maps\"}, \"haml\": {\"frequency\": 1195, \"value\": \"haml\"}, \"objective-c\": {\"frequency\": 94610, \"value\": \"objective-c\"}, \"url-routing\": {\"frequency\": 1245, \"value\": \"url-routing\"}, \"visual-c++\": {\"frequency\": 9209, \"value\": \"visual-c++\"}, \"fonts\": {\"frequency\": 3808, \"value\": \"fonts\"}, \"cmake\": {\"frequency\": 1646, \"value\": \"cmake\"}, \"resharper\": {\"frequency\": 1376, \"value\": \"resharper\"}, \"sql-server\": {\"frequency\": 39705, \"value\": \"sql-server\"}, \"mathematica\": {\"frequency\": 2231, \"value\": \"mathematica\"}, \"excel\": {\"frequency\": 15331, \"value\": \"excel\"}, \"virtual\": {\"frequency\": 1292, \"value\": \"virtual\"}, \"entity-framework-4\": {\"frequency\": 5514, \"value\": \"entity-framework-4\"}, \"application\": {\"frequency\": 8276, \"value\": \"application\"}, \"windows-xp\": {\"frequency\": 2046, \"value\": \"windows-xp\"}, \"utf-8\": {\"frequency\": 4362, \"value\": \"utf-8\"}, \"artificial-intelligence\": {\"frequency\": 1297, \"value\": \"artificial- ...\"}, \"unit-testing\": {\"frequency\": 13443, \"value\": \"unit-testing\"}, \"type-conversion\": {\"frequency\": 1182, \"value\": \"type-conversion\"}, \"optimization\": {\"frequency\": 7962, \"value\": \"optimization\"}, \"google-apps-script\": {\"frequency\": 1140, \"value\": \"google-apps-script\"}, \"fork\": {\"frequency\": 1114, \"value\": \"fork\"}, \"openid\": {\"frequency\": 1767, \"value\": \"openid\"}, \"exception-handling\": {\"frequency\": 4077, \"value\": \"exception-handling\"}, \"mongodb\": {\"frequency\": 10431, \"value\": \"mongodb\"}, \"printing\": {\"frequency\": 4865, \"value\": \"printing\"}, \"richtextbox\": {\"frequency\": 1144, \"value\": \"richtextbox\"}, \"bundle\": {\"frequency\": 1092, \"value\": \"bundle\"}, \"asp.net-mvc-3\": {\"frequency\": 27136, \"value\": \"asp.net-mvc-3\"}, \"replace\": {\"frequency\": 3173, \"value\": \"replace\"}, \"oracle\": {\"frequency\": 18678, \"value\": \"oracle\"}, \"webserver\": {\"frequency\": 1979, \"value\": \"webserver\"}, \"many-to-many\": {\"frequency\": 1892, \"value\": \"many-to-many\"}, \"registry\": {\"frequency\": 1861, \"value\": \"registry\"}, \"sql\": {\"frequency\": 89838, \"value\": \"sql\"}, \"linq-to-sql\": {\"frequency\": 8765, \"value\": \"linq-to-sql\"}, \"extjs\": {\"frequency\": 6425, \"value\": \"extjs\"}, \"structure\": {\"frequency\": 1180, \"value\": \"structure\"}, \"source\": {\"frequency\": 1286, \"value\": \"source\"}, \"svn\": {\"frequency\": 12453, \"value\": \"svn\"}, \"webdriver\": {\"frequency\": 1566, \"value\": \"webdriver\"}, \"sphinx\": {\"frequency\": 1166, \"value\": \"sphinx\"}, \"algorithm\": {\"frequency\": 19726, \"value\": \"algorithm\"}, \"wifi\": {\"frequency\": 1366, \"value\": \"wifi\"}, \"svg\": {\"frequency\": 3452, \"value\": \"svg\"}, \"blogs\": {\"frequency\": 1089, \"value\": \"blogs\"}, \"overlay\": {\"frequency\": 1457, \"value\": \"overlay\"}, \"youtube\": {\"frequency\": 2940, \"value\": \"youtube\"}, \"z-index\": {\"frequency\": 1095, \"value\": \"z-index\"}, \"http-status-code-404\": {\"frequency\": 1217, \"value\": \"http-status- ...\"}, \"jenkins\": {\"frequency\": 2013, \"value\": \"jenkins\"}, \"jpanel\": {\"frequency\": 1157, \"value\": \"jpanel\"}, \"scheduled-tasks\": {\"frequency\": 1149, \"value\": \"scheduled-tasks\"}, \"time\": {\"frequency\": 4997, \"value\": \"time\"}, \"directory\": {\"frequency\": 2522, \"value\": \"directory\"}, \"validation\": {\"frequency\": 12755, \"value\": \"validation\"}, \"facebook-c#-sdk\": {\"frequency\": 1249, \"value\": \"facebook-c#-sdk\"}, \"scroll\": {\"frequency\": 2574, \"value\": \"scroll\"}}, \"size\": 10409170}}, \"selected_variable\": {\"name\": [\"user_tag\"], \"descriptives\": {\"rows\": 10409170, \"columns\": 2}, \"view_component\": \"Summary\", \"view_file\": \"sframe\", \"view_params\": {\"y\": null, \"x\": null, \"columns\": [\"OwnerUserId\", \"Tag\"], \"view\": null}, \"view_components\": [\"Summary\", \"Table\", \"Bar Chart\", \"BoxWhisker Plot\", \"Line Chart\", \"Scatter Plot\", \"Heat Map\", \"Plots\"], \"type\": \"SFrame\", \"columns\": [{\"dtype\": \"str\", \"name\": \"OwnerUserId\"}, {\"dtype\": \"str\", \"name\": \"Tag\"}], \"column_identifiers\": [\"OwnerUserId\", \"Tag\"]}, \"columns\": [{\"dtype\": \"str\", \"name\": \"OwnerUserId\"}, {\"dtype\": \"str\", \"name\": \"Tag\"}]}, e);\n",
       "                });\n",
       "            })();\n",
       "        "
      ]
     },
     "metadata": {},
     "output_type": "display_data"
    }
   ],
   "source": [
    "graphlab.canvas.set_target('ipynb')\n",
    "user_tag.show()"
   ]
  },
  {
   "cell_type": "markdown",
   "metadata": {},
   "source": [
    "Create a new SFrame called `user_tag_count` that has three columns:\n",
    "- OwnerUserId\n",
    "- Tag\n",
    "- Count\n",
    "where `Count` contains the number of times the given `Tag` was used by that particular `OwnerUserId`. "
   ]
  },
  {
   "cell_type": "code",
   "execution_count": 19,
   "metadata": {
    "collapsed": true
   },
   "outputs": [],
   "source": [
    "user_tag_count = user_tag.groupby(['OwnerUserId', 'Tag'], graphlab.aggregate.COUNT)"
   ]
  },
  {
   "cell_type": "markdown",
   "metadata": {},
   "source": [
    "Visually explore this summarized version of your data set with GraphLab Canvas."
   ]
  },
  {
   "cell_type": "code",
   "execution_count": 22,
   "metadata": {
    "collapsed": false
   },
   "outputs": [
    {
     "data": {
      "application/javascript": [
       "$(\"head\").append($(\"<link/>\").attr({\n",
       "  rel:  \"stylesheet\",\n",
       "  type: \"text/css\",\n",
       "  href: \"//cdnjs.cloudflare.com/ajax/libs/font-awesome/4.1.0/css/font-awesome.min.css\"\n",
       "}));\n",
       "$(\"head\").append($(\"<link/>\").attr({\n",
       "  rel:  \"stylesheet\",\n",
       "  type: \"text/css\",\n",
       "  href: \"https://static.turi.com/products/graphlab-create/2.1/canvas/css/canvas.css\"\n",
       "}));\n",
       "\n",
       "            (function(){\n",
       "\n",
       "                var e = null;\n",
       "                if (typeof element == 'undefined') {\n",
       "                    var scripts = document.getElementsByTagName('script');\n",
       "                    var thisScriptTag = scripts[scripts.length-1];\n",
       "                    var parentDiv = thisScriptTag.parentNode;\n",
       "                    e = document.createElement('div');\n",
       "                    parentDiv.appendChild(e);\n",
       "                } else {\n",
       "                    e = element[0];\n",
       "                }\n",
       "\n",
       "                if (typeof requirejs !== 'undefined') {\n",
       "                    // disable load timeout; ipython_app.js is large and can take a while to load.\n",
       "                    requirejs.config({waitSeconds: 0});\n",
       "                }\n",
       "\n",
       "                require(['https://static.turi.com/products/graphlab-create/2.1/canvas/js/ipython_app.js'], function(IPythonApp){\n",
       "                    var app = new IPythonApp();\n",
       "                    app.attachView('sframe','Summary', {\"ipython\": true, \"sketch\": {\"OwnerUserId\": {\"complete\": true, \"numeric\": false, \"num_unique\": 654457, \"num_undefined\": 0, \"progress\": 1.0, \"frequent_items\": {\"44330\": {\"frequency\": 541, \"value\": \"44330\"}, \"85821\": {\"frequency\": 437, \"value\": \"85821\"}, \"48465\": {\"frequency\": 687, \"value\": \"48465\"}, \"4653\": {\"frequency\": 808, \"value\": \"4653\"}, \"147601\": {\"frequency\": 609, \"value\": \"147601\"}, \"34537\": {\"frequency\": 935, \"value\": \"34537\"}, \"130758\": {\"frequency\": 445, \"value\": \"130758\"}, \"325418\": {\"frequency\": 707, \"value\": \"325418\"}, \"9382\": {\"frequency\": 652, \"value\": \"9382\"}, \"39677\": {\"frequency\": 599, \"value\": \"39677\"}, \"41021\": {\"frequency\": 688, \"value\": \"41021\"}, \"193619\": {\"frequency\": 467, \"value\": \"193619\"}, \"12597\": {\"frequency\": 840, \"value\": \"12597\"}, \"36590\": {\"frequency\": 673, \"value\": \"36590\"}, \"75500\": {\"frequency\": 722, \"value\": \"75500\"}, \"356635\": {\"frequency\": 516, \"value\": \"356635\"}, \"18149\": {\"frequency\": 622, \"value\": \"18149\"}, \"267\": {\"frequency\": 481, \"value\": \"267\"}, \"246776\": {\"frequency\": 592, \"value\": \"246776\"}, \"434051\": {\"frequency\": 822, \"value\": \"434051\"}, \"11236\": {\"frequency\": 535, \"value\": \"11236\"}, \"130015\": {\"frequency\": 363, \"value\": \"130015\"}, \"328397\": {\"frequency\": 706, \"value\": \"328397\"}, \"541686\": {\"frequency\": 671, \"value\": \"541686\"}, \"136141\": {\"frequency\": 594, \"value\": \"136141\"}, \"310370\": {\"frequency\": 390, \"value\": \"310370\"}, \"65387\": {\"frequency\": 484, \"value\": \"65387\"}}, \"size\": 6352858}, \"Count\": {\"std\": 3.550729597156583, \"complete\": true, \"min\": 1.0, \"max\": 781.0, \"quantile\": [1.0, 1.0, 1.0, 1.0, 1.0, 1.0, 1.0, 1.0, 1.0, 1.0, 1.0, 1.0, 1.0, 1.0, 1.0, 1.0, 1.0, 1.0, 1.0, 1.0, 1.0, 1.0, 1.0, 1.0, 1.0, 1.0, 1.0, 1.0, 1.0, 1.0, 1.0, 1.0, 1.0, 1.0, 1.0, 1.0, 1.0, 1.0, 1.0, 1.0, 1.0, 1.0, 1.0, 1.0, 1.0, 1.0, 1.0, 1.0, 1.0, 1.0, 1.0, 1.0, 1.0, 1.0, 1.0, 1.0, 1.0, 1.0, 1.0, 1.0, 1.0, 1.0, 1.0, 1.0, 1.0, 1.0, 1.0, 1.0, 1.0, 1.0, 1.0, 1.0, 1.0, 1.0, 1.0, 1.0, 1.0, 1.0, 1.0, 1.0, 2.0, 2.0, 2.0, 2.0, 2.0, 2.0, 2.0, 2.0, 2.0, 2.0, 2.0, 3.0, 3.0, 3.0, 3.0, 4.0, 5.0, 6.0, 8.0, 12.0, 781.0], \"median\": 1.0, \"numeric\": true, \"num_unique\": 304, \"num_undefined\": 0, \"var\": 12.60768067212375, \"progress\": 1.0, \"size\": 6352858, \"frequent_items\": {\"1\": {\"frequency\": 5088790, \"value\": 1}, \"2\": {\"frequency\": 672178, \"value\": 2}, \"3\": {\"frequency\": 229064, \"value\": 3}, \"4\": {\"frequency\": 110806, \"value\": 4}, \"5\": {\"frequency\": 63762, \"value\": 5}, \"6\": {\"frequency\": 41185, \"value\": 6}, \"7\": {\"frequency\": 27971, \"value\": 7}, \"8\": {\"frequency\": 20450, \"value\": 8}, \"9\": {\"frequency\": 15278, \"value\": 9}, \"10\": {\"frequency\": 11988, \"value\": 10}, \"11\": {\"frequency\": 9379, \"value\": 11}, \"12\": {\"frequency\": 7412, \"value\": 12}, \"13\": {\"frequency\": 6282, \"value\": 13}, \"14\": {\"frequency\": 5168, \"value\": 14}, \"15\": {\"frequency\": 4482, \"value\": 15}, \"16\": {\"frequency\": 3788, \"value\": 16}, \"17\": {\"frequency\": 3308, \"value\": 17}, \"18\": {\"frequency\": 2698, \"value\": 18}, \"19\": {\"frequency\": 2504, \"value\": 19}, \"20\": {\"frequency\": 2129, \"value\": 20}, \"21\": {\"frequency\": 1833, \"value\": 21}, \"22\": {\"frequency\": 1614, \"value\": 22}, \"23\": {\"frequency\": 1496, \"value\": 23}, \"24\": {\"frequency\": 1354, \"value\": 24}, \"25\": {\"frequency\": 1229, \"value\": 25}, \"26\": {\"frequency\": 1138, \"value\": 26}, \"27\": {\"frequency\": 980, \"value\": 27}, \"28\": {\"frequency\": 895, \"value\": 28}, \"29\": {\"frequency\": 838, \"value\": 29}, \"30\": {\"frequency\": 789, \"value\": 30}, \"31\": {\"frequency\": 651, \"value\": 31}, \"32\": {\"frequency\": 619, \"value\": 32}, \"33\": {\"frequency\": 554, \"value\": 33}, \"34\": {\"frequency\": 565, \"value\": 34}, \"35\": {\"frequency\": 468, \"value\": 35}, \"36\": {\"frequency\": 491, \"value\": 36}, \"37\": {\"frequency\": 415, \"value\": 37}, \"38\": {\"frequency\": 466, \"value\": 38}, \"39\": {\"frequency\": 391, \"value\": 39}, \"40\": {\"frequency\": 334, \"value\": 40}, \"41\": {\"frequency\": 325, \"value\": 41}, \"42\": {\"frequency\": 334, \"value\": 42}, \"43\": {\"frequency\": 278, \"value\": 43}, \"44\": {\"frequency\": 249, \"value\": 44}, \"45\": {\"frequency\": 259, \"value\": 45}, \"46\": {\"frequency\": 247, \"value\": 46}, \"47\": {\"frequency\": 224, \"value\": 47}, \"48\": {\"frequency\": 224, \"value\": 48}, \"49\": {\"frequency\": 206, \"value\": 49}, \"50\": {\"frequency\": 186, \"value\": 50}, \"51\": {\"frequency\": 180, \"value\": 51}, \"52\": {\"frequency\": 173, \"value\": 52}, \"53\": {\"frequency\": 155, \"value\": 53}, \"54\": {\"frequency\": 154, \"value\": 54}, \"55\": {\"frequency\": 147, \"value\": 55}, \"56\": {\"frequency\": 124, \"value\": 56}, \"57\": {\"frequency\": 117, \"value\": 57}, \"58\": {\"frequency\": 116, \"value\": 58}, \"59\": {\"frequency\": 121, \"value\": 59}, \"60\": {\"frequency\": 102, \"value\": 60}, \"61\": {\"frequency\": 109, \"value\": 61}, \"62\": {\"frequency\": 108, \"value\": 62}, \"63\": {\"frequency\": 100, \"value\": 63}, \"64\": {\"frequency\": 78, \"value\": 64}, \"65\": {\"frequency\": 84, \"value\": 65}, \"66\": {\"frequency\": 80, \"value\": 66}, \"67\": {\"frequency\": 88, \"value\": 67}, \"68\": {\"frequency\": 86, \"value\": 68}, \"69\": {\"frequency\": 74, \"value\": 69}, \"70\": {\"frequency\": 63, \"value\": 70}, \"71\": {\"frequency\": 64, \"value\": 71}, \"72\": {\"frequency\": 71, \"value\": 72}, \"73\": {\"frequency\": 60, \"value\": 73}, \"74\": {\"frequency\": 63, \"value\": 74}, \"75\": {\"frequency\": 65, \"value\": 75}, \"76\": {\"frequency\": 48, \"value\": 76}, \"77\": {\"frequency\": 57, \"value\": 77}, \"78\": {\"frequency\": 44, \"value\": 78}, \"79\": {\"frequency\": 50, \"value\": 79}, \"80\": {\"frequency\": 37, \"value\": 80}, \"81\": {\"frequency\": 34, \"value\": 81}, \"82\": {\"frequency\": 39, \"value\": 82}, \"83\": {\"frequency\": 57, \"value\": 83}, \"84\": {\"frequency\": 33, \"value\": 84}, \"85\": {\"frequency\": 30, \"value\": 85}, \"86\": {\"frequency\": 45, \"value\": 86}, \"87\": {\"frequency\": 40, \"value\": 87}, \"88\": {\"frequency\": 31, \"value\": 88}, \"89\": {\"frequency\": 45, \"value\": 89}, \"90\": {\"frequency\": 40, \"value\": 90}, \"91\": {\"frequency\": 43, \"value\": 91}, \"92\": {\"frequency\": 29, \"value\": 92}, \"93\": {\"frequency\": 24, \"value\": 93}, \"94\": {\"frequency\": 33, \"value\": 94}, \"95\": {\"frequency\": 26, \"value\": 95}, \"96\": {\"frequency\": 25, \"value\": 96}, \"97\": {\"frequency\": 38, \"value\": 97}, \"98\": {\"frequency\": 32, \"value\": 98}, \"99\": {\"frequency\": 17, \"value\": 99}, \"100\": {\"frequency\": 29, \"value\": 100}, \"101\": {\"frequency\": 31, \"value\": 101}, \"102\": {\"frequency\": 26, \"value\": 102}, \"103\": {\"frequency\": 23, \"value\": 103}, \"104\": {\"frequency\": 22, \"value\": 104}, \"105\": {\"frequency\": 22, \"value\": 105}, \"106\": {\"frequency\": 16, \"value\": 106}, \"107\": {\"frequency\": 19, \"value\": 107}, \"108\": {\"frequency\": 19, \"value\": 108}, \"109\": {\"frequency\": 19, \"value\": 109}, \"110\": {\"frequency\": 21, \"value\": 110}, \"111\": {\"frequency\": 21, \"value\": 111}, \"112\": {\"frequency\": 14, \"value\": 112}, \"113\": {\"frequency\": 12, \"value\": 113}, \"114\": {\"frequency\": 11, \"value\": 114}, \"115\": {\"frequency\": 14, \"value\": 115}, \"116\": {\"frequency\": 15, \"value\": 116}, \"117\": {\"frequency\": 18, \"value\": 117}, \"118\": {\"frequency\": 13, \"value\": 118}, \"119\": {\"frequency\": 18, \"value\": 119}, \"120\": {\"frequency\": 27, \"value\": 120}, \"121\": {\"frequency\": 10, \"value\": 121}, \"122\": {\"frequency\": 10, \"value\": 122}, \"123\": {\"frequency\": 11, \"value\": 123}, \"124\": {\"frequency\": 11, \"value\": 124}, \"125\": {\"frequency\": 16, \"value\": 125}, \"126\": {\"frequency\": 15, \"value\": 126}, \"127\": {\"frequency\": 12, \"value\": 127}, \"128\": {\"frequency\": 6, \"value\": 128}, \"129\": {\"frequency\": 12, \"value\": 129}, \"130\": {\"frequency\": 9, \"value\": 130}, \"131\": {\"frequency\": 11, \"value\": 131}, \"132\": {\"frequency\": 9, \"value\": 132}, \"133\": {\"frequency\": 7, \"value\": 133}, \"134\": {\"frequency\": 13, \"value\": 134}, \"135\": {\"frequency\": 10, \"value\": 135}, \"136\": {\"frequency\": 9, \"value\": 136}, \"137\": {\"frequency\": 7, \"value\": 137}, \"138\": {\"frequency\": 13, \"value\": 138}, \"139\": {\"frequency\": 5, \"value\": 139}, \"140\": {\"frequency\": 12, \"value\": 140}, \"141\": {\"frequency\": 12, \"value\": 141}, \"142\": {\"frequency\": 7, \"value\": 142}, \"143\": {\"frequency\": 7, \"value\": 143}, \"656\": {\"frequency\": 1, \"value\": 656}, \"145\": {\"frequency\": 7, \"value\": 145}, \"146\": {\"frequency\": 10, \"value\": 146}, \"147\": {\"frequency\": 6, \"value\": 147}, \"148\": {\"frequency\": 7, \"value\": 148}, \"149\": {\"frequency\": 5, \"value\": 149}, \"150\": {\"frequency\": 9, \"value\": 150}, \"151\": {\"frequency\": 11, \"value\": 151}, \"152\": {\"frequency\": 5, \"value\": 152}, \"153\": {\"frequency\": 8, \"value\": 153}, \"154\": {\"frequency\": 3, \"value\": 154}, \"155\": {\"frequency\": 8, \"value\": 155}, \"156\": {\"frequency\": 9, \"value\": 156}, \"157\": {\"frequency\": 3, \"value\": 157}, \"158\": {\"frequency\": 4, \"value\": 158}, \"159\": {\"frequency\": 7, \"value\": 159}, \"160\": {\"frequency\": 4, \"value\": 160}, \"161\": {\"frequency\": 7, \"value\": 161}, \"162\": {\"frequency\": 6, \"value\": 162}, \"163\": {\"frequency\": 12, \"value\": 163}, \"164\": {\"frequency\": 2, \"value\": 164}, \"165\": {\"frequency\": 5, \"value\": 165}, \"166\": {\"frequency\": 8, \"value\": 166}, \"167\": {\"frequency\": 10, \"value\": 167}, \"168\": {\"frequency\": 8, \"value\": 168}, \"169\": {\"frequency\": 7, \"value\": 169}, \"170\": {\"frequency\": 3, \"value\": 170}, \"171\": {\"frequency\": 6, \"value\": 171}, \"172\": {\"frequency\": 1, \"value\": 172}, \"173\": {\"frequency\": 3, \"value\": 173}, \"174\": {\"frequency\": 7, \"value\": 174}, \"175\": {\"frequency\": 7, \"value\": 175}, \"176\": {\"frequency\": 5, \"value\": 176}, \"177\": {\"frequency\": 2, \"value\": 177}, \"178\": {\"frequency\": 8, \"value\": 178}, \"179\": {\"frequency\": 4, \"value\": 179}, \"180\": {\"frequency\": 5, \"value\": 180}, \"181\": {\"frequency\": 6, \"value\": 181}, \"182\": {\"frequency\": 5, \"value\": 182}, \"183\": {\"frequency\": 4, \"value\": 183}, \"184\": {\"frequency\": 1, \"value\": 184}, \"185\": {\"frequency\": 2, \"value\": 185}, \"186\": {\"frequency\": 1, \"value\": 186}, \"187\": {\"frequency\": 4, \"value\": 187}, \"188\": {\"frequency\": 3, \"value\": 188}, \"189\": {\"frequency\": 5, \"value\": 189}, \"190\": {\"frequency\": 1, \"value\": 190}, \"191\": {\"frequency\": 4, \"value\": 191}, \"192\": {\"frequency\": 2, \"value\": 192}, \"193\": {\"frequency\": 4, \"value\": 193}, \"194\": {\"frequency\": 5, \"value\": 194}, \"195\": {\"frequency\": 3, \"value\": 195}, \"196\": {\"frequency\": 2, \"value\": 196}, \"197\": {\"frequency\": 3, \"value\": 197}, \"198\": {\"frequency\": 1, \"value\": 198}, \"199\": {\"frequency\": 3, \"value\": 199}, \"200\": {\"frequency\": 2, \"value\": 200}, \"201\": {\"frequency\": 2, \"value\": 201}, \"202\": {\"frequency\": 2, \"value\": 202}, \"203\": {\"frequency\": 1, \"value\": 203}, \"204\": {\"frequency\": 3, \"value\": 204}, \"205\": {\"frequency\": 3, \"value\": 205}, \"206\": {\"frequency\": 3, \"value\": 206}, \"207\": {\"frequency\": 1, \"value\": 207}, \"209\": {\"frequency\": 2, \"value\": 209}, \"210\": {\"frequency\": 2, \"value\": 210}, \"211\": {\"frequency\": 4, \"value\": 211}, \"212\": {\"frequency\": 5, \"value\": 212}, \"213\": {\"frequency\": 1, \"value\": 213}, \"214\": {\"frequency\": 4, \"value\": 214}, \"215\": {\"frequency\": 5, \"value\": 215}, \"216\": {\"frequency\": 8, \"value\": 216}, \"217\": {\"frequency\": 1, \"value\": 217}, \"219\": {\"frequency\": 3, \"value\": 219}, \"220\": {\"frequency\": 3, \"value\": 220}, \"222\": {\"frequency\": 1, \"value\": 222}, \"223\": {\"frequency\": 2, \"value\": 223}, \"225\": {\"frequency\": 1, \"value\": 225}, \"226\": {\"frequency\": 1, \"value\": 226}, \"227\": {\"frequency\": 2, \"value\": 227}, \"229\": {\"frequency\": 2, \"value\": 229}, \"231\": {\"frequency\": 2, \"value\": 231}, \"232\": {\"frequency\": 1, \"value\": 232}, \"234\": {\"frequency\": 1, \"value\": 234}, \"235\": {\"frequency\": 1, \"value\": 235}, \"236\": {\"frequency\": 1, \"value\": 236}, \"237\": {\"frequency\": 1, \"value\": 237}, \"238\": {\"frequency\": 3, \"value\": 238}, \"241\": {\"frequency\": 1, \"value\": 241}, \"242\": {\"frequency\": 3, \"value\": 242}, \"243\": {\"frequency\": 1, \"value\": 243}, \"244\": {\"frequency\": 1, \"value\": 244}, \"245\": {\"frequency\": 1, \"value\": 245}, \"246\": {\"frequency\": 2, \"value\": 246}, \"247\": {\"frequency\": 2, \"value\": 247}, \"248\": {\"frequency\": 2, \"value\": 248}, \"249\": {\"frequency\": 1, \"value\": 249}, \"250\": {\"frequency\": 4, \"value\": 250}, \"251\": {\"frequency\": 4, \"value\": 251}, \"252\": {\"frequency\": 3, \"value\": 252}, \"255\": {\"frequency\": 2, \"value\": 255}, \"256\": {\"frequency\": 1, \"value\": 256}, \"258\": {\"frequency\": 1, \"value\": 258}, \"259\": {\"frequency\": 1, \"value\": 259}, \"261\": {\"frequency\": 2, \"value\": 261}, \"262\": {\"frequency\": 1, \"value\": 262}, \"268\": {\"frequency\": 1, \"value\": 268}, \"269\": {\"frequency\": 1, \"value\": 269}, \"271\": {\"frequency\": 3, \"value\": 271}, \"274\": {\"frequency\": 1, \"value\": 274}, \"275\": {\"frequency\": 1, \"value\": 275}, \"276\": {\"frequency\": 1, \"value\": 276}, \"278\": {\"frequency\": 2, \"value\": 278}, \"280\": {\"frequency\": 1, \"value\": 280}, \"282\": {\"frequency\": 3, \"value\": 282}, \"284\": {\"frequency\": 1, \"value\": 284}, \"288\": {\"frequency\": 1, \"value\": 288}, \"292\": {\"frequency\": 1, \"value\": 292}, \"293\": {\"frequency\": 1, \"value\": 293}, \"294\": {\"frequency\": 1, \"value\": 294}, \"296\": {\"frequency\": 1, \"value\": 296}, \"297\": {\"frequency\": 2, \"value\": 297}, \"298\": {\"frequency\": 2, \"value\": 298}, \"300\": {\"frequency\": 2, \"value\": 300}, \"305\": {\"frequency\": 1, \"value\": 305}, \"547\": {\"frequency\": 1, \"value\": 547}, \"310\": {\"frequency\": 1, \"value\": 310}, \"312\": {\"frequency\": 1, \"value\": 312}, \"319\": {\"frequency\": 1, \"value\": 319}, \"321\": {\"frequency\": 1, \"value\": 321}, \"323\": {\"frequency\": 1, \"value\": 323}, \"325\": {\"frequency\": 1, \"value\": 325}, \"326\": {\"frequency\": 2, \"value\": 326}, \"328\": {\"frequency\": 1, \"value\": 328}, \"334\": {\"frequency\": 1, \"value\": 334}, \"335\": {\"frequency\": 1, \"value\": 335}, \"344\": {\"frequency\": 2, \"value\": 344}, \"347\": {\"frequency\": 1, \"value\": 347}, \"350\": {\"frequency\": 1, \"value\": 350}, \"352\": {\"frequency\": 1, \"value\": 352}, \"144\": {\"frequency\": 5, \"value\": 144}, \"363\": {\"frequency\": 1, \"value\": 363}, \"365\": {\"frequency\": 2, \"value\": 365}, \"367\": {\"frequency\": 1, \"value\": 367}, \"373\": {\"frequency\": 1, \"value\": 373}, \"379\": {\"frequency\": 1, \"value\": 379}, \"386\": {\"frequency\": 2, \"value\": 386}, \"390\": {\"frequency\": 1, \"value\": 390}, \"393\": {\"frequency\": 1, \"value\": 393}, \"531\": {\"frequency\": 1, \"value\": 531}, \"406\": {\"frequency\": 1, \"value\": 406}, \"412\": {\"frequency\": 1, \"value\": 412}, \"417\": {\"frequency\": 1, \"value\": 417}, \"781\": {\"frequency\": 1, \"value\": 781}, \"435\": {\"frequency\": 2, \"value\": 435}, \"439\": {\"frequency\": 1, \"value\": 439}, \"453\": {\"frequency\": 1, \"value\": 453}, \"703\": {\"frequency\": 1, \"value\": 703}, \"702\": {\"frequency\": 1, \"value\": 702}, \"617\": {\"frequency\": 1, \"value\": 617}, \"518\": {\"frequency\": 1, \"value\": 518}}, \"mean\": 1.6385019152010218}, \"Tag\": {\"complete\": true, \"numeric\": false, \"num_unique\": 44219, \"num_undefined\": 0, \"progress\": 1.0, \"frequent_items\": {\"dynamic\": {\"frequency\": 6341, \"value\": \"dynamic\"}, \"nsdate\": {\"frequency\": 976, \"value\": \"nsdate\"}, \"sleep\": {\"frequency\": 687, \"value\": \"sleep\"}, \"nsdata\": {\"frequency\": 651, \"value\": \"nsdata\"}, \"const\": {\"frequency\": 963, \"value\": \"const\"}, \"mpmovieplayercontroller\": {\"frequency\": 825, \"value\": \"mpmovieplayercontr ...\"}, \"matlab\": {\"frequency\": 5161, \"value\": \"matlab\"}, \"new-operator\": {\"frequency\": 839, \"value\": \"new-operator\"}, \"html5-canvas\": {\"frequency\": 815, \"value\": \"html5-canvas\"}, \"monodevelop\": {\"frequency\": 768, \"value\": \"monodevelop\"}, \"replication\": {\"frequency\": 943, \"value\": \"replication\"}, \"browser-compatibility\": {\"frequency\": 790, \"value\": \"browser- ...\"}, \"prepared-statement\": {\"frequency\": 825, \"value\": \"prepared-statement\"}, \"namespaces\": {\"frequency\": 2830, \"value\": \"namespaces\"}, \"open-source\": {\"frequency\": 2940, \"value\": \"open-source\"}, \"cmd\": {\"frequency\": 1420, \"value\": \"cmd\"}, \"upload\": {\"frequency\": 3445, \"value\": \"upload\"}, \"rabbitmq\": {\"frequency\": 668, \"value\": \"rabbitmq\"}, \"vector\": {\"frequency\": 3162, \"value\": \"vector\"}, \"nsarray\": {\"frequency\": 1265, \"value\": \"nsarray\"}, \"listview\": {\"frequency\": 6391, \"value\": \"listview\"}, \"netbeans\": {\"frequency\": 4437, \"value\": \"netbeans\"}, \"virtualization\": {\"frequency\": 684, \"value\": \"virtualization\"}, \"hide\": {\"frequency\": 1293, \"value\": \"hide\"}, \"preferences\": {\"frequency\": 635, \"value\": \"preferences\"}, \"android-intent\": {\"frequency\": 3893, \"value\": \"android-intent\"}, \"workflow\": {\"frequency\": 1572, \"value\": \"workflow\"}, \"development-environment\": {\"frequency\": 715, \"value\": \"development- ...\"}, \"metadata\": {\"frequency\": 1208, \"value\": \"metadata\"}, \"widget\": {\"frequency\": 2379, \"value\": \"widget\"}, \"mef\": {\"frequency\": 715, \"value\": \"mef\"}, \"equals\": {\"frequency\": 625, \"value\": \"equals\"}, \"ssl-certificate\": {\"frequency\": 1001, \"value\": \"ssl-certificate\"}, \"studio\": {\"frequency\": 916, \"value\": \"studio\"}, \"javamail\": {\"frequency\": 642, \"value\": \"javamail\"}, \"path\": {\"frequency\": 3177, \"value\": \"path\"}, \"visual-studio-2012\": {\"frequency\": 1030, \"value\": \"visual-studio-2012\"}, \"itunes\": {\"frequency\": 955, \"value\": \"itunes\"}, \"dependencies\": {\"frequency\": 1939, \"value\": \"dependencies\"}, \"jquery-ajax\": {\"frequency\": 6577, \"value\": \"jquery-ajax\"}, \"opengraph\": {\"frequency\": 827, \"value\": \"opengraph\"}, \"replace\": {\"frequency\": 2781, \"value\": \"replace\"}, \"unix\": {\"frequency\": 5885, \"value\": \"unix\"}, \"mysqldump\": {\"frequency\": 650, \"value\": \"mysqldump\"}, \"printf\": {\"frequency\": 874, \"value\": \"printf\"}, \"parameter-passing\": {\"frequency\": 906, \"value\": \"parameter-passing\"}, \"plot\": {\"frequency\": 1501, \"value\": \"plot\"}, \"bundler\": {\"frequency\": 807, \"value\": \"bundler\"}, \"backgroundworker\": {\"frequency\": 886, \"value\": \"backgroundworker\"}, \"music\": {\"frequency\": 818, \"value\": \"music\"}, \"dns\": {\"frequency\": 3268, \"value\": \"dns\"}, \"annotations\": {\"frequency\": 2321, \"value\": \"annotations\"}, \"jms\": {\"frequency\": 1225, \"value\": \"jms\"}, \"phone\": {\"frequency\": 1014, \"value\": \"phone\"}, \"webbrowser\": {\"frequency\": 1723, \"value\": \"webbrowser\"}, \"real-time\": {\"frequency\": 1004, \"value\": \"real-time\"}, \"prism\": {\"frequency\": 785, \"value\": \"prism\"}, \"computer-vision\": {\"frequency\": 718, \"value\": \"computer-vision\"}, \"join\": {\"frequency\": 5370, \"value\": \"join\"}, \"setup\": {\"frequency\": 1129, \"value\": \"setup\"}, \"eclipse\": {\"frequency\": 18795, \"value\": \"eclipse\"}, \"jtable\": {\"frequency\": 1100, \"value\": \"jtable\"}, \"install\": {\"frequency\": 1760, \"value\": \"install\"}, \"jquery-mobile\": {\"frequency\": 3777, \"value\": \"jquery-mobile\"}, \"root\": {\"frequency\": 774, \"value\": \"root\"}, \"scripting\": {\"frequency\": 3734, \"value\": \"scripting\"}, \"wordpress-theming\": {\"frequency\": 935, \"value\": \"wordpress-theming\"}, \"smtp\": {\"frequency\": 2025, \"value\": \"smtp\"}, \"titanium\": {\"frequency\": 875, \"value\": \"titanium\"}, \"scheduling\": {\"frequency\": 718, \"value\": \"scheduling\"}, \"plist\": {\"frequency\": 1104, \"value\": \"plist\"}, \"sharepoint\": {\"frequency\": 4992, \"value\": \"sharepoint\"}, \"avfoundation\": {\"frequency\": 744, \"value\": \"avfoundation\"}, \"actionscript\": {\"frequency\": 3281, \"value\": \"actionscript\"}, \".net-3.5\": {\"frequency\": 2102, \"value\": \".net-3.5\"}, \"nhibernate\": {\"frequency\": 4876, \"value\": \"nhibernate\"}, \"config\": {\"frequency\": 708, \"value\": \"config\"}, \"calayer\": {\"frequency\": 703, \"value\": \"calayer\"}, \"types\": {\"frequency\": 4002, \"value\": \"types\"}, \"bootstrap\": {\"frequency\": 752, \"value\": \"bootstrap\"}, \"e-commerce\": {\"frequency\": 1513, \"value\": \"e-commerce\"}, \"complexity\": {\"frequency\": 685, \"value\": \"complexity\"}, \"order\": {\"frequency\": 1406, \"value\": \"order\"}, \"office\": {\"frequency\": 625, \"value\": \"office\"}, \"jpeg\": {\"frequency\": 798, \"value\": \"jpeg\"}, \"x64\": {\"frequency\": 680, \"value\": \"x64\"}, \"syntax-error\": {\"frequency\": 766, \"value\": \"syntax-error\"}, \"keyboard-shortcuts\": {\"frequency\": 1204, \"value\": \"keyboard-shortcuts\"}, \"concurrency\": {\"frequency\": 3293, \"value\": \"concurrency\"}, \"keyboard\": {\"frequency\": 2683, \"value\": \"keyboard\"}, \"textbox\": {\"frequency\": 2734, \"value\": \"textbox\"}, \"cli\": {\"frequency\": 792, \"value\": \"cli\"}, \"img\": {\"frequency\": 860, \"value\": \"img\"}, \"android-ndk\": {\"frequency\": 1668, \"value\": \"android-ndk\"}, \"glassfish\": {\"frequency\": 1601, \"value\": \"glassfish\"}, \"hidden\": {\"frequency\": 683, \"value\": \"hidden\"}, \"erlang\": {\"frequency\": 1109, \"value\": \"erlang\"}, \"clr\": {\"frequency\": 1175, \"value\": \"clr\"}, \"css-float\": {\"frequency\": 903, \"value\": \"css-float\"}, \"fragment\": {\"frequency\": 623, \"value\": \"fragment\"}, \"refactoring\": {\"frequency\": 1982, \"value\": \"refactoring\"}, \"environment-variables\": {\"frequency\": 1097, \"value\": \"environment- ...\"}, \"decorator\": {\"frequency\": 702, \"value\": \"decorator\"}, \"left-join\": {\"frequency\": 978, \"value\": \"left-join\"}, \"fonts\": {\"frequency\": 3385, \"value\": \"fonts\"}, \"odbc\": {\"frequency\": 1558, \"value\": \"odbc\"}, \"subquery\": {\"frequency\": 1294, \"value\": \"subquery\"}, \"hql\": {\"frequency\": 1017, \"value\": \"hql\"}, \"timeout\": {\"frequency\": 2204, \"value\": \"timeout\"}, \"each\": {\"frequency\": 636, \"value\": \"each\"}, \"google-analytics\": {\"frequency\": 1957, \"value\": \"google-analytics\"}, \"adobe\": {\"frequency\": 1643, \"value\": \"adobe\"}, \"interop\": {\"frequency\": 1883, \"value\": \"interop\"}, \"functional-programming\": {\"frequency\": 1991, \"value\": \"functional- ...\"}, \"android-manifest\": {\"frequency\": 995, \"value\": \"android-manifest\"}, \"mongoid\": {\"frequency\": 845, \"value\": \"mongoid\"}, \"extract\": {\"frequency\": 855, \"value\": \"extract\"}, \"whitespace\": {\"frequency\": 886, \"value\": \"whitespace\"}, \"gradient\": {\"frequency\": 691, \"value\": \"gradient\"}, \"open\": {\"frequency\": 1004, \"value\": \"open\"}, \"sms\": {\"frequency\": 1842, \"value\": \"sms\"}, \"content\": {\"frequency\": 1408, \"value\": \"content\"}, \"generics\": {\"frequency\": 6517, \"value\": \"generics\"}, \"size\": {\"frequency\": 1923, \"value\": \"size\"}, \"ado.net\": {\"frequency\": 2572, \"value\": \"ado.net\"}, \"build-process\": {\"frequency\": 1152, \"value\": \"build-process\"}, \"windows-vista\": {\"frequency\": 1113, \"value\": \"windows-vista\"}, \"free\": {\"frequency\": 850, \"value\": \"free\"}, \"segmentation-fault\": {\"frequency\": 1436, \"value\": \"segmentation-fault\"}, \"md5\": {\"frequency\": 1013, \"value\": \"md5\"}, \"logging\": {\"frequency\": 6305, \"value\": \"logging\"}, \"ckeditor\": {\"frequency\": 1111, \"value\": \"ckeditor\"}, \"client-server\": {\"frequency\": 1425, \"value\": \"client-server\"}, \"activerecord\": {\"frequency\": 4492, \"value\": \"activerecord\"}, \"openssl\": {\"frequency\": 1647, \"value\": \"openssl\"}, \"filter\": {\"frequency\": 3436, \"value\": \"filter\"}, \"mvc\": {\"frequency\": 11760, \"value\": \"mvc\"}, \"benchmarking\": {\"frequency\": 748, \"value\": \"benchmarking\"}, \"windows-mobile\": {\"frequency\": 1328, \"value\": \"windows-mobile\"}, \"observablecollection\": {\"frequency\": 627, \"value\": \"observablecollecti ...\"}, \"render\": {\"frequency\": 835, \"value\": \"render\"}, \"hook\": {\"frequency\": 1222, \"value\": \"hook\"}, \"mingw\": {\"frequency\": 1060, \"value\": \"mingw\"}, \"customization\": {\"frequency\": 1118, \"value\": \"customization\"}, \"xib\": {\"frequency\": 642, \"value\": \"xib\"}, \"service\": {\"frequency\": 4942, \"value\": \"service\"}, \"struts\": {\"frequency\": 1290, \"value\": \"struts\"}, \"twisted\": {\"frequency\": 718, \"value\": \"twisted\"}, \"visual-studio-2008\": {\"frequency\": 6500, \"value\": \"visual-studio-2008\"}, \"jstl\": {\"frequency\": 1104, \"value\": \"jstl\"}, \"visual-studio-2005\": {\"frequency\": 1390, \"value\": \"visual-studio-2005\"}, \"uinavigationbar\": {\"frequency\": 994, \"value\": \"uinavigationbar\"}, \"http-headers\": {\"frequency\": 2079, \"value\": \"http-headers\"}, \"keyword\": {\"frequency\": 670, \"value\": \"keyword\"}, \"tree\": {\"frequency\": 2641, \"value\": \"tree\"}, \"project\": {\"frequency\": 1488, \"value\": \"project\"}, \"file-upload\": {\"frequency\": 4821, \"value\": \"file-upload\"}, \"zend-framework\": {\"frequency\": 4519, \"value\": \"zend-framework\"}, \"treeview\": {\"frequency\": 1948, \"value\": \"treeview\"}, \"gae-datastore\": {\"frequency\": 771, \"value\": \"gae-datastore\"}, \"uiview\": {\"frequency\": 3327, \"value\": \"uiview\"}, \"build-automation\": {\"frequency\": 922, \"value\": \"build-automation\"}, \"websocket\": {\"frequency\": 1406, \"value\": \"websocket\"}, \"rewrite\": {\"frequency\": 1489, \"value\": \"rewrite\"}, \"many-to-many\": {\"frequency\": 1642, \"value\": \"many-to-many\"}, \"mkmapview\": {\"frequency\": 1048, \"value\": \"mkmapview\"}, \"microsoft-metro\": {\"frequency\": 872, \"value\": \"microsoft-metro\"}, \"visual-studio\": {\"frequency\": 11255, \"value\": \"visual-studio\"}, \"transactions\": {\"frequency\": 3111, \"value\": \"transactions\"}, \"usercontrols\": {\"frequency\": 3136, \"value\": \"usercontrols\"}, \"pyqt4\": {\"frequency\": 648, \"value\": \"pyqt4\"}, \"mstest\": {\"frequency\": 738, \"value\": \"mstest\"}, \"webcam\": {\"frequency\": 746, \"value\": \"webcam\"}, \"dom\": {\"frequency\": 6167, \"value\": \"dom\"}, \"classloader\": {\"frequency\": 856, \"value\": \"classloader\"}, \"wildcard\": {\"frequency\": 705, \"value\": \"wildcard\"}, \"dos\": {\"frequency\": 851, \"value\": \"dos\"}, \"language-agnostic\": {\"frequency\": 2692, \"value\": \"language-agnostic\"}, \"xampp\": {\"frequency\": 1256, \"value\": \"xampp\"}, \"random\": {\"frequency\": 3929, \"value\": \"random\"}, \"html-parsing\": {\"frequency\": 1218, \"value\": \"html-parsing\"}, \"syntax\": {\"frequency\": 3569, \"value\": \"syntax\"}, \"mediawiki\": {\"frequency\": 624, \"value\": \"mediawiki\"}, \"font-face\": {\"frequency\": 805, \"value\": \"font-face\"}, \"layout\": {\"frequency\": 5871, \"value\": \"layout\"}, \"implementation\": {\"frequency\": 859, \"value\": \"implementation\"}, \"menu\": {\"frequency\": 3657, \"value\": \"menu\"}, \"cross-platform\": {\"frequency\": 1501, \"value\": \"cross-platform\"}, \"ldap\": {\"frequency\": 1839, \"value\": \"ldap\"}, \"folder\": {\"frequency\": 1146, \"value\": \"folder\"}, \"cryptography\": {\"frequency\": 1844, \"value\": \"cryptography\"}, \"pass-by-reference\": {\"frequency\": 735, \"value\": \"pass-by-reference\"}, \"amazon\": {\"frequency\": 1139, \"value\": \"amazon\"}, \"report\": {\"frequency\": 1522, \"value\": \"report\"}, \"delete\": {\"frequency\": 3229, \"value\": \"delete\"}, \"fields\": {\"frequency\": 655, \"value\": \"fields\"}, \"ienumerable\": {\"frequency\": 846, \"value\": \"ienumerable\"}, \"reload\": {\"frequency\": 658, \"value\": \"reload\"}, \"architecture\": {\"frequency\": 4242, \"value\": \"architecture\"}, \"release\": {\"frequency\": 1010, \"value\": \"release\"}, \"clickonce\": {\"frequency\": 1007, \"value\": \"clickonce\"}, \"reference\": {\"frequency\": 3516, \"value\": \"reference\"}, \"wpf-controls\": {\"frequency\": 1460, \"value\": \"wpf-controls\"}, \"testing\": {\"frequency\": 7048, \"value\": \"testing\"}, \"jquery-plugins\": {\"frequency\": 4961, \"value\": \"jquery-plugins\"}, \"analytics\": {\"frequency\": 1000, \"value\": \"analytics\"}, \"escaping\": {\"frequency\": 1809, \"value\": \"escaping\"}, \"web-applications\": {\"frequency\": 6217, \"value\": \"web-applications\"}, \"static-libraries\": {\"frequency\": 825, \"value\": \"static-libraries\"}, \"delphi\": {\"frequency\": 3363, \"value\": \"delphi\"}, \"jquery-validate\": {\"frequency\": 1399, \"value\": \"jquery-validate\"}, \"html5\": {\"frequency\": 13586, \"value\": \"html5\"}, \"opengl-es\": {\"frequency\": 2181, \"value\": \"opengl-es\"}, \"packages\": {\"frequency\": 658, \"value\": \"packages\"}, \"ssrs-2008\": {\"frequency\": 998, \"value\": \"ssrs-2008\"}, \"gdi+\": {\"frequency\": 825, \"value\": \"gdi+\"}, \"triggers\": {\"frequency\": 2858, \"value\": \"triggers\"}, \"adapter\": {\"frequency\": 813, \"value\": \"adapter\"}, \"tfs2010\": {\"frequency\": 1416, \"value\": \"tfs2010\"}, \"syntax-highlighting\": {\"frequency\": 970, \"value\": \"syntax- ...\"}, \"logic\": {\"frequency\": 1338, \"value\": \"logic\"}, \"global-variables\": {\"frequency\": 1367, \"value\": \"global-variables\"}, \"login\": {\"frequency\": 4281, \"value\": \"login\"}, \"com\": {\"frequency\": 3413, \"value\": \"com\"}, \"highcharts\": {\"frequency\": 854, \"value\": \"highcharts\"}, \"facebook-opengraph\": {\"frequency\": 690, \"value\": \"facebook-opengraph\"}, \"master-pages\": {\"frequency\": 1177, \"value\": \"master-pages\"}, \"height\": {\"frequency\": 1645, \"value\": \"height\"}, \"kohana\": {\"frequency\": 644, \"value\": \"kohana\"}, \"diff\": {\"frequency\": 1292, \"value\": \"diff\"}, \"guid\": {\"frequency\": 677, \"value\": \"guid\"}, \"codeigniter\": {\"frequency\": 4995, \"value\": \"codeigniter\"}, \"opencv\": {\"frequency\": 3332, \"value\": \"opencv\"}, \"union\": {\"frequency\": 984, \"value\": \"union\"}, \"dreamweaver\": {\"frequency\": 822, \"value\": \"dreamweaver\"}, \"basic\": {\"frequency\": 666, \"value\": \"basic\"}, \"tutorials\": {\"frequency\": 1278, \"value\": \"tutorials\"}, \"numpy\": {\"frequency\": 1822, \"value\": \"numpy\"}, \"containers\": {\"frequency\": 876, \"value\": \"containers\"}, \"website\": {\"frequency\": 3313, \"value\": \"website\"}, \"sprite\": {\"frequency\": 760, \"value\": \"sprite\"}, \"source-code\": {\"frequency\": 1197, \"value\": \"source-code\"}, \"datatable\": {\"frequency\": 2269, \"value\": \"datatable\"}, \"exception\": {\"frequency\": 7821, \"value\": \"exception\"}, \"air\": {\"frequency\": 2270, \"value\": \"air\"}, \"formatting\": {\"frequency\": 2521, \"value\": \"formatting\"}, \"anchor\": {\"frequency\": 935, \"value\": \"anchor\"}, \"visual-studio-2010\": {\"frequency\": 14548, \"value\": \"visual-studio-2010\"}, \"project-management\": {\"frequency\": 1267, \"value\": \"project-management\"}, \"joomla1.5\": {\"frequency\": 623, \"value\": \"joomla1.5\"}, \"data-structures\": {\"frequency\": 3999, \"value\": \"data-structures\"}, \"ip\": {\"frequency\": 1725, \"value\": \"ip\"}, \"io\": {\"frequency\": 2583, \"value\": \"io\"}, \"mouse\": {\"frequency\": 1334, \"value\": \"mouse\"}, \"httprequest\": {\"frequency\": 811, \"value\": \"httprequest\"}, \"recursion\": {\"frequency\": 3875, \"value\": \"recursion\"}, \"make\": {\"frequency\": 1737, \"value\": \"make\"}, \"couchdb\": {\"frequency\": 1164, \"value\": \"couchdb\"}, \"google-apps-script\": {\"frequency\": 680, \"value\": \"google-apps-script\"}, \"split\": {\"frequency\": 2157, \"value\": \"split\"}, \"extjs4\": {\"frequency\": 912, \"value\": \"extjs4\"}, \"log4j\": {\"frequency\": 1672, \"value\": \"log4j\"}, \"templates\": {\"frequency\": 7550, \"value\": \"templates\"}, \"filenames\": {\"frequency\": 717, \"value\": \"filenames\"}, \"android-fragments\": {\"frequency\": 1035, \"value\": \"android-fragments\"}, \"normalization\": {\"frequency\": 694, \"value\": \"normalization\"}, \"jframe\": {\"frequency\": 1041, \"value\": \"jframe\"}, \"contextmenu\": {\"frequency\": 1194, \"value\": \"contextmenu\"}, \"uisplitviewcontroller\": {\"frequency\": 698, \"value\": \"uisplitviewcontrol ...\"}, \"client\": {\"frequency\": 1954, \"value\": \"client\"}, \"gzip\": {\"frequency\": 1250, \"value\": \"gzip\"}, \"settimeout\": {\"frequency\": 756, \"value\": \"settimeout\"}, \"asihttprequest\": {\"frequency\": 736, \"value\": \"asihttprequest\"}, \"solaris\": {\"frequency\": 686, \"value\": \"solaris\"}, \"dependency-properties\": {\"frequency\": 626, \"value\": \"dependency- ...\"}, \"photo\": {\"frequency\": 757, \"value\": \"photo\"}, \"garbage-collection\": {\"frequency\": 2323, \"value\": \"garbage-collection\"}, \"visualization\": {\"frequency\": 825, \"value\": \"visualization\"}, \"ms-access-2007\": {\"frequency\": 799, \"value\": \"ms-access-2007\"}, \"xmlhttprequest\": {\"frequency\": 1878, \"value\": \"xmlhttprequest\"}, \"instance\": {\"frequency\": 951, \"value\": \"instance\"}, \"agile\": {\"frequency\": 688, \"value\": \"agile\"}, \"character\": {\"frequency\": 1370, \"value\": \"character\"}, \"fortran\": {\"frequency\": 760, \"value\": \"fortran\"}, \"tuples\": {\"frequency\": 803, \"value\": \"tuples\"}, \"collections\": {\"frequency\": 4030, \"value\": \"collections\"}, \"save\": {\"frequency\": 1737, \"value\": \"save\"}, \"database-design\": {\"frequency\": 5646, \"value\": \"database-design\"}, \"casting\": {\"frequency\": 3388, \"value\": \"casting\"}, \"filestream\": {\"frequency\": 635, \"value\": \"filestream\"}, \"linked-list\": {\"frequency\": 1367, \"value\": \"linked-list\"}, \"console-application\": {\"frequency\": 929, \"value\": \"console- ...\"}, \"background\": {\"frequency\": 3390, \"value\": \"background\"}, \"unique\": {\"frequency\": 993, \"value\": \"unique\"}, \"daemon\": {\"frequency\": 667, \"value\": \"daemon\"}, \"zoom\": {\"frequency\": 1213, \"value\": \"zoom\"}, \"windows-server-2003\": {\"frequency\": 658, \"value\": \"windows- ...\"}, \"app-store\": {\"frequency\": 1670, \"value\": \"app-store\"}, \"memory-leaks\": {\"frequency\": 3854, \"value\": \"memory-leaks\"}, \"windows-server-2008\": {\"frequency\": 1243, \"value\": \"windows- ...\"}, \"form-validation\": {\"frequency\": 1507, \"value\": \"form-validation\"}, \"fancybox\": {\"frequency\": 1656, \"value\": \"fancybox\"}, \"centos\": {\"frequency\": 1261, \"value\": \"centos\"}, \"connection-string\": {\"frequency\": 1024, \"value\": \"connection-string\"}, \"multiple\": {\"frequency\": 1897, \"value\": \"multiple\"}, \"facebook-php-sdk\": {\"frequency\": 725, \"value\": \"facebook-php-sdk\"}, \"applescript\": {\"frequency\": 1156, \"value\": \"applescript\"}, \"comments\": {\"frequency\": 2147, \"value\": \"comments\"}, \"uml\": {\"frequency\": 1363, \"value\": \"uml\"}, \"uigesturerecognizer\": {\"frequency\": 670, \"value\": \"uigesturerecognize ...\"}, \"geocoding\": {\"frequency\": 761, \"value\": \"geocoding\"}, \"localhost\": {\"frequency\": 1266, \"value\": \"localhost\"}, \"core\": {\"frequency\": 751, \"value\": \"core\"}, \"repository\": {\"frequency\": 1763, \"value\": \"repository\"}, \"post\": {\"frequency\": 6518, \"value\": \"post\"}, \"properties\": {\"frequency\": 4151, \"value\": \"properties\"}, \"postgresql\": {\"frequency\": 6651, \"value\": \"postgresql\"}, \"lightbox\": {\"frequency\": 864, \"value\": \"lightbox\"}, \"google-maps\": {\"frequency\": 7436, \"value\": \"google-maps\"}, \"foreign-keys\": {\"frequency\": 1780, \"value\": \"foreign-keys\"}, \"joomla\": {\"frequency\": 2796, \"value\": \"joomla\"}, \"wordpress-plugin\": {\"frequency\": 1483, \"value\": \"wordpress-plugin\"}, \"azure\": {\"frequency\": 2572, \"value\": \"azure\"}, \"commit\": {\"frequency\": 754, \"value\": \"commit\"}, \"runtime\": {\"frequency\": 1737, \"value\": \"runtime\"}, \"query-optimization\": {\"frequency\": 1073, \"value\": \"query-optimization\"}, \"soa\": {\"frequency\": 648, \"value\": \"soa\"}, \"float\": {\"frequency\": 2222, \"value\": \"float\"}, \"parsing\": {\"frequency\": 9476, \"value\": \"parsing\"}, \"rendering\": {\"frequency\": 1386, \"value\": \"rendering\"}, \"haskell\": {\"frequency\": 3010, \"value\": \"haskell\"}, \"doctrine\": {\"frequency\": 1610, \"value\": \"doctrine\"}, \"git\": {\"frequency\": 11787, \"value\": \"git\"}, \"gis\": {\"frequency\": 685, \"value\": \"gis\"}, \"compression\": {\"frequency\": 1904, \"value\": \"compression\"}, \"configuration-files\": {\"frequency\": 648, \"value\": \"configuration- ...\"}, \"transform\": {\"frequency\": 979, \"value\": \"transform\"}, \"class\": {\"frequency\": 10072, \"value\": \"class\"}, \"width\": {\"frequency\": 1580, \"value\": \"width\"}, \"wordpress\": {\"frequency\": 10928, \"value\": \"wordpress\"}, \"editor\": {\"frequency\": 1993, \"value\": \"editor\"}, \"call\": {\"frequency\": 1245, \"value\": \"call\"}, \"iis7\": {\"frequency\": 4053, \"value\": \"iis7\"}, \"war\": {\"frequency\": 655, \"value\": \"war\"}, \"httpclient\": {\"frequency\": 1020, \"value\": \"httpclient\"}, \"fork\": {\"frequency\": 950, \"value\": \"fork\"}, \"sqlalchemy\": {\"frequency\": 1154, \"value\": \"sqlalchemy\"}, \"preg-match\": {\"frequency\": 1067, \"value\": \"preg-match\"}, \"paypal\": {\"frequency\": 2361, \"value\": \"paypal\"}, \"notifications\": {\"frequency\": 2362, \"value\": \"notifications\"}, \"heap\": {\"frequency\": 1168, \"value\": \"heap\"}, \"android-linearlayout\": {\"frequency\": 726, \"value\": \"android- ...\"}, \"arrays\": {\"frequency\": 21950, \"value\": \"arrays\"}, \"devexpress\": {\"frequency\": 927, \"value\": \"devexpress\"}, \"jboss\": {\"frequency\": 2506, \"value\": \"jboss\"}, \"paging\": {\"frequency\": 870, \"value\": \"paging\"}, \"google-maps-markers\": {\"frequency\": 623, \"value\": \"google-maps- ...\"}, \"powershell\": {\"frequency\": 3474, \"value\": \"powershell\"}, \"youtube-api\": {\"frequency\": 933, \"value\": \"youtube-api\"}, \"passenger\": {\"frequency\": 816, \"value\": \"passenger\"}, \"obfuscation\": {\"frequency\": 709, \"value\": \"obfuscation\"}, \"sql-order-by\": {\"frequency\": 1291, \"value\": \"sql-order-by\"}, \"zend\": {\"frequency\": 1052, \"value\": \"zend\"}, \"full-text-search\": {\"frequency\": 1784, \"value\": \"full-text-search\"}, \"timezone\": {\"frequency\": 1934, \"value\": \"timezone\"}, \"haml\": {\"frequency\": 833, \"value\": \"haml\"}, \"uipickerview\": {\"frequency\": 700, \"value\": \"uipickerview\"}, \"excel\": {\"frequency\": 10025, \"value\": \"excel\"}, \"entity-framework-4\": {\"frequency\": 3093, \"value\": \"entity-framework-4\"}, \"sybase\": {\"frequency\": 666, \"value\": \"sybase\"}, \"jenkins\": {\"frequency\": 1441, \"value\": \"jenkins\"}, \"models\": {\"frequency\": 729, \"value\": \"models\"}, \"jaxb\": {\"frequency\": 1880, \"value\": \"jaxb\"}, \"urllib2\": {\"frequency\": 690, \"value\": \"urllib2\"}, \"webserver\": {\"frequency\": 1733, \"value\": \"webserver\"}, \"parent-child\": {\"frequency\": 866, \"value\": \"parent-child\"}, \"debian\": {\"frequency\": 1099, \"value\": \"debian\"}, \"contacts\": {\"frequency\": 796, \"value\": \"contacts\"}, \"time\": {\"frequency\": 4314, \"value\": \"time\"}, \"push\": {\"frequency\": 1109, \"value\": \"push\"}, \"osx\": {\"frequency\": 12915, \"value\": \"osx\"}, \"twitter-bootstrap\": {\"frequency\": 1889, \"value\": \"twitter-bootstrap\"}, \"iterator\": {\"frequency\": 2004, \"value\": \"iterator\"}, \"global\": {\"frequency\": 819, \"value\": \"global\"}, \"focus\": {\"frequency\": 1927, \"value\": \"focus\"}, \"themes\": {\"frequency\": 1750, \"value\": \"themes\"}, \"subclass\": {\"frequency\": 831, \"value\": \"subclass\"}, \"row\": {\"frequency\": 1253, \"value\": \"row\"}, \"graph\": {\"frequency\": 3914, \"value\": \"graph\"}, \"flash\": {\"frequency\": 10979, \"value\": \"flash\"}, \"jvm\": {\"frequency\": 1875, \"value\": \"jvm\"}, \"http-post\": {\"frequency\": 1062, \"value\": \"http-post\"}, \"string\": {\"frequency\": 18170, \"value\": \"string\"}, \"nsdictionary\": {\"frequency\": 937, \"value\": \"nsdictionary\"}, \"switch-statement\": {\"frequency\": 1021, \"value\": \"switch-statement\"}, \"word\": {\"frequency\": 1685, \"value\": \"word\"}, \"subprocess\": {\"frequency\": 829, \"value\": \"subprocess\"}, \"jqgrid\": {\"frequency\": 2211, \"value\": \"jqgrid\"}, \"gui\": {\"frequency\": 6664, \"value\": \"gui\"}, \"function-pointers\": {\"frequency\": 756, \"value\": \"function-pointers\"}, \"standards\": {\"frequency\": 1060, \"value\": \"standards\"}, \"div\": {\"frequency\": 5739, \"value\": \"div\"}, \"nhibernate-mapping\": {\"frequency\": 1065, \"value\": \"nhibernate-mapping\"}, \"multiprocessing\": {\"frequency\": 787, \"value\": \"multiprocessing\"}, \"edittext\": {\"frequency\": 1202, \"value\": \"edittext\"}, \"aptana\": {\"frequency\": 993, \"value\": \"aptana\"}, \"phpunit\": {\"frequency\": 1071, \"value\": \"phpunit\"}, \"uiscrollview\": {\"frequency\": 2490, \"value\": \"uiscrollview\"}, \"pinvoke\": {\"frequency\": 924, \"value\": \"pinvoke\"}, \"port\": {\"frequency\": 1210, \"value\": \"port\"}, \"windows-installer\": {\"frequency\": 1111, \"value\": \"windows-installer\"}, \"64bit\": {\"frequency\": 1578, \"value\": \"64bit\"}, \"beautifulsoup\": {\"frequency\": 687, \"value\": \"beautifulsoup\"}, \"reporting-services\": {\"frequency\": 2813, \"value\": \"reporting-services\"}, \"ssis\": {\"frequency\": 1785, \"value\": \"ssis\"}, \"iphone-sdk-3.0\": {\"frequency\": 1207, \"value\": \"iphone-sdk-3.0\"}, \"boost\": {\"frequency\": 3700, \"value\": \"boost\"}, \"transparency\": {\"frequency\": 1155, \"value\": \"transparency\"}, \"windows-8\": {\"frequency\": 1279, \"value\": \"windows-8\"}, \"xcode4.3\": {\"frequency\": 712, \"value\": \"xcode4.3\"}, \"xcode4.2\": {\"frequency\": 1358, \"value\": \"xcode4.2\"}, \"address\": {\"frequency\": 752, \"value\": \"address\"}, \"apache\": {\"frequency\": 13641, \"value\": \"apache\"}, \"windows-7\": {\"frequency\": 4553, \"value\": \"windows-7\"}, \"vb.net\": {\"frequency\": 10693, \"value\": \"vb.net\"}, \"queue\": {\"frequency\": 1623, \"value\": \"queue\"}, \"navigation\": {\"frequency\": 2542, \"value\": \"navigation\"}, \"ipc\": {\"frequency\": 891, \"value\": \"ipc\"}, \"social-networking\": {\"frequency\": 731, \"value\": \"social-networking\"}, \"android-widget\": {\"frequency\": 2101, \"value\": \"android-widget\"}, \"licensing\": {\"frequency\": 2044, \"value\": \"licensing\"}, \"android-actionbar\": {\"frequency\": 734, \"value\": \"android-actionbar\"}, \"intellij-idea\": {\"frequency\": 1509, \"value\": \"intellij-idea\"}, \"regex\": {\"frequency\": 25122, \"value\": \"regex\"}, \"mouseevent\": {\"frequency\": 1054, \"value\": \"mouseevent\"}, \"perl\": {\"frequency\": 8455, \"value\": \"perl\"}, \"live\": {\"frequency\": 814, \"value\": \"live\"}, \"handler\": {\"frequency\": 942, \"value\": \"handler\"}, \"iphone\": {\"frequency\": 35749, \"value\": \"iphone\"}, \"msi\": {\"frequency\": 962, \"value\": \"msi\"}, \"httpwebrequest\": {\"frequency\": 2022, \"value\": \"httpwebrequest\"}, \"scope\": {\"frequency\": 2264, \"value\": \"scope\"}, \"android-activity\": {\"frequency\": 911, \"value\": \"android-activity\"}, \"visual\": {\"frequency\": 2353, \"value\": \"visual\"}, \"monotouch\": {\"frequency\": 1052, \"value\": \"monotouch\"}, \"oop\": {\"frequency\": 8996, \"value\": \"oop\"}, \"captcha\": {\"frequency\": 660, \"value\": \"captcha\"}, \"try-catch\": {\"frequency\": 1123, \"value\": \"try-catch\"}, \"box2d\": {\"frequency\": 640, \"value\": \"box2d\"}, \"entity-framework-4.1\": {\"frequency\": 1320, \"value\": \"entity- ...\"}, \"ninject\": {\"frequency\": 909, \"value\": \"ninject\"}, \"printing\": {\"frequency\": 4118, \"value\": \"printing\"}, \"iframe\": {\"frequency\": 5758, \"value\": \"iframe\"}, \"nsmutablearray\": {\"frequency\": 1518, \"value\": \"nsmutablearray\"}, \"sql-injection\": {\"frequency\": 722, \"value\": \"sql-injection\"}, \"stream\": {\"frequency\": 2711, \"value\": \"stream\"}, \"silverlight-3.0\": {\"frequency\": 796, \"value\": \"silverlight-3.0\"}, \"substring\": {\"frequency\": 904, \"value\": \"substring\"}, \"google-chrome-extension\": {\"frequency\": 2052, \"value\": \"google-chrome- ...\"}, \"uiimagepickercontroller\": {\"frequency\": 956, \"value\": \"uiimagepickercontr ...\"}, \"c++11\": {\"frequency\": 1231, \"value\": \"c++11\"}, \"monitoring\": {\"frequency\": 956, \"value\": \"monitoring\"}, \"msmq\": {\"frequency\": 676, \"value\": \"msmq\"}, \"inheritance\": {\"frequency\": 6283, \"value\": \"inheritance\"}, \"asmx\": {\"frequency\": 732, \"value\": \"asmx\"}, \"threadpool\": {\"frequency\": 850, \"value\": \"threadpool\"}, \"foreach\": {\"frequency\": 2567, \"value\": \"foreach\"}, \"xhtml\": {\"frequency\": 2610, \"value\": \"xhtml\"}, \"map\": {\"frequency\": 3802, \"value\": \"map\"}, \"explorer\": {\"frequency\": 644, \"value\": \"explorer\"}, \"max\": {\"frequency\": 759, \"value\": \"max\"}, \"clone\": {\"frequency\": 1058, \"value\": \"clone\"}, \"aop\": {\"frequency\": 817, \"value\": \"aop\"}, \"date\": {\"frequency\": 7202, \"value\": \"date\"}, \"data\": {\"frequency\": 5650, \"value\": \"data\"}, \"compatibility\": {\"frequency\": 847, \"value\": \"compatibility\"}, \"listener\": {\"frequency\": 1070, \"value\": \"listener\"}, \"html-lists\": {\"frequency\": 1077, \"value\": \"html-lists\"}, \"entity-framework\": {\"frequency\": 7924, \"value\": \"entity-framework\"}, \"dojo\": {\"frequency\": 1869, \"value\": \"dojo\"}, \"webpage\": {\"frequency\": 668, \"value\": \"webpage\"}, \"database-connection\": {\"frequency\": 1297, \"value\": \"database- ...\"}, \"entity\": {\"frequency\": 1734, \"value\": \"entity\"}, \"memory-allocation\": {\"frequency\": 1147, \"value\": \"memory-allocation\"}, \"group\": {\"frequency\": 955, \"value\": \"group\"}, \"arduino\": {\"frequency\": 771, \"value\": \"arduino\"}, \"asp.net-membership\": {\"frequency\": 1429, \"value\": \"asp.net-membership\"}, \"gtk\": {\"frequency\": 1304, \"value\": \"gtk\"}, \"coordinates\": {\"frequency\": 1001, \"value\": \"coordinates\"}, \"uilabel\": {\"frequency\": 1138, \"value\": \"uilabel\"}, \"forms\": {\"frequency\": 14724, \"value\": \"forms\"}, \"yaml\": {\"frequency\": 774, \"value\": \"yaml\"}, \"window\": {\"frequency\": 2102, \"value\": \"window\"}, \"flex3\": {\"frequency\": 1092, \"value\": \"flex3\"}, \"flex4\": {\"frequency\": 1326, \"value\": \"flex4\"}, \"ember.js\": {\"frequency\": 622, \"value\": \"ember.js\"}, \"error-handling\": {\"frequency\": 3218, \"value\": \"error-handling\"}, \"android-camera\": {\"frequency\": 668, \"value\": \"android-camera\"}, \"rake\": {\"frequency\": 1407, \"value\": \"rake\"}, \"file-download\": {\"frequency\": 1135, \"value\": \"file-download\"}, \"webparts\": {\"frequency\": 753, \"value\": \"webparts\"}, \"safari\": {\"frequency\": 3157, \"value\": \"safari\"}, \"uitabbarcontroller\": {\"frequency\": 1565, \"value\": \"uitabbarcontroller\"}, \"permissions\": {\"frequency\": 3428, \"value\": \"permissions\"}, \"fql\": {\"frequency\": 717, \"value\": \"fql\"}, \"opera\": {\"frequency\": 853, \"value\": \"opera\"}, \"core-graphics\": {\"frequency\": 1119, \"value\": \"core-graphics\"}, \"admob\": {\"frequency\": 857, \"value\": \"admob\"}, \"css\": {\"frequency\": 40372, \"value\": \"css\"}, \"jquery-animate\": {\"frequency\": 1678, \"value\": \"jquery-animate\"}, \"task-parallel-library\": {\"frequency\": 728, \"value\": \"task-parallel- ...\"}, \"canvas\": {\"frequency\": 4392, \"value\": \"canvas\"}, \"jackson\": {\"frequency\": 728, \"value\": \"jackson\"}, \"ejb\": {\"frequency\": 1268, \"value\": \"ejb\"}, \"poco\": {\"frequency\": 665, \"value\": \"poco\"}, \"internet\": {\"frequency\": 1339, \"value\": \"internet\"}, \"code-first\": {\"frequency\": 650, \"value\": \"code-first\"}, \"hibernate\": {\"frequency\": 8717, \"value\": \"hibernate\"}, \"amazon-web-services\": {\"frequency\": 1942, \"value\": \"amazon-web- ...\"}, \"ajax\": {\"frequency\": 27088, \"value\": \"ajax\"}, \"orm\": {\"frequency\": 3499, \"value\": \"orm\"}, \"mysqli\": {\"frequency\": 1410, \"value\": \"mysqli\"}, \"byte\": {\"frequency\": 1177, \"value\": \"byte\"}, \"user-input\": {\"frequency\": 661, \"value\": \"user-input\"}, \"transition\": {\"frequency\": 661, \"value\": \"transition\"}, \"session-variables\": {\"frequency\": 767, \"value\": \"session-variables\"}, \"yui\": {\"frequency\": 786, \"value\": \"yui\"}, \"swing\": {\"frequency\": 6158, \"value\": \"swing\"}, \"routes\": {\"frequency\": 1988, \"value\": \"routes\"}, \"lambda\": {\"frequency\": 2570, \"value\": \"lambda\"}, \"variables\": {\"frequency\": 7665, \"value\": \"variables\"}, \"client-side\": {\"frequency\": 802, \"value\": \"client-side\"}, \"nested\": {\"frequency\": 1772, \"value\": \"nested\"}, \"itextsharp\": {\"frequency\": 855, \"value\": \"itextsharp\"}, \"message\": {\"frequency\": 1027, \"value\": \"message\"}, \"ios5\": {\"frequency\": 5244, \"value\": \"ios5\"}, \"ios4\": {\"frequency\": 2479, \"value\": \"ios4\"}, \"ios6\": {\"frequency\": 1091, \"value\": \"ios6\"}, \"yii\": {\"frequency\": 1237, \"value\": \"yii\"}, \"constants\": {\"frequency\": 1017, \"value\": \"constants\"}, \"vsto\": {\"frequency\": 915, \"value\": \"vsto\"}, \"progress-bar\": {\"frequency\": 1410, \"value\": \"progress-bar\"}, \"wcf-binding\": {\"frequency\": 637, \"value\": \"wcf-binding\"}, \"padding\": {\"frequency\": 703, \"value\": \"padding\"}, \"copy\": {\"frequency\": 2058, \"value\": \"copy\"}, \"png\": {\"frequency\": 1683, \"value\": \"png\"}, \"thumbnails\": {\"frequency\": 1065, \"value\": \"thumbnails\"}, \"iis6\": {\"frequency\": 1718, \"value\": \"iis6\"}, \"lucene\": {\"frequency\": 1997, \"value\": \"lucene\"}, \"applet\": {\"frequency\": 2071, \"value\": \"applet\"}, \"r\": {\"frequency\": 5051, \"value\": \"r\"}, \"posix\": {\"frequency\": 868, \"value\": \"posix\"}, \"amazon-s3\": {\"frequency\": 2170, \"value\": \"amazon-s3\"}, \"browser\": {\"frequency\": 5686, \"value\": \"browser\"}, \"linux-kernel\": {\"frequency\": 1423, \"value\": \"linux-kernel\"}, \"mvvm\": {\"frequency\": 3135, \"value\": \"mvvm\"}, \"image-manipulation\": {\"frequency\": 743, \"value\": \"image-manipulation\"}, \"ant\": {\"frequency\": 3824, \"value\": \"ant\"}, \"sax\": {\"frequency\": 659, \"value\": \"sax\"}, \"jquery-selectors\": {\"frequency\": 2723, \"value\": \"jquery-selectors\"}, \"mechanize\": {\"frequency\": 609, \"value\": \"mechanize\"}, \"nsurlconnection\": {\"frequency\": 945, \"value\": \"nsurlconnection\"}, \"facebook-graph-api\": {\"frequency\": 6804, \"value\": \"facebook-graph-api\"}, \"cassandra\": {\"frequency\": 836, \"value\": \"cassandra\"}, \"silverlight-4.0\": {\"frequency\": 2407, \"value\": \"silverlight-4.0\"}, \"alias\": {\"frequency\": 730, \"value\": \"alias\"}, \"animation\": {\"frequency\": 6133, \"value\": \"animation\"}, \"wcf\": {\"frequency\": 11662, \"value\": \"wcf\"}, \"performance\": {\"frequency\": 15769, \"value\": \"performance\"}, \"reverse-engineering\": {\"frequency\": 641, \"value\": \"reverse- ...\"}, \"internet-explorer-9\": {\"frequency\": 1914, \"value\": \"internet- ...\"}, \"internet-explorer-8\": {\"frequency\": 3316, \"value\": \"internet- ...\"}, \"artificial-intelligence\": {\"frequency\": 1006, \"value\": \"artificial- ...\"}, \"buffer\": {\"frequency\": 1285, \"value\": \"buffer\"}, \"internet-explorer-7\": {\"frequency\": 2150, \"value\": \"internet- ...\"}, \"internet-explorer-6\": {\"frequency\": 1115, \"value\": \"internet- ...\"}, \"c#-4.0\": {\"frequency\": 5726, \"value\": \"c#-4.0\"}, \"software-engineering\": {\"frequency\": 829, \"value\": \"software- ...\"}, \"mobile-safari\": {\"frequency\": 1131, \"value\": \"mobile-safari\"}, \"latex\": {\"frequency\": 1604, \"value\": \"latex\"}, \"textarea\": {\"frequency\": 1599, \"value\": \"textarea\"}, \"viewmodel\": {\"frequency\": 839, \"value\": \"viewmodel\"}, \"webbrowser-control\": {\"frequency\": 911, \"value\": \"webbrowser-control\"}, \"uitextfield\": {\"frequency\": 1447, \"value\": \"uitextfield\"}, \"screen-scraping\": {\"frequency\": 1000, \"value\": \"screen-scraping\"}, \"nlp\": {\"frequency\": 889, \"value\": \"nlp\"}, \"show\": {\"frequency\": 753, \"value\": \"show\"}, \"datetime\": {\"frequency\": 6673, \"value\": \"datetime\"}, \"datagrid\": {\"frequency\": 3111, \"value\": \"datagrid\"}, \"programming-languages\": {\"frequency\": 2576, \"value\": \"programming- ...\"}, \"ip-address\": {\"frequency\": 757, \"value\": \"ip-address\"}, \"injection\": {\"frequency\": 631, \"value\": \"injection\"}, \"xml\": {\"frequency\": 29528, \"value\": \"xml\"}, \"upgrade\": {\"frequency\": 825, \"value\": \"upgrade\"}, \"mysql-query\": {\"frequency\": 727, \"value\": \"mysql-query\"}, \"title\": {\"frequency\": 730, \"value\": \"title\"}, \"state\": {\"frequency\": 776, \"value\": \"state\"}, \"texture\": {\"frequency\": 709, \"value\": \"texture\"}, \"32bit-64bit\": {\"frequency\": 695, \"value\": \"32bit-64bit\"}, \"datatemplate\": {\"frequency\": 719, \"value\": \"datatemplate\"}, \"c#-2.0\": {\"frequency\": 733, \"value\": \"c#-2.0\"}, \"nunit\": {\"frequency\": 1499, \"value\": \"nunit\"}, \"uitextview\": {\"frequency\": 932, \"value\": \"uitextview\"}, \"get\": {\"frequency\": 2762, \"value\": \"get\"}, \"ssl\": {\"frequency\": 5234, \"value\": \"ssl\"}, \"sso\": {\"frequency\": 742, \"value\": \"sso\"}, \"ssh\": {\"frequency\": 3100, \"value\": \"ssh\"}, \"gem\": {\"frequency\": 1813, \"value\": \"gem\"}, \"pdf-generation\": {\"frequency\": 1489, \"value\": \"pdf-generation\"}, \"android-layout\": {\"frequency\": 5302, \"value\": \"android-layout\"}, \"settings\": {\"frequency\": 1444, \"value\": \"settings\"}, \"c++\": {\"frequency\": 44932, \"value\": \"c++\"}, \"where\": {\"frequency\": 647, \"value\": \"where\"}, \"wiki\": {\"frequency\": 650, \"value\": \"wiki\"}, \"kernel\": {\"frequency\": 1323, \"value\": \"kernel\"}, \"datatables\": {\"frequency\": 840, \"value\": \"datatables\"}, \"fullcalendar\": {\"frequency\": 854, \"value\": \"fullcalendar\"}, \"closures\": {\"frequency\": 1215, \"value\": \"closures\"}, \"add-in\": {\"frequency\": 842, \"value\": \"add-in\"}, \"socket.io\": {\"frequency\": 896, \"value\": \"socket.io\"}, \"javabeans\": {\"frequency\": 940, \"value\": \"javabeans\"}, \"calendar\": {\"frequency\": 2483, \"value\": \"calendar\"}, \"rmi\": {\"frequency\": 688, \"value\": \"rmi\"}, \"backbone.js\": {\"frequency\": 2303, \"value\": \"backbone.js\"}, \"actionscript-2\": {\"frequency\": 725, \"value\": \"actionscript-2\"}, \"actionscript-3\": {\"frequency\": 7808, \"value\": \"actionscript-3\"}, \"compiler-errors\": {\"frequency\": 2038, \"value\": \"compiler-errors\"}, \"label\": {\"frequency\": 1441, \"value\": \"label\"}, \"import\": {\"frequency\": 3436, \"value\": \"import\"}, \"parent\": {\"frequency\": 912, \"value\": \"parent\"}, \"websphere\": {\"frequency\": 1022, \"value\": \"websphere\"}, \"screen\": {\"frequency\": 1532, \"value\": \"screen\"}, \"pthreads\": {\"frequency\": 1351, \"value\": \"pthreads\"}, \".net-4.0\": {\"frequency\": 2910, \"value\": \".net-4.0\"}, \"serialization\": {\"frequency\": 6051, \"value\": \"serialization\"}, \"expression-blend\": {\"frequency\": 646, \"value\": \"expression-blend\"}, \"installation\": {\"frequency\": 2035, \"value\": \"installation\"}, \"richfaces\": {\"frequency\": 939, \"value\": \"richfaces\"}, \"mono\": {\"frequency\": 2068, \"value\": \"mono\"}, \"datagridview\": {\"frequency\": 2519, \"value\": \"datagridview\"}, \"gwt\": {\"frequency\": 4054, \"value\": \"gwt\"}, \"modal-dialog\": {\"frequency\": 953, \"value\": \"modal-dialog\"}, \"comet\": {\"frequency\": 682, \"value\": \"comet\"}, \"broadcastreceiver\": {\"frequency\": 1189, \"value\": \"broadcastreceiver\"}, \"expression\": {\"frequency\": 1229, \"value\": \"expression\"}, \"phpmyadmin\": {\"frequency\": 2002, \"value\": \"phpmyadmin\"}, \"filtering\": {\"frequency\": 963, \"value\": \"filtering\"}, \"key\": {\"frequency\": 1916, \"value\": \"key\"}, \"osx-lion\": {\"frequency\": 1549, \"value\": \"osx-lion\"}, \"nokogiri\": {\"frequency\": 691, \"value\": \"nokogiri\"}, \"search-engine\": {\"frequency\": 1092, \"value\": \"search-engine\"}, \"accelerometer\": {\"frequency\": 627, \"value\": \"accelerometer\"}, \"encryption\": {\"frequency\": 5161, \"value\": \"encryption\"}, \".net-2.0\": {\"frequency\": 892, \"value\": \".net-2.0\"}, \"ruby-on-rails-3.2\": {\"frequency\": 826, \"value\": \"ruby-on-rails-3.2\"}, \"prototype\": {\"frequency\": 2023, \"value\": \"prototype\"}, \"engine\": {\"frequency\": 725, \"value\": \"engine\"}, \"mocking\": {\"frequency\": 1862, \"value\": \"mocking\"}, \"external\": {\"frequency\": 993, \"value\": \"external\"}, \"variable-assignment\": {\"frequency\": 666, \"value\": \"variable- ...\"}, \"ironpython\": {\"frequency\": 634, \"value\": \"ironpython\"}, \"ruby\": {\"frequency\": 18501, \"value\": \"ruby\"}, \"protocols\": {\"frequency\": 1050, \"value\": \"protocols\"}, \"case\": {\"frequency\": 802, \"value\": \"case\"}, \"tomcat7\": {\"frequency\": 719, \"value\": \"tomcat7\"}, \"fluent-nhibernate\": {\"frequency\": 1850, \"value\": \"fluent-nhibernate\"}, \"payment-gateway\": {\"frequency\": 634, \"value\": \"payment-gateway\"}, \"admin\": {\"frequency\": 976, \"value\": \"admin\"}, \"margin\": {\"frequency\": 723, \"value\": \"margin\"}, \"orientation\": {\"frequency\": 1295, \"value\": \"orientation\"}, \"stdout\": {\"frequency\": 748, \"value\": \"stdout\"}, \"concatenation\": {\"frequency\": 914, \"value\": \"concatenation\"}, \"ascii\": {\"frequency\": 1119, \"value\": \"ascii\"}, \"binary\": {\"frequency\": 2497, \"value\": \"binary\"}, \"group-by\": {\"frequency\": 2102, \"value\": \"group-by\"}, \"servlets\": {\"frequency\": 4536, \"value\": \"servlets\"}, \"locking\": {\"frequency\": 2115, \"value\": \"locking\"}, \"command-line-arguments\": {\"frequency\": 708, \"value\": \"command-line- ...\"}, \"authentication\": {\"frequency\": 7766, \"value\": \"authentication\"}, \"html\": {\"frequency\": 51256, \"value\": \"html\"}, \"arguments\": {\"frequency\": 1625, \"value\": \"arguments\"}, \"subdomain\": {\"frequency\": 1244, \"value\": \"subdomain\"}, \"sencha-touch\": {\"frequency\": 1041, \"value\": \"sencha-touch\"}, \"screenshot\": {\"frequency\": 832, \"value\": \"screenshot\"}, \"initialization\": {\"frequency\": 1758, \"value\": \"initialization\"}, \"driver\": {\"frequency\": 1057, \"value\": \"driver\"}, \"div-layouts\": {\"frequency\": 660, \"value\": \"div-layouts\"}, \"wpf\": {\"frequency\": 15508, \"value\": \"wpf\"}, \"crystal-reports\": {\"frequency\": 2115, \"value\": \"crystal-reports\"}, \"tracking\": {\"frequency\": 744, \"value\": \"tracking\"}, \"undefined\": {\"frequency\": 911, \"value\": \"undefined\"}, \"data-mining\": {\"frequency\": 635, \"value\": \"data-mining\"}, \"components\": {\"frequency\": 1619, \"value\": \"components\"}, \"model\": {\"frequency\": 3381, \"value\": \"model\"}, \"compact-framework\": {\"frequency\": 787, \"value\": \"compact-framework\"}, \"in-app-purchase\": {\"frequency\": 1144, \"value\": \"in-app-purchase\"}, \"radio-button\": {\"frequency\": 1680, \"value\": \"radio-button\"}, \"rest\": {\"frequency\": 7294, \"value\": \"rest\"}, \"bitmap\": {\"frequency\": 2493, \"value\": \"bitmap\"}, \"gdb\": {\"frequency\": 1762, \"value\": \"gdb\"}, \"unicode\": {\"frequency\": 4065, \"value\": \"unicode\"}, \"internationalization\": {\"frequency\": 2721, \"value\": \"internationalizati ...\"}, \"greasemonkey\": {\"frequency\": 757, \"value\": \"greasemonkey\"}, \"sql-server-ce\": {\"frequency\": 919, \"value\": \"sql-server-ce\"}, \"metaprogramming\": {\"frequency\": 967, \"value\": \"metaprogramming\"}, \"generator\": {\"frequency\": 832, \"value\": \"generator\"}, \"ruby-on-rails\": {\"frequency\": 20823, \"value\": \"ruby-on-rails\"}, \"desktop\": {\"frequency\": 797, \"value\": \"desktop\"}, \"blob\": {\"frequency\": 1028, \"value\": \"blob\"}, \"styles\": {\"frequency\": 1454, \"value\": \"styles\"}, \"hover\": {\"frequency\": 1857, \"value\": \"hover\"}, \"rubygems\": {\"frequency\": 2152, \"value\": \"rubygems\"}, \"moq\": {\"frequency\": 857, \"value\": \"moq\"}, \"one-to-many\": {\"frequency\": 627, \"value\": \"one-to-many\"}, \"grid\": {\"frequency\": 2244, \"value\": \"grid\"}, \"enums\": {\"frequency\": 2894, \"value\": \"enums\"}, \"colorbox\": {\"frequency\": 734, \"value\": \"colorbox\"}, \"silverlight\": {\"frequency\": 8228, \"value\": \"silverlight\"}, \"avaudioplayer\": {\"frequency\": 651, \"value\": \"avaudioplayer\"}, \"server\": {\"frequency\": 2812, \"value\": \"server\"}, \"android-listview\": {\"frequency\": 1537, \"value\": \"android-listview\"}, \"blackberry\": {\"frequency\": 2782, \"value\": \"blackberry\"}, \"computer-science\": {\"frequency\": 799, \"value\": \"computer-science\"}, \"jquery-ui-dialog\": {\"frequency\": 755, \"value\": \"jquery-ui-dialog\"}, \"grouping\": {\"frequency\": 875, \"value\": \"grouping\"}, \"conditional\": {\"frequency\": 1246, \"value\": \"conditional\"}, \"operating-system\": {\"frequency\": 2058, \"value\": \"operating-system\"}, \"return-value\": {\"frequency\": 824, \"value\": \"return-value\"}, \"bdd\": {\"frequency\": 659, \"value\": \"bdd\"}, \"kml\": {\"frequency\": 639, \"value\": \"kml\"}, \"ejb-3.0\": {\"frequency\": 839, \"value\": \"ejb-3.0\"}, \"assembly\": {\"frequency\": 4825, \"value\": \"assembly\"}, \"compiler\": {\"frequency\": 4133, \"value\": \"compiler\"}, \"tdd\": {\"frequency\": 1629, \"value\": \"tdd\"}, \"comparison\": {\"frequency\": 1913, \"value\": \"comparison\"}, \"package\": {\"frequency\": 1332, \"value\": \"package\"}, \"xna\": {\"frequency\": 1846, \"value\": \"xna\"}, \"struts2\": {\"frequency\": 1796, \"value\": \"struts2\"}, \"cuda\": {\"frequency\": 1328, \"value\": \"cuda\"}, \"backup\": {\"frequency\": 1469, \"value\": \"backup\"}, \"nullpointerexception\": {\"frequency\": 1604, \"value\": \"nullpointerexcepti ...\"}, \"outlook\": {\"frequency\": 1976, \"value\": \"outlook\"}, \"core-data\": {\"frequency\": 3899, \"value\": \"core-data\"}, \"relativelayout\": {\"frequency\": 622, \"value\": \"relativelayout\"}, \"instruments\": {\"frequency\": 628, \"value\": \"instruments\"}, \"image\": {\"frequency\": 17213, \"value\": \"image\"}, \"sql\": {\"frequency\": 45158, \"value\": \"sql\"}, \"ruby-on-rails-3.1\": {\"frequency\": 1977, \"value\": \"ruby-on-rails-3.1\"}, \"opengl\": {\"frequency\": 6041, \"value\": \"opengl\"}, \"hex\": {\"frequency\": 1356, \"value\": \"hex\"}, \"emacs\": {\"frequency\": 2736, \"value\": \"emacs\"}, \"uiwebview\": {\"frequency\": 2705, \"value\": \"uiwebview\"}, \"liferay\": {\"frequency\": 649, \"value\": \"liferay\"}, \"change\": {\"frequency\": 972, \"value\": \"change\"}, \"android-asynctask\": {\"frequency\": 1486, \"value\": \"android-asynctask\"}, \"uiimage\": {\"frequency\": 1849, \"value\": \"uiimage\"}, \"activemq\": {\"frequency\": 634, \"value\": \"activemq\"}, \"windows-phone-7.1\": {\"frequency\": 732, \"value\": \"windows-phone-7.1\"}, \"embedded\": {\"frequency\": 2191, \"value\": \"embedded\"}, \"asp.net-mvc-2\": {\"frequency\": 3288, \"value\": \"asp.net-mvc-2\"}, \"asp.net-mvc-3\": {\"frequency\": 9112, \"value\": \"asp.net-mvc-3\"}, \"asp.net-mvc-4\": {\"frequency\": 1095, \"value\": \"asp.net-mvc-4\"}, \"ioc-container\": {\"frequency\": 663, \"value\": \"ioc-container\"}, \"embed\": {\"frequency\": 1324, \"value\": \"embed\"}, \"deadlock\": {\"frequency\": 739, \"value\": \"deadlock\"}, \"excel-2007\": {\"frequency\": 951, \"value\": \"excel-2007\"}, \"rvm\": {\"frequency\": 1105, \"value\": \"rvm\"}, \"loops\": {\"frequency\": 6138, \"value\": \"loops\"}, \"objective-c\": {\"frequency\": 24951, \"value\": \"objective-c\"}, \"asynchronous\": {\"frequency\": 4367, \"value\": \"asynchronous\"}, \"firebug\": {\"frequency\": 1306, \"value\": \"firebug\"}, \"file\": {\"frequency\": 12090, \"value\": \"file\"}, \"facebook-javascript-sdk\": {\"frequency\": 1049, \"value\": \"facebook- ...\"}, \"ajaxcontroltoolkit\": {\"frequency\": 860, \"value\": \"ajaxcontroltoolkit\"}, \"sql-server\": {\"frequency\": 18580, \"value\": \"sql-server\"}, \"mathematica\": {\"frequency\": 872, \"value\": \"mathematica\"}, \"storage\": {\"frequency\": 1164, \"value\": \"storage\"}, \"field\": {\"frequency\": 991, \"value\": \"field\"}, \"windows-xp\": {\"frequency\": 1739, \"value\": \"windows-xp\"}, \"utf-8\": {\"frequency\": 3742, \"value\": \"utf-8\"}, \"type-conversion\": {\"frequency\": 1100, \"value\": \"type-conversion\"}, \"opacity\": {\"frequency\": 644, \"value\": \"opacity\"}, \"openid\": {\"frequency\": 1397, \"value\": \"openid\"}, \"pear\": {\"frequency\": 667, \"value\": \"pear\"}, \"richtextbox\": {\"frequency\": 872, \"value\": \"richtextbox\"}, \"registry\": {\"frequency\": 1581, \"value\": \"registry\"}, \"wifi\": {\"frequency\": 1171, \"value\": \"wifi\"}, \"visual-c++\": {\"frequency\": 4970, \"value\": \"visual-c++\"}, \"directory\": {\"frequency\": 2258, \"value\": \"directory\"}, \"collision-detection\": {\"frequency\": 685, \"value\": \"collision- ...\"}, \"resolution\": {\"frequency\": 642, \"value\": \"resolution\"}, \"cpu\": {\"frequency\": 825, \"value\": \"cpu\"}, \"bytearray\": {\"frequency\": 1150, \"value\": \"bytearray\"}, \"duplicates\": {\"frequency\": 1389, \"value\": \"duplicates\"}, \"drag-and-drop\": {\"frequency\": 2670, \"value\": \"drag-and-drop\"}, \"mp3\": {\"frequency\": 1316, \"value\": \"mp3\"}, \"sharepoint2010\": {\"frequency\": 2588, \"value\": \"sharepoint2010\"}, \"naming-conventions\": {\"frequency\": 1289, \"value\": \"naming-conventions\"}, \"icons\": {\"frequency\": 1989, \"value\": \"icons\"}, \"wmi\": {\"frequency\": 1056, \"value\": \"wmi\"}, \"java-me\": {\"frequency\": 1771, \"value\": \"java-me\"}, \"push-notification\": {\"frequency\": 1140, \"value\": \"push-notification\"}, \"condition\": {\"frequency\": 706, \"value\": \"condition\"}, \"lisp\": {\"frequency\": 1349, \"value\": \"lisp\"}, \"list\": {\"frequency\": 9968, \"value\": \"list\"}, \"mapreduce\": {\"frequency\": 1235, \"value\": \"mapreduce\"}, \"google-maps-api-3\": {\"frequency\": 3538, \"value\": \"google-maps-api-3\"}, \"domain-driven-design\": {\"frequency\": 1046, \"value\": \"domain-driven- ...\"}, \"glsl\": {\"frequency\": 664, \"value\": \"glsl\"}, \"cookies\": {\"frequency\": 5478, \"value\": \"cookies\"}, \"gridview\": {\"frequency\": 4139, \"value\": \"gridview\"}, \"sync\": {\"frequency\": 821, \"value\": \"sync\"}, \"modal\": {\"frequency\": 1066, \"value\": \"modal\"}, \"design\": {\"frequency\": 7016, \"value\": \"design\"}, \"plugins\": {\"frequency\": 6005, \"value\": \"plugins\"}, \"shared-libraries\": {\"frequency\": 1099, \"value\": \"shared-libraries\"}, \"listbox\": {\"frequency\": 2228, \"value\": \"listbox\"}, \"sum\": {\"frequency\": 1295, \"value\": \"sum\"}, \"version\": {\"frequency\": 1485, \"value\": \"version\"}, \"memcached\": {\"frequency\": 1617, \"value\": \"memcached\"}, \"jsf-2\": {\"frequency\": 1908, \"value\": \"jsf-2\"}, \"hash\": {\"frequency\": 4119, \"value\": \"hash\"}, \"tags\": {\"frequency\": 2895, \"value\": \"tags\"}, \"web-security\": {\"frequency\": 917, \"value\": \"web-security\"}, \"compilation\": {\"frequency\": 3008, \"value\": \"compilation\"}, \"hashtable\": {\"frequency\": 998, \"value\": \"hashtable\"}, \"search\": {\"frequency\": 7823, \"value\": \"search\"}, \"jax-ws\": {\"frequency\": 1051, \"value\": \"jax-ws\"}, \"eclipse-plugin\": {\"frequency\": 2497, \"value\": \"eclipse-plugin\"}, \"emulator\": {\"frequency\": 1083, \"value\": \"emulator\"}, \"action\": {\"frequency\": 1432, \"value\": \"action\"}, \"jruby\": {\"frequency\": 822, \"value\": \"jruby\"}, \"href\": {\"frequency\": 817, \"value\": \"href\"}, \"select\": {\"frequency\": 6311, \"value\": \"select\"}, \"oledb\": {\"frequency\": 795, \"value\": \"oledb\"}, \"executable\": {\"frequency\": 804, \"value\": \"executable\"}, \"interface-builder\": {\"frequency\": 1731, \"value\": \"interface-builder\"}, \"distinct\": {\"frequency\": 874, \"value\": \"distinct\"}, \"authorization\": {\"frequency\": 1512, \"value\": \"authorization\"}, \"android-service\": {\"frequency\": 612, \"value\": \"android-service\"}, \"operators\": {\"frequency\": 1178, \"value\": \"operators\"}, \"itext\": {\"frequency\": 725, \"value\": \"itext\"}, \"jsonp\": {\"frequency\": 1158, \"value\": \"jsonp\"}, \"webkit\": {\"frequency\": 2605, \"value\": \"webkit\"}, \"salesforce\": {\"frequency\": 763, \"value\": \"salesforce\"}, \"jdk\": {\"frequency\": 624, \"value\": \"jdk\"}, \"for-loop\": {\"frequency\": 3497, \"value\": \"for-loop\"}, \"autocomplete\": {\"frequency\": 3322, \"value\": \"autocomplete\"}, \"android-market\": {\"frequency\": 829, \"value\": \"android-market\"}, \"history\": {\"frequency\": 771, \"value\": \"history\"}, \"compare\": {\"frequency\": 1514, \"value\": \"compare\"}, \"share\": {\"frequency\": 916, \"value\": \"share\"}, \"f#\": {\"frequency\": 1276, \"value\": \"f#\"}, \"magento\": {\"frequency\": 3946, \"value\": \"magento\"}, \"numbers\": {\"frequency\": 2076, \"value\": \"numbers\"}, \"axis\": {\"frequency\": 691, \"value\": \"axis\"}, \"axis2\": {\"frequency\": 807, \"value\": \"axis2\"}, \"capistrano\": {\"frequency\": 806, \"value\": \"capistrano\"}, \"spreadsheet\": {\"frequency\": 654, \"value\": \"spreadsheet\"}, \"maps\": {\"frequency\": 2138, \"value\": \"maps\"}, \"machine-learning\": {\"frequency\": 1001, \"value\": \"machine-learning\"}, \"csv\": {\"frequency\": 4140, \"value\": \"csv\"}, \"opengl-es-2.0\": {\"frequency\": 737, \"value\": \"opengl-es-2.0\"}, \"textview\": {\"frequency\": 1672, \"value\": \"textview\"}, \"mapping\": {\"frequency\": 1901, \"value\": \"mapping\"}, \"lazy-loading\": {\"frequency\": 981, \"value\": \"lazy-loading\"}, \"response\": {\"frequency\": 951, \"value\": \"response\"}, \"pattern-matching\": {\"frequency\": 1285, \"value\": \"pattern-matching\"}, \"github\": {\"frequency\": 3016, \"value\": \"github\"}, \"footer\": {\"frequency\": 626, \"value\": \"footer\"}, \"documentation\": {\"frequency\": 2669, \"value\": \"documentation\"}, \"django\": {\"frequency\": 11307, \"value\": \"django\"}, \"callback\": {\"frequency\": 2863, \"value\": \"callback\"}, \"media\": {\"frequency\": 910, \"value\": \"media\"}, \"inline\": {\"frequency\": 906, \"value\": \"inline\"}, \"photoshop\": {\"frequency\": 661, \"value\": \"photoshop\"}, \"checkbox\": {\"frequency\": 3402, \"value\": \"checkbox\"}, \"hierarchy\": {\"frequency\": 643, \"value\": \"hierarchy\"}, \"xmpp\": {\"frequency\": 1178, \"value\": \"xmpp\"}, \"code-generation\": {\"frequency\": 1227, \"value\": \"code-generation\"}, \"installer\": {\"frequency\": 2036, \"value\": \"installer\"}, \"forms-authentication\": {\"frequency\": 1243, \"value\": \"forms- ...\"}, \"custom-controls\": {\"frequency\": 1365, \"value\": \"custom-controls\"}, \"typedef\": {\"frequency\": 630, \"value\": \"typedef\"}, \"combobox\": {\"frequency\": 2828, \"value\": \"combobox\"}, \"selenium\": {\"frequency\": 3169, \"value\": \"selenium\"}, \"capybara\": {\"frequency\": 732, \"value\": \"capybara\"}, \"return\": {\"frequency\": 1360, \"value\": \"return\"}, \"playframework\": {\"frequency\": 1311, \"value\": \"playframework\"}, \"timestamp\": {\"frequency\": 1655, \"value\": \"timestamp\"}, \"memory-management\": {\"frequency\": 5085, \"value\": \"memory-management\"}, \"internet-explorer\": {\"frequency\": 10399, \"value\": \"internet-explorer\"}, \"sharepoint2007\": {\"frequency\": 1308, \"value\": \"sharepoint2007\"}, \"scipy\": {\"frequency\": 764, \"value\": \"scipy\"}, \"ms-office\": {\"frequency\": 853, \"value\": \"ms-office\"}, \"amazon-ec2\": {\"frequency\": 2092, \"value\": \"amazon-ec2\"}, \"document\": {\"frequency\": 886, \"value\": \"document\"}, \"decimal\": {\"frequency\": 1093, \"value\": \"decimal\"}, \"refresh\": {\"frequency\": 1501, \"value\": \"refresh\"}, \"events\": {\"frequency\": 9082, \"value\": \"events\"}, \"2d\": {\"frequency\": 1304, \"value\": \"2d\"}, \"token\": {\"frequency\": 731, \"value\": \"token\"}, \"innodb\": {\"frequency\": 873, \"value\": \"innodb\"}, \"stored-procedures\": {\"frequency\": 4766, \"value\": \"stored-procedures\"}, \"connect\": {\"frequency\": 732, \"value\": \"connect\"}, \"content-management-system\": {\"frequency\": 2623, \"value\": \"content- ...\"}, \"ftp\": {\"frequency\": 2904, \"value\": \"ftp\"}, \"uiviewcontroller\": {\"frequency\": 2735, \"value\": \"uiviewcontroller\"}, \"sencha\": {\"frequency\": 974, \"value\": \"sencha\"}, \"preg-replace\": {\"frequency\": 1198, \"value\": \"preg-replace\"}, \"publish\": {\"frequency\": 683, \"value\": \"publish\"}, \"dotnetnuke\": {\"frequency\": 643, \"value\": \"dotnetnuke\"}, \"core-animation\": {\"frequency\": 1190, \"value\": \"core-animation\"}, \"asp\": {\"frequency\": 2611, \"value\": \"asp\"}, \"localization\": {\"frequency\": 3184, \"value\": \"localization\"}, \"linq-to-objects\": {\"frequency\": 631, \"value\": \"linq-to-objects\"}, \"proxy\": {\"frequency\": 3175, \"value\": \"proxy\"}, \"bash\": {\"frequency\": 8758, \"value\": \"bash\"}, \"drupal\": {\"frequency\": 4332, \"value\": \"drupal\"}, \"django-forms\": {\"frequency\": 1428, \"value\": \"django-forms\"}, \"positioning\": {\"frequency\": 1134, \"value\": \"positioning\"}, \"django-models\": {\"frequency\": 2364, \"value\": \"django-models\"}, \"feed\": {\"frequency\": 833, \"value\": \"feed\"}, \"singleton\": {\"frequency\": 1873, \"value\": \"singleton\"}, \"ios-simulator\": {\"frequency\": 1395, \"value\": \"ios-simulator\"}, \"encoding\": {\"frequency\": 4624, \"value\": \"encoding\"}, \"webforms\": {\"frequency\": 2105, \"value\": \"webforms\"}, \"operator-overloading\": {\"frequency\": 1264, \"value\": \"operator- ...\"}, \"gpl\": {\"frequency\": 655, \"value\": \"gpl\"}, \"razor\": {\"frequency\": 3104, \"value\": \"razor\"}, \"connection-pooling\": {\"frequency\": 674, \"value\": \"connection-pooling\"}, \"script\": {\"frequency\": 4316, \"value\": \"script\"}, \"mediaplayer\": {\"frequency\": 1222, \"value\": \"mediaplayer\"}, \"jetty\": {\"frequency\": 1270, \"value\": \"jetty\"}, \"rails\": {\"frequency\": 854, \"value\": \"rails\"}, \"weblogic\": {\"frequency\": 1021, \"value\": \"weblogic\"}, \"scheme\": {\"frequency\": 1040, \"value\": \"scheme\"}, \"store\": {\"frequency\": 861, \"value\": \"store\"}, \"schema\": {\"frequency\": 1761, \"value\": \"schema\"}, \"relationship\": {\"frequency\": 611, \"value\": \"relationship\"}, \"cross-browser\": {\"frequency\": 2152, \"value\": \"cross-browser\"}, \"selector\": {\"frequency\": 1020, \"value\": \"selector\"}, \"jdbc\": {\"frequency\": 3689, \"value\": \"jdbc\"}, \"translation\": {\"frequency\": 1049, \"value\": \"translation\"}, \"tfs\": {\"frequency\": 2555, \"value\": \"tfs\"}, \"reflection\": {\"frequency\": 4913, \"value\": \"reflection\"}, \"jquery\": {\"frequency\": 73368, \"value\": \"jquery\"}, \"grep\": {\"frequency\": 1602, \"value\": \"grep\"}, \"ffmpeg\": {\"frequency\": 1821, \"value\": \"ffmpeg\"}, \"stl\": {\"frequency\": 2751, \"value\": \"stl\"}, \".htaccess\": {\"frequency\": 8980, \"value\": \".htaccess\"}, \"gps\": {\"frequency\": 2194, \"value\": \"gps\"}, \"debugging\": {\"frequency\": 10045, \"value\": \"debugging\"}, \"variable-scope\": {\"frequency\": 710, \"value\": \"variable-scope\"}, \"mootools\": {\"frequency\": 1077, \"value\": \"mootools\"}, \"bitwise\": {\"frequency\": 726, \"value\": \"bitwise\"}, \"wysiwyg\": {\"frequency\": 833, \"value\": \"wysiwyg\"}, \"jasper-reports\": {\"frequency\": 1044, \"value\": \"jasper-reports\"}, \"form-submit\": {\"frequency\": 672, \"value\": \"form-submit\"}, \"null\": {\"frequency\": 2718, \"value\": \"null\"}, \"character-encoding\": {\"frequency\": 3095, \"value\": \"character-encoding\"}, \"drop-down-menu\": {\"frequency\": 4179, \"value\": \"drop-down-menu\"}, \"windows-phone-7\": {\"frequency\": 4613, \"value\": \"windows-phone-7\"}, \"tinymce\": {\"frequency\": 1578, \"value\": \"tinymce\"}, \"append\": {\"frequency\": 1369, \"value\": \"append\"}, \"jsf\": {\"frequency\": 3853, \"value\": \"jsf\"}, \"warnings\": {\"frequency\": 1262, \"value\": \"warnings\"}, \"linq-to-xml\": {\"frequency\": 1167, \"value\": \"linq-to-xml\"}, \"jsp\": {\"frequency\": 6679, \"value\": \"jsp\"}, \"cygwin\": {\"frequency\": 1510, \"value\": \"cygwin\"}, \"sql-server-2008-r2\": {\"frequency\": 1205, \"value\": \"sql-server-2008-r2\"}, \"statistics\": {\"frequency\": 1809, \"value\": \"statistics\"}, \"filesystems\": {\"frequency\": 2207, \"value\": \"filesystems\"}, \"exe\": {\"frequency\": 690, \"value\": \"exe\"}, \"mobile\": {\"frequency\": 5947, \"value\": \"mobile\"}, \"phonegap\": {\"frequency\": 4113, \"value\": \"phonegap\"}, \"caching\": {\"frequency\": 7709, \"value\": \"caching\"}, \"microsoft\": {\"frequency\": 2554, \"value\": \"microsoft\"}, \"xcode\": {\"frequency\": 16169, \"value\": \"xcode\"}, \"binary-tree\": {\"frequency\": 699, \"value\": \"binary-tree\"}, \"scrollview\": {\"frequency\": 1045, \"value\": \"scrollview\"}, \"node.js\": {\"frequency\": 5891, \"value\": \"node.js\"}, \"session\": {\"frequency\": 8042, \"value\": \"session\"}, \"find\": {\"frequency\": 1805, \"value\": \"find\"}, \"drupal-modules\": {\"frequency\": 637, \"value\": \"drupal-modules\"}, \"access\": {\"frequency\": 1985, \"value\": \"access\"}, \"iis-7.5\": {\"frequency\": 1312, \"value\": \"iis-7.5\"}, \"parameters\": {\"frequency\": 3682, \"value\": \"parameters\"}, \"distributed\": {\"frequency\": 644, \"value\": \"distributed\"}, \"override\": {\"frequency\": 1416, \"value\": \"override\"}, \"asp.net-ajax\": {\"frequency\": 1908, \"value\": \"asp.net-ajax\"}, \"vb6\": {\"frequency\": 1903, \"value\": \"vb6\"}, \"xss\": {\"frequency\": 980, \"value\": \"xss\"}, \"express\": {\"frequency\": 1230, \"value\": \"express\"}, \"synchronization\": {\"frequency\": 2400, \"value\": \"synchronization\"}, \"xml-parsing\": {\"frequency\": 2355, \"value\": \"xml-parsing\"}, \"continuous-integration\": {\"frequency\": 1610, \"value\": \"continuous- ...\"}, \"activity\": {\"frequency\": 3440, \"value\": \"activity\"}, \"set\": {\"frequency\": 1524, \"value\": \"set\"}, \"cocos2d\": {\"frequency\": 1458, \"value\": \"cocos2d\"}, \"locale\": {\"frequency\": 947, \"value\": \"locale\"}, \"iteration\": {\"frequency\": 1048, \"value\": \"iteration\"}, \"startup\": {\"frequency\": 643, \"value\": \"startup\"}, \"web-services\": {\"frequency\": 14061, \"value\": \"web-services\"}, \"touch\": {\"frequency\": 1733, \"value\": \"touch\"}, \"sed\": {\"frequency\": 2060, \"value\": \"sed\"}, \"user-interface\": {\"frequency\": 4902, \"value\": \"user-interface\"}, \"seo\": {\"frequency\": 2347, \"value\": \"seo\"}, \"close\": {\"frequency\": 816, \"value\": \"close\"}, \"arm\": {\"frequency\": 1052, \"value\": \"arm\"}, \"fullscreen\": {\"frequency\": 898, \"value\": \"fullscreen\"}, \"mutex\": {\"frequency\": 736, \"value\": \"mutex\"}, \"uibutton\": {\"frequency\": 1880, \"value\": \"uibutton\"}, \"ms-access\": {\"frequency\": 3512, \"value\": \"ms-access\"}, \"profiling\": {\"frequency\": 1610, \"value\": \"profiling\"}, \"imagemagick\": {\"frequency\": 1513, \"value\": \"imagemagick\"}, \"xslt\": {\"frequency\": 5294, \"value\": \"xslt\"}, \"javascript\": {\"frequency\": 92719, \"value\": \"javascript\"}, \"scalability\": {\"frequency\": 895, \"value\": \"scalability\"}, \"integration-testing\": {\"frequency\": 887, \"value\": \"integration- ...\"}, \"knockout.js\": {\"frequency\": 1414, \"value\": \"knockout.js\"}, \"console\": {\"frequency\": 2531, \"value\": \"console\"}, \"solr\": {\"frequency\": 2288, \"value\": \"solr\"}, \"struct\": {\"frequency\": 2747, \"value\": \"struct\"}, \"c\": {\"frequency\": 28388, \"value\": \"c\"}, \"hyperlink\": {\"frequency\": 3141, \"value\": \"hyperlink\"}, \"arraylist\": {\"frequency\": 2409, \"value\": \"arraylist\"}, \"primary-key\": {\"frequency\": 1030, \"value\": \"primary-key\"}, \"pdo\": {\"frequency\": 1851, \"value\": \"pdo\"}, \"if-statement\": {\"frequency\": 3978, \"value\": \"if-statement\"}, \"connection\": {\"frequency\": 2316, \"value\": \"connection\"}, \"context\": {\"frequency\": 1122, \"value\": \"context\"}, \"pdf\": {\"frequency\": 6654, \"value\": \"pdf\"}, \"file-io\": {\"frequency\": 3697, \"value\": \"file-io\"}, \"geolocation\": {\"frequency\": 2338, \"value\": \"geolocation\"}, \"markdown\": {\"frequency\": 598, \"value\": \"markdown\"}, \"ruby-on-rails-3\": {\"frequency\": 8635, \"value\": \"ruby-on-rails-3\"}, \"web-config\": {\"frequency\": 2241, \"value\": \"web-config\"}, \"header\": {\"frequency\": 3157, \"value\": \"header\"}, \"linux\": {\"frequency\": 20471, \"value\": \"linux\"}, \"apache2\": {\"frequency\": 2062, \"value\": \"apache2\"}, \"facebook-fql\": {\"frequency\": 893, \"value\": \"facebook-fql\"}, \"java\": {\"frequency\": 90224, \"value\": \"java\"}, \"exc-bad-access\": {\"frequency\": 755, \"value\": \"exc-bad-access\"}, \"swf\": {\"frequency\": 1396, \"value\": \"swf\"}, \"extension-methods\": {\"frequency\": 931, \"value\": \"extension-methods\"}, \"special-characters\": {\"frequency\": 1012, \"value\": \"special-characters\"}, \"toolbar\": {\"frequency\": 661, \"value\": \"toolbar\"}, \"asp.net-mvc-routing\": {\"frequency\": 957, \"value\": \"asp.net-mvc- ...\"}, \"data-binding\": {\"frequency\": 4711, \"value\": \"data-binding\"}, \"swt\": {\"frequency\": 999, \"value\": \"swt\"}, \"doctrine2\": {\"frequency\": 1262, \"value\": \"doctrine2\"}, \"slideshow\": {\"frequency\": 888, \"value\": \"slideshow\"}, \"rspec\": {\"frequency\": 2152, \"value\": \"rspec\"}, \"multidimensional-array\": {\"frequency\": 3076, \"value\": \"multidimensional- ...\"}, \"overloading\": {\"frequency\": 896, \"value\": \"overloading\"}, \"z-index\": {\"frequency\": 1010, \"value\": \"z-index\"}, \"imap\": {\"frequency\": 828, \"value\": \"imap\"}, \"floating-point\": {\"frequency\": 1232, \"value\": \"floating-point\"}, \"responsive-design\": {\"frequency\": 656, \"value\": \"responsive-design\"}, \"partial-views\": {\"frequency\": 723, \"value\": \"partial-views\"}, \"batch\": {\"frequency\": 3004, \"value\": \"batch\"}, \"optimization\": {\"frequency\": 6027, \"value\": \"optimization\"}, \"match\": {\"frequency\": 829, \"value\": \"match\"}, \"error\": {\"frequency\": 618, \"value\": \"error\"}, \"drawable\": {\"frequency\": 830, \"value\": \"drawable\"}, \"prolog\": {\"frequency\": 1089, \"value\": \"prolog\"}, \"malloc\": {\"frequency\": 1158, \"value\": \"malloc\"}, \"jpa\": {\"frequency\": 3999, \"value\": \"jpa\"}, \"code-coverage\": {\"frequency\": 766, \"value\": \"code-coverage\"}, \"binding\": {\"frequency\": 4373, \"value\": \"binding\"}, \"uitableview\": {\"frequency\": 5670, \"value\": \"uitableview\"}, \"updatepanel\": {\"frequency\": 1207, \"value\": \"updatepanel\"}, \"hadoop\": {\"frequency\": 1945, \"value\": \"hadoop\"}, \"coffeescript\": {\"frequency\": 1323, \"value\": \"coffeescript\"}, \"jpa-2.0\": {\"frequency\": 790, \"value\": \"jpa-2.0\"}, \"onclick\": {\"frequency\": 2291, \"value\": \"onclick\"}, \"sqlite3\": {\"frequency\": 2802, \"value\": \"sqlite3\"}, \"passwords\": {\"frequency\": 2361, \"value\": \"passwords\"}, \"x86\": {\"frequency\": 1081, \"value\": \"x86\"}, \"alert\": {\"frequency\": 751, \"value\": \"alert\"}, \"cucumber\": {\"frequency\": 1157, \"value\": \"cucumber\"}, \"user\": {\"frequency\": 2321, \"value\": \"user\"}, \"tsql\": {\"frequency\": 6027, \"value\": \"tsql\"}, \"stack\": {\"frequency\": 1683, \"value\": \"stack\"}, \"background-image\": {\"frequency\": 967, \"value\": \"background-image\"}, \"task\": {\"frequency\": 962, \"value\": \"task\"}, \"database\": {\"frequency\": 26372, \"value\": \"database\"}, \"double\": {\"frequency\": 1351, \"value\": \"double\"}, \"marshalling\": {\"frequency\": 856, \"value\": \"marshalling\"}, \"antlr\": {\"frequency\": 692, \"value\": \"antlr\"}, \"python-2.7\": {\"frequency\": 1422, \"value\": \"python-2.7\"}, \"mysql\": {\"frequency\": 49139, \"value\": \"mysql\"}, \"alignment\": {\"frequency\": 1436, \"value\": \"alignment\"}, \"loading\": {\"frequency\": 1060, \"value\": \"loading\"}, \"signals\": {\"frequency\": 1130, \"value\": \"signals\"}, \"source\": {\"frequency\": 1209, \"value\": \"source\"}, \"location\": {\"frequency\": 1815, \"value\": \"location\"}, \"input\": {\"frequency\": 4021, \"value\": \"input\"}, \"reportviewer\": {\"frequency\": 671, \"value\": \"reportviewer\"}, \"build\": {\"frequency\": 3583, \"value\": \"build\"}, \"associations\": {\"frequency\": 1323, \"value\": \"associations\"}, \"format\": {\"frequency\": 1839, \"value\": \"format\"}, \"nginx\": {\"frequency\": 2432, \"value\": \"nginx\"}, \"integer\": {\"frequency\": 1782, \"value\": \"integer\"}, \"sorting\": {\"frequency\": 7304, \"value\": \"sorting\"}, \"activex\": {\"frequency\": 1339, \"value\": \"activex\"}, \"manifest\": {\"frequency\": 886, \"value\": \"manifest\"}, \"boolean\": {\"frequency\": 1455, \"value\": \"boolean\"}, \"mapkit\": {\"frequency\": 921, \"value\": \"mapkit\"}, \"sitemap\": {\"frequency\": 631, \"value\": \"sitemap\"}, \"google\": {\"frequency\": 9116, \"value\": \"google\"}, \"methods\": {\"frequency\": 4263, \"value\": \"methods\"}, \"spring\": {\"frequency\": 8909, \"value\": \"spring\"}, \"google-api\": {\"frequency\": 1249, \"value\": \"google-api\"}, \"streaming\": {\"frequency\": 1914, \"value\": \"streaming\"}, \"wxpython\": {\"frequency\": 1006, \"value\": \"wxpython\"}, \"slider\": {\"frequency\": 1792, \"value\": \"slider\"}, \"imageview\": {\"frequency\": 1378, \"value\": \"imageview\"}, \"scale\": {\"frequency\": 825, \"value\": \"scale\"}, \"scala\": {\"frequency\": 3498, \"value\": \"scala\"}, \"exec\": {\"frequency\": 1143, \"value\": \"exec\"}, \"integration\": {\"frequency\": 1212, \"value\": \"integration\"}, \"notepad++\": {\"frequency\": 776, \"value\": \"notepad++\"}, \"cgi\": {\"frequency\": 1293, \"value\": \"cgi\"}, \"telerik\": {\"frequency\": 1597, \"value\": \"telerik\"}, \"newline\": {\"frequency\": 993, \"value\": \"newline\"}, \"processing\": {\"frequency\": 829, \"value\": \"processing\"}, \"asp.net-web-api\": {\"frequency\": 729, \"value\": \"asp.net-web-api\"}, \"wsdl\": {\"frequency\": 2268, \"value\": \"wsdl\"}, \"mssql\": {\"frequency\": 741, \"value\": \"mssql\"}, \"certificate\": {\"frequency\": 1592, \"value\": \"certificate\"}, \"relational-database\": {\"frequency\": 1138, \"value\": \"relational- ...\"}, \"mod-rewrite\": {\"frequency\": 5548, \"value\": \"mod-rewrite\"}, \"symfony1\": {\"frequency\": 1483, \"value\": \"symfony1\"}, \"symfony2\": {\"frequency\": 1847, \"value\": \"symfony2\"}, \"range\": {\"frequency\": 1087, \"value\": \"range\"}, \"datasource\": {\"frequency\": 975, \"value\": \"datasource\"}, \"dialog\": {\"frequency\": 3010, \"value\": \"dialog\"}, \"messaging\": {\"frequency\": 683, \"value\": \"messaging\"}, \"webview\": {\"frequency\": 2538, \"value\": \"webview\"}, \"ide\": {\"frequency\": 3118, \"value\": \"ide\"}, \"block\": {\"frequency\": 946, \"value\": \"block\"}, \"active-directory\": {\"frequency\": 1979, \"value\": \"active-directory\"}, \"web-crawler\": {\"frequency\": 880, \"value\": \"web-crawler\"}, \"wicket\": {\"frequency\": 719, \"value\": \"wicket\"}, \"rows\": {\"frequency\": 700, \"value\": \"rows\"}, \"vbscript\": {\"frequency\": 2340, \"value\": \"vbscript\"}, \"stylesheet\": {\"frequency\": 1031, \"value\": \"stylesheet\"}, \"submit\": {\"frequency\": 1479, \"value\": \"submit\"}, \"custom\": {\"frequency\": 637, \"value\": \"custom\"}, \"heroku\": {\"frequency\": 2966, \"value\": \"heroku\"}, \"xpath\": {\"frequency\": 4245, \"value\": \"xpath\"}, \"https\": {\"frequency\": 3524, \"value\": \"https\"}, \"memory\": {\"frequency\": 6822, \"value\": \"memory\"}, \"linq\": {\"frequency\": 11096, \"value\": \"linq\"}, \"sdl\": {\"frequency\": 771, \"value\": \"sdl\"}, \"line\": {\"frequency\": 1342, \"value\": \"line\"}, \"sdk\": {\"frequency\": 3453, \"value\": \"sdk\"}, \"groovy\": {\"frequency\": 2113, \"value\": \"groovy\"}, \"server-side\": {\"frequency\": 699, \"value\": \"server-side\"}, \"windows\": {\"frequency\": 21716, \"value\": \"windows\"}, \"security\": {\"frequency\": 11606, \"value\": \"security\"}, \"accessibility\": {\"frequency\": 795, \"value\": \"accessibility\"}, \"char\": {\"frequency\": 1603, \"value\": \"char\"}, \"tomcat6\": {\"frequency\": 863, \"value\": \"tomcat6\"}, \"chat\": {\"frequency\": 1125, \"value\": \"chat\"}, \"oauth-2.0\": {\"frequency\": 1045, \"value\": \"oauth-2.0\"}, \"nsuserdefaults\": {\"frequency\": 654, \"value\": \"nsuserdefaults\"}, \"curl\": {\"frequency\": 4527, \"value\": \"curl\"}, \"cmake\": {\"frequency\": 1107, \"value\": \"cmake\"}, \"application\": {\"frequency\": 7021, \"value\": \"application\"}, \"load-balancing\": {\"frequency\": 656, \"value\": \"load-balancing\"}, \"draw\": {\"frequency\": 726, \"value\": \"draw\"}, \"mongodb\": {\"frequency\": 5516, \"value\": \"mongodb\"}, \"drag\": {\"frequency\": 775, \"value\": \"drag\"}, \"eval\": {\"frequency\": 956, \"value\": \"eval\"}, \"linq-to-sql\": {\"frequency\": 4439, \"value\": \"linq-to-sql\"}, \"structure\": {\"frequency\": 1039, \"value\": \"structure\"}, \"svn\": {\"frequency\": 8797, \"value\": \"svn\"}, \"webdriver\": {\"frequency\": 993, \"value\": \"webdriver\"}, \"algorithm\": {\"frequency\": 12244, \"value\": \"algorithm\"}, \"svg\": {\"frequency\": 2489, \"value\": \"svg\"}, \"inner-join\": {\"frequency\": 673, \"value\": \"inner-join\"}, \"youtube\": {\"frequency\": 2466, \"value\": \"youtube\"}, \"jpanel\": {\"frequency\": 930, \"value\": \"jpanel\"}, \"textmate\": {\"frequency\": 642, \"value\": \"textmate\"}, \"oracle\": {\"frequency\": 9533, \"value\": \"oracle\"}, \"scroll\": {\"frequency\": 2286, \"value\": \"scroll\"}, \"msbuild\": {\"frequency\": 2498, \"value\": \"msbuild\"}, \"hashmap\": {\"frequency\": 1494, \"value\": \"hashmap\"}, \"redis\": {\"frequency\": 1281, \"value\": \"redis\"}, \"dependency-injection\": {\"frequency\": 2603, \"value\": \"dependency- ...\"}, \"json.net\": {\"frequency\": 705, \"value\": \"json.net\"}, \"toggle\": {\"frequency\": 1086, \"value\": \"toggle\"}, \"gd\": {\"frequency\": 923, \"value\": \"gd\"}, \"ggplot2\": {\"frequency\": 747, \"value\": \"ggplot2\"}, \"go\": {\"frequency\": 671, \"value\": \"go\"}, \"query\": {\"frequency\": 13307, \"value\": \"query\"}, \"flash-builder\": {\"frequency\": 967, \"value\": \"flash-builder\"}, \"base64\": {\"frequency\": 1185, \"value\": \"base64\"}, \"send\": {\"frequency\": 671, \"value\": \"send\"}, \"eclipse-rcp\": {\"frequency\": 699, \"value\": \"eclipse-rcp\"}, \"include\": {\"frequency\": 2494, \"value\": \"include\"}, \"junit\": {\"frequency\": 2682, \"value\": \"junit\"}, \"resources\": {\"frequency\": 3244, \"value\": \"resources\"}, \"facebook\": {\"frequency\": 20517, \"value\": \"facebook\"}, \"stackoverflow\": {\"frequency\": 926, \"value\": \"stackoverflow\"}, \"viewstate\": {\"frequency\": 759, \"value\": \"viewstate\"}, \"mercurial\": {\"frequency\": 2668, \"value\": \"mercurial\"}, \"button\": {\"frequency\": 6363, \"value\": \"button\"}, \"colors\": {\"frequency\": 3414, \"value\": \"colors\"}, \"versioning\": {\"frequency\": 912, \"value\": \"versioning\"}, \"asp-classic\": {\"frequency\": 2400, \"value\": \"asp-classic\"}, \"elisp\": {\"frequency\": 637, \"value\": \"elisp\"}, \"cron\": {\"frequency\": 2157, \"value\": \"cron\"}, \"video\": {\"frequency\": 5661, \"value\": \"video\"}, \"download\": {\"frequency\": 2596, \"value\": \"download\"}, \"tortoisesvn\": {\"frequency\": 1595, \"value\": \"tortoisesvn\"}, \"click\": {\"frequency\": 2193, \"value\": \"click\"}, \"vmware\": {\"frequency\": 767, \"value\": \"vmware\"}, \"sql-server-2008\": {\"frequency\": 8803, \"value\": \"sql-server-2008\"}, \"index\": {\"frequency\": 2564, \"value\": \"index\"}, \"html-helper\": {\"frequency\": 637, \"value\": \"html-helper\"}, \"sql-server-2000\": {\"frequency\": 735, \"value\": \"sql-server-2000\"}, \"sql-server-2005\": {\"frequency\": 5793, \"value\": \"sql-server-2005\"}, \"cell\": {\"frequency\": 904, \"value\": \"cell\"}, \"clipboard\": {\"frequency\": 716, \"value\": \"clipboard\"}, \"winrt\": {\"frequency\": 680, \"value\": \"winrt\"}, \"3d\": {\"frequency\": 2788, \"value\": \"3d\"}, \"text-files\": {\"frequency\": 919, \"value\": \"text-files\"}, \"exchange\": {\"frequency\": 817, \"value\": \"exchange\"}, \"winapi\": {\"frequency\": 5687, \"value\": \"winapi\"}, \"drupal-7\": {\"frequency\": 1531, \"value\": \"drupal-7\"}, \"drupal-6\": {\"frequency\": 1316, \"value\": \"drupal-6\"}, \"matplotlib\": {\"frequency\": 1371, \"value\": \"matplotlib\"}, \"ubuntu\": {\"frequency\": 5410, \"value\": \"ubuntu\"}, \"jquery-ui\": {\"frequency\": 9733, \"value\": \"jquery-ui\"}, \"c++-cli\": {\"frequency\": 858, \"value\": \"c++-cli\"}, \"google-chrome\": {\"frequency\": 8012, \"value\": \"google-chrome\"}, \"vba\": {\"frequency\": 4592, \"value\": \"vba\"}, \"uikit\": {\"frequency\": 929, \"value\": \"uikit\"}, \"shader\": {\"frequency\": 649, \"value\": \"shader\"}, \"nsstring\": {\"frequency\": 1975, \"value\": \"nsstring\"}, \"enterprise-library\": {\"frequency\": 703, \"value\": \"enterprise-library\"}, \"entity-relationship\": {\"frequency\": 670, \"value\": \"entity- ...\"}, \"firefox\": {\"frequency\": 8021, \"value\": \"firefox\"}, \"apple\": {\"frequency\": 2188, \"value\": \"apple\"}, \"private\": {\"frequency\": 668, \"value\": \"private\"}, \"apk\": {\"frequency\": 786, \"value\": \"apk\"}, \"api\": {\"frequency\": 12780, \"value\": \"api\"}, \"cloud\": {\"frequency\": 1311, \"value\": \"cloud\"}, \"wix\": {\"frequency\": 1220, \"value\": \"wix\"}, \"castle-windsor\": {\"frequency\": 821, \"value\": \"castle-windsor\"}, \"usb\": {\"frequency\": 1591, \"value\": \"usb\"}, \"zip\": {\"frequency\": 1737, \"value\": \"zip\"}, \"google-app-engine\": {\"frequency\": 5856, \"value\": \"google-app-engine\"}, \"hudson\": {\"frequency\": 1280, \"value\": \"hudson\"}, \"camera\": {\"frequency\": 2266, \"value\": \"camera\"}, \"iis\": {\"frequency\": 6552, \"value\": \"iis\"}, \"xaml\": {\"frequency\": 5172, \"value\": \"xaml\"}, \"visibility\": {\"frequency\": 754, \"value\": \"visibility\"}, \"scheduled-tasks\": {\"frequency\": 1041, \"value\": \"scheduled-tasks\"}, \"cakephp-1.3\": {\"frequency\": 650, \"value\": \"cakephp-1.3\"}, \"javascript-library\": {\"frequency\": 626, \"value\": \"javascript-library\"}, \"resize\": {\"frequency\": 2567, \"value\": \"resize\"}, \"pagination\": {\"frequency\": 1998, \"value\": \"pagination\"}, \"tableview\": {\"frequency\": 784, \"value\": \"tableview\"}, \"this\": {\"frequency\": 969, \"value\": \"this\"}, \"control\": {\"frequency\": 1777, \"value\": \"control\"}, \"sqlite\": {\"frequency\": 9021, \"value\": \"sqlite\"}, \"links\": {\"frequency\": 1089, \"value\": \"links\"}, \"process\": {\"frequency\": 3459, \"value\": \"process\"}, \"javadoc\": {\"frequency\": 773, \"value\": \"javadoc\"}, \"text-editor\": {\"frequency\": 674, \"value\": \"text-editor\"}, \"serial\": {\"frequency\": 791, \"value\": \"serial\"}, \"native\": {\"frequency\": 879, \"value\": \"native\"}, \"gcc\": {\"frequency\": 4885, \"value\": \"gcc\"}, \"pyqt\": {\"frequency\": 974, \"value\": \"pyqt\"}, \"delay\": {\"frequency\": 812, \"value\": \"delay\"}, \"uinavigationcontroller\": {\"frequency\": 2462, \"value\": \"uinavigationcontro ...\"}, \"desktop-application\": {\"frequency\": 764, \"value\": \"desktop- ...\"}, \"profile\": {\"frequency\": 667, \"value\": \"profile\"}, \"session-cookies\": {\"frequency\": 735, \"value\": \"session-cookies\"}, \"url-rewriting\": {\"frequency\": 2962, \"value\": \"url-rewriting\"}, \"postback\": {\"frequency\": 1151, \"value\": \"postback\"}, \"alertdialog\": {\"frequency\": 626, \"value\": \"alertdialog\"}, \"javascript-events\": {\"frequency\": 4972, \"value\": \"javascript-events\"}, \"pydev\": {\"frequency\": 640, \"value\": \"pydev\"}, \"windows-services\": {\"frequency\": 2327, \"value\": \"windows-services\"}, \"bind\": {\"frequency\": 1014, \"value\": \"bind\"}, \"grails\": {\"frequency\": 2608, \"value\": \"grails\"}, \"selectors\": {\"frequency\": 793, \"value\": \"selectors\"}, \"thread-safety\": {\"frequency\": 2048, \"value\": \"thread-safety\"}, \"osgi\": {\"frequency\": 879, \"value\": \"osgi\"}, \"move\": {\"frequency\": 668, \"value\": \"move\"}, \"facebook-c#-sdk\": {\"frequency\": 843, \"value\": \"facebook-c#-sdk\"}, \"jni\": {\"frequency\": 1473, \"value\": \"jni\"}, \"directx\": {\"frequency\": 1152, \"value\": \"directx\"}, \"paperclip\": {\"frequency\": 999, \"value\": \"paperclip\"}, \"communication\": {\"frequency\": 863, \"value\": \"communication\"}, \"multithreading\": {\"frequency\": 17694, \"value\": \"multithreading\"}, \"flex\": {\"frequency\": 6573, \"value\": \"flex\"}, \"crash\": {\"frequency\": 2782, \"value\": \"crash\"}, \"python\": {\"frequency\": 43678, \"value\": \"python\"}, \"indexing\": {\"frequency\": 2164, \"value\": \"indexing\"}, \"ms-word\": {\"frequency\": 1460, \"value\": \"ms-word\"}, \"rotation\": {\"frequency\": 2311, \"value\": \"rotation\"}, \"cakephp\": {\"frequency\": 3543, \"value\": \"cakephp\"}, \"storyboard\": {\"frequency\": 1378, \"value\": \"storyboard\"}, \"edit\": {\"frequency\": 751, \"value\": \"edit\"}, \".net\": {\"frequency\": 36094, \"value\": \".net\"}, \"merge\": {\"frequency\": 2837, \"value\": \"merge\"}, \"scrollbar\": {\"frequency\": 1413, \"value\": \"scrollbar\"}, \"tabcontrol\": {\"frequency\": 638, \"value\": \"tabcontrol\"}, \"constraints\": {\"frequency\": 1063, \"value\": \"constraints\"}, \"maven-plugin\": {\"frequency\": 661, \"value\": \"maven-plugin\"}, \"app-config\": {\"frequency\": 944, \"value\": \"app-config\"}, \"bluetooth\": {\"frequency\": 2112, \"value\": \"bluetooth\"}, \"image-processing\": {\"frequency\": 4427, \"value\": \"image-processing\"}, \"books\": {\"frequency\": 1780, \"value\": \"books\"}, \"static\": {\"frequency\": 3498, \"value\": \"static\"}, \"matrix\": {\"frequency\": 2681, \"value\": \"matrix\"}, \"command-line\": {\"frequency\": 4035, \"value\": \"command-line\"}, \"spring-mvc\": {\"frequency\": 3077, \"value\": \"spring-mvc\"}, \"math\": {\"frequency\": 6394, \"value\": \"math\"}, \"dictionary\": {\"frequency\": 3424, \"value\": \"dictionary\"}, \"sendmail\": {\"frequency\": 724, \"value\": \"sendmail\"}, \"winforms\": {\"frequency\": 9571, \"value\": \"winforms\"}, \"delegates\": {\"frequency\": 2906, \"value\": \"delegates\"}, \"inversion-of-control\": {\"frequency\": 1021, \"value\": \"inversion-of- ...\"}, \"firefox-addon\": {\"frequency\": 1221, \"value\": \"firefox-addon\"}, \"geometry\": {\"frequency\": 1360, \"value\": \"geometry\"}, \"cruisecontrol.net\": {\"frequency\": 655, \"value\": \"cruisecontrol.net\"}, \"timer\": {\"frequency\": 3109, \"value\": \"timer\"}, \"simplexml\": {\"frequency\": 970, \"value\": \"simplexml\"}, \"zend-form\": {\"frequency\": 683, \"value\": \"zend-form\"}, \"xml-schema\": {\"frequency\": 1507, \"value\": \"xml-schema\"}, \"sencha-touch-2\": {\"frequency\": 609, \"value\": \"sencha-touch-2\"}, \"maven-3\": {\"frequency\": 636, \"value\": \"maven-3\"}, \"maven-2\": {\"frequency\": 1852, \"value\": \"maven-2\"}, \"echo\": {\"frequency\": 892, \"value\": \"echo\"}, \"facebook-connect\": {\"frequency\": 1834, \"value\": \"facebook-connect\"}, \"abstract-class\": {\"frequency\": 887, \"value\": \"abstract-class\"}, \"sockets\": {\"frequency\": 8539, \"value\": \"sockets\"}, \"mouseover\": {\"frequency\": 731, \"value\": \"mouseover\"}, \"makefile\": {\"frequency\": 2137, \"value\": \"makefile\"}, \"system\": {\"frequency\": 1402, \"value\": \"system\"}, \"wrapper\": {\"frequency\": 835, \"value\": \"wrapper\"}, \"batch-file\": {\"frequency\": 2358, \"value\": \"batch-file\"}, \"udp\": {\"frequency\": 1670, \"value\": \"udp\"}, \"shell\": {\"frequency\": 7224, \"value\": \"shell\"}, \"update\": {\"frequency\": 809, \"value\": \"update\"}, \"rsa\": {\"frequency\": 918, \"value\": \"rsa\"}, \"jndi\": {\"frequency\": 702, \"value\": \"jndi\"}, \"while-loop\": {\"frequency\": 1636, \"value\": \"while-loop\"}, \"textfield\": {\"frequency\": 676, \"value\": \"textfield\"}, \"rss\": {\"frequency\": 2616, \"value\": \"rss\"}, \"ipad\": {\"frequency\": 9177, \"value\": \"ipad\"}, \"network-programming\": {\"frequency\": 2226, \"value\": \"network- ...\"}, \"pointers\": {\"frequency\": 5556, \"value\": \"pointers\"}, \"jscrollpane\": {\"frequency\": 729, \"value\": \"jscrollpane\"}, \"repository-pattern\": {\"frequency\": 642, \"value\": \"repository-pattern\"}, \"migration\": {\"frequency\": 1925, \"value\": \"migration\"}, \"function\": {\"frequency\": 9502, \"value\": \"function\"}, \"twitter-api\": {\"frequency\": 1854, \"value\": \"twitter-api\"}, \"tabs\": {\"frequency\": 3203, \"value\": \"tabs\"}, \"linker\": {\"frequency\": 2614, \"value\": \"linker\"}, \"excel-vba\": {\"frequency\": 2314, \"value\": \"excel-vba\"}, \"element\": {\"frequency\": 1093, \"value\": \"element\"}, \"border\": {\"frequency\": 1197, \"value\": \"border\"}, \"asp.net\": {\"frequency\": 38026, \"value\": \"asp.net\"}, \"sinatra\": {\"frequency\": 1105, \"value\": \"sinatra\"}, \"soap\": {\"frequency\": 5117, \"value\": \"soap\"}, \"persistence\": {\"frequency\": 1562, \"value\": \"persistence\"}, \"criteria\": {\"frequency\": 654, \"value\": \"criteria\"}, \"wpfdatagrid\": {\"frequency\": 665, \"value\": \"wpfdatagrid\"}, \"automated-tests\": {\"frequency\": 1065, \"value\": \"automated-tests\"}, \"awt\": {\"frequency\": 806, \"value\": \"awt\"}, \"awk\": {\"frequency\": 1579, \"value\": \"awk\"}, \"device\": {\"frequency\": 925, \"value\": \"device\"}, \"gallery\": {\"frequency\": 1261, \"value\": \"gallery\"}, \"oracle11g\": {\"frequency\": 1311, \"value\": \"oracle11g\"}, \"url\": {\"frequency\": 8531, \"value\": \"url\"}, \"request\": {\"frequency\": 1904, \"value\": \"request\"}, \"uri\": {\"frequency\": 1202, \"value\": \"uri\"}, \"pipe\": {\"frequency\": 809, \"value\": \"pipe\"}, \"ef-code-first\": {\"frequency\": 1330, \"value\": \"ef-code-first\"}, \"selection\": {\"frequency\": 1005, \"value\": \"selection\"}, \"text\": {\"frequency\": 5759, \"value\": \"text\"}, \"eclipselink\": {\"frequency\": 686, \"value\": \"eclipselink\"}, \"automapper\": {\"frequency\": 739, \"value\": \"automapper\"}, \"css-selectors\": {\"frequency\": 1139, \"value\": \"css-selectors\"}, \"redirect\": {\"frequency\": 6631, \"value\": \"redirect\"}, \"serial-port\": {\"frequency\": 1088, \"value\": \"serial-port\"}, \"jar\": {\"frequency\": 3089, \"value\": \"jar\"}, \"controls\": {\"frequency\": 1686, \"value\": \"controls\"}, \"terminal\": {\"frequency\": 2127, \"value\": \"terminal\"}, \"local\": {\"frequency\": 814, \"value\": \"local\"}, \"spring-security\": {\"frequency\": 1513, \"value\": \"spring-security\"}, \"vim\": {\"frequency\": 4074, \"value\": \"vim\"}, \"db2\": {\"frequency\": 1112, \"value\": \"db2\"}, \"scrolling\": {\"frequency\": 2224, \"value\": \"scrolling\"}, \"design-patterns\": {\"frequency\": 7111, \"value\": \"design-patterns\"}, \"aes\": {\"frequency\": 886, \"value\": \"aes\"}, \"qt\": {\"frequency\": 5922, \"value\": \"qt\"}, \"default\": {\"frequency\": 977, \"value\": \"default\"}, \"git-svn\": {\"frequency\": 743, \"value\": \"git-svn\"}, \"view\": {\"frequency\": 4711, \"value\": \"view\"}, \"frame\": {\"frequency\": 959, \"value\": \"frame\"}, \"module\": {\"frequency\": 3092, \"value\": \"module\"}, \"popup\": {\"frequency\": 2308, \"value\": \"popup\"}, \"gmail\": {\"frequency\": 1754, \"value\": \"gmail\"}, \"uialertview\": {\"frequency\": 704, \"value\": \"uialertview\"}, \"dll\": {\"frequency\": 5042, \"value\": \"dll\"}, \"lua\": {\"frequency\": 1523, \"value\": \"lua\"}, \"g++\": {\"frequency\": 1646, \"value\": \"g++\"}, \"routing\": {\"frequency\": 2768, \"value\": \"routing\"}, \"query-string\": {\"frequency\": 1094, \"value\": \"query-string\"}, \"email\": {\"frequency\": 9063, \"value\": \"email\"}, \"qt4\": {\"frequency\": 1491, \"value\": \"qt4\"}, \"session-state\": {\"frequency\": 701, \"value\": \"session-state\"}, \"teamcity\": {\"frequency\": 800, \"value\": \"teamcity\"}, \"sharedpreferences\": {\"frequency\": 682, \"value\": \"sharedpreferences\"}, \"configuration\": {\"frequency\": 4120, \"value\": \"configuration\"}, \"tkinter\": {\"frequency\": 884, \"value\": \"tkinter\"}, \"coldfusion\": {\"frequency\": 1434, \"value\": \"coldfusion\"}, \"accordion\": {\"frequency\": 831, \"value\": \"accordion\"}, \"attributes\": {\"frequency\": 3108, \"value\": \"attributes\"}, \"jersey\": {\"frequency\": 1043, \"value\": \"jersey\"}, \"preprocessor\": {\"frequency\": 1151, \"value\": \"preprocessor\"}, \"deserialization\": {\"frequency\": 768, \"value\": \"deserialization\"}, \"nstimer\": {\"frequency\": 657, \"value\": \"nstimer\"}, \"interface\": {\"frequency\": 3880, \"value\": \"interface\"}, \"rpc\": {\"frequency\": 638, \"value\": \"rpc\"}, \"version-control\": {\"frequency\": 4426, \"value\": \"version-control\"}, \"cxf\": {\"frequency\": 803, \"value\": \"cxf\"}, \"event-handling\": {\"frequency\": 2747, \"value\": \"event-handling\"}, \"table\": {\"frequency\": 8049, \"value\": \"table\"}, \"android-webview\": {\"frequency\": 820, \"value\": \"android-webview\"}, \"nosql\": {\"frequency\": 1824, \"value\": \"nosql\"}, \"iphone-sdk-4.0\": {\"frequency\": 2673, \"value\": \"iphone-sdk-4.0\"}, \"charts\": {\"frequency\": 2859, \"value\": \"charts\"}, \"int\": {\"frequency\": 1462, \"value\": \"int\"}, \"json\": {\"frequency\": 19535, \"value\": \"json\"}, \"uitableviewcell\": {\"frequency\": 2977, \"value\": \"uitableviewcell\"}, \"url-routing\": {\"frequency\": 1085, \"value\": \"url-routing\"}, \"c#\": {\"frequency\": 82824, \"value\": \"c#\"}, \"osx-snow-leopard\": {\"frequency\": 978, \"value\": \"osx-snow-leopard\"}, \"local-storage\": {\"frequency\": 837, \"value\": \"local-storage\"}, \"controller\": {\"frequency\": 2553, \"value\": \"controller\"}, \"graphics\": {\"frequency\": 4336, \"value\": \"graphics\"}, \"sortable\": {\"frequency\": 632, \"value\": \"sortable\"}, \"cvs\": {\"frequency\": 810, \"value\": \"cvs\"}, \"cursor\": {\"frequency\": 1966, \"value\": \"cursor\"}, \"frameworks\": {\"frequency\": 4300, \"value\": \"frameworks\"}, \"intellisense\": {\"frequency\": 901, \"value\": \"intellisense\"}, \"rename\": {\"frequency\": 648, \"value\": \"rename\"}, \"vb\": {\"frequency\": 2712, \"value\": \"vb\"}, \"uiimageview\": {\"frequency\": 2004, \"value\": \"uiimageview\"}, \"hardware\": {\"frequency\": 1099, \"value\": \"hardware\"}, \"linq-to-entities\": {\"frequency\": 1735, \"value\": \"linq-to-entities\"}, \"jquery-events\": {\"frequency\": 666, \"value\": \"jquery-events\"}, \"oracle10g\": {\"frequency\": 1485, \"value\": \"oracle10g\"}, \"views\": {\"frequency\": 1847, \"value\": \"views\"}, \"classpath\": {\"frequency\": 1245, \"value\": \"classpath\"}, \"unity\": {\"frequency\": 1196, \"value\": \"unity\"}, \"android\": {\"frequency\": 63319, \"value\": \"android\"}, \"http\": {\"frequency\": 9482, \"value\": \"http\"}, \"video-streaming\": {\"frequency\": 1486, \"value\": \"video-streaming\"}, \"reporting\": {\"frequency\": 1254, \"value\": \"reporting\"}, \"ios\": {\"frequency\": 27557, \"value\": \"ios\"}, \"automation\": {\"frequency\": 2262, \"value\": \"automation\"}, \"php\": {\"frequency\": 81205, \"value\": \"php\"}, \"xcode4\": {\"frequency\": 3285, \"value\": \"xcode4\"}, \"polymorphism\": {\"frequency\": 1480, \"value\": \"polymorphism\"}, \"coding-style\": {\"frequency\": 3705, \"value\": \"coding-style\"}, \"center\": {\"frequency\": 764, \"value\": \"center\"}, \"object\": {\"frequency\": 7053, \"value\": \"object\"}, \"draggable\": {\"frequency\": 883, \"value\": \"draggable\"}, \"patterns\": {\"frequency\": 797, \"value\": \"patterns\"}, \"command\": {\"frequency\": 1942, \"value\": \"command\"}, \"position\": {\"frequency\": 1875, \"value\": \"position\"}, \"audio\": {\"frequency\": 5943, \"value\": \"audio\"}, \"parallel-processing\": {\"frequency\": 2269, \"value\": \"parallel- ...\"}, \"drawing\": {\"frequency\": 1757, \"value\": \"drawing\"}, \"webclient\": {\"frequency\": 786, \"value\": \"webclient\"}, \"load\": {\"frequency\": 2531, \"value\": \"load\"}, \"mfc\": {\"frequency\": 1940, \"value\": \"mfc\"}, \"content-type\": {\"frequency\": 646, \"value\": \"content-type\"}, \"less\": {\"frequency\": 820, \"value\": \"less\"}, \"tcp\": {\"frequency\": 3274, \"value\": \"tcp\"}, \"xml-serialization\": {\"frequency\": 1854, \"value\": \"xml-serialization\"}, \"web\": {\"frequency\": 4085, \"value\": \"web\"}, \"java-ee\": {\"frequency\": 5092, \"value\": \"java-ee\"}, \"exception-handling\": {\"frequency\": 3443, \"value\": \"exception-handling\"}, \"spinner\": {\"frequency\": 966, \"value\": \"spinner\"}, \"add\": {\"frequency\": 995, \"value\": \"add\"}, \"adb\": {\"frequency\": 663, \"value\": \"adb\"}, \"facebook-like\": {\"frequency\": 1695, \"value\": \"facebook-like\"}, \"ado\": {\"frequency\": 635, \"value\": \"ado\"}, \"homework\": {\"frequency\": 4092, \"value\": \"homework\"}, \"primefaces\": {\"frequency\": 1177, \"value\": \"primefaces\"}, \"css3\": {\"frequency\": 5795, \"value\": \"css3\"}, \"plsql\": {\"frequency\": 1979, \"value\": \"plsql\"}, \"c#-3.0\": {\"frequency\": 1480, \"value\": \"c#-3.0\"}, \"bit-manipulation\": {\"frequency\": 679, \"value\": \"bit-manipulation\"}, \"message-queue\": {\"frequency\": 693, \"value\": \"message-queue\"}, \"deployment\": {\"frequency\": 5047, \"value\": \"deployment\"}, \"insert\": {\"frequency\": 3108, \"value\": \"insert\"}, \"like\": {\"frequency\": 1515, \"value\": \"like\"}, \"xquery\": {\"frequency\": 633, \"value\": \"xquery\"}, \"xsd\": {\"frequency\": 2353, \"value\": \"xsd\"}, \"xml-rpc\": {\"frequency\": 661, \"value\": \"xml-rpc\"}, \"android-mapview\": {\"frequency\": 949, \"value\": \"android-mapview\"}, \"sequence\": {\"frequency\": 708, \"value\": \"sequence\"}, \"twitter\": {\"frequency\": 4667, \"value\": \"twitter\"}, \"export\": {\"frequency\": 1642, \"value\": \"export\"}, \"overlay\": {\"frequency\": 1311, \"value\": \"overlay\"}, \"leak\": {\"frequency\": 679, \"value\": \"leak\"}, \"cross-domain\": {\"frequency\": 1488, \"value\": \"cross-domain\"}, \"tooltip\": {\"frequency\": 1234, \"value\": \"tooltip\"}, \"django-views\": {\"frequency\": 779, \"value\": \"django-views\"}, \"background-color\": {\"frequency\": 632, \"value\": \"background-color\"}, \"maven\": {\"frequency\": 5480, \"value\": \"maven\"}, \"dataannotations\": {\"frequency\": 724, \"value\": \"dataannotations\"}, \"bundle\": {\"frequency\": 992, \"value\": \"bundle\"}, \"google-charts\": {\"frequency\": 635, \"value\": \"google-charts\"}, \"panel\": {\"frequency\": 951, \"value\": \"panel\"}, \"constructor\": {\"frequency\": 3020, \"value\": \"constructor\"}, \"tomcat\": {\"frequency\": 6101, \"value\": \"tomcat\"}, \"clojure\": {\"frequency\": 1319, \"value\": \"clojure\"}, \"powerpoint\": {\"frequency\": 711, \"value\": \"powerpoint\"}, \"smarty\": {\"frequency\": 861, \"value\": \"smarty\"}, \"dataset\": {\"frequency\": 1858, \"value\": \"dataset\"}, \"cocoa\": {\"frequency\": 7216, \"value\": \"cocoa\"}, \"registration\": {\"frequency\": 762, \"value\": \"registration\"}, \"destructor\": {\"frequency\": 638, \"value\": \"destructor\"}, \"networking\": {\"frequency\": 6567, \"value\": \"networking\"}, \"flash-cs5\": {\"frequency\": 681, \"value\": \"flash-cs5\"}, \"log4net\": {\"frequency\": 1055, \"value\": \"log4net\"}, \"repeater\": {\"frequency\": 794, \"value\": \"repeater\"}, \"django-admin\": {\"frequency\": 1499, \"value\": \"django-admin\"}, \"oauth\": {\"frequency\": 3409, \"value\": \"oauth\"}, \"overflow\": {\"frequency\": 1311, \"value\": \"overflow\"}, \"macros\": {\"frequency\": 2967, \"value\": \"macros\"}, \"count\": {\"frequency\": 2705, \"value\": \"count\"}, \"web-scraping\": {\"frequency\": 782, \"value\": \"web-scraping\"}, \"converter\": {\"frequency\": 657, \"value\": \"converter\"}, \"python-3.x\": {\"frequency\": 1497, \"value\": \"python-3.x\"}, \"hosting\": {\"frequency\": 1569, \"value\": \"hosting\"}, \"cocos2d-iphone\": {\"frequency\": 1446, \"value\": \"cocos2d-iphone\"}, \"limit\": {\"frequency\": 1068, \"value\": \"limit\"}, \"django-templates\": {\"frequency\": 1504, \"value\": \"django-templates\"}, \"cocoa-touch\": {\"frequency\": 4002, \"value\": \"cocoa-touch\"}, \"distribution\": {\"frequency\": 749, \"value\": \"distribution\"}, \"datepicker\": {\"frequency\": 1857, \"value\": \"datepicker\"}, \"android-tabhost\": {\"frequency\": 766, \"value\": \"android-tabhost\"}, \"pil\": {\"frequency\": 681, \"value\": \"pil\"}, \"devise\": {\"frequency\": 1840, \"value\": \"devise\"}, \"android-emulator\": {\"frequency\": 2718, \"value\": \"android-emulator\"}, \"mime-types\": {\"frequency\": 790, \"value\": \"mime-types\"}, \"mod-wsgi\": {\"frequency\": 641, \"value\": \"mod-wsgi\"}, \"html5-video\": {\"frequency\": 992, \"value\": \"html5-video\"}, \"raphael\": {\"frequency\": 898, \"value\": \"raphael\"}, \"resharper\": {\"frequency\": 1018, \"value\": \"resharper\"}, \"virtual\": {\"frequency\": 1199, \"value\": \"virtual\"}, \"php5\": {\"frequency\": 6812, \"value\": \"php5\"}, \"branch\": {\"frequency\": 1317, \"value\": \"branch\"}, \"unit-testing\": {\"frequency\": 8881, \"value\": \"unit-testing\"}, \"quartz\": {\"frequency\": 612, \"value\": \"quartz\"}, \"asp.net-mvc\": {\"frequency\": 10963, \"value\": \"asp.net-mvc\"}, \"inputstream\": {\"frequency\": 828, \"value\": \"inputstream\"}, \"asset-pipeline\": {\"frequency\": 696, \"value\": \"asset-pipeline\"}, \"wamp\": {\"frequency\": 874, \"value\": \"wamp\"}, \"extjs\": {\"frequency\": 2758, \"value\": \"extjs\"}, \"sphinx\": {\"frequency\": 841, \"value\": \"sphinx\"}, \"sass\": {\"frequency\": 833, \"value\": \"sass\"}, \"blogs\": {\"frequency\": 991, \"value\": \"blogs\"}, \"uitableviewcontroller\": {\"frequency\": 987, \"value\": \"uitableviewcontrol ...\"}, \"http-status-code-404\": {\"frequency\": 1157, \"value\": \"http-status- ...\"}, \"validation\": {\"frequency\": 9627, \"value\": \"validation\"}}, \"size\": 6352858}}, \"selected_variable\": {\"name\": [\"user_tag_count\"], \"descriptives\": {\"rows\": 6352858, \"columns\": 3}, \"view_component\": \"Summary\", \"view_file\": \"sframe\", \"view_params\": {\"y\": null, \"x\": null, \"columns\": [\"OwnerUserId\", \"Tag\", \"Count\"], \"view\": null}, \"view_components\": [\"Summary\", \"Table\", \"Bar Chart\", \"BoxWhisker Plot\", \"Line Chart\", \"Scatter Plot\", \"Heat Map\", \"Plots\"], \"type\": \"SFrame\", \"columns\": [{\"dtype\": \"str\", \"name\": \"OwnerUserId\"}, {\"dtype\": \"str\", \"name\": \"Tag\"}, {\"dtype\": \"int\", \"name\": \"Count\"}], \"column_identifiers\": [\"OwnerUserId\", \"Count\", \"Tag\"]}, \"columns\": [{\"dtype\": \"str\", \"name\": \"OwnerUserId\"}, {\"dtype\": \"str\", \"name\": \"Tag\"}, {\"dtype\": \"int\", \"name\": \"Count\"}]}, e);\n",
       "                });\n",
       "            })();\n",
       "        "
      ]
     },
     "metadata": {},
     "output_type": "display_data"
    }
   ],
   "source": [
    "graphlab.canvas.set_target('ipynb')\n",
    "user_tag_count.show()"
   ]
  },
  {
   "cell_type": "markdown",
   "metadata": {},
   "source": [
    "Use `graphlab.recommender.create()` to create a model that can be used to recommend tags to each user."
   ]
  },
  {
   "cell_type": "code",
   "execution_count": 26,
   "metadata": {
    "collapsed": false
   },
   "outputs": [
    {
     "data": {
      "text/html": [
       "<pre>Recsys training: model = item_similarity</pre>"
      ],
      "text/plain": [
       "Recsys training: model = item_similarity"
      ]
     },
     "metadata": {},
     "output_type": "display_data"
    },
    {
     "data": {
      "text/html": [
       "<pre>Warning: Column 'Count' ignored.</pre>"
      ],
      "text/plain": [
       "Warning: Column 'Count' ignored."
      ]
     },
     "metadata": {},
     "output_type": "display_data"
    },
    {
     "data": {
      "text/html": [
       "<pre>    To use this column as the target, set target = \"Count\" and use a method that allows the use of a target.</pre>"
      ],
      "text/plain": [
       "    To use this column as the target, set target = \"Count\" and use a method that allows the use of a target."
      ]
     },
     "metadata": {},
     "output_type": "display_data"
    },
    {
     "data": {
      "text/html": [
       "<pre>Preparing data set.</pre>"
      ],
      "text/plain": [
       "Preparing data set."
      ]
     },
     "metadata": {},
     "output_type": "display_data"
    },
    {
     "data": {
      "text/html": [
       "<pre>    Data has 6352858 observations with 656102 users and 44149 items.</pre>"
      ],
      "text/plain": [
       "    Data has 6352858 observations with 656102 users and 44149 items."
      ]
     },
     "metadata": {},
     "output_type": "display_data"
    },
    {
     "data": {
      "text/html": [
       "<pre>    Data prepared in: 3.53473s</pre>"
      ],
      "text/plain": [
       "    Data prepared in: 3.53473s"
      ]
     },
     "metadata": {},
     "output_type": "display_data"
    },
    {
     "data": {
      "text/html": [
       "<pre>Training model from provided data.</pre>"
      ],
      "text/plain": [
       "Training model from provided data."
      ]
     },
     "metadata": {},
     "output_type": "display_data"
    },
    {
     "data": {
      "text/html": [
       "<pre>Gathering per-item and per-user statistics.</pre>"
      ],
      "text/plain": [
       "Gathering per-item and per-user statistics."
      ]
     },
     "metadata": {},
     "output_type": "display_data"
    },
    {
     "data": {
      "text/html": [
       "<pre>+--------------------------------+------------+</pre>"
      ],
      "text/plain": [
       "+--------------------------------+------------+"
      ]
     },
     "metadata": {},
     "output_type": "display_data"
    },
    {
     "data": {
      "text/html": [
       "<pre>| Elapsed Time (Item Statistics) | % Complete |</pre>"
      ],
      "text/plain": [
       "| Elapsed Time (Item Statistics) | % Complete |"
      ]
     },
     "metadata": {},
     "output_type": "display_data"
    },
    {
     "data": {
      "text/html": [
       "<pre>+--------------------------------+------------+</pre>"
      ],
      "text/plain": [
       "+--------------------------------+------------+"
      ]
     },
     "metadata": {},
     "output_type": "display_data"
    },
    {
     "data": {
      "text/html": [
       "<pre>| 3.947ms                        | 0          |</pre>"
      ],
      "text/plain": [
       "| 3.947ms                        | 0          |"
      ]
     },
     "metadata": {},
     "output_type": "display_data"
    },
    {
     "data": {
      "text/html": [
       "<pre>| 203.363ms                      | 100        |</pre>"
      ],
      "text/plain": [
       "| 203.363ms                      | 100        |"
      ]
     },
     "metadata": {},
     "output_type": "display_data"
    },
    {
     "data": {
      "text/html": [
       "<pre>+--------------------------------+------------+</pre>"
      ],
      "text/plain": [
       "+--------------------------------+------------+"
      ]
     },
     "metadata": {},
     "output_type": "display_data"
    },
    {
     "data": {
      "text/html": [
       "<pre>Setting up lookup tables.</pre>"
      ],
      "text/plain": [
       "Setting up lookup tables."
      ]
     },
     "metadata": {},
     "output_type": "display_data"
    },
    {
     "data": {
      "text/html": [
       "<pre>Processing data in one pass using dense lookup tables.</pre>"
      ],
      "text/plain": [
       "Processing data in one pass using dense lookup tables."
      ]
     },
     "metadata": {},
     "output_type": "display_data"
    },
    {
     "data": {
      "text/html": [
       "<pre>+-------------------------------------+------------------+-----------------+</pre>"
      ],
      "text/plain": [
       "+-------------------------------------+------------------+-----------------+"
      ]
     },
     "metadata": {},
     "output_type": "display_data"
    },
    {
     "data": {
      "text/html": [
       "<pre>| Elapsed Time (Constructing Lookups) | Total % Complete | Items Processed |</pre>"
      ],
      "text/plain": [
       "| Elapsed Time (Constructing Lookups) | Total % Complete | Items Processed |"
      ]
     },
     "metadata": {},
     "output_type": "display_data"
    },
    {
     "data": {
      "text/html": [
       "<pre>+-------------------------------------+------------------+-----------------+</pre>"
      ],
      "text/plain": [
       "+-------------------------------------+------------------+-----------------+"
      ]
     },
     "metadata": {},
     "output_type": "display_data"
    },
    {
     "data": {
      "text/html": [
       "<pre>| 2.42s                               | 0                | 15              |</pre>"
      ],
      "text/plain": [
       "| 2.42s                               | 0                | 15              |"
      ]
     },
     "metadata": {},
     "output_type": "display_data"
    },
    {
     "data": {
      "text/html": [
       "<pre>| 3.42s                               | 94.25            | 41693           |</pre>"
      ],
      "text/plain": [
       "| 3.42s                               | 94.25            | 41693           |"
      ]
     },
     "metadata": {},
     "output_type": "display_data"
    },
    {
     "data": {
      "text/html": [
       "<pre>| 5.74s                               | 100              | 44149           |</pre>"
      ],
      "text/plain": [
       "| 5.74s                               | 100              | 44149           |"
      ]
     },
     "metadata": {},
     "output_type": "display_data"
    },
    {
     "data": {
      "text/html": [
       "<pre>+-------------------------------------+------------------+-----------------+</pre>"
      ],
      "text/plain": [
       "+-------------------------------------+------------------+-----------------+"
      ]
     },
     "metadata": {},
     "output_type": "display_data"
    },
    {
     "data": {
      "text/html": [
       "<pre>Finalizing lookup tables.</pre>"
      ],
      "text/plain": [
       "Finalizing lookup tables."
      ]
     },
     "metadata": {},
     "output_type": "display_data"
    },
    {
     "data": {
      "text/html": [
       "<pre>Generating candidate set for working with new users.</pre>"
      ],
      "text/plain": [
       "Generating candidate set for working with new users."
      ]
     },
     "metadata": {},
     "output_type": "display_data"
    },
    {
     "data": {
      "text/html": [
       "<pre>Finished training in 7.06174s</pre>"
      ],
      "text/plain": [
       "Finished training in 7.06174s"
      ]
     },
     "metadata": {},
     "output_type": "display_data"
    }
   ],
   "source": [
    "m = graphlab.recommender.create(user_tag_count, user_id='OwnerUserId', item_id='Tag')"
   ]
  },
  {
   "cell_type": "code",
   "execution_count": 27,
   "metadata": {
    "collapsed": false
   },
   "outputs": [
    {
     "data": {
      "text/plain": [
       "Class                            : ItemSimilarityRecommender\n",
       "\n",
       "Schema\n",
       "------\n",
       "User ID                          : OwnerUserId\n",
       "Item ID                          : Tag\n",
       "Target                           : None\n",
       "Additional observation features  : 0\n",
       "User side features               : []\n",
       "Item side features               : []\n",
       "\n",
       "Statistics\n",
       "----------\n",
       "Number of observations           : 6352858\n",
       "Number of users                  : 656102\n",
       "Number of items                  : 44149\n",
       "\n",
       "Training summary\n",
       "----------------\n",
       "Training time                    : 7.0618\n",
       "\n",
       "Model Parameters\n",
       "----------------\n",
       "Model class                      : ItemSimilarityRecommender\n",
       "threshold                        : 0.001\n",
       "similarity_type                  : jaccard\n",
       "training_method                  : auto\n",
       "\n",
       "Other Settings\n",
       "--------------\n",
       "degree_approximation_threshold   : 4096\n",
       "sparse_density_estimation_sample_size : 4096\n",
       "max_data_passes                  : 4096\n",
       "target_memory_usage              : 8589934592\n",
       "seed_item_set_size               : 50\n",
       "nearest_neighbors_interaction_proportion_threshold : 0.05\n",
       "max_item_neighborhood_size       : 64"
      ]
     },
     "execution_count": 27,
     "metadata": {},
     "output_type": "execute_result"
    }
   ],
   "source": [
    "m"
   ]
  },
  {
   "cell_type": "markdown",
   "metadata": {},
   "source": [
    "Get all unique users from the first 10000 observations and save them as a variable called `users`."
   ]
  },
  {
   "cell_type": "code",
   "execution_count": 28,
   "metadata": {
    "collapsed": true
   },
   "outputs": [],
   "source": [
    "users = user_tag_count.head(10000)['OwnerUserId'].unique()"
   ]
  },
  {
   "cell_type": "markdown",
   "metadata": {},
   "source": [
    "Get 20 recommendations for each user in your list of users. Save these as a new SFrame called `recs`."
   ]
  },
  {
   "cell_type": "code",
   "execution_count": 29,
   "metadata": {
    "collapsed": false
   },
   "outputs": [
    {
     "data": {
      "text/html": [
       "<pre>recommendations finished on 1000/9636 queries. users per second: 15025.6</pre>"
      ],
      "text/plain": [
       "recommendations finished on 1000/9636 queries. users per second: 15025.6"
      ]
     },
     "metadata": {},
     "output_type": "display_data"
    },
    {
     "data": {
      "text/html": [
       "<pre>recommendations finished on 2000/9636 queries. users per second: 17019</pre>"
      ],
      "text/plain": [
       "recommendations finished on 2000/9636 queries. users per second: 17019"
      ]
     },
     "metadata": {},
     "output_type": "display_data"
    },
    {
     "data": {
      "text/html": [
       "<pre>recommendations finished on 3000/9636 queries. users per second: 17843.9</pre>"
      ],
      "text/plain": [
       "recommendations finished on 3000/9636 queries. users per second: 17843.9"
      ]
     },
     "metadata": {},
     "output_type": "display_data"
    },
    {
     "data": {
      "text/html": [
       "<pre>recommendations finished on 4000/9636 queries. users per second: 18197.2</pre>"
      ],
      "text/plain": [
       "recommendations finished on 4000/9636 queries. users per second: 18197.2"
      ]
     },
     "metadata": {},
     "output_type": "display_data"
    },
    {
     "data": {
      "text/html": [
       "<pre>recommendations finished on 5000/9636 queries. users per second: 18425</pre>"
      ],
      "text/plain": [
       "recommendations finished on 5000/9636 queries. users per second: 18425"
      ]
     },
     "metadata": {},
     "output_type": "display_data"
    },
    {
     "data": {
      "text/html": [
       "<pre>recommendations finished on 6000/9636 queries. users per second: 18595.7</pre>"
      ],
      "text/plain": [
       "recommendations finished on 6000/9636 queries. users per second: 18595.7"
      ]
     },
     "metadata": {},
     "output_type": "display_data"
    },
    {
     "data": {
      "text/html": [
       "<pre>recommendations finished on 7000/9636 queries. users per second: 18664.7</pre>"
      ],
      "text/plain": [
       "recommendations finished on 7000/9636 queries. users per second: 18664.7"
      ]
     },
     "metadata": {},
     "output_type": "display_data"
    },
    {
     "data": {
      "text/html": [
       "<pre>recommendations finished on 8000/9636 queries. users per second: 18811.6</pre>"
      ],
      "text/plain": [
       "recommendations finished on 8000/9636 queries. users per second: 18811.6"
      ]
     },
     "metadata": {},
     "output_type": "display_data"
    },
    {
     "data": {
      "text/html": [
       "<pre>recommendations finished on 9000/9636 queries. users per second: 18837.7</pre>"
      ],
      "text/plain": [
       "recommendations finished on 9000/9636 queries. users per second: 18837.7"
      ]
     },
     "metadata": {},
     "output_type": "display_data"
    }
   ],
   "source": [
    "recs = m.recommend(users, k=20)"
   ]
  },
  {
   "cell_type": "markdown",
   "metadata": {},
   "source": [
    "When people use recommendation systems for online commerice, it's often useful to be able to recommending products from a single category of items, e.g. recommending shoes to somebody who typically buys shirts.\n",
    "\n",
    "To illustrate how this can be done with GraphLab Create, suppose we have a Javascript user who is trying to learn Python. Below we will take just the Javascript users and see what Python tags to recommend them."
   ]
  },
  {
   "cell_type": "markdown",
   "metadata": {},
   "source": [
    "Create a variable called `javascript_users` that contains all unique users who have used the `javascript` tag."
   ]
  },
  {
   "cell_type": "code",
   "execution_count": 31,
   "metadata": {
    "collapsed": true
   },
   "outputs": [],
   "source": [
    "javascript_users = user_tag_count['OwnerUserId'][user_tag_count['Tag'] == 'javascript'].unique()"
   ]
  },
  {
   "cell_type": "code",
   "execution_count": 35,
   "metadata": {
    "collapsed": false
   },
   "outputs": [
    {
     "data": {
      "text/plain": [
       "dtype: str\n",
       "Rows: 92719\n",
       "['736642', '1002584', '991532', '382463', '1491856', '894788', '1041292', '946195', '663525', '534447', '120399', '1355611', '146471', '792206', '1503072', '1113987', '375106', '624305', '1197893', '130840', '1447743', '727074', '279481', '342303', '239240', '400514', '365440', '1338642', '203808', '1496062', '201244', '1236135', '71809', '367087', '1388052', '203839', '1260278', '1409843', '423103', '1165519', '675283', '99573', '739851', '557015', '307123', '488809', '514667', '1365038', '1486054', '1197815', '221548', '10286', '175878', '1595758', '38070', '1189880', '1354130', '576066', '251250', '1535196', '596983', '1034221', '678973', '601635', '733751', '1234376', '831694', '763349', '541070', '1359887', '57068', '1156058', '1296123', '1166862', '824954', '49086', '386584', '949627', '1670740', '77782', '186909', '1068754', '631015', '1479652', '514748', '859263', '945370', '1405151', '395650', '119271', '1427052', '409126', '1214590', '1319849', '611073', '315492', '339374', '644389', '1008801', '64519', ... ]"
      ]
     },
     "execution_count": 35,
     "metadata": {},
     "output_type": "execute_result"
    }
   ],
   "source": [
    "javascript_users"
   ]
  },
  {
   "cell_type": "markdown",
   "metadata": {},
   "source": [
    "Use the model you created above to find the 20 most similar items to the tag \"python\". Create a variable called `python_items` containing just these similar items."
   ]
  },
  {
   "cell_type": "code",
   "execution_count": 36,
   "metadata": {
    "collapsed": true
   },
   "outputs": [],
   "source": [
    "python_items = m.get_similar_items(['python'], k=20)\n",
    "python_items = python_items['similar']"
   ]
  },
  {
   "cell_type": "markdown",
   "metadata": {},
   "source": [
    "For each user in `javascript_users`, make 5 recommendations among the items in `python_items`."
   ]
  },
  {
   "cell_type": "code",
   "execution_count": 38,
   "metadata": {
    "collapsed": false
   },
   "outputs": [
    {
     "data": {
      "text/html": [
       "<pre>recommendations finished on 1000/92719 queries. users per second: 6103.14</pre>"
      ],
      "text/plain": [
       "recommendations finished on 1000/92719 queries. users per second: 6103.14"
      ]
     },
     "metadata": {},
     "output_type": "display_data"
    },
    {
     "data": {
      "text/html": [
       "<pre>recommendations finished on 2000/92719 queries. users per second: 6012.94</pre>"
      ],
      "text/plain": [
       "recommendations finished on 2000/92719 queries. users per second: 6012.94"
      ]
     },
     "metadata": {},
     "output_type": "display_data"
    },
    {
     "data": {
      "text/html": [
       "<pre>recommendations finished on 3000/92719 queries. users per second: 6011.13</pre>"
      ],
      "text/plain": [
       "recommendations finished on 3000/92719 queries. users per second: 6011.13"
      ]
     },
     "metadata": {},
     "output_type": "display_data"
    },
    {
     "data": {
      "text/html": [
       "<pre>recommendations finished on 4000/92719 queries. users per second: 5976.46</pre>"
      ],
      "text/plain": [
       "recommendations finished on 4000/92719 queries. users per second: 5976.46"
      ]
     },
     "metadata": {},
     "output_type": "display_data"
    },
    {
     "data": {
      "text/html": [
       "<pre>recommendations finished on 5000/92719 queries. users per second: 6018.98</pre>"
      ],
      "text/plain": [
       "recommendations finished on 5000/92719 queries. users per second: 6018.98"
      ]
     },
     "metadata": {},
     "output_type": "display_data"
    },
    {
     "data": {
      "text/html": [
       "<pre>recommendations finished on 6000/92719 queries. users per second: 5948.04</pre>"
      ],
      "text/plain": [
       "recommendations finished on 6000/92719 queries. users per second: 5948.04"
      ]
     },
     "metadata": {},
     "output_type": "display_data"
    },
    {
     "data": {
      "text/html": [
       "<pre>recommendations finished on 7000/92719 queries. users per second: 5912.18</pre>"
      ],
      "text/plain": [
       "recommendations finished on 7000/92719 queries. users per second: 5912.18"
      ]
     },
     "metadata": {},
     "output_type": "display_data"
    },
    {
     "data": {
      "text/html": [
       "<pre>recommendations finished on 8000/92719 queries. users per second: 5819.9</pre>"
      ],
      "text/plain": [
       "recommendations finished on 8000/92719 queries. users per second: 5819.9"
      ]
     },
     "metadata": {},
     "output_type": "display_data"
    },
    {
     "data": {
      "text/html": [
       "<pre>recommendations finished on 9000/92719 queries. users per second: 5765.32</pre>"
      ],
      "text/plain": [
       "recommendations finished on 9000/92719 queries. users per second: 5765.32"
      ]
     },
     "metadata": {},
     "output_type": "display_data"
    },
    {
     "data": {
      "text/html": [
       "<pre>recommendations finished on 10000/92719 queries. users per second: 5739.78</pre>"
      ],
      "text/plain": [
       "recommendations finished on 10000/92719 queries. users per second: 5739.78"
      ]
     },
     "metadata": {},
     "output_type": "display_data"
    },
    {
     "data": {
      "text/html": [
       "<pre>recommendations finished on 11000/92719 queries. users per second: 5767.97</pre>"
      ],
      "text/plain": [
       "recommendations finished on 11000/92719 queries. users per second: 5767.97"
      ]
     },
     "metadata": {},
     "output_type": "display_data"
    },
    {
     "data": {
      "text/html": [
       "<pre>recommendations finished on 12000/92719 queries. users per second: 5792.41</pre>"
      ],
      "text/plain": [
       "recommendations finished on 12000/92719 queries. users per second: 5792.41"
      ]
     },
     "metadata": {},
     "output_type": "display_data"
    },
    {
     "data": {
      "text/html": [
       "<pre>recommendations finished on 13000/92719 queries. users per second: 5852.1</pre>"
      ],
      "text/plain": [
       "recommendations finished on 13000/92719 queries. users per second: 5852.1"
      ]
     },
     "metadata": {},
     "output_type": "display_data"
    },
    {
     "data": {
      "text/html": [
       "<pre>recommendations finished on 14000/92719 queries. users per second: 5830.27</pre>"
      ],
      "text/plain": [
       "recommendations finished on 14000/92719 queries. users per second: 5830.27"
      ]
     },
     "metadata": {},
     "output_type": "display_data"
    },
    {
     "data": {
      "text/html": [
       "<pre>recommendations finished on 15000/92719 queries. users per second: 5830</pre>"
      ],
      "text/plain": [
       "recommendations finished on 15000/92719 queries. users per second: 5830"
      ]
     },
     "metadata": {},
     "output_type": "display_data"
    },
    {
     "data": {
      "text/html": [
       "<pre>recommendations finished on 16000/92719 queries. users per second: 5818.97</pre>"
      ],
      "text/plain": [
       "recommendations finished on 16000/92719 queries. users per second: 5818.97"
      ]
     },
     "metadata": {},
     "output_type": "display_data"
    },
    {
     "data": {
      "text/html": [
       "<pre>recommendations finished on 17000/92719 queries. users per second: 5821.51</pre>"
      ],
      "text/plain": [
       "recommendations finished on 17000/92719 queries. users per second: 5821.51"
      ]
     },
     "metadata": {},
     "output_type": "display_data"
    },
    {
     "data": {
      "text/html": [
       "<pre>recommendations finished on 18000/92719 queries. users per second: 5815.69</pre>"
      ],
      "text/plain": [
       "recommendations finished on 18000/92719 queries. users per second: 5815.69"
      ]
     },
     "metadata": {},
     "output_type": "display_data"
    },
    {
     "data": {
      "text/html": [
       "<pre>recommendations finished on 19000/92719 queries. users per second: 5806.39</pre>"
      ],
      "text/plain": [
       "recommendations finished on 19000/92719 queries. users per second: 5806.39"
      ]
     },
     "metadata": {},
     "output_type": "display_data"
    },
    {
     "data": {
      "text/html": [
       "<pre>recommendations finished on 20000/92719 queries. users per second: 5810.59</pre>"
      ],
      "text/plain": [
       "recommendations finished on 20000/92719 queries. users per second: 5810.59"
      ]
     },
     "metadata": {},
     "output_type": "display_data"
    },
    {
     "data": {
      "text/html": [
       "<pre>recommendations finished on 21000/92719 queries. users per second: 5828.55</pre>"
      ],
      "text/plain": [
       "recommendations finished on 21000/92719 queries. users per second: 5828.55"
      ]
     },
     "metadata": {},
     "output_type": "display_data"
    },
    {
     "data": {
      "text/html": [
       "<pre>recommendations finished on 22000/92719 queries. users per second: 5832.98</pre>"
      ],
      "text/plain": [
       "recommendations finished on 22000/92719 queries. users per second: 5832.98"
      ]
     },
     "metadata": {},
     "output_type": "display_data"
    },
    {
     "data": {
      "text/html": [
       "<pre>recommendations finished on 23000/92719 queries. users per second: 5837.64</pre>"
      ],
      "text/plain": [
       "recommendations finished on 23000/92719 queries. users per second: 5837.64"
      ]
     },
     "metadata": {},
     "output_type": "display_data"
    },
    {
     "data": {
      "text/html": [
       "<pre>recommendations finished on 24000/92719 queries. users per second: 5844.75</pre>"
      ],
      "text/plain": [
       "recommendations finished on 24000/92719 queries. users per second: 5844.75"
      ]
     },
     "metadata": {},
     "output_type": "display_data"
    },
    {
     "data": {
      "text/html": [
       "<pre>recommendations finished on 25000/92719 queries. users per second: 5847.78</pre>"
      ],
      "text/plain": [
       "recommendations finished on 25000/92719 queries. users per second: 5847.78"
      ]
     },
     "metadata": {},
     "output_type": "display_data"
    },
    {
     "data": {
      "text/html": [
       "<pre>recommendations finished on 26000/92719 queries. users per second: 5838.55</pre>"
      ],
      "text/plain": [
       "recommendations finished on 26000/92719 queries. users per second: 5838.55"
      ]
     },
     "metadata": {},
     "output_type": "display_data"
    },
    {
     "data": {
      "text/html": [
       "<pre>recommendations finished on 27000/92719 queries. users per second: 5832.11</pre>"
      ],
      "text/plain": [
       "recommendations finished on 27000/92719 queries. users per second: 5832.11"
      ]
     },
     "metadata": {},
     "output_type": "display_data"
    },
    {
     "data": {
      "text/html": [
       "<pre>recommendations finished on 28000/92719 queries. users per second: 5811.33</pre>"
      ],
      "text/plain": [
       "recommendations finished on 28000/92719 queries. users per second: 5811.33"
      ]
     },
     "metadata": {},
     "output_type": "display_data"
    },
    {
     "data": {
      "text/html": [
       "<pre>recommendations finished on 29000/92719 queries. users per second: 5784.79</pre>"
      ],
      "text/plain": [
       "recommendations finished on 29000/92719 queries. users per second: 5784.79"
      ]
     },
     "metadata": {},
     "output_type": "display_data"
    },
    {
     "data": {
      "text/html": [
       "<pre>recommendations finished on 30000/92719 queries. users per second: 5771.73</pre>"
      ],
      "text/plain": [
       "recommendations finished on 30000/92719 queries. users per second: 5771.73"
      ]
     },
     "metadata": {},
     "output_type": "display_data"
    },
    {
     "data": {
      "text/html": [
       "<pre>recommendations finished on 31000/92719 queries. users per second: 5766.81</pre>"
      ],
      "text/plain": [
       "recommendations finished on 31000/92719 queries. users per second: 5766.81"
      ]
     },
     "metadata": {},
     "output_type": "display_data"
    },
    {
     "data": {
      "text/html": [
       "<pre>recommendations finished on 32000/92719 queries. users per second: 5759.64</pre>"
      ],
      "text/plain": [
       "recommendations finished on 32000/92719 queries. users per second: 5759.64"
      ]
     },
     "metadata": {},
     "output_type": "display_data"
    },
    {
     "data": {
      "text/html": [
       "<pre>recommendations finished on 33000/92719 queries. users per second: 5755.79</pre>"
      ],
      "text/plain": [
       "recommendations finished on 33000/92719 queries. users per second: 5755.79"
      ]
     },
     "metadata": {},
     "output_type": "display_data"
    },
    {
     "data": {
      "text/html": [
       "<pre>recommendations finished on 34000/92719 queries. users per second: 5747.64</pre>"
      ],
      "text/plain": [
       "recommendations finished on 34000/92719 queries. users per second: 5747.64"
      ]
     },
     "metadata": {},
     "output_type": "display_data"
    },
    {
     "data": {
      "text/html": [
       "<pre>recommendations finished on 35000/92719 queries. users per second: 5740.11</pre>"
      ],
      "text/plain": [
       "recommendations finished on 35000/92719 queries. users per second: 5740.11"
      ]
     },
     "metadata": {},
     "output_type": "display_data"
    },
    {
     "data": {
      "text/html": [
       "<pre>recommendations finished on 36000/92719 queries. users per second: 5728.29</pre>"
      ],
      "text/plain": [
       "recommendations finished on 36000/92719 queries. users per second: 5728.29"
      ]
     },
     "metadata": {},
     "output_type": "display_data"
    },
    {
     "data": {
      "text/html": [
       "<pre>recommendations finished on 37000/92719 queries. users per second: 5709.4</pre>"
      ],
      "text/plain": [
       "recommendations finished on 37000/92719 queries. users per second: 5709.4"
      ]
     },
     "metadata": {},
     "output_type": "display_data"
    },
    {
     "data": {
      "text/html": [
       "<pre>recommendations finished on 38000/92719 queries. users per second: 5666.05</pre>"
      ],
      "text/plain": [
       "recommendations finished on 38000/92719 queries. users per second: 5666.05"
      ]
     },
     "metadata": {},
     "output_type": "display_data"
    },
    {
     "data": {
      "text/html": [
       "<pre>recommendations finished on 39000/92719 queries. users per second: 5642.7</pre>"
      ],
      "text/plain": [
       "recommendations finished on 39000/92719 queries. users per second: 5642.7"
      ]
     },
     "metadata": {},
     "output_type": "display_data"
    },
    {
     "data": {
      "text/html": [
       "<pre>recommendations finished on 40000/92719 queries. users per second: 5640.23</pre>"
      ],
      "text/plain": [
       "recommendations finished on 40000/92719 queries. users per second: 5640.23"
      ]
     },
     "metadata": {},
     "output_type": "display_data"
    },
    {
     "data": {
      "text/html": [
       "<pre>recommendations finished on 41000/92719 queries. users per second: 5635.69</pre>"
      ],
      "text/plain": [
       "recommendations finished on 41000/92719 queries. users per second: 5635.69"
      ]
     },
     "metadata": {},
     "output_type": "display_data"
    },
    {
     "data": {
      "text/html": [
       "<pre>recommendations finished on 42000/92719 queries. users per second: 5636.39</pre>"
      ],
      "text/plain": [
       "recommendations finished on 42000/92719 queries. users per second: 5636.39"
      ]
     },
     "metadata": {},
     "output_type": "display_data"
    },
    {
     "data": {
      "text/html": [
       "<pre>recommendations finished on 43000/92719 queries. users per second: 5646.79</pre>"
      ],
      "text/plain": [
       "recommendations finished on 43000/92719 queries. users per second: 5646.79"
      ]
     },
     "metadata": {},
     "output_type": "display_data"
    },
    {
     "data": {
      "text/html": [
       "<pre>recommendations finished on 44000/92719 queries. users per second: 5653.66</pre>"
      ],
      "text/plain": [
       "recommendations finished on 44000/92719 queries. users per second: 5653.66"
      ]
     },
     "metadata": {},
     "output_type": "display_data"
    },
    {
     "data": {
      "text/html": [
       "<pre>recommendations finished on 45000/92719 queries. users per second: 5649.5</pre>"
      ],
      "text/plain": [
       "recommendations finished on 45000/92719 queries. users per second: 5649.5"
      ]
     },
     "metadata": {},
     "output_type": "display_data"
    },
    {
     "data": {
      "text/html": [
       "<pre>recommendations finished on 46000/92719 queries. users per second: 5642.51</pre>"
      ],
      "text/plain": [
       "recommendations finished on 46000/92719 queries. users per second: 5642.51"
      ]
     },
     "metadata": {},
     "output_type": "display_data"
    },
    {
     "data": {
      "text/html": [
       "<pre>recommendations finished on 47000/92719 queries. users per second: 5648.69</pre>"
      ],
      "text/plain": [
       "recommendations finished on 47000/92719 queries. users per second: 5648.69"
      ]
     },
     "metadata": {},
     "output_type": "display_data"
    },
    {
     "data": {
      "text/html": [
       "<pre>recommendations finished on 48000/92719 queries. users per second: 5653</pre>"
      ],
      "text/plain": [
       "recommendations finished on 48000/92719 queries. users per second: 5653"
      ]
     },
     "metadata": {},
     "output_type": "display_data"
    },
    {
     "data": {
      "text/html": [
       "<pre>recommendations finished on 49000/92719 queries. users per second: 5656.42</pre>"
      ],
      "text/plain": [
       "recommendations finished on 49000/92719 queries. users per second: 5656.42"
      ]
     },
     "metadata": {},
     "output_type": "display_data"
    },
    {
     "data": {
      "text/html": [
       "<pre>recommendations finished on 50000/92719 queries. users per second: 5651.27</pre>"
      ],
      "text/plain": [
       "recommendations finished on 50000/92719 queries. users per second: 5651.27"
      ]
     },
     "metadata": {},
     "output_type": "display_data"
    },
    {
     "data": {
      "text/html": [
       "<pre>recommendations finished on 51000/92719 queries. users per second: 5656.55</pre>"
      ],
      "text/plain": [
       "recommendations finished on 51000/92719 queries. users per second: 5656.55"
      ]
     },
     "metadata": {},
     "output_type": "display_data"
    },
    {
     "data": {
      "text/html": [
       "<pre>recommendations finished on 52000/92719 queries. users per second: 5655.79</pre>"
      ],
      "text/plain": [
       "recommendations finished on 52000/92719 queries. users per second: 5655.79"
      ]
     },
     "metadata": {},
     "output_type": "display_data"
    },
    {
     "data": {
      "text/html": [
       "<pre>recommendations finished on 53000/92719 queries. users per second: 5660.12</pre>"
      ],
      "text/plain": [
       "recommendations finished on 53000/92719 queries. users per second: 5660.12"
      ]
     },
     "metadata": {},
     "output_type": "display_data"
    },
    {
     "data": {
      "text/html": [
       "<pre>recommendations finished on 54000/92719 queries. users per second: 5657.3</pre>"
      ],
      "text/plain": [
       "recommendations finished on 54000/92719 queries. users per second: 5657.3"
      ]
     },
     "metadata": {},
     "output_type": "display_data"
    },
    {
     "data": {
      "text/html": [
       "<pre>recommendations finished on 55000/92719 queries. users per second: 5661.27</pre>"
      ],
      "text/plain": [
       "recommendations finished on 55000/92719 queries. users per second: 5661.27"
      ]
     },
     "metadata": {},
     "output_type": "display_data"
    },
    {
     "data": {
      "text/html": [
       "<pre>recommendations finished on 56000/92719 queries. users per second: 5663.97</pre>"
      ],
      "text/plain": [
       "recommendations finished on 56000/92719 queries. users per second: 5663.97"
      ]
     },
     "metadata": {},
     "output_type": "display_data"
    },
    {
     "data": {
      "text/html": [
       "<pre>recommendations finished on 57000/92719 queries. users per second: 5658.95</pre>"
      ],
      "text/plain": [
       "recommendations finished on 57000/92719 queries. users per second: 5658.95"
      ]
     },
     "metadata": {},
     "output_type": "display_data"
    },
    {
     "data": {
      "text/html": [
       "<pre>recommendations finished on 58000/92719 queries. users per second: 5660.43</pre>"
      ],
      "text/plain": [
       "recommendations finished on 58000/92719 queries. users per second: 5660.43"
      ]
     },
     "metadata": {},
     "output_type": "display_data"
    },
    {
     "data": {
      "text/html": [
       "<pre>recommendations finished on 59000/92719 queries. users per second: 5663.96</pre>"
      ],
      "text/plain": [
       "recommendations finished on 59000/92719 queries. users per second: 5663.96"
      ]
     },
     "metadata": {},
     "output_type": "display_data"
    },
    {
     "data": {
      "text/html": [
       "<pre>recommendations finished on 60000/92719 queries. users per second: 5670.37</pre>"
      ],
      "text/plain": [
       "recommendations finished on 60000/92719 queries. users per second: 5670.37"
      ]
     },
     "metadata": {},
     "output_type": "display_data"
    },
    {
     "data": {
      "text/html": [
       "<pre>recommendations finished on 61000/92719 queries. users per second: 5668.59</pre>"
      ],
      "text/plain": [
       "recommendations finished on 61000/92719 queries. users per second: 5668.59"
      ]
     },
     "metadata": {},
     "output_type": "display_data"
    },
    {
     "data": {
      "text/html": [
       "<pre>recommendations finished on 62000/92719 queries. users per second: 5665.74</pre>"
      ],
      "text/plain": [
       "recommendations finished on 62000/92719 queries. users per second: 5665.74"
      ]
     },
     "metadata": {},
     "output_type": "display_data"
    },
    {
     "data": {
      "text/html": [
       "<pre>recommendations finished on 63000/92719 queries. users per second: 5666.88</pre>"
      ],
      "text/plain": [
       "recommendations finished on 63000/92719 queries. users per second: 5666.88"
      ]
     },
     "metadata": {},
     "output_type": "display_data"
    },
    {
     "data": {
      "text/html": [
       "<pre>recommendations finished on 64000/92719 queries. users per second: 5667.27</pre>"
      ],
      "text/plain": [
       "recommendations finished on 64000/92719 queries. users per second: 5667.27"
      ]
     },
     "metadata": {},
     "output_type": "display_data"
    },
    {
     "data": {
      "text/html": [
       "<pre>recommendations finished on 65000/92719 queries. users per second: 5667.43</pre>"
      ],
      "text/plain": [
       "recommendations finished on 65000/92719 queries. users per second: 5667.43"
      ]
     },
     "metadata": {},
     "output_type": "display_data"
    },
    {
     "data": {
      "text/html": [
       "<pre>recommendations finished on 66000/92719 queries. users per second: 5668.53</pre>"
      ],
      "text/plain": [
       "recommendations finished on 66000/92719 queries. users per second: 5668.53"
      ]
     },
     "metadata": {},
     "output_type": "display_data"
    },
    {
     "data": {
      "text/html": [
       "<pre>recommendations finished on 67000/92719 queries. users per second: 5666.04</pre>"
      ],
      "text/plain": [
       "recommendations finished on 67000/92719 queries. users per second: 5666.04"
      ]
     },
     "metadata": {},
     "output_type": "display_data"
    },
    {
     "data": {
      "text/html": [
       "<pre>recommendations finished on 68000/92719 queries. users per second: 5669.28</pre>"
      ],
      "text/plain": [
       "recommendations finished on 68000/92719 queries. users per second: 5669.28"
      ]
     },
     "metadata": {},
     "output_type": "display_data"
    },
    {
     "data": {
      "text/html": [
       "<pre>recommendations finished on 69000/92719 queries. users per second: 5672.89</pre>"
      ],
      "text/plain": [
       "recommendations finished on 69000/92719 queries. users per second: 5672.89"
      ]
     },
     "metadata": {},
     "output_type": "display_data"
    },
    {
     "data": {
      "text/html": [
       "<pre>recommendations finished on 70000/92719 queries. users per second: 5673.89</pre>"
      ],
      "text/plain": [
       "recommendations finished on 70000/92719 queries. users per second: 5673.89"
      ]
     },
     "metadata": {},
     "output_type": "display_data"
    },
    {
     "data": {
      "text/html": [
       "<pre>recommendations finished on 71000/92719 queries. users per second: 5674.31</pre>"
      ],
      "text/plain": [
       "recommendations finished on 71000/92719 queries. users per second: 5674.31"
      ]
     },
     "metadata": {},
     "output_type": "display_data"
    },
    {
     "data": {
      "text/html": [
       "<pre>recommendations finished on 72000/92719 queries. users per second: 5671.12</pre>"
      ],
      "text/plain": [
       "recommendations finished on 72000/92719 queries. users per second: 5671.12"
      ]
     },
     "metadata": {},
     "output_type": "display_data"
    },
    {
     "data": {
      "text/html": [
       "<pre>recommendations finished on 73000/92719 queries. users per second: 5673.23</pre>"
      ],
      "text/plain": [
       "recommendations finished on 73000/92719 queries. users per second: 5673.23"
      ]
     },
     "metadata": {},
     "output_type": "display_data"
    },
    {
     "data": {
      "text/html": [
       "<pre>recommendations finished on 74000/92719 queries. users per second: 5673.13</pre>"
      ],
      "text/plain": [
       "recommendations finished on 74000/92719 queries. users per second: 5673.13"
      ]
     },
     "metadata": {},
     "output_type": "display_data"
    },
    {
     "data": {
      "text/html": [
       "<pre>recommendations finished on 75000/92719 queries. users per second: 5678.37</pre>"
      ],
      "text/plain": [
       "recommendations finished on 75000/92719 queries. users per second: 5678.37"
      ]
     },
     "metadata": {},
     "output_type": "display_data"
    },
    {
     "data": {
      "text/html": [
       "<pre>recommendations finished on 76000/92719 queries. users per second: 5677.31</pre>"
      ],
      "text/plain": [
       "recommendations finished on 76000/92719 queries. users per second: 5677.31"
      ]
     },
     "metadata": {},
     "output_type": "display_data"
    },
    {
     "data": {
      "text/html": [
       "<pre>recommendations finished on 77000/92719 queries. users per second: 5681.46</pre>"
      ],
      "text/plain": [
       "recommendations finished on 77000/92719 queries. users per second: 5681.46"
      ]
     },
     "metadata": {},
     "output_type": "display_data"
    },
    {
     "data": {
      "text/html": [
       "<pre>recommendations finished on 78000/92719 queries. users per second: 5677.89</pre>"
      ],
      "text/plain": [
       "recommendations finished on 78000/92719 queries. users per second: 5677.89"
      ]
     },
     "metadata": {},
     "output_type": "display_data"
    },
    {
     "data": {
      "text/html": [
       "<pre>recommendations finished on 79000/92719 queries. users per second: 5672.38</pre>"
      ],
      "text/plain": [
       "recommendations finished on 79000/92719 queries. users per second: 5672.38"
      ]
     },
     "metadata": {},
     "output_type": "display_data"
    },
    {
     "data": {
      "text/html": [
       "<pre>recommendations finished on 80000/92719 queries. users per second: 5649.73</pre>"
      ],
      "text/plain": [
       "recommendations finished on 80000/92719 queries. users per second: 5649.73"
      ]
     },
     "metadata": {},
     "output_type": "display_data"
    },
    {
     "data": {
      "text/html": [
       "<pre>recommendations finished on 81000/92719 queries. users per second: 5627.08</pre>"
      ],
      "text/plain": [
       "recommendations finished on 81000/92719 queries. users per second: 5627.08"
      ]
     },
     "metadata": {},
     "output_type": "display_data"
    },
    {
     "data": {
      "text/html": [
       "<pre>recommendations finished on 82000/92719 queries. users per second: 5599.89</pre>"
      ],
      "text/plain": [
       "recommendations finished on 82000/92719 queries. users per second: 5599.89"
      ]
     },
     "metadata": {},
     "output_type": "display_data"
    },
    {
     "data": {
      "text/html": [
       "<pre>recommendations finished on 83000/92719 queries. users per second: 5575.56</pre>"
      ],
      "text/plain": [
       "recommendations finished on 83000/92719 queries. users per second: 5575.56"
      ]
     },
     "metadata": {},
     "output_type": "display_data"
    },
    {
     "data": {
      "text/html": [
       "<pre>recommendations finished on 84000/92719 queries. users per second: 5546.55</pre>"
      ],
      "text/plain": [
       "recommendations finished on 84000/92719 queries. users per second: 5546.55"
      ]
     },
     "metadata": {},
     "output_type": "display_data"
    },
    {
     "data": {
      "text/html": [
       "<pre>recommendations finished on 85000/92719 queries. users per second: 5522.69</pre>"
      ],
      "text/plain": [
       "recommendations finished on 85000/92719 queries. users per second: 5522.69"
      ]
     },
     "metadata": {},
     "output_type": "display_data"
    },
    {
     "data": {
      "text/html": [
       "<pre>recommendations finished on 86000/92719 queries. users per second: 5492.11</pre>"
      ],
      "text/plain": [
       "recommendations finished on 86000/92719 queries. users per second: 5492.11"
      ]
     },
     "metadata": {},
     "output_type": "display_data"
    },
    {
     "data": {
      "text/html": [
       "<pre>recommendations finished on 87000/92719 queries. users per second: 5470.65</pre>"
      ],
      "text/plain": [
       "recommendations finished on 87000/92719 queries. users per second: 5470.65"
      ]
     },
     "metadata": {},
     "output_type": "display_data"
    },
    {
     "data": {
      "text/html": [
       "<pre>recommendations finished on 88000/92719 queries. users per second: 5443.49</pre>"
      ],
      "text/plain": [
       "recommendations finished on 88000/92719 queries. users per second: 5443.49"
      ]
     },
     "metadata": {},
     "output_type": "display_data"
    },
    {
     "data": {
      "text/html": [
       "<pre>recommendations finished on 89000/92719 queries. users per second: 5434.07</pre>"
      ],
      "text/plain": [
       "recommendations finished on 89000/92719 queries. users per second: 5434.07"
      ]
     },
     "metadata": {},
     "output_type": "display_data"
    },
    {
     "data": {
      "text/html": [
       "<pre>recommendations finished on 90000/92719 queries. users per second: 5415.58</pre>"
      ],
      "text/plain": [
       "recommendations finished on 90000/92719 queries. users per second: 5415.58"
      ]
     },
     "metadata": {},
     "output_type": "display_data"
    },
    {
     "data": {
      "text/html": [
       "<pre>recommendations finished on 91000/92719 queries. users per second: 5405.7</pre>"
      ],
      "text/plain": [
       "recommendations finished on 91000/92719 queries. users per second: 5405.7"
      ]
     },
     "metadata": {},
     "output_type": "display_data"
    },
    {
     "data": {
      "text/html": [
       "<pre>recommendations finished on 92000/92719 queries. users per second: 5396.35</pre>"
      ],
      "text/plain": [
       "recommendations finished on 92000/92719 queries. users per second: 5396.35"
      ]
     },
     "metadata": {},
     "output_type": "display_data"
    }
   ],
   "source": [
    "python_recs = m.recommend(users=javascript_users, items=python_items, k=5)"
   ]
  },
  {
   "cell_type": "markdown",
   "metadata": {},
   "source": [
    "Use GraphLab Canvas to find out the 10 most often recommended items."
   ]
  },
  {
   "cell_type": "code",
   "execution_count": 49,
   "metadata": {
    "collapsed": false
   },
   "outputs": [
    {
     "data": {
      "text/html": [
       "<div style=\"max-height:1000px;max-width:1500px;overflow:auto;\"><table frame=\"box\" rules=\"cols\">\n",
       "    <tr>\n",
       "        <th style=\"padding-left: 1em; padding-right: 1em; text-align: center\">OwnerUserId</th>\n",
       "        <th style=\"padding-left: 1em; padding-right: 1em; text-align: center\">Tag</th>\n",
       "        <th style=\"padding-left: 1em; padding-right: 1em; text-align: center\">score</th>\n",
       "        <th style=\"padding-left: 1em; padding-right: 1em; text-align: center\">rank</th>\n",
       "    </tr>\n",
       "    <tr>\n",
       "        <td style=\"padding-left: 1em; padding-right: 1em; text-align: center; vertical-align: top\">736642</td>\n",
       "        <td style=\"padding-left: 1em; padding-right: 1em; text-align: center; vertical-align: top\">css</td>\n",
       "        <td style=\"padding-left: 1em; padding-right: 1em; text-align: center; vertical-align: top\">0.216511654854</td>\n",
       "        <td style=\"padding-left: 1em; padding-right: 1em; text-align: center; vertical-align: top\">1</td>\n",
       "    </tr>\n",
       "    <tr>\n",
       "        <td style=\"padding-left: 1em; padding-right: 1em; text-align: center; vertical-align: top\">736642</td>\n",
       "        <td style=\"padding-left: 1em; padding-right: 1em; text-align: center; vertical-align: top\">mysql</td>\n",
       "        <td style=\"padding-left: 1em; padding-right: 1em; text-align: center; vertical-align: top\">0.16825915575</td>\n",
       "        <td style=\"padding-left: 1em; padding-right: 1em; text-align: center; vertical-align: top\">2</td>\n",
       "    </tr>\n",
       "    <tr>\n",
       "        <td style=\"padding-left: 1em; padding-right: 1em; text-align: center; vertical-align: top\">736642</td>\n",
       "        <td style=\"padding-left: 1em; padding-right: 1em; text-align: center; vertical-align: top\">sql</td>\n",
       "        <td style=\"padding-left: 1em; padding-right: 1em; text-align: center; vertical-align: top\">0.114513540268</td>\n",
       "        <td style=\"padding-left: 1em; padding-right: 1em; text-align: center; vertical-align: top\">3</td>\n",
       "    </tr>\n",
       "    <tr>\n",
       "        <td style=\"padding-left: 1em; padding-right: 1em; text-align: center; vertical-align: top\">736642</td>\n",
       "        <td style=\"padding-left: 1em; padding-right: 1em; text-align: center; vertical-align: top\">regex</td>\n",
       "        <td style=\"padding-left: 1em; padding-right: 1em; text-align: center; vertical-align: top\">0.105026602745</td>\n",
       "        <td style=\"padding-left: 1em; padding-right: 1em; text-align: center; vertical-align: top\">4</td>\n",
       "    </tr>\n",
       "    <tr>\n",
       "        <td style=\"padding-left: 1em; padding-right: 1em; text-align: center; vertical-align: top\">736642</td>\n",
       "        <td style=\"padding-left: 1em; padding-right: 1em; text-align: center; vertical-align: top\">database</td>\n",
       "        <td style=\"padding-left: 1em; padding-right: 1em; text-align: center; vertical-align: top\">0.0936569333076</td>\n",
       "        <td style=\"padding-left: 1em; padding-right: 1em; text-align: center; vertical-align: top\">5</td>\n",
       "    </tr>\n",
       "    <tr>\n",
       "        <td style=\"padding-left: 1em; padding-right: 1em; text-align: center; vertical-align: top\">1002584</td>\n",
       "        <td style=\"padding-left: 1em; padding-right: 1em; text-align: center; vertical-align: top\">html</td>\n",
       "        <td style=\"padding-left: 1em; padding-right: 1em; text-align: center; vertical-align: top\">0.0302163749128</td>\n",
       "        <td style=\"padding-left: 1em; padding-right: 1em; text-align: center; vertical-align: top\">1</td>\n",
       "    </tr>\n",
       "    <tr>\n",
       "        <td style=\"padding-left: 1em; padding-right: 1em; text-align: center; vertical-align: top\">1002584</td>\n",
       "        <td style=\"padding-left: 1em; padding-right: 1em; text-align: center; vertical-align: top\">sql</td>\n",
       "        <td style=\"padding-left: 1em; padding-right: 1em; text-align: center; vertical-align: top\">0.0272529044667</td>\n",
       "        <td style=\"padding-left: 1em; padding-right: 1em; text-align: center; vertical-align: top\">2</td>\n",
       "    </tr>\n",
       "    <tr>\n",
       "        <td style=\"padding-left: 1em; padding-right: 1em; text-align: center; vertical-align: top\">1002584</td>\n",
       "        <td style=\"padding-left: 1em; padding-right: 1em; text-align: center; vertical-align: top\">database</td>\n",
       "        <td style=\"padding-left: 1em; padding-right: 1em; text-align: center; vertical-align: top\">0.0259853198722</td>\n",
       "        <td style=\"padding-left: 1em; padding-right: 1em; text-align: center; vertical-align: top\">3</td>\n",
       "    </tr>\n",
       "    <tr>\n",
       "        <td style=\"padding-left: 1em; padding-right: 1em; text-align: center; vertical-align: top\">1002584</td>\n",
       "        <td style=\"padding-left: 1em; padding-right: 1em; text-align: center; vertical-align: top\">jquery</td>\n",
       "        <td style=\"padding-left: 1em; padding-right: 1em; text-align: center; vertical-align: top\">0.0259540467649</td>\n",
       "        <td style=\"padding-left: 1em; padding-right: 1em; text-align: center; vertical-align: top\">4</td>\n",
       "    </tr>\n",
       "    <tr>\n",
       "        <td style=\"padding-left: 1em; padding-right: 1em; text-align: center; vertical-align: top\">1002584</td>\n",
       "        <td style=\"padding-left: 1em; padding-right: 1em; text-align: center; vertical-align: top\">css</td>\n",
       "        <td style=\"padding-left: 1em; padding-right: 1em; text-align: center; vertical-align: top\">0.0256228898023</td>\n",
       "        <td style=\"padding-left: 1em; padding-right: 1em; text-align: center; vertical-align: top\">5</td>\n",
       "    </tr>\n",
       "</table>\n",
       "[10 rows x 4 columns]<br/>\n",
       "</div>"
      ],
      "text/plain": [
       "Columns:\n",
       "\tOwnerUserId\tstr\n",
       "\tTag\tstr\n",
       "\tscore\tfloat\n",
       "\trank\tint\n",
       "\n",
       "Rows: 10\n",
       "\n",
       "Data:\n",
       "+-------------+----------+-----------------+------+\n",
       "| OwnerUserId |   Tag    |      score      | rank |\n",
       "+-------------+----------+-----------------+------+\n",
       "|    736642   |   css    |  0.216511654854 |  1   |\n",
       "|    736642   |  mysql   |  0.16825915575  |  2   |\n",
       "|    736642   |   sql    |  0.114513540268 |  3   |\n",
       "|    736642   |  regex   |  0.105026602745 |  4   |\n",
       "|    736642   | database | 0.0936569333076 |  5   |\n",
       "|   1002584   |   html   | 0.0302163749128 |  1   |\n",
       "|   1002584   |   sql    | 0.0272529044667 |  2   |\n",
       "|   1002584   | database | 0.0259853198722 |  3   |\n",
       "|   1002584   |  jquery  | 0.0259540467649 |  4   |\n",
       "|   1002584   |   css    | 0.0256228898023 |  5   |\n",
       "+-------------+----------+-----------------+------+\n",
       "[10 rows x 4 columns]"
      ]
     },
     "execution_count": 49,
     "metadata": {},
     "output_type": "execute_result"
    }
   ],
   "source": [
    "# graphlab.canvas.set_target('browser', port = 30000)\n",
    "graphlab.canvas.set_target('ipynb')\n",
    "python_recs.head()"
   ]
  },
  {
   "cell_type": "markdown",
   "metadata": {},
   "source": [
    "Save your model to a file."
   ]
  },
  {
   "cell_type": "code",
   "execution_count": 42,
   "metadata": {
    "collapsed": true
   },
   "outputs": [],
   "source": [
    "m.save('my_model')"
   ]
  },
  {
   "cell_type": "markdown",
   "metadata": {},
   "source": [
    "## Experimenting with new models"
   ]
  },
  {
   "cell_type": "markdown",
   "metadata": {},
   "source": [
    "Create a train/test split of the user_tag_count data from the section above. Hint: Use random_split_by_user."
   ]
  },
  {
   "cell_type": "code",
   "execution_count": 43,
   "metadata": {
    "collapsed": true
   },
   "outputs": [],
   "source": [
    "train, test = graphlab.recommender.util.random_split_by_user(user_tag_count,\n",
    "                                                             user_id='OwnerUserId',\n",
    "                                                             item_id='Tag')"
   ]
  },
  {
   "cell_type": "markdown",
   "metadata": {},
   "source": [
    "Create a recommender model like you did above that only uses the training set."
   ]
  },
  {
   "cell_type": "code",
   "execution_count": 44,
   "metadata": {
    "collapsed": false
   },
   "outputs": [
    {
     "data": {
      "text/html": [
       "<pre>Recsys training: model = item_similarity</pre>"
      ],
      "text/plain": [
       "Recsys training: model = item_similarity"
      ]
     },
     "metadata": {},
     "output_type": "display_data"
    },
    {
     "data": {
      "text/html": [
       "<pre>Warning: Column 'Count' ignored.</pre>"
      ],
      "text/plain": [
       "Warning: Column 'Count' ignored."
      ]
     },
     "metadata": {},
     "output_type": "display_data"
    },
    {
     "data": {
      "text/html": [
       "<pre>    To use this column as the target, set target = \"Count\" and use a method that allows the use of a target.</pre>"
      ],
      "text/plain": [
       "    To use this column as the target, set target = \"Count\" and use a method that allows the use of a target."
      ]
     },
     "metadata": {},
     "output_type": "display_data"
    },
    {
     "data": {
      "text/html": [
       "<pre>Preparing data set.</pre>"
      ],
      "text/plain": [
       "Preparing data set."
      ]
     },
     "metadata": {},
     "output_type": "display_data"
    },
    {
     "data": {
      "text/html": [
       "<pre>    Data has 6350786 observations with 656074 users and 44142 items.</pre>"
      ],
      "text/plain": [
       "    Data has 6350786 observations with 656074 users and 44142 items."
      ]
     },
     "metadata": {},
     "output_type": "display_data"
    },
    {
     "data": {
      "text/html": [
       "<pre>    Data prepared in: 3.66595s</pre>"
      ],
      "text/plain": [
       "    Data prepared in: 3.66595s"
      ]
     },
     "metadata": {},
     "output_type": "display_data"
    },
    {
     "data": {
      "text/html": [
       "<pre>Training model from provided data.</pre>"
      ],
      "text/plain": [
       "Training model from provided data."
      ]
     },
     "metadata": {},
     "output_type": "display_data"
    },
    {
     "data": {
      "text/html": [
       "<pre>Gathering per-item and per-user statistics.</pre>"
      ],
      "text/plain": [
       "Gathering per-item and per-user statistics."
      ]
     },
     "metadata": {},
     "output_type": "display_data"
    },
    {
     "data": {
      "text/html": [
       "<pre>+--------------------------------+------------+</pre>"
      ],
      "text/plain": [
       "+--------------------------------+------------+"
      ]
     },
     "metadata": {},
     "output_type": "display_data"
    },
    {
     "data": {
      "text/html": [
       "<pre>| Elapsed Time (Item Statistics) | % Complete |</pre>"
      ],
      "text/plain": [
       "| Elapsed Time (Item Statistics) | % Complete |"
      ]
     },
     "metadata": {},
     "output_type": "display_data"
    },
    {
     "data": {
      "text/html": [
       "<pre>+--------------------------------+------------+</pre>"
      ],
      "text/plain": [
       "+--------------------------------+------------+"
      ]
     },
     "metadata": {},
     "output_type": "display_data"
    },
    {
     "data": {
      "text/html": [
       "<pre>| 3.406ms                        | 0          |</pre>"
      ],
      "text/plain": [
       "| 3.406ms                        | 0          |"
      ]
     },
     "metadata": {},
     "output_type": "display_data"
    },
    {
     "data": {
      "text/html": [
       "<pre>| 207.741ms                      | 100        |</pre>"
      ],
      "text/plain": [
       "| 207.741ms                      | 100        |"
      ]
     },
     "metadata": {},
     "output_type": "display_data"
    },
    {
     "data": {
      "text/html": [
       "<pre>+--------------------------------+------------+</pre>"
      ],
      "text/plain": [
       "+--------------------------------+------------+"
      ]
     },
     "metadata": {},
     "output_type": "display_data"
    },
    {
     "data": {
      "text/html": [
       "<pre>Setting up lookup tables.</pre>"
      ],
      "text/plain": [
       "Setting up lookup tables."
      ]
     },
     "metadata": {},
     "output_type": "display_data"
    },
    {
     "data": {
      "text/html": [
       "<pre>Processing data in one pass using dense lookup tables.</pre>"
      ],
      "text/plain": [
       "Processing data in one pass using dense lookup tables."
      ]
     },
     "metadata": {},
     "output_type": "display_data"
    },
    {
     "data": {
      "text/html": [
       "<pre>+-------------------------------------+------------------+-----------------+</pre>"
      ],
      "text/plain": [
       "+-------------------------------------+------------------+-----------------+"
      ]
     },
     "metadata": {},
     "output_type": "display_data"
    },
    {
     "data": {
      "text/html": [
       "<pre>| Elapsed Time (Constructing Lookups) | Total % Complete | Items Processed |</pre>"
      ],
      "text/plain": [
       "| Elapsed Time (Constructing Lookups) | Total % Complete | Items Processed |"
      ]
     },
     "metadata": {},
     "output_type": "display_data"
    },
    {
     "data": {
      "text/html": [
       "<pre>+-------------------------------------+------------------+-----------------+</pre>"
      ],
      "text/plain": [
       "+-------------------------------------+------------------+-----------------+"
      ]
     },
     "metadata": {},
     "output_type": "display_data"
    },
    {
     "data": {
      "text/html": [
       "<pre>| 2.41s                               | 0                | 0               |</pre>"
      ],
      "text/plain": [
       "| 2.41s                               | 0                | 0               |"
      ]
     },
     "metadata": {},
     "output_type": "display_data"
    },
    {
     "data": {
      "text/html": [
       "<pre>| 3.41s                               | 94               | 41506           |</pre>"
      ],
      "text/plain": [
       "| 3.41s                               | 94               | 41506           |"
      ]
     },
     "metadata": {},
     "output_type": "display_data"
    },
    {
     "data": {
      "text/html": [
       "<pre>| 5.73s                               | 100              | 44142           |</pre>"
      ],
      "text/plain": [
       "| 5.73s                               | 100              | 44142           |"
      ]
     },
     "metadata": {},
     "output_type": "display_data"
    },
    {
     "data": {
      "text/html": [
       "<pre>+-------------------------------------+------------------+-----------------+</pre>"
      ],
      "text/plain": [
       "+-------------------------------------+------------------+-----------------+"
      ]
     },
     "metadata": {},
     "output_type": "display_data"
    },
    {
     "data": {
      "text/html": [
       "<pre>Finalizing lookup tables.</pre>"
      ],
      "text/plain": [
       "Finalizing lookup tables."
      ]
     },
     "metadata": {},
     "output_type": "display_data"
    },
    {
     "data": {
      "text/html": [
       "<pre>Generating candidate set for working with new users.</pre>"
      ],
      "text/plain": [
       "Generating candidate set for working with new users."
      ]
     },
     "metadata": {},
     "output_type": "display_data"
    },
    {
     "data": {
      "text/html": [
       "<pre>Finished training in 6.05168s</pre>"
      ],
      "text/plain": [
       "Finished training in 6.05168s"
      ]
     },
     "metadata": {},
     "output_type": "display_data"
    }
   ],
   "source": [
    "m1 = graphlab.recommender.create(train, user_id='OwnerUserId', item_id='Tag')"
   ]
  },
  {
   "cell_type": "markdown",
   "metadata": {},
   "source": [
    "Create a matrix factorization model that is better at ranking by setting unobserved_rating_regularization argument to 1."
   ]
  },
  {
   "cell_type": "code",
   "execution_count": 45,
   "metadata": {
    "collapsed": false
   },
   "outputs": [
    {
     "data": {
      "text/html": [
       "<pre>Recsys training: model = ranking_factorization_recommender</pre>"
      ],
      "text/plain": [
       "Recsys training: model = ranking_factorization_recommender"
      ]
     },
     "metadata": {},
     "output_type": "display_data"
    },
    {
     "data": {
      "text/html": [
       "<pre>Preparing data set.</pre>"
      ],
      "text/plain": [
       "Preparing data set."
      ]
     },
     "metadata": {},
     "output_type": "display_data"
    },
    {
     "data": {
      "text/html": [
       "<pre>    Data has 6350786 observations with 656074 users and 44142 items.</pre>"
      ],
      "text/plain": [
       "    Data has 6350786 observations with 656074 users and 44142 items."
      ]
     },
     "metadata": {},
     "output_type": "display_data"
    },
    {
     "data": {
      "text/html": [
       "<pre>    Data prepared in: 4.45807s</pre>"
      ],
      "text/plain": [
       "    Data prepared in: 4.45807s"
      ]
     },
     "metadata": {},
     "output_type": "display_data"
    },
    {
     "data": {
      "text/html": [
       "<pre>Training ranking_factorization_recommender for recommendations.</pre>"
      ],
      "text/plain": [
       "Training ranking_factorization_recommender for recommendations."
      ]
     },
     "metadata": {},
     "output_type": "display_data"
    },
    {
     "data": {
      "text/html": [
       "<pre>+--------------------------------+--------------------------------------------------+----------+</pre>"
      ],
      "text/plain": [
       "+--------------------------------+--------------------------------------------------+----------+"
      ]
     },
     "metadata": {},
     "output_type": "display_data"
    },
    {
     "data": {
      "text/html": [
       "<pre>| Parameter                      | Description                                      | Value    |</pre>"
      ],
      "text/plain": [
       "| Parameter                      | Description                                      | Value    |"
      ]
     },
     "metadata": {},
     "output_type": "display_data"
    },
    {
     "data": {
      "text/html": [
       "<pre>+--------------------------------+--------------------------------------------------+----------+</pre>"
      ],
      "text/plain": [
       "+--------------------------------+--------------------------------------------------+----------+"
      ]
     },
     "metadata": {},
     "output_type": "display_data"
    },
    {
     "data": {
      "text/html": [
       "<pre>| num_factors                    | Factor Dimension                                 | 32       |</pre>"
      ],
      "text/plain": [
       "| num_factors                    | Factor Dimension                                 | 32       |"
      ]
     },
     "metadata": {},
     "output_type": "display_data"
    },
    {
     "data": {
      "text/html": [
       "<pre>| regularization                 | L2 Regularization on Factors                     | 1e-09    |</pre>"
      ],
      "text/plain": [
       "| regularization                 | L2 Regularization on Factors                     | 1e-09    |"
      ]
     },
     "metadata": {},
     "output_type": "display_data"
    },
    {
     "data": {
      "text/html": [
       "<pre>| solver                         | Solver used for training                         | sgd      |</pre>"
      ],
      "text/plain": [
       "| solver                         | Solver used for training                         | sgd      |"
      ]
     },
     "metadata": {},
     "output_type": "display_data"
    },
    {
     "data": {
      "text/html": [
       "<pre>| linear_regularization          | L2 Regularization on Linear Coefficients         | 1e-09    |</pre>"
      ],
      "text/plain": [
       "| linear_regularization          | L2 Regularization on Linear Coefficients         | 1e-09    |"
      ]
     },
     "metadata": {},
     "output_type": "display_data"
    },
    {
     "data": {
      "text/html": [
       "<pre>| ranking_regularization         | Rank-based Regularization Weight                 | 1        |</pre>"
      ],
      "text/plain": [
       "| ranking_regularization         | Rank-based Regularization Weight                 | 1        |"
      ]
     },
     "metadata": {},
     "output_type": "display_data"
    },
    {
     "data": {
      "text/html": [
       "<pre>| max_iterations                 | Maximum Number of Iterations                     | 25       |</pre>"
      ],
      "text/plain": [
       "| max_iterations                 | Maximum Number of Iterations                     | 25       |"
      ]
     },
     "metadata": {},
     "output_type": "display_data"
    },
    {
     "data": {
      "text/html": [
       "<pre>+--------------------------------+--------------------------------------------------+----------+</pre>"
      ],
      "text/plain": [
       "+--------------------------------+--------------------------------------------------+----------+"
      ]
     },
     "metadata": {},
     "output_type": "display_data"
    },
    {
     "data": {
      "text/html": [
       "<pre>  Optimizing model using SGD; tuning step size.</pre>"
      ],
      "text/plain": [
       "  Optimizing model using SGD; tuning step size."
      ]
     },
     "metadata": {},
     "output_type": "display_data"
    },
    {
     "data": {
      "text/html": [
       "<pre>  Using 793848 / 6350786 points for tuning the step size.</pre>"
      ],
      "text/plain": [
       "  Using 793848 / 6350786 points for tuning the step size."
      ]
     },
     "metadata": {},
     "output_type": "display_data"
    },
    {
     "data": {
      "text/html": [
       "<pre>+---------+-------------------+------------------------------------------+</pre>"
      ],
      "text/plain": [
       "+---------+-------------------+------------------------------------------+"
      ]
     },
     "metadata": {},
     "output_type": "display_data"
    },
    {
     "data": {
      "text/html": [
       "<pre>| Attempt | Initial Step Size | Estimated Objective Value                |</pre>"
      ],
      "text/plain": [
       "| Attempt | Initial Step Size | Estimated Objective Value                |"
      ]
     },
     "metadata": {},
     "output_type": "display_data"
    },
    {
     "data": {
      "text/html": [
       "<pre>+---------+-------------------+------------------------------------------+</pre>"
      ],
      "text/plain": [
       "+---------+-------------------+------------------------------------------+"
      ]
     },
     "metadata": {},
     "output_type": "display_data"
    },
    {
     "data": {
      "text/html": [
       "<pre>| 0       | 25                | Not Viable                               |</pre>"
      ],
      "text/plain": [
       "| 0       | 25                | Not Viable                               |"
      ]
     },
     "metadata": {},
     "output_type": "display_data"
    },
    {
     "data": {
      "text/html": [
       "<pre>| 1       | 6.25              | Not Viable                               |</pre>"
      ],
      "text/plain": [
       "| 1       | 6.25              | Not Viable                               |"
      ]
     },
     "metadata": {},
     "output_type": "display_data"
    },
    {
     "data": {
      "text/html": [
       "<pre>| 2       | 1.5625            | Not Viable                               |</pre>"
      ],
      "text/plain": [
       "| 2       | 1.5625            | Not Viable                               |"
      ]
     },
     "metadata": {},
     "output_type": "display_data"
    },
    {
     "data": {
      "text/html": [
       "<pre>| 3       | 0.390625          | Not Viable                               |</pre>"
      ],
      "text/plain": [
       "| 3       | 0.390625          | Not Viable                               |"
      ]
     },
     "metadata": {},
     "output_type": "display_data"
    },
    {
     "data": {
      "text/html": [
       "<pre>| 4       | 0.0976562         | Not Viable                               |</pre>"
      ],
      "text/plain": [
       "| 4       | 0.0976562         | Not Viable                               |"
      ]
     },
     "metadata": {},
     "output_type": "display_data"
    },
    {
     "data": {
      "text/html": [
       "<pre>| 5       | 0.0244141         | 12.5581                                  |</pre>"
      ],
      "text/plain": [
       "| 5       | 0.0244141         | 12.5581                                  |"
      ]
     },
     "metadata": {},
     "output_type": "display_data"
    },
    {
     "data": {
      "text/html": [
       "<pre>| 6       | 0.012207          | 15.9018                                  |</pre>"
      ],
      "text/plain": [
       "| 6       | 0.012207          | 15.9018                                  |"
      ]
     },
     "metadata": {},
     "output_type": "display_data"
    },
    {
     "data": {
      "text/html": [
       "<pre>| 7       | 0.00610352        | 23.4063                                  |</pre>"
      ],
      "text/plain": [
       "| 7       | 0.00610352        | 23.4063                                  |"
      ]
     },
     "metadata": {},
     "output_type": "display_data"
    },
    {
     "data": {
      "text/html": [
       "<pre>| 8       | 0.00305176        | 39.2869                                  |</pre>"
      ],
      "text/plain": [
       "| 8       | 0.00305176        | 39.2869                                  |"
      ]
     },
     "metadata": {},
     "output_type": "display_data"
    },
    {
     "data": {
      "text/html": [
       "<pre>+---------+-------------------+------------------------------------------+</pre>"
      ],
      "text/plain": [
       "+---------+-------------------+------------------------------------------+"
      ]
     },
     "metadata": {},
     "output_type": "display_data"
    },
    {
     "data": {
      "text/html": [
       "<pre>| Final   | 0.0244141         | 12.5581                                  |</pre>"
      ],
      "text/plain": [
       "| Final   | 0.0244141         | 12.5581                                  |"
      ]
     },
     "metadata": {},
     "output_type": "display_data"
    },
    {
     "data": {
      "text/html": [
       "<pre>+---------+-------------------+------------------------------------------+</pre>"
      ],
      "text/plain": [
       "+---------+-------------------+------------------------------------------+"
      ]
     },
     "metadata": {},
     "output_type": "display_data"
    },
    {
     "data": {
      "text/html": [
       "<pre>Starting Optimization.</pre>"
      ],
      "text/plain": [
       "Starting Optimization."
      ]
     },
     "metadata": {},
     "output_type": "display_data"
    },
    {
     "data": {
      "text/html": [
       "<pre>+---------+--------------+-------------------+-----------------------+-------------+</pre>"
      ],
      "text/plain": [
       "+---------+--------------+-------------------+-----------------------+-------------+"
      ]
     },
     "metadata": {},
     "output_type": "display_data"
    },
    {
     "data": {
      "text/html": [
       "<pre>| Iter.   | Elapsed Time | Approx. Objective | Approx. Training RMSE | Step Size   |</pre>"
      ],
      "text/plain": [
       "| Iter.   | Elapsed Time | Approx. Objective | Approx. Training RMSE | Step Size   |"
      ]
     },
     "metadata": {},
     "output_type": "display_data"
    },
    {
     "data": {
      "text/html": [
       "<pre>+---------+--------------+-------------------+-----------------------+-------------+</pre>"
      ],
      "text/plain": [
       "+---------+--------------+-------------------+-----------------------+-------------+"
      ]
     },
     "metadata": {},
     "output_type": "display_data"
    },
    {
     "data": {
      "text/html": [
       "<pre>| Initial | 122us        | 61.0436           | 3.55067               |             |</pre>"
      ],
      "text/plain": [
       "| Initial | 122us        | 61.0436           | 3.55067               |             |"
      ]
     },
     "metadata": {},
     "output_type": "display_data"
    },
    {
     "data": {
      "text/html": [
       "<pre>+---------+--------------+-------------------+-----------------------+-------------+</pre>"
      ],
      "text/plain": [
       "+---------+--------------+-------------------+-----------------------+-------------+"
      ]
     },
     "metadata": {},
     "output_type": "display_data"
    },
    {
     "data": {
      "text/html": [
       "<pre>| 1       | 1.73s        | 32.5731           | 4.62531               | 0.0244141   |</pre>"
      ],
      "text/plain": [
       "| 1       | 1.73s        | 32.5731           | 4.62531               | 0.0244141   |"
      ]
     },
     "metadata": {},
     "output_type": "display_data"
    },
    {
     "data": {
      "text/html": [
       "<pre>| 2       | 3.35s        | 26.6179           | 4.41998               | 0.0145167   |</pre>"
      ],
      "text/plain": [
       "| 2       | 3.35s        | 26.6179           | 4.41998               | 0.0145167   |"
      ]
     },
     "metadata": {},
     "output_type": "display_data"
    },
    {
     "data": {
      "text/html": [
       "<pre>| 3       | 5.05s        | 22.2834           | 4.03583               | 0.0107102   |</pre>"
      ],
      "text/plain": [
       "| 3       | 5.05s        | 22.2834           | 4.03583               | 0.0107102   |"
      ]
     },
     "metadata": {},
     "output_type": "display_data"
    },
    {
     "data": {
      "text/html": [
       "<pre>| 4       | 6.71s        | 19.6955           | 3.78048               | 0.00863167  |</pre>"
      ],
      "text/plain": [
       "| 4       | 6.71s        | 19.6955           | 3.78048               | 0.00863167  |"
      ]
     },
     "metadata": {},
     "output_type": "display_data"
    },
    {
     "data": {
      "text/html": [
       "<pre>| 5       | 8.28s        | 17.9103           | 3.58244               | 0.00730151  |</pre>"
      ],
      "text/plain": [
       "| 5       | 8.28s        | 17.9103           | 3.58244               | 0.00730151  |"
      ]
     },
     "metadata": {},
     "output_type": "display_data"
    },
    {
     "data": {
      "text/html": [
       "<pre>| 6       | 9.83s        | 16.2778           | 3.3852                | 0.00636835  |</pre>"
      ],
      "text/plain": [
       "| 6       | 9.83s        | 16.2778           | 3.3852                | 0.00636835  |"
      ]
     },
     "metadata": {},
     "output_type": "display_data"
    },
    {
     "data": {
      "text/html": [
       "<pre>| 7       | 11.34s       | 15.0402           | 3.23238               | 0.00567305  |</pre>"
      ],
      "text/plain": [
       "| 7       | 11.34s       | 15.0402           | 3.23238               | 0.00567305  |"
      ]
     },
     "metadata": {},
     "output_type": "display_data"
    },
    {
     "data": {
      "text/html": [
       "<pre>| 8       | 12.88s       | 13.9339           | 3.08163               | 0.00513242  |</pre>"
      ],
      "text/plain": [
       "| 8       | 12.88s       | 13.9339           | 3.08163               | 0.00513242  |"
      ]
     },
     "metadata": {},
     "output_type": "display_data"
    },
    {
     "data": {
      "text/html": [
       "<pre>| 9       | 14.40s       | 13.0449           | 2.95836               | 0.00469849  |</pre>"
      ],
      "text/plain": [
       "| 9       | 14.40s       | 13.0449           | 2.95836               | 0.00469849  |"
      ]
     },
     "metadata": {},
     "output_type": "display_data"
    },
    {
     "data": {
      "text/html": [
       "<pre>| 10      | 15.90s       | 12.2501           | 2.84604               | 0.0043415   |</pre>"
      ],
      "text/plain": [
       "| 10      | 15.90s       | 12.2501           | 2.84604               | 0.0043415   |"
      ]
     },
     "metadata": {},
     "output_type": "display_data"
    },
    {
     "data": {
      "text/html": [
       "<pre>| 11      | 17.38s       | 11.6164           | 2.75304               | 0.00404199  |</pre>"
      ],
      "text/plain": [
       "| 11      | 17.38s       | 11.6164           | 2.75304               | 0.00404199  |"
      ]
     },
     "metadata": {},
     "output_type": "display_data"
    },
    {
     "data": {
      "text/html": [
       "<pre>| 12      | 18.86s       | 11.1234           | 2.67631               | 0.00378664  |</pre>"
      ],
      "text/plain": [
       "| 12      | 18.86s       | 11.1234           | 2.67631               | 0.00378664  |"
      ]
     },
     "metadata": {},
     "output_type": "display_data"
    },
    {
     "data": {
      "text/html": [
       "<pre>| 13      | 20.31s       | 10.6144           | 2.59617               | 0.00356601  |</pre>"
      ],
      "text/plain": [
       "| 13      | 20.31s       | 10.6144           | 2.59617               | 0.00356601  |"
      ]
     },
     "metadata": {},
     "output_type": "display_data"
    },
    {
     "data": {
      "text/html": [
       "<pre>| 14      | 21.80s       | 10.1115           | 2.51548               | 0.00337322  |</pre>"
      ],
      "text/plain": [
       "| 14      | 21.80s       | 10.1115           | 2.51548               | 0.00337322  |"
      ]
     },
     "metadata": {},
     "output_type": "display_data"
    },
    {
     "data": {
      "text/html": [
       "<pre>| 15      | 23.26s       | 9.78924           | 2.46017               | 0.00320311  |</pre>"
      ],
      "text/plain": [
       "| 15      | 23.26s       | 9.78924           | 2.46017               | 0.00320311  |"
      ]
     },
     "metadata": {},
     "output_type": "display_data"
    },
    {
     "data": {
      "text/html": [
       "<pre>| 16      | 24.73s       | 9.47237           | 2.41029               | 0.00305176  |</pre>"
      ],
      "text/plain": [
       "| 16      | 24.73s       | 9.47237           | 2.41029               | 0.00305176  |"
      ]
     },
     "metadata": {},
     "output_type": "display_data"
    },
    {
     "data": {
      "text/html": [
       "<pre>| 17      | 26.17s       | 9.20258           | 2.36469               | 0.00291611  |</pre>"
      ],
      "text/plain": [
       "| 17      | 26.17s       | 9.20258           | 2.36469               | 0.00291611  |"
      ]
     },
     "metadata": {},
     "output_type": "display_data"
    },
    {
     "data": {
      "text/html": [
       "<pre>| 18      | 27.60s       | 8.90503           | 2.31225               | 0.00279374  |</pre>"
      ],
      "text/plain": [
       "| 18      | 27.60s       | 8.90503           | 2.31225               | 0.00279374  |"
      ]
     },
     "metadata": {},
     "output_type": "display_data"
    },
    {
     "data": {
      "text/html": [
       "<pre>| 19      | 29.03s       | 8.73623           | 2.28476               | 0.00268272  |</pre>"
      ],
      "text/plain": [
       "| 19      | 29.03s       | 8.73623           | 2.28476               | 0.00268272  |"
      ]
     },
     "metadata": {},
     "output_type": "display_data"
    },
    {
     "data": {
      "text/html": [
       "<pre>| 20      | 30.47s       | 8.49401           | 2.24149               | 0.00258147  |</pre>"
      ],
      "text/plain": [
       "| 20      | 30.47s       | 8.49401           | 2.24149               | 0.00258147  |"
      ]
     },
     "metadata": {},
     "output_type": "display_data"
    },
    {
     "data": {
      "text/html": [
       "<pre>| 21      | 31.89s       | 8.28914           | 2.20227               | 0.00248872  |</pre>"
      ],
      "text/plain": [
       "| 21      | 31.89s       | 8.28914           | 2.20227               | 0.00248872  |"
      ]
     },
     "metadata": {},
     "output_type": "display_data"
    },
    {
     "data": {
      "text/html": [
       "<pre>| 22      | 33.31s       | 8.15321           | 2.17917               | 0.00240338  |</pre>"
      ],
      "text/plain": [
       "| 22      | 33.31s       | 8.15321           | 2.17917               | 0.00240338  |"
      ]
     },
     "metadata": {},
     "output_type": "display_data"
    },
    {
     "data": {
      "text/html": [
       "<pre>| 23      | 34.75s       | 7.9658            | 2.14395               | 0.00232458  |</pre>"
      ],
      "text/plain": [
       "| 23      | 34.75s       | 7.9658            | 2.14395               | 0.00232458  |"
      ]
     },
     "metadata": {},
     "output_type": "display_data"
    },
    {
     "data": {
      "text/html": [
       "<pre>| 24      | 36.17s       | 7.85816           | 2.12179               | 0.00225155  |</pre>"
      ],
      "text/plain": [
       "| 24      | 36.17s       | 7.85816           | 2.12179               | 0.00225155  |"
      ]
     },
     "metadata": {},
     "output_type": "display_data"
    },
    {
     "data": {
      "text/html": [
       "<pre>| 25      | 37.59s       | 7.72142           | 2.09904               | 0.00218366  |</pre>"
      ],
      "text/plain": [
       "| 25      | 37.59s       | 7.72142           | 2.09904               | 0.00218366  |"
      ]
     },
     "metadata": {},
     "output_type": "display_data"
    },
    {
     "data": {
      "text/html": [
       "<pre>+---------+--------------+-------------------+-----------------------+-------------+</pre>"
      ],
      "text/plain": [
       "+---------+--------------+-------------------+-----------------------+-------------+"
      ]
     },
     "metadata": {},
     "output_type": "display_data"
    },
    {
     "data": {
      "text/html": [
       "<pre>Optimization Complete: Maximum number of passes through the data reached.</pre>"
      ],
      "text/plain": [
       "Optimization Complete: Maximum number of passes through the data reached."
      ]
     },
     "metadata": {},
     "output_type": "display_data"
    },
    {
     "data": {
      "text/html": [
       "<pre>Computing final objective value and training RMSE.</pre>"
      ],
      "text/plain": [
       "Computing final objective value and training RMSE."
      ]
     },
     "metadata": {},
     "output_type": "display_data"
    },
    {
     "data": {
      "text/html": [
       "<pre>       Final objective value: 8.05129</pre>"
      ],
      "text/plain": [
       "       Final objective value: 8.05129"
      ]
     },
     "metadata": {},
     "output_type": "display_data"
    },
    {
     "data": {
      "text/html": [
       "<pre>       Final training RMSE: 2.16933</pre>"
      ],
      "text/plain": [
       "       Final training RMSE: 2.16933"
      ]
     },
     "metadata": {},
     "output_type": "display_data"
    }
   ],
   "source": [
    "m2 = graphlab.ranking_factorization_recommender.create(train,\n",
    "                                                       user_id='OwnerUserId',\n",
    "                                                       item_id='Tag',\n",
    "                                                       target='Count',\n",
    "                                                       ranking_regularization=1)"
   ]
  },
  {
   "cell_type": "markdown",
   "metadata": {},
   "source": [
    "Retrieve the coefficients for each user that were learned by this algorithm."
   ]
  },
  {
   "cell_type": "code",
   "execution_count": 46,
   "metadata": {
    "collapsed": false
   },
   "outputs": [
    {
     "data": {
      "text/html": [
       "<div style=\"max-height:1000px;max-width:1500px;overflow:auto;\"><table frame=\"box\" rules=\"cols\">\n",
       "    <tr>\n",
       "        <th style=\"padding-left: 1em; padding-right: 1em; text-align: center\">OwnerUserId</th>\n",
       "        <th style=\"padding-left: 1em; padding-right: 1em; text-align: center\">linear_terms</th>\n",
       "        <th style=\"padding-left: 1em; padding-right: 1em; text-align: center\">factors</th>\n",
       "    </tr>\n",
       "    <tr>\n",
       "        <td style=\"padding-left: 1em; padding-right: 1em; text-align: center; vertical-align: top\">661140</td>\n",
       "        <td style=\"padding-left: 1em; padding-right: 1em; text-align: center; vertical-align: top\">-0.414406687021</td>\n",
       "        <td style=\"padding-left: 1em; padding-right: 1em; text-align: center; vertical-align: top\">[0.551463365555,<br>-0.0973705947399, ...</td>\n",
       "    </tr>\n",
       "    <tr>\n",
       "        <td style=\"padding-left: 1em; padding-right: 1em; text-align: center; vertical-align: top\">739736</td>\n",
       "        <td style=\"padding-left: 1em; padding-right: 1em; text-align: center; vertical-align: top\">0.375382274389</td>\n",
       "        <td style=\"padding-left: 1em; padding-right: 1em; text-align: center; vertical-align: top\">[-0.214054390788,<br>0.0523217916489, ...</td>\n",
       "    </tr>\n",
       "    <tr>\n",
       "        <td style=\"padding-left: 1em; padding-right: 1em; text-align: center; vertical-align: top\">515160</td>\n",
       "        <td style=\"padding-left: 1em; padding-right: 1em; text-align: center; vertical-align: top\">0.656349599361</td>\n",
       "        <td style=\"padding-left: 1em; padding-right: 1em; text-align: center; vertical-align: top\">[-0.762495756149,<br>0.26028418541, ...</td>\n",
       "    </tr>\n",
       "    <tr>\n",
       "        <td style=\"padding-left: 1em; padding-right: 1em; text-align: center; vertical-align: top\">786238</td>\n",
       "        <td style=\"padding-left: 1em; padding-right: 1em; text-align: center; vertical-align: top\">-0.213030233979</td>\n",
       "        <td style=\"padding-left: 1em; padding-right: 1em; text-align: center; vertical-align: top\">[0.454403668642,<br>-0.609466075897, ...</td>\n",
       "    </tr>\n",
       "    <tr>\n",
       "        <td style=\"padding-left: 1em; padding-right: 1em; text-align: center; vertical-align: top\">657536</td>\n",
       "        <td style=\"padding-left: 1em; padding-right: 1em; text-align: center; vertical-align: top\">-1.34143877029</td>\n",
       "        <td style=\"padding-left: 1em; padding-right: 1em; text-align: center; vertical-align: top\">[0.239265173674,<br>0.515760600567, ...</td>\n",
       "    </tr>\n",
       "    <tr>\n",
       "        <td style=\"padding-left: 1em; padding-right: 1em; text-align: center; vertical-align: top\">740293</td>\n",
       "        <td style=\"padding-left: 1em; padding-right: 1em; text-align: center; vertical-align: top\">-0.420180112123</td>\n",
       "        <td style=\"padding-left: 1em; padding-right: 1em; text-align: center; vertical-align: top\">[-0.130076482892,<br>-0.103303998709, ...</td>\n",
       "    </tr>\n",
       "    <tr>\n",
       "        <td style=\"padding-left: 1em; padding-right: 1em; text-align: center; vertical-align: top\">155005</td>\n",
       "        <td style=\"padding-left: 1em; padding-right: 1em; text-align: center; vertical-align: top\">-0.27473115921</td>\n",
       "        <td style=\"padding-left: 1em; padding-right: 1em; text-align: center; vertical-align: top\">[0.0576725900173,<br>-0.373588114977, ...</td>\n",
       "    </tr>\n",
       "    <tr>\n",
       "        <td style=\"padding-left: 1em; padding-right: 1em; text-align: center; vertical-align: top\">722508</td>\n",
       "        <td style=\"padding-left: 1em; padding-right: 1em; text-align: center; vertical-align: top\">-0.659019708633</td>\n",
       "        <td style=\"padding-left: 1em; padding-right: 1em; text-align: center; vertical-align: top\">[0.181462213397,<br>0.718444824219, ...</td>\n",
       "    </tr>\n",
       "    <tr>\n",
       "        <td style=\"padding-left: 1em; padding-right: 1em; text-align: center; vertical-align: top\">1632716</td>\n",
       "        <td style=\"padding-left: 1em; padding-right: 1em; text-align: center; vertical-align: top\">-0.606574058533</td>\n",
       "        <td style=\"padding-left: 1em; padding-right: 1em; text-align: center; vertical-align: top\">[-0.572928726673,<br>-0.286513179541, ...</td>\n",
       "    </tr>\n",
       "    <tr>\n",
       "        <td style=\"padding-left: 1em; padding-right: 1em; text-align: center; vertical-align: top\">1294775</td>\n",
       "        <td style=\"padding-left: 1em; padding-right: 1em; text-align: center; vertical-align: top\">-1.15090548992</td>\n",
       "        <td style=\"padding-left: 1em; padding-right: 1em; text-align: center; vertical-align: top\">[0.212015375495,<br>0.40648111701, ...</td>\n",
       "    </tr>\n",
       "</table>\n",
       "[656074 rows x 3 columns]<br/>Note: Only the head of the SFrame is printed.<br/>You can use print_rows(num_rows=m, num_columns=n) to print more rows and columns.\n",
       "</div>"
      ],
      "text/plain": [
       "Columns:\n",
       "\tOwnerUserId\tstr\n",
       "\tlinear_terms\tfloat\n",
       "\tfactors\tarray\n",
       "\n",
       "Rows: 656074\n",
       "\n",
       "Data:\n",
       "+-------------+-----------------+-------------------------------+\n",
       "| OwnerUserId |   linear_terms  |            factors            |\n",
       "+-------------+-----------------+-------------------------------+\n",
       "|    661140   | -0.414406687021 | [0.551463365555, -0.097370... |\n",
       "|    739736   |  0.375382274389 | [-0.214054390788, 0.052321... |\n",
       "|    515160   |  0.656349599361 | [-0.762495756149, 0.260284... |\n",
       "|    786238   | -0.213030233979 | [0.454403668642, -0.609466... |\n",
       "|    657536   |  -1.34143877029 | [0.239265173674, 0.5157606... |\n",
       "|    740293   | -0.420180112123 | [-0.130076482892, -0.10330... |\n",
       "|    155005   |  -0.27473115921 | [0.0576725900173, -0.37358... |\n",
       "|    722508   | -0.659019708633 | [0.181462213397, 0.7184448... |\n",
       "|   1632716   | -0.606574058533 | [-0.572928726673, -0.28651... |\n",
       "|   1294775   |  -1.15090548992 | [0.212015375495, 0.4064811... |\n",
       "+-------------+-----------------+-------------------------------+\n",
       "[656074 rows x 3 columns]\n",
       "Note: Only the head of the SFrame is printed.\n",
       "You can use print_rows(num_rows=m, num_columns=n) to print more rows and columns."
      ]
     },
     "execution_count": 46,
     "metadata": {},
     "output_type": "execute_result"
    }
   ],
   "source": [
    "m2['coefficients']['OwnerUserId']"
   ]
  },
  {
   "cell_type": "markdown",
   "metadata": {},
   "source": [
    "Compare the predictive performance of the two models. Given the ability to make 10 recommendations, which model predicted the highest proportion of items in the test set (on average)?"
   ]
  },
  {
   "cell_type": "code",
   "execution_count": 47,
   "metadata": {
    "collapsed": false
   },
   "outputs": [
    {
     "name": "stdout",
     "output_type": "stream",
     "text": [
      "PROGRESS: Evaluate model M0\n",
      "\n",
      "Precision and recall summary statistics by cutoff\n",
      "+--------+-----------------+----------------+\n",
      "| cutoff |  mean_precision |  mean_recall   |\n",
      "+--------+-----------------+----------------+\n",
      "|   1    |  0.127889060092 | 0.057584358032 |\n",
      "|   2    |  0.106317411402 | 0.097191224936 |\n",
      "|   3    | 0.0883410374936 | 0.121982907201 |\n",
      "|   4    | 0.0793528505393 | 0.137084639141 |\n",
      "|   5    | 0.0699537750385 | 0.148733090526 |\n",
      "|   6    | 0.0649717514124 | 0.16522260928  |\n",
      "|   7    |  0.060092449923 | 0.17699772359  |\n",
      "|   8    | 0.0558551617874 | 0.191185308966 |\n",
      "|   9    | 0.0529019003595 | 0.20007385257  |\n",
      "|   10   | 0.0499229583975 | 0.207194577398 |\n",
      "+--------+-----------------+----------------+\n",
      "[10 rows x 3 columns]\n",
      "\n",
      "PROGRESS: Evaluate model M1\n",
      "\n",
      "Precision and recall summary statistics by cutoff\n",
      "+--------+-----------------+-----------------+\n",
      "| cutoff |  mean_precision |   mean_recall   |\n",
      "+--------+-----------------+-----------------+\n",
      "|   1    |  0.106317411402 | 0.0465369883239 |\n",
      "|   2    | 0.0862865947612 | 0.0788846366096 |\n",
      "|   3    | 0.0713918849512 | 0.0959960851251 |\n",
      "|   4    | 0.0627889060092 |  0.109709554501 |\n",
      "|   5    | 0.0560862865948 |  0.127403442534 |\n",
      "|   6    | 0.0521314843349 |  0.14326477777  |\n",
      "|   7    | 0.0475456746643 |  0.153456281182 |\n",
      "|   8    | 0.0429506933744 |  0.15670635552  |\n",
      "|   9    | 0.0405752439651 |  0.167126681843 |\n",
      "|   10   | 0.0385208012327 |  0.175645787062 |\n",
      "+--------+-----------------+-----------------+\n",
      "[10 rows x 3 columns]\n",
      "\n"
     ]
    }
   ],
   "source": [
    "results = graphlab.recommender.util.compare_models(test, [m1, m2],\n",
    "                                                   metric='precision_recall')"
   ]
  },
  {
   "cell_type": "code",
   "execution_count": 51,
   "metadata": {
    "collapsed": false
   },
   "outputs": [
    {
     "name": "stdout",
     "output_type": "stream",
     "text": [
      "compare_models: using 32 users to estimate model performance\n",
      "PROGRESS: Evaluate model M0\n",
      "\n",
      "Precision and recall summary statistics by cutoff\n",
      "+--------+-----------------+-----------------+\n",
      "| cutoff |  mean_precision |   mean_recall   |\n",
      "+--------+-----------------+-----------------+\n",
      "|   1    |      0.1875     | 0.0693539029536 |\n",
      "|   2    |     0.171875    |  0.141311972574 |\n",
      "|   3    |  0.114583333333 |  0.141311972574 |\n",
      "|   4    |    0.1015625    |  0.172957542194 |\n",
      "|   5    |     0.09375     |  0.188978111814 |\n",
      "|   6    | 0.0885416666667 |  0.228040611814 |\n",
      "|   7    | 0.0803571428571 |  0.228436181435 |\n",
      "|   8    |     0.078125    |  0.230081751055 |\n",
      "|   9    | 0.0763888888889 |  0.236540084388 |\n",
      "|   10   |     0.078125    |  0.278602320675 |\n",
      "+--------+-----------------+-----------------+\n",
      "[10 rows x 3 columns]\n",
      "\n",
      "PROGRESS: Evaluate model M1\n",
      "\n",
      "Precision and recall summary statistics by cutoff\n",
      "+--------+-----------------+----------------+\n",
      "| cutoff |  mean_precision |  mean_recall   |\n",
      "+--------+-----------------+----------------+\n",
      "|   1    |     0.15625     |    0.090625    |\n",
      "|   2    |     0.109375    |     0.1125     |\n",
      "|   3    |     0.09375     | 0.138541666667 |\n",
      "|   4    |    0.0703125    | 0.138541666667 |\n",
      "|   5    |     0.06875     | 0.160416666667 |\n",
      "|   6    |      0.0625     | 0.176041666667 |\n",
      "|   7    | 0.0535714285714 | 0.176041666667 |\n",
      "|   8    |    0.05859375   | 0.224166666667 |\n",
      "|   9    | 0.0590277777778 | 0.286666666667 |\n",
      "|   10   |     0.053125    | 0.286666666667 |\n",
      "+--------+-----------------+----------------+\n",
      "[10 rows x 3 columns]\n",
      "\n",
      "Model compare metric: precision_recall\n"
     ]
    },
    {
     "data": {
      "application/javascript": [
       "$(\"head\").append($(\"<link/>\").attr({\n",
       "  rel:  \"stylesheet\",\n",
       "  type: \"text/css\",\n",
       "  href: \"//cdnjs.cloudflare.com/ajax/libs/font-awesome/4.1.0/css/font-awesome.min.css\"\n",
       "}));\n",
       "$(\"head\").append($(\"<link/>\").attr({\n",
       "  rel:  \"stylesheet\",\n",
       "  type: \"text/css\",\n",
       "  href: \"https://static.turi.com/products/graphlab-create/2.1/canvas/css/canvas.css\"\n",
       "}));\n",
       "\n",
       "            (function(){\n",
       "\n",
       "                var e = null;\n",
       "                if (typeof element == 'undefined') {\n",
       "                    var scripts = document.getElementsByTagName('script');\n",
       "                    var thisScriptTag = scripts[scripts.length-1];\n",
       "                    var parentDiv = thisScriptTag.parentNode;\n",
       "                    e = document.createElement('div');\n",
       "                    parentDiv.appendChild(e);\n",
       "                } else {\n",
       "                    e = element[0];\n",
       "                }\n",
       "\n",
       "                if (typeof requirejs !== 'undefined') {\n",
       "                    // disable load timeout; ipython_app.js is large and can take a while to load.\n",
       "                    requirejs.config({waitSeconds: 0});\n",
       "                }\n",
       "\n",
       "                require(['https://static.turi.com/products/graphlab-create/2.1/canvas/js/ipython_app.js'], function(IPythonApp){\n",
       "                    var app = new IPythonApp();\n",
       "                    app.attachView('model','Comparison', {\"comparison\": {\"dataset_label\": \"test\", \"evaluations\": {\"m1\": {\"precision_recall\": [{\"cutoff\": 1, \"precision\": 0.18750000000000006, \"recall\": 0.0693539029535865}, {\"cutoff\": 2, \"precision\": 0.171875, \"recall\": 0.14131197257383965}, {\"cutoff\": 3, \"precision\": 0.11458333333333336, \"recall\": 0.14131197257383965}, {\"cutoff\": 4, \"precision\": 0.10156250000000001, \"recall\": 0.17295754219409282}, {\"cutoff\": 5, \"precision\": 0.09375000000000001, \"recall\": 0.18897811181434598}, {\"cutoff\": 6, \"precision\": 0.08854166666666669, \"recall\": 0.22804061181434598}, {\"cutoff\": 7, \"precision\": 0.08035714285714285, \"recall\": 0.22843618143459915}, {\"cutoff\": 8, \"precision\": 0.078125, \"recall\": 0.23008175105485232}, {\"cutoff\": 9, \"precision\": 0.07638888888888888, \"recall\": 0.23654008438818563}, {\"cutoff\": 10, \"precision\": 0.07812499999999999, \"recall\": 0.27860232067510543}, {\"cutoff\": 11, \"precision\": 0.07102272727272729, \"recall\": 0.27860232067510543}, {\"cutoff\": 16, \"precision\": 0.052734375000000014, \"recall\": 0.3098523206751055}, {\"cutoff\": 21, \"precision\": 0.0505952380952381, \"recall\": 0.3489345991561182}, {\"cutoff\": 26, \"precision\": 0.046875, \"recall\": 0.3517668776371308}, {\"cutoff\": 31, \"precision\": 0.041330645161290334, \"recall\": 0.3658293776371308}, {\"cutoff\": 36, \"precision\": 0.03993055555555555, \"recall\": 0.43062104430379744}, {\"cutoff\": 41, \"precision\": 0.03810975609756097, \"recall\": 0.44421105836849506}, {\"cutoff\": 46, \"precision\": 0.03464673913043478, \"recall\": 0.4446066279887482}]}, \"m2\": {\"precision_recall\": [{\"cutoff\": 1, \"precision\": 0.15625000000000003, \"recall\": 0.090625}, {\"cutoff\": 2, \"precision\": 0.109375, \"recall\": 0.11249999999999998}, {\"cutoff\": 3, \"precision\": 0.09374999999999999, \"recall\": 0.1385416666666667}, {\"cutoff\": 4, \"precision\": 0.07031249999999999, \"recall\": 0.1385416666666667}, {\"cutoff\": 5, \"precision\": 0.06875, \"recall\": 0.16041666666666668}, {\"cutoff\": 6, \"precision\": 0.06250000000000001, \"recall\": 0.17604166666666668}, {\"cutoff\": 7, \"precision\": 0.05357142857142856, \"recall\": 0.17604166666666668}, {\"cutoff\": 8, \"precision\": 0.05859375, \"recall\": 0.2241666666666666}, {\"cutoff\": 9, \"precision\": 0.059027777777777755, \"recall\": 0.2866666666666666}, {\"cutoff\": 10, \"precision\": 0.05312499999999999, \"recall\": 0.2866666666666666}, {\"cutoff\": 11, \"precision\": 0.04829545454545454, \"recall\": 0.2866666666666666}, {\"cutoff\": 16, \"precision\": 0.037109375, \"recall\": 0.29227056962025316}, {\"cutoff\": 21, \"precision\": 0.031249999999999993, \"recall\": 0.29306170886075955}, {\"cutoff\": 26, \"precision\": 0.02644230769230769, \"recall\": 0.29345727848101266}, {\"cutoff\": 31, \"precision\": 0.023185483870967735, \"recall\": 0.32470727848101266}, {\"cutoff\": 36, \"precision\": 0.02083333333333334, \"recall\": 0.32817950070323487}, {\"cutoff\": 41, \"precision\": 0.01905487804878049, \"recall\": 0.32942950070323485}, {\"cutoff\": 46, \"precision\": 0.01834239130434783, \"recall\": 0.3619295007032349}]}}}, \"selected_variable\": {\"comparison\": {\"dataset_label\": \"test\", \"evaluations\": {\"m1\": {\"precision_recall\": [{\"cutoff\": 1, \"precision\": 0.18750000000000006, \"recall\": 0.0693539029535865}, {\"cutoff\": 2, \"precision\": 0.171875, \"recall\": 0.14131197257383965}, {\"cutoff\": 3, \"precision\": 0.11458333333333336, \"recall\": 0.14131197257383965}, {\"cutoff\": 4, \"precision\": 0.10156250000000001, \"recall\": 0.17295754219409282}, {\"cutoff\": 5, \"precision\": 0.09375000000000001, \"recall\": 0.18897811181434598}, {\"cutoff\": 6, \"precision\": 0.08854166666666669, \"recall\": 0.22804061181434598}, {\"cutoff\": 7, \"precision\": 0.08035714285714285, \"recall\": 0.22843618143459915}, {\"cutoff\": 8, \"precision\": 0.078125, \"recall\": 0.23008175105485232}, {\"cutoff\": 9, \"precision\": 0.07638888888888888, \"recall\": 0.23654008438818563}, {\"cutoff\": 10, \"precision\": 0.07812499999999999, \"recall\": 0.27860232067510543}, {\"cutoff\": 11, \"precision\": 0.07102272727272729, \"recall\": 0.27860232067510543}, {\"cutoff\": 16, \"precision\": 0.052734375000000014, \"recall\": 0.3098523206751055}, {\"cutoff\": 21, \"precision\": 0.0505952380952381, \"recall\": 0.3489345991561182}, {\"cutoff\": 26, \"precision\": 0.046875, \"recall\": 0.3517668776371308}, {\"cutoff\": 31, \"precision\": 0.041330645161290334, \"recall\": 0.3658293776371308}, {\"cutoff\": 36, \"precision\": 0.03993055555555555, \"recall\": 0.43062104430379744}, {\"cutoff\": 41, \"precision\": 0.03810975609756097, \"recall\": 0.44421105836849506}, {\"cutoff\": 46, \"precision\": 0.03464673913043478, \"recall\": 0.4446066279887482}]}, \"m2\": {\"precision_recall\": [{\"cutoff\": 1, \"precision\": 0.15625000000000003, \"recall\": 0.090625}, {\"cutoff\": 2, \"precision\": 0.109375, \"recall\": 0.11249999999999998}, {\"cutoff\": 3, \"precision\": 0.09374999999999999, \"recall\": 0.1385416666666667}, {\"cutoff\": 4, \"precision\": 0.07031249999999999, \"recall\": 0.1385416666666667}, {\"cutoff\": 5, \"precision\": 0.06875, \"recall\": 0.16041666666666668}, {\"cutoff\": 6, \"precision\": 0.06250000000000001, \"recall\": 0.17604166666666668}, {\"cutoff\": 7, \"precision\": 0.05357142857142856, \"recall\": 0.17604166666666668}, {\"cutoff\": 8, \"precision\": 0.05859375, \"recall\": 0.2241666666666666}, {\"cutoff\": 9, \"precision\": 0.059027777777777755, \"recall\": 0.2866666666666666}, {\"cutoff\": 10, \"precision\": 0.05312499999999999, \"recall\": 0.2866666666666666}, {\"cutoff\": 11, \"precision\": 0.04829545454545454, \"recall\": 0.2866666666666666}, {\"cutoff\": 16, \"precision\": 0.037109375, \"recall\": 0.29227056962025316}, {\"cutoff\": 21, \"precision\": 0.031249999999999993, \"recall\": 0.29306170886075955}, {\"cutoff\": 26, \"precision\": 0.02644230769230769, \"recall\": 0.29345727848101266}, {\"cutoff\": 31, \"precision\": 0.023185483870967735, \"recall\": 0.32470727848101266}, {\"cutoff\": 36, \"precision\": 0.02083333333333334, \"recall\": 0.32817950070323487}, {\"cutoff\": 41, \"precision\": 0.01905487804878049, \"recall\": 0.32942950070323485}, {\"cutoff\": 46, \"precision\": 0.01834239130434783, \"recall\": 0.3619295007032349}]}}}, \"name\": [\"m1\"], \"view_file\": \"model\", \"view_component\": \"Comparison\", \"view_params\": {\"model_type\": \"recommender\", \"view\": \"Comparison\"}, \"view_components\": [\"Summary\", \"Evaluation\", \"Comparison\"], \"model_type\": \"recommender\", \"attributes\": {\"section_titles\": [\"Schema\", \"Statistics\", \"Training summary\", \"Model Parameters\", \"Other Settings\"], \"sections\": [[[\"User ID\", \"OwnerUserId\"], [\"Item ID\", \"Tag\"], [\"Target\", null], [\"Additional observation features\", 0], [\"User side features\", []], [\"Item side features\", []]], [[\"Number of observations\", 6350786], [\"Number of users\", 656074], [\"Number of items\", 44142]], [[\"Training time\", 6.0517]], [[\"Model class\", \"ItemSimilarityRecommender\"], [\"threshold\", 0.001], [\"similarity_type\", \"jaccard\"], [\"training_method\", \"auto\"]], [[\"degree_approximation_threshold\", 4096], [\"sparse_density_estimation_sample_size\", 4096], [\"max_data_passes\", 4096], [\"target_memory_usage\", 8589934592], [\"seed_item_set_size\", 50], [\"nearest_neighbors_interaction_proportion_threshold\", 0.05], [\"max_item_neighborhood_size\", 64]]]}, \"evaluations\": [[\"dataset_subset\", {\"precision_recall_overall\": [{\"cutoff\": 1, \"precision\": 0.18750000000000006, \"recall\": 0.0693539029535865}, {\"cutoff\": 2, \"precision\": 0.171875, \"recall\": 0.14131197257383965}, {\"cutoff\": 3, \"precision\": 0.11458333333333336, \"recall\": 0.14131197257383965}, {\"cutoff\": 4, \"precision\": 0.10156250000000001, \"recall\": 0.17295754219409282}, {\"cutoff\": 5, \"precision\": 0.09375000000000001, \"recall\": 0.18897811181434598}, {\"cutoff\": 6, \"precision\": 0.08854166666666669, \"recall\": 0.22804061181434598}, {\"cutoff\": 7, \"precision\": 0.08035714285714285, \"recall\": 0.22843618143459915}, {\"cutoff\": 8, \"precision\": 0.078125, \"recall\": 0.23008175105485232}, {\"cutoff\": 9, \"precision\": 0.07638888888888888, \"recall\": 0.23654008438818563}, {\"cutoff\": 10, \"precision\": 0.07812499999999999, \"recall\": 0.27860232067510543}, {\"cutoff\": 11, \"precision\": 0.07102272727272729, \"recall\": 0.27860232067510543}, {\"cutoff\": 16, \"precision\": 0.052734375000000014, \"recall\": 0.3098523206751055}, {\"cutoff\": 21, \"precision\": 0.0505952380952381, \"recall\": 0.3489345991561182}, {\"cutoff\": 26, \"precision\": 0.046875, \"recall\": 0.3517668776371308}, {\"cutoff\": 31, \"precision\": 0.041330645161290334, \"recall\": 0.3658293776371308}, {\"cutoff\": 36, \"precision\": 0.03993055555555555, \"recall\": 0.43062104430379744}, {\"cutoff\": 41, \"precision\": 0.03810975609756097, \"recall\": 0.44421105836849506}, {\"cutoff\": 46, \"precision\": 0.03464673913043478, \"recall\": 0.4446066279887482}], \"precision_recall_by_user\": [{\"OwnerUserId\": \"1029483\", \"cutoff\": 1, \"recall\": 0.0, \"count\": 3, \"precision\": 0.0}, {\"OwnerUserId\": \"1029483\", \"cutoff\": 2, \"recall\": 0.0, \"count\": 3, \"precision\": 0.0}, {\"OwnerUserId\": \"1029483\", \"cutoff\": 3, \"recall\": 0.0, \"count\": 3, \"precision\": 0.0}, {\"OwnerUserId\": \"1029483\", \"cutoff\": 4, \"recall\": 0.0, \"count\": 3, \"precision\": 0.0}, {\"OwnerUserId\": \"1029483\", \"cutoff\": 5, \"recall\": 0.0, \"count\": 3, \"precision\": 0.0}, {\"OwnerUserId\": \"1029483\", \"cutoff\": 6, \"recall\": 0.0, \"count\": 3, \"precision\": 0.0}, {\"OwnerUserId\": \"1029483\", \"cutoff\": 7, \"recall\": 0.0, \"count\": 3, \"precision\": 0.0}, {\"OwnerUserId\": \"1029483\", \"cutoff\": 8, \"recall\": 0.0, \"count\": 3, \"precision\": 0.0}, {\"OwnerUserId\": \"1029483\", \"cutoff\": 9, \"recall\": 0.0, \"count\": 3, \"precision\": 0.0}, {\"OwnerUserId\": \"1029483\", \"cutoff\": 10, \"recall\": 0.0, \"count\": 3, \"precision\": 0.0}, {\"OwnerUserId\": \"1029483\", \"cutoff\": 11, \"recall\": 0.0, \"count\": 3, \"precision\": 0.0}, {\"OwnerUserId\": \"1029483\", \"cutoff\": 16, \"recall\": 0.0, \"count\": 3, \"precision\": 0.0}, {\"OwnerUserId\": \"1029483\", \"cutoff\": 21, \"recall\": 0.0, \"count\": 3, \"precision\": 0.0}, {\"OwnerUserId\": \"1029483\", \"cutoff\": 26, \"recall\": 0.0, \"count\": 3, \"precision\": 0.0}, {\"OwnerUserId\": \"1029483\", \"cutoff\": 31, \"recall\": 0.0, \"count\": 3, \"precision\": 0.0}, {\"OwnerUserId\": \"1029483\", \"cutoff\": 36, \"recall\": 0.0, \"count\": 3, \"precision\": 0.0}, {\"OwnerUserId\": \"1029483\", \"cutoff\": 41, \"recall\": 0.0, \"count\": 3, \"precision\": 0.0}, {\"OwnerUserId\": \"1029483\", \"cutoff\": 46, \"recall\": 0.0, \"count\": 3, \"precision\": 0.0}, {\"OwnerUserId\": \"1054625\", \"cutoff\": 1, \"recall\": 0.0, \"count\": 5, \"precision\": 0.0}, {\"OwnerUserId\": \"1054625\", \"cutoff\": 2, \"recall\": 0.0, \"count\": 5, \"precision\": 0.0}, {\"OwnerUserId\": \"1054625\", \"cutoff\": 3, \"recall\": 0.0, \"count\": 5, \"precision\": 0.0}, {\"OwnerUserId\": \"1054625\", \"cutoff\": 4, \"recall\": 0.0, \"count\": 5, \"precision\": 0.0}, {\"OwnerUserId\": \"1054625\", \"cutoff\": 5, \"recall\": 0.0, \"count\": 5, \"precision\": 0.0}, {\"OwnerUserId\": \"1054625\", \"cutoff\": 6, \"recall\": 0.0, \"count\": 5, \"precision\": 0.0}, {\"OwnerUserId\": \"1054625\", \"cutoff\": 7, \"recall\": 0.0, \"count\": 5, \"precision\": 0.0}, {\"OwnerUserId\": \"1054625\", \"cutoff\": 8, \"recall\": 0.0, \"count\": 5, \"precision\": 0.0}, {\"OwnerUserId\": \"1054625\", \"cutoff\": 9, \"recall\": 0.0, \"count\": 5, \"precision\": 0.0}, {\"OwnerUserId\": \"1054625\", \"cutoff\": 10, \"recall\": 0.0, \"count\": 5, \"precision\": 0.0}, {\"OwnerUserId\": \"1054625\", \"cutoff\": 11, \"recall\": 0.0, \"count\": 5, \"precision\": 0.0}, {\"OwnerUserId\": \"1054625\", \"cutoff\": 16, \"recall\": 0.0, \"count\": 5, \"precision\": 0.0}, {\"OwnerUserId\": \"1054625\", \"cutoff\": 21, \"recall\": 0.2, \"count\": 5, \"precision\": 0.047619047619047616}, {\"OwnerUserId\": \"1054625\", \"cutoff\": 26, \"recall\": 0.2, \"count\": 5, \"precision\": 0.038461538461538464}, {\"OwnerUserId\": \"1054625\", \"cutoff\": 31, \"recall\": 0.2, \"count\": 5, \"precision\": 0.03225806451612903}, {\"OwnerUserId\": \"1054625\", \"cutoff\": 36, \"recall\": 0.4, \"count\": 5, \"precision\": 0.05555555555555555}, {\"OwnerUserId\": \"1054625\", \"cutoff\": 41, \"recall\": 0.4, \"count\": 5, \"precision\": 0.04878048780487805}, {\"OwnerUserId\": \"1054625\", \"cutoff\": 46, \"recall\": 0.4, \"count\": 5, \"precision\": 0.043478260869565216}, {\"OwnerUserId\": \"109246\", \"cutoff\": 1, \"recall\": 0.0, \"count\": 4, \"precision\": 0.0}, {\"OwnerUserId\": \"109246\", \"cutoff\": 2, \"recall\": 0.25, \"count\": 4, \"precision\": 0.5}, {\"OwnerUserId\": \"109246\", \"cutoff\": 3, \"recall\": 0.25, \"count\": 4, \"precision\": 0.3333333333333333}, {\"OwnerUserId\": \"109246\", \"cutoff\": 4, \"recall\": 0.25, \"count\": 4, \"precision\": 0.25}, {\"OwnerUserId\": \"109246\", \"cutoff\": 5, \"recall\": 0.25, \"count\": 4, \"precision\": 0.2}, {\"OwnerUserId\": \"109246\", \"cutoff\": 6, \"recall\": 0.25, \"count\": 4, \"precision\": 0.16666666666666666}, {\"OwnerUserId\": \"109246\", \"cutoff\": 7, \"recall\": 0.25, \"count\": 4, \"precision\": 0.14285714285714285}, {\"OwnerUserId\": \"109246\", \"cutoff\": 8, \"recall\": 0.25, \"count\": 4, \"precision\": 0.125}, {\"OwnerUserId\": \"109246\", \"cutoff\": 9, \"recall\": 0.25, \"count\": 4, \"precision\": 0.1111111111111111}, {\"OwnerUserId\": \"109246\", \"cutoff\": 10, \"recall\": 0.25, \"count\": 4, \"precision\": 0.1}, {\"OwnerUserId\": \"109246\", \"cutoff\": 11, \"recall\": 0.25, \"count\": 4, \"precision\": 0.09090909090909091}, {\"OwnerUserId\": \"109246\", \"cutoff\": 16, \"recall\": 0.25, \"count\": 4, \"precision\": 0.0625}, {\"OwnerUserId\": \"109246\", \"cutoff\": 21, \"recall\": 0.25, \"count\": 4, \"precision\": 0.047619047619047616}, {\"OwnerUserId\": \"109246\", \"cutoff\": 26, \"recall\": 0.25, \"count\": 4, \"precision\": 0.038461538461538464}, {\"OwnerUserId\": \"109246\", \"cutoff\": 31, \"recall\": 0.5, \"count\": 4, \"precision\": 0.06451612903225806}, {\"OwnerUserId\": \"109246\", \"cutoff\": 36, \"recall\": 0.5, \"count\": 4, \"precision\": 0.05555555555555555}, {\"OwnerUserId\": \"109246\", \"cutoff\": 41, \"recall\": 0.5, \"count\": 4, \"precision\": 0.04878048780487805}, {\"OwnerUserId\": \"109246\", \"cutoff\": 46, \"recall\": 0.5, \"count\": 4, \"precision\": 0.043478260869565216}, {\"OwnerUserId\": \"1095567\", \"cutoff\": 1, \"recall\": 0.0, \"count\": 1, \"precision\": 0.0}, {\"OwnerUserId\": \"1095567\", \"cutoff\": 2, \"recall\": 0.0, \"count\": 1, \"precision\": 0.0}, {\"OwnerUserId\": \"1095567\", \"cutoff\": 3, \"recall\": 0.0, \"count\": 1, \"precision\": 0.0}, {\"OwnerUserId\": \"1095567\", \"cutoff\": 4, \"recall\": 0.0, \"count\": 1, \"precision\": 0.0}, {\"OwnerUserId\": \"1095567\", \"cutoff\": 5, \"recall\": 0.0, \"count\": 1, \"precision\": 0.0}, {\"OwnerUserId\": \"1095567\", \"cutoff\": 6, \"recall\": 0.0, \"count\": 1, \"precision\": 0.0}, {\"OwnerUserId\": \"1095567\", \"cutoff\": 7, \"recall\": 0.0, \"count\": 1, \"precision\": 0.0}, {\"OwnerUserId\": \"1095567\", \"cutoff\": 8, \"recall\": 0.0, \"count\": 1, \"precision\": 0.0}, {\"OwnerUserId\": \"1095567\", \"cutoff\": 9, \"recall\": 0.0, \"count\": 1, \"precision\": 0.0}, {\"OwnerUserId\": \"1095567\", \"cutoff\": 10, \"recall\": 0.0, \"count\": 1, \"precision\": 0.0}, {\"OwnerUserId\": \"1095567\", \"cutoff\": 11, \"recall\": 0.0, \"count\": 1, \"precision\": 0.0}, {\"OwnerUserId\": \"1095567\", \"cutoff\": 16, \"recall\": 0.0, \"count\": 1, \"precision\": 0.0}, {\"OwnerUserId\": \"1095567\", \"cutoff\": 21, \"recall\": 0.0, \"count\": 1, \"precision\": 0.0}, {\"OwnerUserId\": \"1095567\", \"cutoff\": 26, \"recall\": 0.0, \"count\": 1, \"precision\": 0.0}, {\"OwnerUserId\": \"1095567\", \"cutoff\": 31, \"recall\": 0.0, \"count\": 1, \"precision\": 0.0}, {\"OwnerUserId\": \"1095567\", \"cutoff\": 36, \"recall\": 0.0, \"count\": 1, \"precision\": 0.0}, {\"OwnerUserId\": \"1095567\", \"cutoff\": 41, \"recall\": 0.0, \"count\": 1, \"precision\": 0.0}, {\"OwnerUserId\": \"1095567\", \"cutoff\": 46, \"recall\": 0.0, \"count\": 1, \"precision\": 0.0}, {\"OwnerUserId\": \"1150279\", \"cutoff\": 1, \"recall\": 0.0, \"count\": 2, \"precision\": 0.0}, {\"OwnerUserId\": \"1150279\", \"cutoff\": 2, \"recall\": 0.0, \"count\": 2, \"precision\": 0.0}, {\"OwnerUserId\": \"1150279\", \"cutoff\": 3, \"recall\": 0.0, \"count\": 2, \"precision\": 0.0}, {\"OwnerUserId\": \"1150279\", \"cutoff\": 4, \"recall\": 0.0, \"count\": 2, \"precision\": 0.0}, {\"OwnerUserId\": \"1150279\", \"cutoff\": 5, \"recall\": 0.0, \"count\": 2, \"precision\": 0.0}, {\"OwnerUserId\": \"1150279\", \"cutoff\": 6, \"recall\": 0.0, \"count\": 2, \"precision\": 0.0}, {\"OwnerUserId\": \"1150279\", \"cutoff\": 7, \"recall\": 0.0, \"count\": 2, \"precision\": 0.0}, {\"OwnerUserId\": \"1150279\", \"cutoff\": 8, \"recall\": 0.0, \"count\": 2, \"precision\": 0.0}, {\"OwnerUserId\": \"1150279\", \"cutoff\": 9, \"recall\": 0.0, \"count\": 2, \"precision\": 0.0}, {\"OwnerUserId\": \"1150279\", \"cutoff\": 10, \"recall\": 0.0, \"count\": 2, \"precision\": 0.0}, {\"OwnerUserId\": \"1150279\", \"cutoff\": 11, \"recall\": 0.0, \"count\": 2, \"precision\": 0.0}, {\"OwnerUserId\": \"1150279\", \"cutoff\": 16, \"recall\": 0.0, \"count\": 2, \"precision\": 0.0}, {\"OwnerUserId\": \"1150279\", \"cutoff\": 21, \"recall\": 0.0, \"count\": 2, \"precision\": 0.0}, {\"OwnerUserId\": \"1150279\", \"cutoff\": 26, \"recall\": 0.0, \"count\": 2, \"precision\": 0.0}, {\"OwnerUserId\": \"1150279\", \"cutoff\": 31, \"recall\": 0.0, \"count\": 2, \"precision\": 0.0}, {\"OwnerUserId\": \"1150279\", \"cutoff\": 36, \"recall\": 0.0, \"count\": 2, \"precision\": 0.0}, {\"OwnerUserId\": \"1150279\", \"cutoff\": 41, \"recall\": 0.0, \"count\": 2, \"precision\": 0.0}, {\"OwnerUserId\": \"1150279\", \"cutoff\": 46, \"recall\": 0.0, \"count\": 2, \"precision\": 0.0}, {\"OwnerUserId\": \"1197637\", \"cutoff\": 1, \"recall\": 0.0, \"count\": 1, \"precision\": 0.0}, {\"OwnerUserId\": \"1197637\", \"cutoff\": 2, \"recall\": 0.0, \"count\": 1, \"precision\": 0.0}, {\"OwnerUserId\": \"1197637\", \"cutoff\": 3, \"recall\": 0.0, \"count\": 1, \"precision\": 0.0}, {\"OwnerUserId\": \"1197637\", \"cutoff\": 4, \"recall\": 0.0, \"count\": 1, \"precision\": 0.0}, {\"OwnerUserId\": \"1197637\", \"cutoff\": 5, \"recall\": 0.0, \"count\": 1, \"precision\": 0.0}, {\"OwnerUserId\": \"1197637\", \"cutoff\": 6, \"recall\": 0.0, \"count\": 1, \"precision\": 0.0}, {\"OwnerUserId\": \"1197637\", \"cutoff\": 7, \"recall\": 0.0, \"count\": 1, \"precision\": 0.0}, {\"OwnerUserId\": \"1197637\", \"cutoff\": 8, \"recall\": 0.0, \"count\": 1, \"precision\": 0.0}, {\"OwnerUserId\": \"1197637\", \"cutoff\": 9, \"recall\": 0.0, \"count\": 1, \"precision\": 0.0}, {\"OwnerUserId\": \"1197637\", \"cutoff\": 10, \"recall\": 0.0, \"count\": 1, \"precision\": 0.0}, {\"OwnerUserId\": \"1197637\", \"cutoff\": 11, \"recall\": 0.0, \"count\": 1, \"precision\": 0.0}, {\"OwnerUserId\": \"1197637\", \"cutoff\": 16, \"recall\": 0.0, \"count\": 1, \"precision\": 0.0}, {\"OwnerUserId\": \"1197637\", \"cutoff\": 21, \"recall\": 0.0, \"count\": 1, \"precision\": 0.0}, {\"OwnerUserId\": \"1197637\", \"cutoff\": 26, \"recall\": 0.0, \"count\": 1, \"precision\": 0.0}, {\"OwnerUserId\": \"1197637\", \"cutoff\": 31, \"recall\": 0.0, \"count\": 1, \"precision\": 0.0}, {\"OwnerUserId\": \"1197637\", \"cutoff\": 36, \"recall\": 1.0, \"count\": 1, \"precision\": 0.027777777777777776}, {\"OwnerUserId\": \"1197637\", \"cutoff\": 41, \"recall\": 1.0, \"count\": 1, \"precision\": 0.024390243902439025}, {\"OwnerUserId\": \"1197637\", \"cutoff\": 46, \"recall\": 1.0, \"count\": 1, \"precision\": 0.021739130434782608}, {\"OwnerUserId\": \"1270825\", \"cutoff\": 1, \"recall\": 0.0, \"count\": 2, \"precision\": 0.0}, {\"OwnerUserId\": \"1270825\", \"cutoff\": 2, \"recall\": 0.0, \"count\": 2, \"precision\": 0.0}, {\"OwnerUserId\": \"1270825\", \"cutoff\": 3, \"recall\": 0.0, \"count\": 2, \"precision\": 0.0}, {\"OwnerUserId\": \"1270825\", \"cutoff\": 4, \"recall\": 0.0, \"count\": 2, \"precision\": 0.0}, {\"OwnerUserId\": \"1270825\", \"cutoff\": 5, \"recall\": 0.0, \"count\": 2, \"precision\": 0.0}, {\"OwnerUserId\": \"1270825\", \"cutoff\": 6, \"recall\": 0.0, \"count\": 2, \"precision\": 0.0}, {\"OwnerUserId\": \"1270825\", \"cutoff\": 7, \"recall\": 0.0, \"count\": 2, \"precision\": 0.0}, {\"OwnerUserId\": \"1270825\", \"cutoff\": 8, \"recall\": 0.0, \"count\": 2, \"precision\": 0.0}, {\"OwnerUserId\": \"1270825\", \"cutoff\": 9, \"recall\": 0.0, \"count\": 2, \"precision\": 0.0}, {\"OwnerUserId\": \"1270825\", \"cutoff\": 10, \"recall\": 0.0, \"count\": 2, \"precision\": 0.0}, {\"OwnerUserId\": \"1270825\", \"cutoff\": 11, \"recall\": 0.0, \"count\": 2, \"precision\": 0.0}, {\"OwnerUserId\": \"1270825\", \"cutoff\": 16, \"recall\": 0.0, \"count\": 2, \"precision\": 0.0}, {\"OwnerUserId\": \"1270825\", \"cutoff\": 21, \"recall\": 0.5, \"count\": 2, \"precision\": 0.047619047619047616}, {\"OwnerUserId\": \"1270825\", \"cutoff\": 26, \"recall\": 0.5, \"count\": 2, \"precision\": 0.038461538461538464}, {\"OwnerUserId\": \"1270825\", \"cutoff\": 31, \"recall\": 0.5, \"count\": 2, \"precision\": 0.03225806451612903}, {\"OwnerUserId\": \"1270825\", \"cutoff\": 36, \"recall\": 1.0, \"count\": 2, \"precision\": 0.05555555555555555}, {\"OwnerUserId\": \"1270825\", \"cutoff\": 41, \"recall\": 1.0, \"count\": 2, \"precision\": 0.04878048780487805}, {\"OwnerUserId\": \"1270825\", \"cutoff\": 46, \"recall\": 1.0, \"count\": 2, \"precision\": 0.043478260869565216}, {\"OwnerUserId\": \"1405616\", \"cutoff\": 1, \"recall\": 0.0, \"count\": 2, \"precision\": 0.0}, {\"OwnerUserId\": \"1405616\", \"cutoff\": 2, \"recall\": 0.0, \"count\": 2, \"precision\": 0.0}, {\"OwnerUserId\": \"1405616\", \"cutoff\": 3, \"recall\": 0.0, \"count\": 2, \"precision\": 0.0}, {\"OwnerUserId\": \"1405616\", \"cutoff\": 4, \"recall\": 0.0, \"count\": 2, \"precision\": 0.0}, {\"OwnerUserId\": \"1405616\", \"cutoff\": 5, \"recall\": 0.0, \"count\": 2, \"precision\": 0.0}, {\"OwnerUserId\": \"1405616\", \"cutoff\": 6, \"recall\": 0.0, \"count\": 2, \"precision\": 0.0}, {\"OwnerUserId\": \"1405616\", \"cutoff\": 7, \"recall\": 0.0, \"count\": 2, \"precision\": 0.0}, {\"OwnerUserId\": \"1405616\", \"cutoff\": 8, \"recall\": 0.0, \"count\": 2, \"precision\": 0.0}, {\"OwnerUserId\": \"1405616\", \"cutoff\": 9, \"recall\": 0.0, \"count\": 2, \"precision\": 0.0}, {\"OwnerUserId\": \"1405616\", \"cutoff\": 10, \"recall\": 0.0, \"count\": 2, \"precision\": 0.0}, {\"OwnerUserId\": \"1405616\", \"cutoff\": 11, \"recall\": 0.0, \"count\": 2, \"precision\": 0.0}, {\"OwnerUserId\": \"1405616\", \"cutoff\": 16, \"recall\": 1.0, \"count\": 2, \"precision\": 0.125}, {\"OwnerUserId\": \"1405616\", \"cutoff\": 21, \"recall\": 1.0, \"count\": 2, \"precision\": 0.09523809523809523}, {\"OwnerUserId\": \"1405616\", \"cutoff\": 26, \"recall\": 1.0, \"count\": 2, \"precision\": 0.07692307692307693}, {\"OwnerUserId\": \"1405616\", \"cutoff\": 31, \"recall\": 1.0, \"count\": 2, \"precision\": 0.06451612903225806}, {\"OwnerUserId\": \"1405616\", \"cutoff\": 36, \"recall\": 1.0, \"count\": 2, \"precision\": 0.05555555555555555}, {\"OwnerUserId\": \"1405616\", \"cutoff\": 41, \"recall\": 1.0, \"count\": 2, \"precision\": 0.04878048780487805}, {\"OwnerUserId\": \"1405616\", \"cutoff\": 46, \"recall\": 1.0, \"count\": 2, \"precision\": 0.043478260869565216}, {\"OwnerUserId\": \"1422157\", \"cutoff\": 1, \"recall\": 0.0, \"count\": 1, \"precision\": 0.0}, {\"OwnerUserId\": \"1422157\", \"cutoff\": 2, \"recall\": 1.0, \"count\": 1, \"precision\": 0.5}, {\"OwnerUserId\": \"1422157\", \"cutoff\": 3, \"recall\": 1.0, \"count\": 1, \"precision\": 0.3333333333333333}, {\"OwnerUserId\": \"1422157\", \"cutoff\": 4, \"recall\": 1.0, \"count\": 1, \"precision\": 0.25}, {\"OwnerUserId\": \"1422157\", \"cutoff\": 5, \"recall\": 1.0, \"count\": 1, \"precision\": 0.2}, {\"OwnerUserId\": \"1422157\", \"cutoff\": 6, \"recall\": 1.0, \"count\": 1, \"precision\": 0.16666666666666666}, {\"OwnerUserId\": \"1422157\", \"cutoff\": 7, \"recall\": 1.0, \"count\": 1, \"precision\": 0.14285714285714285}, {\"OwnerUserId\": \"1422157\", \"cutoff\": 8, \"recall\": 1.0, \"count\": 1, \"precision\": 0.125}, {\"OwnerUserId\": \"1422157\", \"cutoff\": 9, \"recall\": 1.0, \"count\": 1, \"precision\": 0.1111111111111111}, {\"OwnerUserId\": \"1422157\", \"cutoff\": 10, \"recall\": 1.0, \"count\": 1, \"precision\": 0.1}, {\"OwnerUserId\": \"1422157\", \"cutoff\": 11, \"recall\": 1.0, \"count\": 1, \"precision\": 0.09090909090909091}, {\"OwnerUserId\": \"1422157\", \"cutoff\": 16, \"recall\": 1.0, \"count\": 1, \"precision\": 0.0625}, {\"OwnerUserId\": \"1422157\", \"cutoff\": 21, \"recall\": 1.0, \"count\": 1, \"precision\": 0.047619047619047616}, {\"OwnerUserId\": \"1422157\", \"cutoff\": 26, \"recall\": 1.0, \"count\": 1, \"precision\": 0.038461538461538464}, {\"OwnerUserId\": \"1422157\", \"cutoff\": 31, \"recall\": 1.0, \"count\": 1, \"precision\": 0.03225806451612903}, {\"OwnerUserId\": \"1422157\", \"cutoff\": 36, \"recall\": 1.0, \"count\": 1, \"precision\": 0.027777777777777776}, {\"OwnerUserId\": \"1422157\", \"cutoff\": 41, \"recall\": 1.0, \"count\": 1, \"precision\": 0.024390243902439025}, {\"OwnerUserId\": \"1422157\", \"cutoff\": 46, \"recall\": 1.0, \"count\": 1, \"precision\": 0.021739130434782608}, {\"OwnerUserId\": \"1444475\", \"cutoff\": 1, \"recall\": 0.012658227848101266, \"count\": 79, \"precision\": 1.0}, {\"OwnerUserId\": \"1444475\", \"cutoff\": 2, \"recall\": 0.02531645569620253, \"count\": 79, \"precision\": 1.0}, {\"OwnerUserId\": \"1444475\", \"cutoff\": 3, \"recall\": 0.02531645569620253, \"count\": 79, \"precision\": 0.6666666666666666}, {\"OwnerUserId\": \"1444475\", \"cutoff\": 4, \"recall\": 0.0379746835443038, \"count\": 79, \"precision\": 0.75}, {\"OwnerUserId\": \"1444475\", \"cutoff\": 5, \"recall\": 0.05063291139240506, \"count\": 79, \"precision\": 0.8}, {\"OwnerUserId\": \"1444475\", \"cutoff\": 6, \"recall\": 0.05063291139240506, \"count\": 79, \"precision\": 0.6666666666666666}, {\"OwnerUserId\": \"1444475\", \"cutoff\": 7, \"recall\": 0.06329113924050633, \"count\": 79, \"precision\": 0.7142857142857143}, {\"OwnerUserId\": \"1444475\", \"cutoff\": 8, \"recall\": 0.0759493670886076, \"count\": 79, \"precision\": 0.75}, {\"OwnerUserId\": \"1444475\", \"cutoff\": 9, \"recall\": 0.0759493670886076, \"count\": 79, \"precision\": 0.6666666666666666}, {\"OwnerUserId\": \"1444475\", \"cutoff\": 10, \"recall\": 0.08860759493670886, \"count\": 79, \"precision\": 0.7}, {\"OwnerUserId\": \"1444475\", \"cutoff\": 11, \"recall\": 0.08860759493670886, \"count\": 79, \"precision\": 0.6363636363636364}, {\"OwnerUserId\": \"1444475\", \"cutoff\": 16, \"recall\": 0.08860759493670886, \"count\": 79, \"precision\": 0.4375}, {\"OwnerUserId\": \"1444475\", \"cutoff\": 21, \"recall\": 0.13924050632911392, \"count\": 79, \"precision\": 0.5238095238095238}, {\"OwnerUserId\": \"1444475\", \"cutoff\": 26, \"recall\": 0.189873417721519, \"count\": 79, \"precision\": 0.5769230769230769}, {\"OwnerUserId\": \"1444475\", \"cutoff\": 31, \"recall\": 0.189873417721519, \"count\": 79, \"precision\": 0.4838709677419355}, {\"OwnerUserId\": \"1444475\", \"cutoff\": 36, \"recall\": 0.189873417721519, \"count\": 79, \"precision\": 0.4166666666666667}, {\"OwnerUserId\": \"1444475\", \"cutoff\": 41, \"recall\": 0.20253164556962025, \"count\": 79, \"precision\": 0.3902439024390244}, {\"OwnerUserId\": \"1444475\", \"cutoff\": 46, \"recall\": 0.21518987341772153, \"count\": 79, \"precision\": 0.3695652173913043}, {\"OwnerUserId\": \"1496353\", \"cutoff\": 1, \"recall\": 0.0, \"count\": 1, \"precision\": 0.0}, {\"OwnerUserId\": \"1496353\", \"cutoff\": 2, \"recall\": 0.0, \"count\": 1, \"precision\": 0.0}, {\"OwnerUserId\": \"1496353\", \"cutoff\": 3, \"recall\": 0.0, \"count\": 1, \"precision\": 0.0}, {\"OwnerUserId\": \"1496353\", \"cutoff\": 4, \"recall\": 0.0, \"count\": 1, \"precision\": 0.0}, {\"OwnerUserId\": \"1496353\", \"cutoff\": 5, \"recall\": 0.0, \"count\": 1, \"precision\": 0.0}, {\"OwnerUserId\": \"1496353\", \"cutoff\": 6, \"recall\": 0.0, \"count\": 1, \"precision\": 0.0}, {\"OwnerUserId\": \"1496353\", \"cutoff\": 7, \"recall\": 0.0, \"count\": 1, \"precision\": 0.0}, {\"OwnerUserId\": \"1496353\", \"cutoff\": 8, \"recall\": 0.0, \"count\": 1, \"precision\": 0.0}, {\"OwnerUserId\": \"1496353\", \"cutoff\": 9, \"recall\": 0.0, \"count\": 1, \"precision\": 0.0}, {\"OwnerUserId\": \"1496353\", \"cutoff\": 10, \"recall\": 0.0, \"count\": 1, \"precision\": 0.0}, {\"OwnerUserId\": \"1496353\", \"cutoff\": 11, \"recall\": 0.0, \"count\": 1, \"precision\": 0.0}, {\"OwnerUserId\": \"1496353\", \"cutoff\": 16, \"recall\": 0.0, \"count\": 1, \"precision\": 0.0}, {\"OwnerUserId\": \"1496353\", \"cutoff\": 21, \"recall\": 0.0, \"count\": 1, \"precision\": 0.0}, {\"OwnerUserId\": \"1496353\", \"cutoff\": 26, \"recall\": 0.0, \"count\": 1, \"precision\": 0.0}, {\"OwnerUserId\": \"1496353\", \"cutoff\": 31, \"recall\": 0.0, \"count\": 1, \"precision\": 0.0}, {\"OwnerUserId\": \"1496353\", \"cutoff\": 36, \"recall\": 0.0, \"count\": 1, \"precision\": 0.0}, {\"OwnerUserId\": \"1496353\", \"cutoff\": 41, \"recall\": 0.0, \"count\": 1, \"precision\": 0.0}, {\"OwnerUserId\": \"1496353\", \"cutoff\": 46, \"recall\": 0.0, \"count\": 1, \"precision\": 0.0}, {\"OwnerUserId\": \"1526510\", \"cutoff\": 1, \"recall\": 0.5, \"count\": 2, \"precision\": 1.0}, {\"OwnerUserId\": \"1526510\", \"cutoff\": 2, \"recall\": 0.5, \"count\": 2, \"precision\": 0.5}, {\"OwnerUserId\": \"1526510\", \"cutoff\": 3, \"recall\": 0.5, \"count\": 2, \"precision\": 0.3333333333333333}, {\"OwnerUserId\": \"1526510\", \"cutoff\": 4, \"recall\": 0.5, \"count\": 2, \"precision\": 0.25}, {\"OwnerUserId\": \"1526510\", \"cutoff\": 5, \"recall\": 0.5, \"count\": 2, \"precision\": 0.2}, {\"OwnerUserId\": \"1526510\", \"cutoff\": 6, \"recall\": 0.5, \"count\": 2, \"precision\": 0.16666666666666666}, {\"OwnerUserId\": \"1526510\", \"cutoff\": 7, \"recall\": 0.5, \"count\": 2, \"precision\": 0.14285714285714285}, {\"OwnerUserId\": \"1526510\", \"cutoff\": 8, \"recall\": 0.5, \"count\": 2, \"precision\": 0.125}, {\"OwnerUserId\": \"1526510\", \"cutoff\": 9, \"recall\": 0.5, \"count\": 2, \"precision\": 0.1111111111111111}, {\"OwnerUserId\": \"1526510\", \"cutoff\": 10, \"recall\": 0.5, \"count\": 2, \"precision\": 0.1}, {\"OwnerUserId\": \"1526510\", \"cutoff\": 11, \"recall\": 0.5, \"count\": 2, \"precision\": 0.09090909090909091}, {\"OwnerUserId\": \"1526510\", \"cutoff\": 16, \"recall\": 0.5, \"count\": 2, \"precision\": 0.0625}, {\"OwnerUserId\": \"1526510\", \"cutoff\": 21, \"recall\": 0.5, \"count\": 2, \"precision\": 0.047619047619047616}, {\"OwnerUserId\": \"1526510\", \"cutoff\": 26, \"recall\": 0.5, \"count\": 2, \"precision\": 0.038461538461538464}, {\"OwnerUserId\": \"1526510\", \"cutoff\": 31, \"recall\": 0.5, \"count\": 2, \"precision\": 0.03225806451612903}, {\"OwnerUserId\": \"1526510\", \"cutoff\": 36, \"recall\": 0.5, \"count\": 2, \"precision\": 0.027777777777777776}, {\"OwnerUserId\": \"1526510\", \"cutoff\": 41, \"recall\": 0.5, \"count\": 2, \"precision\": 0.024390243902439025}, {\"OwnerUserId\": \"1526510\", \"cutoff\": 46, \"recall\": 0.5, \"count\": 2, \"precision\": 0.021739130434782608}, {\"OwnerUserId\": \"1572845\", \"cutoff\": 1, \"recall\": 0.0, \"count\": 4, \"precision\": 0.0}, {\"OwnerUserId\": \"1572845\", \"cutoff\": 2, \"recall\": 0.0, \"count\": 4, \"precision\": 0.0}, {\"OwnerUserId\": \"1572845\", \"cutoff\": 3, \"recall\": 0.0, \"count\": 4, \"precision\": 0.0}, {\"OwnerUserId\": \"1572845\", \"cutoff\": 4, \"recall\": 0.0, \"count\": 4, \"precision\": 0.0}, {\"OwnerUserId\": \"1572845\", \"cutoff\": 5, \"recall\": 0.0, \"count\": 4, \"precision\": 0.0}, {\"OwnerUserId\": \"1572845\", \"cutoff\": 6, \"recall\": 0.25, \"count\": 4, \"precision\": 0.16666666666666666}, {\"OwnerUserId\": \"1572845\", \"cutoff\": 7, \"recall\": 0.25, \"count\": 4, \"precision\": 0.14285714285714285}, {\"OwnerUserId\": \"1572845\", \"cutoff\": 8, \"recall\": 0.25, \"count\": 4, \"precision\": 0.125}, {\"OwnerUserId\": \"1572845\", \"cutoff\": 9, \"recall\": 0.25, \"count\": 4, \"precision\": 0.1111111111111111}, {\"OwnerUserId\": \"1572845\", \"cutoff\": 10, \"recall\": 0.25, \"count\": 4, \"precision\": 0.1}, {\"OwnerUserId\": \"1572845\", \"cutoff\": 11, \"recall\": 0.25, \"count\": 4, \"precision\": 0.09090909090909091}, {\"OwnerUserId\": \"1572845\", \"cutoff\": 16, \"recall\": 0.25, \"count\": 4, \"precision\": 0.0625}, {\"OwnerUserId\": \"1572845\", \"cutoff\": 21, \"recall\": 0.25, \"count\": 4, \"precision\": 0.047619047619047616}, {\"OwnerUserId\": \"1572845\", \"cutoff\": 26, \"recall\": 0.25, \"count\": 4, \"precision\": 0.038461538461538464}, {\"OwnerUserId\": \"1572845\", \"cutoff\": 31, \"recall\": 0.25, \"count\": 4, \"precision\": 0.03225806451612903}, {\"OwnerUserId\": \"1572845\", \"cutoff\": 36, \"recall\": 0.25, \"count\": 4, \"precision\": 0.027777777777777776}, {\"OwnerUserId\": \"1572845\", \"cutoff\": 41, \"recall\": 0.25, \"count\": 4, \"precision\": 0.024390243902439025}, {\"OwnerUserId\": \"1572845\", \"cutoff\": 46, \"recall\": 0.25, \"count\": 4, \"precision\": 0.021739130434782608}, {\"OwnerUserId\": \"1622497\", \"cutoff\": 1, \"recall\": 0.0, \"count\": 1, \"precision\": 0.0}, {\"OwnerUserId\": \"1622497\", \"cutoff\": 2, \"recall\": 1.0, \"count\": 1, \"precision\": 0.5}, {\"OwnerUserId\": \"1622497\", \"cutoff\": 3, \"recall\": 1.0, \"count\": 1, \"precision\": 0.3333333333333333}, {\"OwnerUserId\": \"1622497\", \"cutoff\": 4, \"recall\": 1.0, \"count\": 1, \"precision\": 0.25}, {\"OwnerUserId\": \"1622497\", \"cutoff\": 5, \"recall\": 1.0, \"count\": 1, \"precision\": 0.2}, {\"OwnerUserId\": \"1622497\", \"cutoff\": 6, \"recall\": 1.0, \"count\": 1, \"precision\": 0.16666666666666666}, {\"OwnerUserId\": \"1622497\", \"cutoff\": 7, \"recall\": 1.0, \"count\": 1, \"precision\": 0.14285714285714285}, {\"OwnerUserId\": \"1622497\", \"cutoff\": 8, \"recall\": 1.0, \"count\": 1, \"precision\": 0.125}, {\"OwnerUserId\": \"1622497\", \"cutoff\": 9, \"recall\": 1.0, \"count\": 1, \"precision\": 0.1111111111111111}, {\"OwnerUserId\": \"1622497\", \"cutoff\": 10, \"recall\": 1.0, \"count\": 1, \"precision\": 0.1}, {\"OwnerUserId\": \"1622497\", \"cutoff\": 11, \"recall\": 1.0, \"count\": 1, \"precision\": 0.09090909090909091}, {\"OwnerUserId\": \"1622497\", \"cutoff\": 16, \"recall\": 1.0, \"count\": 1, \"precision\": 0.0625}, {\"OwnerUserId\": \"1622497\", \"cutoff\": 21, \"recall\": 1.0, \"count\": 1, \"precision\": 0.047619047619047616}, {\"OwnerUserId\": \"1622497\", \"cutoff\": 26, \"recall\": 1.0, \"count\": 1, \"precision\": 0.038461538461538464}, {\"OwnerUserId\": \"1622497\", \"cutoff\": 31, \"recall\": 1.0, \"count\": 1, \"precision\": 0.03225806451612903}, {\"OwnerUserId\": \"1622497\", \"cutoff\": 36, \"recall\": 1.0, \"count\": 1, \"precision\": 0.027777777777777776}, {\"OwnerUserId\": \"1622497\", \"cutoff\": 41, \"recall\": 1.0, \"count\": 1, \"precision\": 0.024390243902439025}, {\"OwnerUserId\": \"1622497\", \"cutoff\": 46, \"recall\": 1.0, \"count\": 1, \"precision\": 0.021739130434782608}, {\"OwnerUserId\": \"1629996\", \"cutoff\": 1, \"recall\": 0.0, \"count\": 2, \"precision\": 0.0}, {\"OwnerUserId\": \"1629996\", \"cutoff\": 2, \"recall\": 0.0, \"count\": 2, \"precision\": 0.0}, {\"OwnerUserId\": \"1629996\", \"cutoff\": 3, \"recall\": 0.0, \"count\": 2, \"precision\": 0.0}, {\"OwnerUserId\": \"1629996\", \"cutoff\": 4, \"recall\": 0.0, \"count\": 2, \"precision\": 0.0}, {\"OwnerUserId\": \"1629996\", \"cutoff\": 5, \"recall\": 0.5, \"count\": 2, \"precision\": 0.2}, {\"OwnerUserId\": \"1629996\", \"cutoff\": 6, \"recall\": 0.5, \"count\": 2, \"precision\": 0.16666666666666666}, {\"OwnerUserId\": \"1629996\", \"cutoff\": 7, \"recall\": 0.5, \"count\": 2, \"precision\": 0.14285714285714285}, {\"OwnerUserId\": \"1629996\", \"cutoff\": 8, \"recall\": 0.5, \"count\": 2, \"precision\": 0.125}, {\"OwnerUserId\": \"1629996\", \"cutoff\": 9, \"recall\": 0.5, \"count\": 2, \"precision\": 0.1111111111111111}, {\"OwnerUserId\": \"1629996\", \"cutoff\": 10, \"recall\": 0.5, \"count\": 2, \"precision\": 0.1}, {\"OwnerUserId\": \"1629996\", \"cutoff\": 11, \"recall\": 0.5, \"count\": 2, \"precision\": 0.09090909090909091}, {\"OwnerUserId\": \"1629996\", \"cutoff\": 16, \"recall\": 0.5, \"count\": 2, \"precision\": 0.0625}, {\"OwnerUserId\": \"1629996\", \"cutoff\": 21, \"recall\": 1.0, \"count\": 2, \"precision\": 0.09523809523809523}, {\"OwnerUserId\": \"1629996\", \"cutoff\": 26, \"recall\": 1.0, \"count\": 2, \"precision\": 0.07692307692307693}, {\"OwnerUserId\": \"1629996\", \"cutoff\": 31, \"recall\": 1.0, \"count\": 2, \"precision\": 0.06451612903225806}, {\"OwnerUserId\": \"1629996\", \"cutoff\": 36, \"recall\": 1.0, \"count\": 2, \"precision\": 0.05555555555555555}, {\"OwnerUserId\": \"1629996\", \"cutoff\": 41, \"recall\": 1.0, \"count\": 2, \"precision\": 0.04878048780487805}, {\"OwnerUserId\": \"1629996\", \"cutoff\": 46, \"recall\": 1.0, \"count\": 2, \"precision\": 0.043478260869565216}, {\"OwnerUserId\": \"193441\", \"cutoff\": 1, \"recall\": 0.0, \"count\": 1, \"precision\": 0.0}, {\"OwnerUserId\": \"193441\", \"cutoff\": 2, \"recall\": 0.0, \"count\": 1, \"precision\": 0.0}, {\"OwnerUserId\": \"193441\", \"cutoff\": 3, \"recall\": 0.0, \"count\": 1, \"precision\": 0.0}, {\"OwnerUserId\": \"193441\", \"cutoff\": 4, \"recall\": 0.0, \"count\": 1, \"precision\": 0.0}, {\"OwnerUserId\": \"193441\", \"cutoff\": 5, \"recall\": 0.0, \"count\": 1, \"precision\": 0.0}, {\"OwnerUserId\": \"193441\", \"cutoff\": 6, \"recall\": 0.0, \"count\": 1, \"precision\": 0.0}, {\"OwnerUserId\": \"193441\", \"cutoff\": 7, \"recall\": 0.0, \"count\": 1, \"precision\": 0.0}, {\"OwnerUserId\": \"193441\", \"cutoff\": 8, \"recall\": 0.0, \"count\": 1, \"precision\": 0.0}, {\"OwnerUserId\": \"193441\", \"cutoff\": 9, \"recall\": 0.0, \"count\": 1, \"precision\": 0.0}, {\"OwnerUserId\": \"193441\", \"cutoff\": 10, \"recall\": 0.0, \"count\": 1, \"precision\": 0.0}, {\"OwnerUserId\": \"193441\", \"cutoff\": 11, \"recall\": 0.0, \"count\": 1, \"precision\": 0.0}, {\"OwnerUserId\": \"193441\", \"cutoff\": 16, \"recall\": 0.0, \"count\": 1, \"precision\": 0.0}, {\"OwnerUserId\": \"193441\", \"cutoff\": 21, \"recall\": 0.0, \"count\": 1, \"precision\": 0.0}, {\"OwnerUserId\": \"193441\", \"cutoff\": 26, \"recall\": 0.0, \"count\": 1, \"precision\": 0.0}, {\"OwnerUserId\": \"193441\", \"cutoff\": 31, \"recall\": 0.0, \"count\": 1, \"precision\": 0.0}, {\"OwnerUserId\": \"193441\", \"cutoff\": 36, \"recall\": 0.0, \"count\": 1, \"precision\": 0.0}, {\"OwnerUserId\": \"193441\", \"cutoff\": 41, \"recall\": 0.0, \"count\": 1, \"precision\": 0.0}, {\"OwnerUserId\": \"193441\", \"cutoff\": 46, \"recall\": 0.0, \"count\": 1, \"precision\": 0.0}, {\"OwnerUserId\": \"215056\", \"cutoff\": 1, \"recall\": 0.0, \"count\": 5, \"precision\": 0.0}, {\"OwnerUserId\": \"215056\", \"cutoff\": 2, \"recall\": 0.0, \"count\": 5, \"precision\": 0.0}, {\"OwnerUserId\": \"215056\", \"cutoff\": 3, \"recall\": 0.0, \"count\": 5, \"precision\": 0.0}, {\"OwnerUserId\": \"215056\", \"cutoff\": 4, \"recall\": 0.0, \"count\": 5, \"precision\": 0.0}, {\"OwnerUserId\": \"215056\", \"cutoff\": 5, \"recall\": 0.0, \"count\": 5, \"precision\": 0.0}, {\"OwnerUserId\": \"215056\", \"cutoff\": 6, \"recall\": 0.0, \"count\": 5, \"precision\": 0.0}, {\"OwnerUserId\": \"215056\", \"cutoff\": 7, \"recall\": 0.0, \"count\": 5, \"precision\": 0.0}, {\"OwnerUserId\": \"215056\", \"cutoff\": 8, \"recall\": 0.0, \"count\": 5, \"precision\": 0.0}, {\"OwnerUserId\": \"215056\", \"cutoff\": 9, \"recall\": 0.0, \"count\": 5, \"precision\": 0.0}, {\"OwnerUserId\": \"215056\", \"cutoff\": 10, \"recall\": 0.0, \"count\": 5, \"precision\": 0.0}, {\"OwnerUserId\": \"215056\", \"cutoff\": 11, \"recall\": 0.0, \"count\": 5, \"precision\": 0.0}, {\"OwnerUserId\": \"215056\", \"cutoff\": 16, \"recall\": 0.0, \"count\": 5, \"precision\": 0.0}, {\"OwnerUserId\": \"215056\", \"cutoff\": 21, \"recall\": 0.0, \"count\": 5, \"precision\": 0.0}, {\"OwnerUserId\": \"215056\", \"cutoff\": 26, \"recall\": 0.0, \"count\": 5, \"precision\": 0.0}, {\"OwnerUserId\": \"215056\", \"cutoff\": 31, \"recall\": 0.2, \"count\": 5, \"precision\": 0.03225806451612903}, {\"OwnerUserId\": \"215056\", \"cutoff\": 36, \"recall\": 0.2, \"count\": 5, \"precision\": 0.027777777777777776}, {\"OwnerUserId\": \"215056\", \"cutoff\": 41, \"recall\": 0.4, \"count\": 5, \"precision\": 0.04878048780487805}, {\"OwnerUserId\": \"215056\", \"cutoff\": 46, \"recall\": 0.4, \"count\": 5, \"precision\": 0.043478260869565216}, {\"OwnerUserId\": \"239625\", \"cutoff\": 1, \"recall\": 0.0, \"count\": 1, \"precision\": 0.0}, {\"OwnerUserId\": \"239625\", \"cutoff\": 2, \"recall\": 0.0, \"count\": 1, \"precision\": 0.0}, {\"OwnerUserId\": \"239625\", \"cutoff\": 3, \"recall\": 0.0, \"count\": 1, \"precision\": 0.0}, {\"OwnerUserId\": \"239625\", \"cutoff\": 4, \"recall\": 0.0, \"count\": 1, \"precision\": 0.0}, {\"OwnerUserId\": \"239625\", \"cutoff\": 5, \"recall\": 0.0, \"count\": 1, \"precision\": 0.0}, {\"OwnerUserId\": \"239625\", \"cutoff\": 6, \"recall\": 0.0, \"count\": 1, \"precision\": 0.0}, {\"OwnerUserId\": \"239625\", \"cutoff\": 7, \"recall\": 0.0, \"count\": 1, \"precision\": 0.0}, {\"OwnerUserId\": \"239625\", \"cutoff\": 8, \"recall\": 0.0, \"count\": 1, \"precision\": 0.0}, {\"OwnerUserId\": \"239625\", \"cutoff\": 9, \"recall\": 0.0, \"count\": 1, \"precision\": 0.0}, {\"OwnerUserId\": \"239625\", \"cutoff\": 10, \"recall\": 1.0, \"count\": 1, \"precision\": 0.1}, {\"OwnerUserId\": \"239625\", \"cutoff\": 11, \"recall\": 1.0, \"count\": 1, \"precision\": 0.09090909090909091}, {\"OwnerUserId\": \"239625\", \"cutoff\": 16, \"recall\": 1.0, \"count\": 1, \"precision\": 0.0625}, {\"OwnerUserId\": \"239625\", \"cutoff\": 21, \"recall\": 1.0, \"count\": 1, \"precision\": 0.047619047619047616}, {\"OwnerUserId\": \"239625\", \"cutoff\": 26, \"recall\": 1.0, \"count\": 1, \"precision\": 0.038461538461538464}, {\"OwnerUserId\": \"239625\", \"cutoff\": 31, \"recall\": 1.0, \"count\": 1, \"precision\": 0.03225806451612903}, {\"OwnerUserId\": \"239625\", \"cutoff\": 36, \"recall\": 1.0, \"count\": 1, \"precision\": 0.027777777777777776}, {\"OwnerUserId\": \"239625\", \"cutoff\": 41, \"recall\": 1.0, \"count\": 1, \"precision\": 0.024390243902439025}, {\"OwnerUserId\": \"239625\", \"cutoff\": 46, \"recall\": 1.0, \"count\": 1, \"precision\": 0.021739130434782608}, {\"OwnerUserId\": \"261980\", \"cutoff\": 1, \"recall\": 1.0, \"count\": 1, \"precision\": 1.0}, {\"OwnerUserId\": \"261980\", \"cutoff\": 2, \"recall\": 1.0, \"count\": 1, \"precision\": 0.5}, {\"OwnerUserId\": \"261980\", \"cutoff\": 3, \"recall\": 1.0, \"count\": 1, \"precision\": 0.3333333333333333}, {\"OwnerUserId\": \"261980\", \"cutoff\": 4, \"recall\": 1.0, \"count\": 1, \"precision\": 0.25}, {\"OwnerUserId\": \"261980\", \"cutoff\": 5, \"recall\": 1.0, \"count\": 1, \"precision\": 0.2}, {\"OwnerUserId\": \"261980\", \"cutoff\": 6, \"recall\": 1.0, \"count\": 1, \"precision\": 0.16666666666666666}, {\"OwnerUserId\": \"261980\", \"cutoff\": 7, \"recall\": 1.0, \"count\": 1, \"precision\": 0.14285714285714285}, {\"OwnerUserId\": \"261980\", \"cutoff\": 8, \"recall\": 1.0, \"count\": 1, \"precision\": 0.125}, {\"OwnerUserId\": \"261980\", \"cutoff\": 9, \"recall\": 1.0, \"count\": 1, \"precision\": 0.1111111111111111}, {\"OwnerUserId\": \"261980\", \"cutoff\": 10, \"recall\": 1.0, \"count\": 1, \"precision\": 0.1}, {\"OwnerUserId\": \"261980\", \"cutoff\": 11, \"recall\": 1.0, \"count\": 1, \"precision\": 0.09090909090909091}, {\"OwnerUserId\": \"261980\", \"cutoff\": 16, \"recall\": 1.0, \"count\": 1, \"precision\": 0.0625}, {\"OwnerUserId\": \"261980\", \"cutoff\": 21, \"recall\": 1.0, \"count\": 1, \"precision\": 0.047619047619047616}, {\"OwnerUserId\": \"261980\", \"cutoff\": 26, \"recall\": 1.0, \"count\": 1, \"precision\": 0.038461538461538464}, {\"OwnerUserId\": \"261980\", \"cutoff\": 31, \"recall\": 1.0, \"count\": 1, \"precision\": 0.03225806451612903}, {\"OwnerUserId\": \"261980\", \"cutoff\": 36, \"recall\": 1.0, \"count\": 1, \"precision\": 0.027777777777777776}, {\"OwnerUserId\": \"261980\", \"cutoff\": 41, \"recall\": 1.0, \"count\": 1, \"precision\": 0.024390243902439025}, {\"OwnerUserId\": \"261980\", \"cutoff\": 46, \"recall\": 1.0, \"count\": 1, \"precision\": 0.021739130434782608}, {\"OwnerUserId\": \"323208\", \"cutoff\": 1, \"recall\": 0.0, \"count\": 1, \"precision\": 0.0}, {\"OwnerUserId\": \"323208\", \"cutoff\": 2, \"recall\": 0.0, \"count\": 1, \"precision\": 0.0}, {\"OwnerUserId\": \"323208\", \"cutoff\": 3, \"recall\": 0.0, \"count\": 1, \"precision\": 0.0}, {\"OwnerUserId\": \"323208\", \"cutoff\": 4, \"recall\": 0.0, \"count\": 1, \"precision\": 0.0}, {\"OwnerUserId\": \"323208\", \"cutoff\": 5, \"recall\": 0.0, \"count\": 1, \"precision\": 0.0}, {\"OwnerUserId\": \"323208\", \"cutoff\": 6, \"recall\": 0.0, \"count\": 1, \"precision\": 0.0}, {\"OwnerUserId\": \"323208\", \"cutoff\": 7, \"recall\": 0.0, \"count\": 1, \"precision\": 0.0}, {\"OwnerUserId\": \"323208\", \"cutoff\": 8, \"recall\": 0.0, \"count\": 1, \"precision\": 0.0}, {\"OwnerUserId\": \"323208\", \"cutoff\": 9, \"recall\": 0.0, \"count\": 1, \"precision\": 0.0}, {\"OwnerUserId\": \"323208\", \"cutoff\": 10, \"recall\": 0.0, \"count\": 1, \"precision\": 0.0}, {\"OwnerUserId\": \"323208\", \"cutoff\": 11, \"recall\": 0.0, \"count\": 1, \"precision\": 0.0}, {\"OwnerUserId\": \"323208\", \"cutoff\": 16, \"recall\": 0.0, \"count\": 1, \"precision\": 0.0}, {\"OwnerUserId\": \"323208\", \"cutoff\": 21, \"recall\": 0.0, \"count\": 1, \"precision\": 0.0}, {\"OwnerUserId\": \"323208\", \"cutoff\": 26, \"recall\": 0.0, \"count\": 1, \"precision\": 0.0}, {\"OwnerUserId\": \"323208\", \"cutoff\": 31, \"recall\": 0.0, \"count\": 1, \"precision\": 0.0}, {\"OwnerUserId\": \"323208\", \"cutoff\": 36, \"recall\": 0.0, \"count\": 1, \"precision\": 0.0}, {\"OwnerUserId\": \"323208\", \"cutoff\": 41, \"recall\": 0.0, \"count\": 1, \"precision\": 0.0}, {\"OwnerUserId\": \"323208\", \"cutoff\": 46, \"recall\": 0.0, \"count\": 1, \"precision\": 0.0}, {\"OwnerUserId\": \"328723\", \"cutoff\": 1, \"recall\": 0.0, \"count\": 4, \"precision\": 0.0}, {\"OwnerUserId\": \"328723\", \"cutoff\": 2, \"recall\": 0.0, \"count\": 4, \"precision\": 0.0}, {\"OwnerUserId\": \"328723\", \"cutoff\": 3, \"recall\": 0.0, \"count\": 4, \"precision\": 0.0}, {\"OwnerUserId\": \"328723\", \"cutoff\": 4, \"recall\": 0.0, \"count\": 4, \"precision\": 0.0}, {\"OwnerUserId\": \"328723\", \"cutoff\": 5, \"recall\": 0.0, \"count\": 4, \"precision\": 0.0}, {\"OwnerUserId\": \"328723\", \"cutoff\": 6, \"recall\": 0.0, \"count\": 4, \"precision\": 0.0}, {\"OwnerUserId\": \"328723\", \"cutoff\": 7, \"recall\": 0.0, \"count\": 4, \"precision\": 0.0}, {\"OwnerUserId\": \"328723\", \"cutoff\": 8, \"recall\": 0.0, \"count\": 4, \"precision\": 0.0}, {\"OwnerUserId\": \"328723\", \"cutoff\": 9, \"recall\": 0.0, \"count\": 4, \"precision\": 0.0}, {\"OwnerUserId\": \"328723\", \"cutoff\": 10, \"recall\": 0.0, \"count\": 4, \"precision\": 0.0}, {\"OwnerUserId\": \"328723\", \"cutoff\": 11, \"recall\": 0.0, \"count\": 4, \"precision\": 0.0}, {\"OwnerUserId\": \"328723\", \"cutoff\": 16, \"recall\": 0.0, \"count\": 4, \"precision\": 0.0}, {\"OwnerUserId\": \"328723\", \"cutoff\": 21, \"recall\": 0.0, \"count\": 4, \"precision\": 0.0}, {\"OwnerUserId\": \"328723\", \"cutoff\": 26, \"recall\": 0.0, \"count\": 4, \"precision\": 0.0}, {\"OwnerUserId\": \"328723\", \"cutoff\": 31, \"recall\": 0.0, \"count\": 4, \"precision\": 0.0}, {\"OwnerUserId\": \"328723\", \"cutoff\": 36, \"recall\": 0.0, \"count\": 4, \"precision\": 0.0}, {\"OwnerUserId\": \"328723\", \"cutoff\": 41, \"recall\": 0.0, \"count\": 4, \"precision\": 0.0}, {\"OwnerUserId\": \"328723\", \"cutoff\": 46, \"recall\": 0.0, \"count\": 4, \"precision\": 0.0}, {\"OwnerUserId\": \"354681\", \"cutoff\": 1, \"recall\": 0.0, \"count\": 1, \"precision\": 0.0}, {\"OwnerUserId\": \"354681\", \"cutoff\": 2, \"recall\": 0.0, \"count\": 1, \"precision\": 0.0}, {\"OwnerUserId\": \"354681\", \"cutoff\": 3, \"recall\": 0.0, \"count\": 1, \"precision\": 0.0}, {\"OwnerUserId\": \"354681\", \"cutoff\": 4, \"recall\": 0.0, \"count\": 1, \"precision\": 0.0}, {\"OwnerUserId\": \"354681\", \"cutoff\": 5, \"recall\": 0.0, \"count\": 1, \"precision\": 0.0}, {\"OwnerUserId\": \"354681\", \"cutoff\": 6, \"recall\": 0.0, \"count\": 1, \"precision\": 0.0}, {\"OwnerUserId\": \"354681\", \"cutoff\": 7, \"recall\": 0.0, \"count\": 1, \"precision\": 0.0}, {\"OwnerUserId\": \"354681\", \"cutoff\": 8, \"recall\": 0.0, \"count\": 1, \"precision\": 0.0}, {\"OwnerUserId\": \"354681\", \"cutoff\": 9, \"recall\": 0.0, \"count\": 1, \"precision\": 0.0}, {\"OwnerUserId\": \"354681\", \"cutoff\": 10, \"recall\": 0.0, \"count\": 1, \"precision\": 0.0}, {\"OwnerUserId\": \"354681\", \"cutoff\": 11, \"recall\": 0.0, \"count\": 1, \"precision\": 0.0}, {\"OwnerUserId\": \"354681\", \"cutoff\": 16, \"recall\": 0.0, \"count\": 1, \"precision\": 0.0}, {\"OwnerUserId\": \"354681\", \"cutoff\": 21, \"recall\": 0.0, \"count\": 1, \"precision\": 0.0}, {\"OwnerUserId\": \"354681\", \"cutoff\": 26, \"recall\": 0.0, \"count\": 1, \"precision\": 0.0}, {\"OwnerUserId\": \"354681\", \"cutoff\": 31, \"recall\": 0.0, \"count\": 1, \"precision\": 0.0}, {\"OwnerUserId\": \"354681\", \"cutoff\": 36, \"recall\": 0.0, \"count\": 1, \"precision\": 0.0}, {\"OwnerUserId\": \"354681\", \"cutoff\": 41, \"recall\": 0.0, \"count\": 1, \"precision\": 0.0}, {\"OwnerUserId\": \"354681\", \"cutoff\": 46, \"recall\": 0.0, \"count\": 1, \"precision\": 0.0}, {\"OwnerUserId\": \"369389\", \"cutoff\": 1, \"recall\": 0.0, \"count\": 1, \"precision\": 0.0}, {\"OwnerUserId\": \"369389\", \"cutoff\": 2, \"recall\": 0.0, \"count\": 1, \"precision\": 0.0}, {\"OwnerUserId\": \"369389\", \"cutoff\": 3, \"recall\": 0.0, \"count\": 1, \"precision\": 0.0}, {\"OwnerUserId\": \"369389\", \"cutoff\": 4, \"recall\": 0.0, \"count\": 1, \"precision\": 0.0}, {\"OwnerUserId\": \"369389\", \"cutoff\": 5, \"recall\": 0.0, \"count\": 1, \"precision\": 0.0}, {\"OwnerUserId\": \"369389\", \"cutoff\": 6, \"recall\": 0.0, \"count\": 1, \"precision\": 0.0}, {\"OwnerUserId\": \"369389\", \"cutoff\": 7, \"recall\": 0.0, \"count\": 1, \"precision\": 0.0}, {\"OwnerUserId\": \"369389\", \"cutoff\": 8, \"recall\": 0.0, \"count\": 1, \"precision\": 0.0}, {\"OwnerUserId\": \"369389\", \"cutoff\": 9, \"recall\": 0.0, \"count\": 1, \"precision\": 0.0}, {\"OwnerUserId\": \"369389\", \"cutoff\": 10, \"recall\": 0.0, \"count\": 1, \"precision\": 0.0}, {\"OwnerUserId\": \"369389\", \"cutoff\": 11, \"recall\": 0.0, \"count\": 1, \"precision\": 0.0}, {\"OwnerUserId\": \"369389\", \"cutoff\": 16, \"recall\": 0.0, \"count\": 1, \"precision\": 0.0}, {\"OwnerUserId\": \"369389\", \"cutoff\": 21, \"recall\": 0.0, \"count\": 1, \"precision\": 0.0}, {\"OwnerUserId\": \"369389\", \"cutoff\": 26, \"recall\": 0.0, \"count\": 1, \"precision\": 0.0}, {\"OwnerUserId\": \"369389\", \"cutoff\": 31, \"recall\": 0.0, \"count\": 1, \"precision\": 0.0}, {\"OwnerUserId\": \"369389\", \"cutoff\": 36, \"recall\": 0.0, \"count\": 1, \"precision\": 0.0}, {\"OwnerUserId\": \"369389\", \"cutoff\": 41, \"recall\": 0.0, \"count\": 1, \"precision\": 0.0}, {\"OwnerUserId\": \"369389\", \"cutoff\": 46, \"recall\": 0.0, \"count\": 1, \"precision\": 0.0}, {\"OwnerUserId\": \"561438\", \"cutoff\": 1, \"recall\": 0.16666666666666666, \"count\": 6, \"precision\": 1.0}, {\"OwnerUserId\": \"561438\", \"cutoff\": 2, \"recall\": 0.16666666666666666, \"count\": 6, \"precision\": 0.5}, {\"OwnerUserId\": \"561438\", \"cutoff\": 3, \"recall\": 0.16666666666666666, \"count\": 6, \"precision\": 0.3333333333333333}, {\"OwnerUserId\": \"561438\", \"cutoff\": 4, \"recall\": 0.16666666666666666, \"count\": 6, \"precision\": 0.25}, {\"OwnerUserId\": \"561438\", \"cutoff\": 5, \"recall\": 0.16666666666666666, \"count\": 6, \"precision\": 0.2}, {\"OwnerUserId\": \"561438\", \"cutoff\": 6, \"recall\": 0.16666666666666666, \"count\": 6, \"precision\": 0.16666666666666666}, {\"OwnerUserId\": \"561438\", \"cutoff\": 7, \"recall\": 0.16666666666666666, \"count\": 6, \"precision\": 0.14285714285714285}, {\"OwnerUserId\": \"561438\", \"cutoff\": 8, \"recall\": 0.16666666666666666, \"count\": 6, \"precision\": 0.125}, {\"OwnerUserId\": \"561438\", \"cutoff\": 9, \"recall\": 0.3333333333333333, \"count\": 6, \"precision\": 0.2222222222222222}, {\"OwnerUserId\": \"561438\", \"cutoff\": 10, \"recall\": 0.3333333333333333, \"count\": 6, \"precision\": 0.2}, {\"OwnerUserId\": \"561438\", \"cutoff\": 11, \"recall\": 0.3333333333333333, \"count\": 6, \"precision\": 0.18181818181818182}, {\"OwnerUserId\": \"561438\", \"cutoff\": 16, \"recall\": 0.3333333333333333, \"count\": 6, \"precision\": 0.125}, {\"OwnerUserId\": \"561438\", \"cutoff\": 21, \"recall\": 0.3333333333333333, \"count\": 6, \"precision\": 0.09523809523809523}, {\"OwnerUserId\": \"561438\", \"cutoff\": 26, \"recall\": 0.3333333333333333, \"count\": 6, \"precision\": 0.07692307692307693}, {\"OwnerUserId\": \"561438\", \"cutoff\": 31, \"recall\": 0.3333333333333333, \"count\": 6, \"precision\": 0.06451612903225806}, {\"OwnerUserId\": \"561438\", \"cutoff\": 36, \"recall\": 0.3333333333333333, \"count\": 6, \"precision\": 0.05555555555555555}, {\"OwnerUserId\": \"561438\", \"cutoff\": 41, \"recall\": 0.3333333333333333, \"count\": 6, \"precision\": 0.04878048780487805}, {\"OwnerUserId\": \"561438\", \"cutoff\": 46, \"recall\": 0.3333333333333333, \"count\": 6, \"precision\": 0.043478260869565216}, {\"OwnerUserId\": \"563445\", \"cutoff\": 1, \"recall\": 0.0, \"count\": 1, \"precision\": 0.0}, {\"OwnerUserId\": \"563445\", \"cutoff\": 2, \"recall\": 0.0, \"count\": 1, \"precision\": 0.0}, {\"OwnerUserId\": \"563445\", \"cutoff\": 3, \"recall\": 0.0, \"count\": 1, \"precision\": 0.0}, {\"OwnerUserId\": \"563445\", \"cutoff\": 4, \"recall\": 0.0, \"count\": 1, \"precision\": 0.0}, {\"OwnerUserId\": \"563445\", \"cutoff\": 5, \"recall\": 0.0, \"count\": 1, \"precision\": 0.0}, {\"OwnerUserId\": \"563445\", \"cutoff\": 6, \"recall\": 0.0, \"count\": 1, \"precision\": 0.0}, {\"OwnerUserId\": \"563445\", \"cutoff\": 7, \"recall\": 0.0, \"count\": 1, \"precision\": 0.0}, {\"OwnerUserId\": \"563445\", \"cutoff\": 8, \"recall\": 0.0, \"count\": 1, \"precision\": 0.0}, {\"OwnerUserId\": \"563445\", \"cutoff\": 9, \"recall\": 0.0, \"count\": 1, \"precision\": 0.0}, {\"OwnerUserId\": \"563445\", \"cutoff\": 10, \"recall\": 0.0, \"count\": 1, \"precision\": 0.0}, {\"OwnerUserId\": \"563445\", \"cutoff\": 11, \"recall\": 0.0, \"count\": 1, \"precision\": 0.0}, {\"OwnerUserId\": \"563445\", \"cutoff\": 16, \"recall\": 0.0, \"count\": 1, \"precision\": 0.0}, {\"OwnerUserId\": \"563445\", \"cutoff\": 21, \"recall\": 0.0, \"count\": 1, \"precision\": 0.0}, {\"OwnerUserId\": \"563445\", \"cutoff\": 26, \"recall\": 0.0, \"count\": 1, \"precision\": 0.0}, {\"OwnerUserId\": \"563445\", \"cutoff\": 31, \"recall\": 0.0, \"count\": 1, \"precision\": 0.0}, {\"OwnerUserId\": \"563445\", \"cutoff\": 36, \"recall\": 0.0, \"count\": 1, \"precision\": 0.0}, {\"OwnerUserId\": \"563445\", \"cutoff\": 41, \"recall\": 0.0, \"count\": 1, \"precision\": 0.0}, {\"OwnerUserId\": \"563445\", \"cutoff\": 46, \"recall\": 0.0, \"count\": 1, \"precision\": 0.0}, {\"OwnerUserId\": \"649275\", \"cutoff\": 1, \"recall\": 0.5, \"count\": 2, \"precision\": 1.0}, {\"OwnerUserId\": \"649275\", \"cutoff\": 2, \"recall\": 0.5, \"count\": 2, \"precision\": 0.5}, {\"OwnerUserId\": \"649275\", \"cutoff\": 3, \"recall\": 0.5, \"count\": 2, \"precision\": 0.3333333333333333}, {\"OwnerUserId\": \"649275\", \"cutoff\": 4, \"recall\": 0.5, \"count\": 2, \"precision\": 0.25}, {\"OwnerUserId\": \"649275\", \"cutoff\": 5, \"recall\": 0.5, \"count\": 2, \"precision\": 0.2}, {\"OwnerUserId\": \"649275\", \"cutoff\": 6, \"recall\": 0.5, \"count\": 2, \"precision\": 0.16666666666666666}, {\"OwnerUserId\": \"649275\", \"cutoff\": 7, \"recall\": 0.5, \"count\": 2, \"precision\": 0.14285714285714285}, {\"OwnerUserId\": \"649275\", \"cutoff\": 8, \"recall\": 0.5, \"count\": 2, \"precision\": 0.125}, {\"OwnerUserId\": \"649275\", \"cutoff\": 9, \"recall\": 0.5, \"count\": 2, \"precision\": 0.1111111111111111}, {\"OwnerUserId\": \"649275\", \"cutoff\": 10, \"recall\": 0.5, \"count\": 2, \"precision\": 0.1}, {\"OwnerUserId\": \"649275\", \"cutoff\": 11, \"recall\": 0.5, \"count\": 2, \"precision\": 0.09090909090909091}, {\"OwnerUserId\": \"649275\", \"cutoff\": 16, \"recall\": 0.5, \"count\": 2, \"precision\": 0.0625}, {\"OwnerUserId\": \"649275\", \"cutoff\": 21, \"recall\": 0.5, \"count\": 2, \"precision\": 0.047619047619047616}, {\"OwnerUserId\": \"649275\", \"cutoff\": 26, \"recall\": 0.5, \"count\": 2, \"precision\": 0.038461538461538464}, {\"OwnerUserId\": \"649275\", \"cutoff\": 31, \"recall\": 0.5, \"count\": 2, \"precision\": 0.03225806451612903}, {\"OwnerUserId\": \"649275\", \"cutoff\": 36, \"recall\": 0.5, \"count\": 2, \"precision\": 0.027777777777777776}, {\"OwnerUserId\": \"649275\", \"cutoff\": 41, \"recall\": 0.5, \"count\": 2, \"precision\": 0.024390243902439025}, {\"OwnerUserId\": \"649275\", \"cutoff\": 46, \"recall\": 0.5, \"count\": 2, \"precision\": 0.021739130434782608}, {\"OwnerUserId\": \"694646\", \"cutoff\": 1, \"recall\": 0.0, \"count\": 1, \"precision\": 0.0}, {\"OwnerUserId\": \"694646\", \"cutoff\": 2, \"recall\": 0.0, \"count\": 1, \"precision\": 0.0}, {\"OwnerUserId\": \"694646\", \"cutoff\": 3, \"recall\": 0.0, \"count\": 1, \"precision\": 0.0}, {\"OwnerUserId\": \"694646\", \"cutoff\": 4, \"recall\": 0.0, \"count\": 1, \"precision\": 0.0}, {\"OwnerUserId\": \"694646\", \"cutoff\": 5, \"recall\": 0.0, \"count\": 1, \"precision\": 0.0}, {\"OwnerUserId\": \"694646\", \"cutoff\": 6, \"recall\": 0.0, \"count\": 1, \"precision\": 0.0}, {\"OwnerUserId\": \"694646\", \"cutoff\": 7, \"recall\": 0.0, \"count\": 1, \"precision\": 0.0}, {\"OwnerUserId\": \"694646\", \"cutoff\": 8, \"recall\": 0.0, \"count\": 1, \"precision\": 0.0}, {\"OwnerUserId\": \"694646\", \"cutoff\": 9, \"recall\": 0.0, \"count\": 1, \"precision\": 0.0}, {\"OwnerUserId\": \"694646\", \"cutoff\": 10, \"recall\": 0.0, \"count\": 1, \"precision\": 0.0}, {\"OwnerUserId\": \"694646\", \"cutoff\": 11, \"recall\": 0.0, \"count\": 1, \"precision\": 0.0}, {\"OwnerUserId\": \"694646\", \"cutoff\": 16, \"recall\": 0.0, \"count\": 1, \"precision\": 0.0}, {\"OwnerUserId\": \"694646\", \"cutoff\": 21, \"recall\": 0.0, \"count\": 1, \"precision\": 0.0}, {\"OwnerUserId\": \"694646\", \"cutoff\": 26, \"recall\": 0.0, \"count\": 1, \"precision\": 0.0}, {\"OwnerUserId\": \"694646\", \"cutoff\": 31, \"recall\": 0.0, \"count\": 1, \"precision\": 0.0}, {\"OwnerUserId\": \"694646\", \"cutoff\": 36, \"recall\": 0.0, \"count\": 1, \"precision\": 0.0}, {\"OwnerUserId\": \"694646\", \"cutoff\": 41, \"recall\": 0.0, \"count\": 1, \"precision\": 0.0}, {\"OwnerUserId\": \"694646\", \"cutoff\": 46, \"recall\": 0.0, \"count\": 1, \"precision\": 0.0}, {\"OwnerUserId\": \"700926\", \"cutoff\": 1, \"recall\": 0.0, \"count\": 1, \"precision\": 0.0}, {\"OwnerUserId\": \"700926\", \"cutoff\": 2, \"recall\": 0.0, \"count\": 1, \"precision\": 0.0}, {\"OwnerUserId\": \"700926\", \"cutoff\": 3, \"recall\": 0.0, \"count\": 1, \"precision\": 0.0}, {\"OwnerUserId\": \"700926\", \"cutoff\": 4, \"recall\": 1.0, \"count\": 1, \"precision\": 0.25}, {\"OwnerUserId\": \"700926\", \"cutoff\": 5, \"recall\": 1.0, \"count\": 1, \"precision\": 0.2}, {\"OwnerUserId\": \"700926\", \"cutoff\": 6, \"recall\": 1.0, \"count\": 1, \"precision\": 0.16666666666666666}, {\"OwnerUserId\": \"700926\", \"cutoff\": 7, \"recall\": 1.0, \"count\": 1, \"precision\": 0.14285714285714285}, {\"OwnerUserId\": \"700926\", \"cutoff\": 8, \"recall\": 1.0, \"count\": 1, \"precision\": 0.125}, {\"OwnerUserId\": \"700926\", \"cutoff\": 9, \"recall\": 1.0, \"count\": 1, \"precision\": 0.1111111111111111}, {\"OwnerUserId\": \"700926\", \"cutoff\": 10, \"recall\": 1.0, \"count\": 1, \"precision\": 0.1}, {\"OwnerUserId\": \"700926\", \"cutoff\": 11, \"recall\": 1.0, \"count\": 1, \"precision\": 0.09090909090909091}, {\"OwnerUserId\": \"700926\", \"cutoff\": 16, \"recall\": 1.0, \"count\": 1, \"precision\": 0.0625}, {\"OwnerUserId\": \"700926\", \"cutoff\": 21, \"recall\": 1.0, \"count\": 1, \"precision\": 0.047619047619047616}, {\"OwnerUserId\": \"700926\", \"cutoff\": 26, \"recall\": 1.0, \"count\": 1, \"precision\": 0.038461538461538464}, {\"OwnerUserId\": \"700926\", \"cutoff\": 31, \"recall\": 1.0, \"count\": 1, \"precision\": 0.03225806451612903}, {\"OwnerUserId\": \"700926\", \"cutoff\": 36, \"recall\": 1.0, \"count\": 1, \"precision\": 0.027777777777777776}, {\"OwnerUserId\": \"700926\", \"cutoff\": 41, \"recall\": 1.0, \"count\": 1, \"precision\": 0.024390243902439025}, {\"OwnerUserId\": \"700926\", \"cutoff\": 46, \"recall\": 1.0, \"count\": 1, \"precision\": 0.021739130434782608}, {\"OwnerUserId\": \"71062\", \"cutoff\": 1, \"recall\": 0.04, \"count\": 25, \"precision\": 1.0}, {\"OwnerUserId\": \"71062\", \"cutoff\": 2, \"recall\": 0.08, \"count\": 25, \"precision\": 1.0}, {\"OwnerUserId\": \"71062\", \"cutoff\": 3, \"recall\": 0.08, \"count\": 25, \"precision\": 0.6666666666666666}, {\"OwnerUserId\": \"71062\", \"cutoff\": 4, \"recall\": 0.08, \"count\": 25, \"precision\": 0.5}, {\"OwnerUserId\": \"71062\", \"cutoff\": 5, \"recall\": 0.08, \"count\": 25, \"precision\": 0.4}, {\"OwnerUserId\": \"71062\", \"cutoff\": 6, \"recall\": 0.08, \"count\": 25, \"precision\": 0.3333333333333333}, {\"OwnerUserId\": \"71062\", \"cutoff\": 7, \"recall\": 0.08, \"count\": 25, \"precision\": 0.2857142857142857}, {\"OwnerUserId\": \"71062\", \"cutoff\": 8, \"recall\": 0.12, \"count\": 25, \"precision\": 0.375}, {\"OwnerUserId\": \"71062\", \"cutoff\": 9, \"recall\": 0.16, \"count\": 25, \"precision\": 0.4444444444444444}, {\"OwnerUserId\": \"71062\", \"cutoff\": 10, \"recall\": 0.16, \"count\": 25, \"precision\": 0.4}, {\"OwnerUserId\": \"71062\", \"cutoff\": 11, \"recall\": 0.16, \"count\": 25, \"precision\": 0.36363636363636365}, {\"OwnerUserId\": \"71062\", \"cutoff\": 16, \"recall\": 0.16, \"count\": 25, \"precision\": 0.25}, {\"OwnerUserId\": \"71062\", \"cutoff\": 21, \"recall\": 0.16, \"count\": 25, \"precision\": 0.19047619047619047}, {\"OwnerUserId\": \"71062\", \"cutoff\": 26, \"recall\": 0.2, \"count\": 25, \"precision\": 0.19230769230769232}, {\"OwnerUserId\": \"71062\", \"cutoff\": 31, \"recall\": 0.2, \"count\": 25, \"precision\": 0.16129032258064516}, {\"OwnerUserId\": \"71062\", \"cutoff\": 36, \"recall\": 0.24, \"count\": 25, \"precision\": 0.16666666666666666}, {\"OwnerUserId\": \"71062\", \"cutoff\": 41, \"recall\": 0.24, \"count\": 25, \"precision\": 0.14634146341463414}, {\"OwnerUserId\": \"71062\", \"cutoff\": 46, \"recall\": 0.24, \"count\": 25, \"precision\": 0.13043478260869565}, {\"OwnerUserId\": \"758164\", \"cutoff\": 1, \"recall\": 0.0, \"count\": 9, \"precision\": 0.0}, {\"OwnerUserId\": \"758164\", \"cutoff\": 2, \"recall\": 0.0, \"count\": 9, \"precision\": 0.0}, {\"OwnerUserId\": \"758164\", \"cutoff\": 3, \"recall\": 0.0, \"count\": 9, \"precision\": 0.0}, {\"OwnerUserId\": \"758164\", \"cutoff\": 4, \"recall\": 0.0, \"count\": 9, \"precision\": 0.0}, {\"OwnerUserId\": \"758164\", \"cutoff\": 5, \"recall\": 0.0, \"count\": 9, \"precision\": 0.0}, {\"OwnerUserId\": \"758164\", \"cutoff\": 6, \"recall\": 0.0, \"count\": 9, \"precision\": 0.0}, {\"OwnerUserId\": \"758164\", \"cutoff\": 7, \"recall\": 0.0, \"count\": 9, \"precision\": 0.0}, {\"OwnerUserId\": \"758164\", \"cutoff\": 8, \"recall\": 0.0, \"count\": 9, \"precision\": 0.0}, {\"OwnerUserId\": \"758164\", \"cutoff\": 9, \"recall\": 0.0, \"count\": 9, \"precision\": 0.0}, {\"OwnerUserId\": \"758164\", \"cutoff\": 10, \"recall\": 0.0, \"count\": 9, \"precision\": 0.0}, {\"OwnerUserId\": \"758164\", \"cutoff\": 11, \"recall\": 0.0, \"count\": 9, \"precision\": 0.0}, {\"OwnerUserId\": \"758164\", \"cutoff\": 16, \"recall\": 0.0, \"count\": 9, \"precision\": 0.0}, {\"OwnerUserId\": \"758164\", \"cutoff\": 21, \"recall\": 0.0, \"count\": 9, \"precision\": 0.0}, {\"OwnerUserId\": \"758164\", \"cutoff\": 26, \"recall\": 0.0, \"count\": 9, \"precision\": 0.0}, {\"OwnerUserId\": \"758164\", \"cutoff\": 31, \"recall\": 0.0, \"count\": 9, \"precision\": 0.0}, {\"OwnerUserId\": \"758164\", \"cutoff\": 36, \"recall\": 0.0, \"count\": 9, \"precision\": 0.0}, {\"OwnerUserId\": \"758164\", \"cutoff\": 41, \"recall\": 0.2222222222222222, \"count\": 9, \"precision\": 0.04878048780487805}, {\"OwnerUserId\": \"758164\", \"cutoff\": 46, \"recall\": 0.2222222222222222, \"count\": 9, \"precision\": 0.043478260869565216}, {\"OwnerUserId\": \"832601\", \"cutoff\": 1, \"recall\": 0.0, \"count\": 1, \"precision\": 0.0}, {\"OwnerUserId\": \"832601\", \"cutoff\": 2, \"recall\": 0.0, \"count\": 1, \"precision\": 0.0}, {\"OwnerUserId\": \"832601\", \"cutoff\": 3, \"recall\": 0.0, \"count\": 1, \"precision\": 0.0}, {\"OwnerUserId\": \"832601\", \"cutoff\": 4, \"recall\": 0.0, \"count\": 1, \"precision\": 0.0}, {\"OwnerUserId\": \"832601\", \"cutoff\": 5, \"recall\": 0.0, \"count\": 1, \"precision\": 0.0}, {\"OwnerUserId\": \"832601\", \"cutoff\": 6, \"recall\": 1.0, \"count\": 1, \"precision\": 0.16666666666666666}, {\"OwnerUserId\": \"832601\", \"cutoff\": 7, \"recall\": 1.0, \"count\": 1, \"precision\": 0.14285714285714285}, {\"OwnerUserId\": \"832601\", \"cutoff\": 8, \"recall\": 1.0, \"count\": 1, \"precision\": 0.125}, {\"OwnerUserId\": \"832601\", \"cutoff\": 9, \"recall\": 1.0, \"count\": 1, \"precision\": 0.1111111111111111}, {\"OwnerUserId\": \"832601\", \"cutoff\": 10, \"recall\": 1.0, \"count\": 1, \"precision\": 0.1}, {\"OwnerUserId\": \"832601\", \"cutoff\": 11, \"recall\": 1.0, \"count\": 1, \"precision\": 0.09090909090909091}, {\"OwnerUserId\": \"832601\", \"cutoff\": 16, \"recall\": 1.0, \"count\": 1, \"precision\": 0.0625}, {\"OwnerUserId\": \"832601\", \"cutoff\": 21, \"recall\": 1.0, \"count\": 1, \"precision\": 0.047619047619047616}, {\"OwnerUserId\": \"832601\", \"cutoff\": 26, \"recall\": 1.0, \"count\": 1, \"precision\": 0.038461538461538464}, {\"OwnerUserId\": \"832601\", \"cutoff\": 31, \"recall\": 1.0, \"count\": 1, \"precision\": 0.03225806451612903}, {\"OwnerUserId\": \"832601\", \"cutoff\": 36, \"recall\": 1.0, \"count\": 1, \"precision\": 0.027777777777777776}, {\"OwnerUserId\": \"832601\", \"cutoff\": 41, \"recall\": 1.0, \"count\": 1, \"precision\": 0.024390243902439025}, {\"OwnerUserId\": \"832601\", \"cutoff\": 46, \"recall\": 1.0, \"count\": 1, \"precision\": 0.021739130434782608}, {\"OwnerUserId\": \"983671\", \"cutoff\": 1, \"recall\": 0.0, \"count\": 3, \"precision\": 0.0}, {\"OwnerUserId\": \"983671\", \"cutoff\": 2, \"recall\": 0.0, \"count\": 3, \"precision\": 0.0}, {\"OwnerUserId\": \"983671\", \"cutoff\": 3, \"recall\": 0.0, \"count\": 3, \"precision\": 0.0}, {\"OwnerUserId\": \"983671\", \"cutoff\": 4, \"recall\": 0.0, \"count\": 3, \"precision\": 0.0}, {\"OwnerUserId\": \"983671\", \"cutoff\": 5, \"recall\": 0.0, \"count\": 3, \"precision\": 0.0}, {\"OwnerUserId\": \"983671\", \"cutoff\": 6, \"recall\": 0.0, \"count\": 3, \"precision\": 0.0}, {\"OwnerUserId\": \"983671\", \"cutoff\": 7, \"recall\": 0.0, \"count\": 3, \"precision\": 0.0}, {\"OwnerUserId\": \"983671\", \"cutoff\": 8, \"recall\": 0.0, \"count\": 3, \"precision\": 0.0}, {\"OwnerUserId\": \"983671\", \"cutoff\": 9, \"recall\": 0.0, \"count\": 3, \"precision\": 0.0}, {\"OwnerUserId\": \"983671\", \"cutoff\": 10, \"recall\": 0.3333333333333333, \"count\": 3, \"precision\": 0.1}, {\"OwnerUserId\": \"983671\", \"cutoff\": 11, \"recall\": 0.3333333333333333, \"count\": 3, \"precision\": 0.09090909090909091}, {\"OwnerUserId\": \"983671\", \"cutoff\": 16, \"recall\": 0.3333333333333333, \"count\": 3, \"precision\": 0.0625}, {\"OwnerUserId\": \"983671\", \"cutoff\": 21, \"recall\": 0.3333333333333333, \"count\": 3, \"precision\": 0.047619047619047616}, {\"OwnerUserId\": \"983671\", \"cutoff\": 26, \"recall\": 0.3333333333333333, \"count\": 3, \"precision\": 0.038461538461538464}, {\"OwnerUserId\": \"983671\", \"cutoff\": 31, \"recall\": 0.3333333333333333, \"count\": 3, \"precision\": 0.03225806451612903}, {\"OwnerUserId\": \"983671\", \"cutoff\": 36, \"recall\": 0.6666666666666666, \"count\": 3, \"precision\": 0.05555555555555555}, {\"OwnerUserId\": \"983671\", \"cutoff\": 41, \"recall\": 0.6666666666666666, \"count\": 3, \"precision\": 0.04878048780487805}, {\"OwnerUserId\": \"983671\", \"cutoff\": 46, \"recall\": 0.6666666666666666, \"count\": 3, \"precision\": 0.043478260869565216}]}]], \"type\": \"Model\"}, \"ipython\": true, \"view_params\": {\"model_type\": \"recommender\", \"view\": \"Comparison\"}, \"model_type\": \"recommender\", \"attributes\": {\"section_titles\": [\"Schema\", \"Statistics\", \"Training summary\", \"Model Parameters\", \"Other Settings\"], \"sections\": [[[\"User ID\", \"OwnerUserId\"], [\"Item ID\", \"Tag\"], [\"Target\", null], [\"Additional observation features\", 0], [\"User side features\", []], [\"Item side features\", []]], [[\"Number of observations\", 6350786], [\"Number of users\", 656074], [\"Number of items\", 44142]], [[\"Training time\", 6.0517]], [[\"Model class\", \"ItemSimilarityRecommender\"], [\"threshold\", 0.001], [\"similarity_type\", \"jaccard\"], [\"training_method\", \"auto\"]], [[\"degree_approximation_threshold\", 4096], [\"sparse_density_estimation_sample_size\", 4096], [\"max_data_passes\", 4096], [\"target_memory_usage\", 8589934592], [\"seed_item_set_size\", 50], [\"nearest_neighbors_interaction_proportion_threshold\", 0.05], [\"max_item_neighborhood_size\", 64]]]}, \"evaluations\": [[\"dataset_subset\", {\"precision_recall_overall\": [{\"cutoff\": 1, \"precision\": 0.18750000000000006, \"recall\": 0.0693539029535865}, {\"cutoff\": 2, \"precision\": 0.171875, \"recall\": 0.14131197257383965}, {\"cutoff\": 3, \"precision\": 0.11458333333333336, \"recall\": 0.14131197257383965}, {\"cutoff\": 4, \"precision\": 0.10156250000000001, \"recall\": 0.17295754219409282}, {\"cutoff\": 5, \"precision\": 0.09375000000000001, \"recall\": 0.18897811181434598}, {\"cutoff\": 6, \"precision\": 0.08854166666666669, \"recall\": 0.22804061181434598}, {\"cutoff\": 7, \"precision\": 0.08035714285714285, \"recall\": 0.22843618143459915}, {\"cutoff\": 8, \"precision\": 0.078125, \"recall\": 0.23008175105485232}, {\"cutoff\": 9, \"precision\": 0.07638888888888888, \"recall\": 0.23654008438818563}, {\"cutoff\": 10, \"precision\": 0.07812499999999999, \"recall\": 0.27860232067510543}, {\"cutoff\": 11, \"precision\": 0.07102272727272729, \"recall\": 0.27860232067510543}, {\"cutoff\": 16, \"precision\": 0.052734375000000014, \"recall\": 0.3098523206751055}, {\"cutoff\": 21, \"precision\": 0.0505952380952381, \"recall\": 0.3489345991561182}, {\"cutoff\": 26, \"precision\": 0.046875, \"recall\": 0.3517668776371308}, {\"cutoff\": 31, \"precision\": 0.041330645161290334, \"recall\": 0.3658293776371308}, {\"cutoff\": 36, \"precision\": 0.03993055555555555, \"recall\": 0.43062104430379744}, {\"cutoff\": 41, \"precision\": 0.03810975609756097, \"recall\": 0.44421105836849506}, {\"cutoff\": 46, \"precision\": 0.03464673913043478, \"recall\": 0.4446066279887482}], \"precision_recall_by_user\": [{\"OwnerUserId\": \"1029483\", \"cutoff\": 1, \"recall\": 0.0, \"count\": 3, \"precision\": 0.0}, {\"OwnerUserId\": \"1029483\", \"cutoff\": 2, \"recall\": 0.0, \"count\": 3, \"precision\": 0.0}, {\"OwnerUserId\": \"1029483\", \"cutoff\": 3, \"recall\": 0.0, \"count\": 3, \"precision\": 0.0}, {\"OwnerUserId\": \"1029483\", \"cutoff\": 4, \"recall\": 0.0, \"count\": 3, \"precision\": 0.0}, {\"OwnerUserId\": \"1029483\", \"cutoff\": 5, \"recall\": 0.0, \"count\": 3, \"precision\": 0.0}, {\"OwnerUserId\": \"1029483\", \"cutoff\": 6, \"recall\": 0.0, \"count\": 3, \"precision\": 0.0}, {\"OwnerUserId\": \"1029483\", \"cutoff\": 7, \"recall\": 0.0, \"count\": 3, \"precision\": 0.0}, {\"OwnerUserId\": \"1029483\", \"cutoff\": 8, \"recall\": 0.0, \"count\": 3, \"precision\": 0.0}, {\"OwnerUserId\": \"1029483\", \"cutoff\": 9, \"recall\": 0.0, \"count\": 3, \"precision\": 0.0}, {\"OwnerUserId\": \"1029483\", \"cutoff\": 10, \"recall\": 0.0, \"count\": 3, \"precision\": 0.0}, {\"OwnerUserId\": \"1029483\", \"cutoff\": 11, \"recall\": 0.0, \"count\": 3, \"precision\": 0.0}, {\"OwnerUserId\": \"1029483\", \"cutoff\": 16, \"recall\": 0.0, \"count\": 3, \"precision\": 0.0}, {\"OwnerUserId\": \"1029483\", \"cutoff\": 21, \"recall\": 0.0, \"count\": 3, \"precision\": 0.0}, {\"OwnerUserId\": \"1029483\", \"cutoff\": 26, \"recall\": 0.0, \"count\": 3, \"precision\": 0.0}, {\"OwnerUserId\": \"1029483\", \"cutoff\": 31, \"recall\": 0.0, \"count\": 3, \"precision\": 0.0}, {\"OwnerUserId\": \"1029483\", \"cutoff\": 36, \"recall\": 0.0, \"count\": 3, \"precision\": 0.0}, {\"OwnerUserId\": \"1029483\", \"cutoff\": 41, \"recall\": 0.0, \"count\": 3, \"precision\": 0.0}, {\"OwnerUserId\": \"1029483\", \"cutoff\": 46, \"recall\": 0.0, \"count\": 3, \"precision\": 0.0}, {\"OwnerUserId\": \"1054625\", \"cutoff\": 1, \"recall\": 0.0, \"count\": 5, \"precision\": 0.0}, {\"OwnerUserId\": \"1054625\", \"cutoff\": 2, \"recall\": 0.0, \"count\": 5, \"precision\": 0.0}, {\"OwnerUserId\": \"1054625\", \"cutoff\": 3, \"recall\": 0.0, \"count\": 5, \"precision\": 0.0}, {\"OwnerUserId\": \"1054625\", \"cutoff\": 4, \"recall\": 0.0, \"count\": 5, \"precision\": 0.0}, {\"OwnerUserId\": \"1054625\", \"cutoff\": 5, \"recall\": 0.0, \"count\": 5, \"precision\": 0.0}, {\"OwnerUserId\": \"1054625\", \"cutoff\": 6, \"recall\": 0.0, \"count\": 5, \"precision\": 0.0}, {\"OwnerUserId\": \"1054625\", \"cutoff\": 7, \"recall\": 0.0, \"count\": 5, \"precision\": 0.0}, {\"OwnerUserId\": \"1054625\", \"cutoff\": 8, \"recall\": 0.0, \"count\": 5, \"precision\": 0.0}, {\"OwnerUserId\": \"1054625\", \"cutoff\": 9, \"recall\": 0.0, \"count\": 5, \"precision\": 0.0}, {\"OwnerUserId\": \"1054625\", \"cutoff\": 10, \"recall\": 0.0, \"count\": 5, \"precision\": 0.0}, {\"OwnerUserId\": \"1054625\", \"cutoff\": 11, \"recall\": 0.0, \"count\": 5, \"precision\": 0.0}, {\"OwnerUserId\": \"1054625\", \"cutoff\": 16, \"recall\": 0.0, \"count\": 5, \"precision\": 0.0}, {\"OwnerUserId\": \"1054625\", \"cutoff\": 21, \"recall\": 0.2, \"count\": 5, \"precision\": 0.047619047619047616}, {\"OwnerUserId\": \"1054625\", \"cutoff\": 26, \"recall\": 0.2, \"count\": 5, \"precision\": 0.038461538461538464}, {\"OwnerUserId\": \"1054625\", \"cutoff\": 31, \"recall\": 0.2, \"count\": 5, \"precision\": 0.03225806451612903}, {\"OwnerUserId\": \"1054625\", \"cutoff\": 36, \"recall\": 0.4, \"count\": 5, \"precision\": 0.05555555555555555}, {\"OwnerUserId\": \"1054625\", \"cutoff\": 41, \"recall\": 0.4, \"count\": 5, \"precision\": 0.04878048780487805}, {\"OwnerUserId\": \"1054625\", \"cutoff\": 46, \"recall\": 0.4, \"count\": 5, \"precision\": 0.043478260869565216}, {\"OwnerUserId\": \"109246\", \"cutoff\": 1, \"recall\": 0.0, \"count\": 4, \"precision\": 0.0}, {\"OwnerUserId\": \"109246\", \"cutoff\": 2, \"recall\": 0.25, \"count\": 4, \"precision\": 0.5}, {\"OwnerUserId\": \"109246\", \"cutoff\": 3, \"recall\": 0.25, \"count\": 4, \"precision\": 0.3333333333333333}, {\"OwnerUserId\": \"109246\", \"cutoff\": 4, \"recall\": 0.25, \"count\": 4, \"precision\": 0.25}, {\"OwnerUserId\": \"109246\", \"cutoff\": 5, \"recall\": 0.25, \"count\": 4, \"precision\": 0.2}, {\"OwnerUserId\": \"109246\", \"cutoff\": 6, \"recall\": 0.25, \"count\": 4, \"precision\": 0.16666666666666666}, {\"OwnerUserId\": \"109246\", \"cutoff\": 7, \"recall\": 0.25, \"count\": 4, \"precision\": 0.14285714285714285}, {\"OwnerUserId\": \"109246\", \"cutoff\": 8, \"recall\": 0.25, \"count\": 4, \"precision\": 0.125}, {\"OwnerUserId\": \"109246\", \"cutoff\": 9, \"recall\": 0.25, \"count\": 4, \"precision\": 0.1111111111111111}, {\"OwnerUserId\": \"109246\", \"cutoff\": 10, \"recall\": 0.25, \"count\": 4, \"precision\": 0.1}, {\"OwnerUserId\": \"109246\", \"cutoff\": 11, \"recall\": 0.25, \"count\": 4, \"precision\": 0.09090909090909091}, {\"OwnerUserId\": \"109246\", \"cutoff\": 16, \"recall\": 0.25, \"count\": 4, \"precision\": 0.0625}, {\"OwnerUserId\": \"109246\", \"cutoff\": 21, \"recall\": 0.25, \"count\": 4, \"precision\": 0.047619047619047616}, {\"OwnerUserId\": \"109246\", \"cutoff\": 26, \"recall\": 0.25, \"count\": 4, \"precision\": 0.038461538461538464}, {\"OwnerUserId\": \"109246\", \"cutoff\": 31, \"recall\": 0.5, \"count\": 4, \"precision\": 0.06451612903225806}, {\"OwnerUserId\": \"109246\", \"cutoff\": 36, \"recall\": 0.5, \"count\": 4, \"precision\": 0.05555555555555555}, {\"OwnerUserId\": \"109246\", \"cutoff\": 41, \"recall\": 0.5, \"count\": 4, \"precision\": 0.04878048780487805}, {\"OwnerUserId\": \"109246\", \"cutoff\": 46, \"recall\": 0.5, \"count\": 4, \"precision\": 0.043478260869565216}, {\"OwnerUserId\": \"1095567\", \"cutoff\": 1, \"recall\": 0.0, \"count\": 1, \"precision\": 0.0}, {\"OwnerUserId\": \"1095567\", \"cutoff\": 2, \"recall\": 0.0, \"count\": 1, \"precision\": 0.0}, {\"OwnerUserId\": \"1095567\", \"cutoff\": 3, \"recall\": 0.0, \"count\": 1, \"precision\": 0.0}, {\"OwnerUserId\": \"1095567\", \"cutoff\": 4, \"recall\": 0.0, \"count\": 1, \"precision\": 0.0}, {\"OwnerUserId\": \"1095567\", \"cutoff\": 5, \"recall\": 0.0, \"count\": 1, \"precision\": 0.0}, {\"OwnerUserId\": \"1095567\", \"cutoff\": 6, \"recall\": 0.0, \"count\": 1, \"precision\": 0.0}, {\"OwnerUserId\": \"1095567\", \"cutoff\": 7, \"recall\": 0.0, \"count\": 1, \"precision\": 0.0}, {\"OwnerUserId\": \"1095567\", \"cutoff\": 8, \"recall\": 0.0, \"count\": 1, \"precision\": 0.0}, {\"OwnerUserId\": \"1095567\", \"cutoff\": 9, \"recall\": 0.0, \"count\": 1, \"precision\": 0.0}, {\"OwnerUserId\": \"1095567\", \"cutoff\": 10, \"recall\": 0.0, \"count\": 1, \"precision\": 0.0}, {\"OwnerUserId\": \"1095567\", \"cutoff\": 11, \"recall\": 0.0, \"count\": 1, \"precision\": 0.0}, {\"OwnerUserId\": \"1095567\", \"cutoff\": 16, \"recall\": 0.0, \"count\": 1, \"precision\": 0.0}, {\"OwnerUserId\": \"1095567\", \"cutoff\": 21, \"recall\": 0.0, \"count\": 1, \"precision\": 0.0}, {\"OwnerUserId\": \"1095567\", \"cutoff\": 26, \"recall\": 0.0, \"count\": 1, \"precision\": 0.0}, {\"OwnerUserId\": \"1095567\", \"cutoff\": 31, \"recall\": 0.0, \"count\": 1, \"precision\": 0.0}, {\"OwnerUserId\": \"1095567\", \"cutoff\": 36, \"recall\": 0.0, \"count\": 1, \"precision\": 0.0}, {\"OwnerUserId\": \"1095567\", \"cutoff\": 41, \"recall\": 0.0, \"count\": 1, \"precision\": 0.0}, {\"OwnerUserId\": \"1095567\", \"cutoff\": 46, \"recall\": 0.0, \"count\": 1, \"precision\": 0.0}, {\"OwnerUserId\": \"1150279\", \"cutoff\": 1, \"recall\": 0.0, \"count\": 2, \"precision\": 0.0}, {\"OwnerUserId\": \"1150279\", \"cutoff\": 2, \"recall\": 0.0, \"count\": 2, \"precision\": 0.0}, {\"OwnerUserId\": \"1150279\", \"cutoff\": 3, \"recall\": 0.0, \"count\": 2, \"precision\": 0.0}, {\"OwnerUserId\": \"1150279\", \"cutoff\": 4, \"recall\": 0.0, \"count\": 2, \"precision\": 0.0}, {\"OwnerUserId\": \"1150279\", \"cutoff\": 5, \"recall\": 0.0, \"count\": 2, \"precision\": 0.0}, {\"OwnerUserId\": \"1150279\", \"cutoff\": 6, \"recall\": 0.0, \"count\": 2, \"precision\": 0.0}, {\"OwnerUserId\": \"1150279\", \"cutoff\": 7, \"recall\": 0.0, \"count\": 2, \"precision\": 0.0}, {\"OwnerUserId\": \"1150279\", \"cutoff\": 8, \"recall\": 0.0, \"count\": 2, \"precision\": 0.0}, {\"OwnerUserId\": \"1150279\", \"cutoff\": 9, \"recall\": 0.0, \"count\": 2, \"precision\": 0.0}, {\"OwnerUserId\": \"1150279\", \"cutoff\": 10, \"recall\": 0.0, \"count\": 2, \"precision\": 0.0}, {\"OwnerUserId\": \"1150279\", \"cutoff\": 11, \"recall\": 0.0, \"count\": 2, \"precision\": 0.0}, {\"OwnerUserId\": \"1150279\", \"cutoff\": 16, \"recall\": 0.0, \"count\": 2, \"precision\": 0.0}, {\"OwnerUserId\": \"1150279\", \"cutoff\": 21, \"recall\": 0.0, \"count\": 2, \"precision\": 0.0}, {\"OwnerUserId\": \"1150279\", \"cutoff\": 26, \"recall\": 0.0, \"count\": 2, \"precision\": 0.0}, {\"OwnerUserId\": \"1150279\", \"cutoff\": 31, \"recall\": 0.0, \"count\": 2, \"precision\": 0.0}, {\"OwnerUserId\": \"1150279\", \"cutoff\": 36, \"recall\": 0.0, \"count\": 2, \"precision\": 0.0}, {\"OwnerUserId\": \"1150279\", \"cutoff\": 41, \"recall\": 0.0, \"count\": 2, \"precision\": 0.0}, {\"OwnerUserId\": \"1150279\", \"cutoff\": 46, \"recall\": 0.0, \"count\": 2, \"precision\": 0.0}, {\"OwnerUserId\": \"1197637\", \"cutoff\": 1, \"recall\": 0.0, \"count\": 1, \"precision\": 0.0}, {\"OwnerUserId\": \"1197637\", \"cutoff\": 2, \"recall\": 0.0, \"count\": 1, \"precision\": 0.0}, {\"OwnerUserId\": \"1197637\", \"cutoff\": 3, \"recall\": 0.0, \"count\": 1, \"precision\": 0.0}, {\"OwnerUserId\": \"1197637\", \"cutoff\": 4, \"recall\": 0.0, \"count\": 1, \"precision\": 0.0}, {\"OwnerUserId\": \"1197637\", \"cutoff\": 5, \"recall\": 0.0, \"count\": 1, \"precision\": 0.0}, {\"OwnerUserId\": \"1197637\", \"cutoff\": 6, \"recall\": 0.0, \"count\": 1, \"precision\": 0.0}, {\"OwnerUserId\": \"1197637\", \"cutoff\": 7, \"recall\": 0.0, \"count\": 1, \"precision\": 0.0}, {\"OwnerUserId\": \"1197637\", \"cutoff\": 8, \"recall\": 0.0, \"count\": 1, \"precision\": 0.0}, {\"OwnerUserId\": \"1197637\", \"cutoff\": 9, \"recall\": 0.0, \"count\": 1, \"precision\": 0.0}, {\"OwnerUserId\": \"1197637\", \"cutoff\": 10, \"recall\": 0.0, \"count\": 1, \"precision\": 0.0}, {\"OwnerUserId\": \"1197637\", \"cutoff\": 11, \"recall\": 0.0, \"count\": 1, \"precision\": 0.0}, {\"OwnerUserId\": \"1197637\", \"cutoff\": 16, \"recall\": 0.0, \"count\": 1, \"precision\": 0.0}, {\"OwnerUserId\": \"1197637\", \"cutoff\": 21, \"recall\": 0.0, \"count\": 1, \"precision\": 0.0}, {\"OwnerUserId\": \"1197637\", \"cutoff\": 26, \"recall\": 0.0, \"count\": 1, \"precision\": 0.0}, {\"OwnerUserId\": \"1197637\", \"cutoff\": 31, \"recall\": 0.0, \"count\": 1, \"precision\": 0.0}, {\"OwnerUserId\": \"1197637\", \"cutoff\": 36, \"recall\": 1.0, \"count\": 1, \"precision\": 0.027777777777777776}, {\"OwnerUserId\": \"1197637\", \"cutoff\": 41, \"recall\": 1.0, \"count\": 1, \"precision\": 0.024390243902439025}, {\"OwnerUserId\": \"1197637\", \"cutoff\": 46, \"recall\": 1.0, \"count\": 1, \"precision\": 0.021739130434782608}, {\"OwnerUserId\": \"1270825\", \"cutoff\": 1, \"recall\": 0.0, \"count\": 2, \"precision\": 0.0}, {\"OwnerUserId\": \"1270825\", \"cutoff\": 2, \"recall\": 0.0, \"count\": 2, \"precision\": 0.0}, {\"OwnerUserId\": \"1270825\", \"cutoff\": 3, \"recall\": 0.0, \"count\": 2, \"precision\": 0.0}, {\"OwnerUserId\": \"1270825\", \"cutoff\": 4, \"recall\": 0.0, \"count\": 2, \"precision\": 0.0}, {\"OwnerUserId\": \"1270825\", \"cutoff\": 5, \"recall\": 0.0, \"count\": 2, \"precision\": 0.0}, {\"OwnerUserId\": \"1270825\", \"cutoff\": 6, \"recall\": 0.0, \"count\": 2, \"precision\": 0.0}, {\"OwnerUserId\": \"1270825\", \"cutoff\": 7, \"recall\": 0.0, \"count\": 2, \"precision\": 0.0}, {\"OwnerUserId\": \"1270825\", \"cutoff\": 8, \"recall\": 0.0, \"count\": 2, \"precision\": 0.0}, {\"OwnerUserId\": \"1270825\", \"cutoff\": 9, \"recall\": 0.0, \"count\": 2, \"precision\": 0.0}, {\"OwnerUserId\": \"1270825\", \"cutoff\": 10, \"recall\": 0.0, \"count\": 2, \"precision\": 0.0}, {\"OwnerUserId\": \"1270825\", \"cutoff\": 11, \"recall\": 0.0, \"count\": 2, \"precision\": 0.0}, {\"OwnerUserId\": \"1270825\", \"cutoff\": 16, \"recall\": 0.0, \"count\": 2, \"precision\": 0.0}, {\"OwnerUserId\": \"1270825\", \"cutoff\": 21, \"recall\": 0.5, \"count\": 2, \"precision\": 0.047619047619047616}, {\"OwnerUserId\": \"1270825\", \"cutoff\": 26, \"recall\": 0.5, \"count\": 2, \"precision\": 0.038461538461538464}, {\"OwnerUserId\": \"1270825\", \"cutoff\": 31, \"recall\": 0.5, \"count\": 2, \"precision\": 0.03225806451612903}, {\"OwnerUserId\": \"1270825\", \"cutoff\": 36, \"recall\": 1.0, \"count\": 2, \"precision\": 0.05555555555555555}, {\"OwnerUserId\": \"1270825\", \"cutoff\": 41, \"recall\": 1.0, \"count\": 2, \"precision\": 0.04878048780487805}, {\"OwnerUserId\": \"1270825\", \"cutoff\": 46, \"recall\": 1.0, \"count\": 2, \"precision\": 0.043478260869565216}, {\"OwnerUserId\": \"1405616\", \"cutoff\": 1, \"recall\": 0.0, \"count\": 2, \"precision\": 0.0}, {\"OwnerUserId\": \"1405616\", \"cutoff\": 2, \"recall\": 0.0, \"count\": 2, \"precision\": 0.0}, {\"OwnerUserId\": \"1405616\", \"cutoff\": 3, \"recall\": 0.0, \"count\": 2, \"precision\": 0.0}, {\"OwnerUserId\": \"1405616\", \"cutoff\": 4, \"recall\": 0.0, \"count\": 2, \"precision\": 0.0}, {\"OwnerUserId\": \"1405616\", \"cutoff\": 5, \"recall\": 0.0, \"count\": 2, \"precision\": 0.0}, {\"OwnerUserId\": \"1405616\", \"cutoff\": 6, \"recall\": 0.0, \"count\": 2, \"precision\": 0.0}, {\"OwnerUserId\": \"1405616\", \"cutoff\": 7, \"recall\": 0.0, \"count\": 2, \"precision\": 0.0}, {\"OwnerUserId\": \"1405616\", \"cutoff\": 8, \"recall\": 0.0, \"count\": 2, \"precision\": 0.0}, {\"OwnerUserId\": \"1405616\", \"cutoff\": 9, \"recall\": 0.0, \"count\": 2, \"precision\": 0.0}, {\"OwnerUserId\": \"1405616\", \"cutoff\": 10, \"recall\": 0.0, \"count\": 2, \"precision\": 0.0}, {\"OwnerUserId\": \"1405616\", \"cutoff\": 11, \"recall\": 0.0, \"count\": 2, \"precision\": 0.0}, {\"OwnerUserId\": \"1405616\", \"cutoff\": 16, \"recall\": 1.0, \"count\": 2, \"precision\": 0.125}, {\"OwnerUserId\": \"1405616\", \"cutoff\": 21, \"recall\": 1.0, \"count\": 2, \"precision\": 0.09523809523809523}, {\"OwnerUserId\": \"1405616\", \"cutoff\": 26, \"recall\": 1.0, \"count\": 2, \"precision\": 0.07692307692307693}, {\"OwnerUserId\": \"1405616\", \"cutoff\": 31, \"recall\": 1.0, \"count\": 2, \"precision\": 0.06451612903225806}, {\"OwnerUserId\": \"1405616\", \"cutoff\": 36, \"recall\": 1.0, \"count\": 2, \"precision\": 0.05555555555555555}, {\"OwnerUserId\": \"1405616\", \"cutoff\": 41, \"recall\": 1.0, \"count\": 2, \"precision\": 0.04878048780487805}, {\"OwnerUserId\": \"1405616\", \"cutoff\": 46, \"recall\": 1.0, \"count\": 2, \"precision\": 0.043478260869565216}, {\"OwnerUserId\": \"1422157\", \"cutoff\": 1, \"recall\": 0.0, \"count\": 1, \"precision\": 0.0}, {\"OwnerUserId\": \"1422157\", \"cutoff\": 2, \"recall\": 1.0, \"count\": 1, \"precision\": 0.5}, {\"OwnerUserId\": \"1422157\", \"cutoff\": 3, \"recall\": 1.0, \"count\": 1, \"precision\": 0.3333333333333333}, {\"OwnerUserId\": \"1422157\", \"cutoff\": 4, \"recall\": 1.0, \"count\": 1, \"precision\": 0.25}, {\"OwnerUserId\": \"1422157\", \"cutoff\": 5, \"recall\": 1.0, \"count\": 1, \"precision\": 0.2}, {\"OwnerUserId\": \"1422157\", \"cutoff\": 6, \"recall\": 1.0, \"count\": 1, \"precision\": 0.16666666666666666}, {\"OwnerUserId\": \"1422157\", \"cutoff\": 7, \"recall\": 1.0, \"count\": 1, \"precision\": 0.14285714285714285}, {\"OwnerUserId\": \"1422157\", \"cutoff\": 8, \"recall\": 1.0, \"count\": 1, \"precision\": 0.125}, {\"OwnerUserId\": \"1422157\", \"cutoff\": 9, \"recall\": 1.0, \"count\": 1, \"precision\": 0.1111111111111111}, {\"OwnerUserId\": \"1422157\", \"cutoff\": 10, \"recall\": 1.0, \"count\": 1, \"precision\": 0.1}, {\"OwnerUserId\": \"1422157\", \"cutoff\": 11, \"recall\": 1.0, \"count\": 1, \"precision\": 0.09090909090909091}, {\"OwnerUserId\": \"1422157\", \"cutoff\": 16, \"recall\": 1.0, \"count\": 1, \"precision\": 0.0625}, {\"OwnerUserId\": \"1422157\", \"cutoff\": 21, \"recall\": 1.0, \"count\": 1, \"precision\": 0.047619047619047616}, {\"OwnerUserId\": \"1422157\", \"cutoff\": 26, \"recall\": 1.0, \"count\": 1, \"precision\": 0.038461538461538464}, {\"OwnerUserId\": \"1422157\", \"cutoff\": 31, \"recall\": 1.0, \"count\": 1, \"precision\": 0.03225806451612903}, {\"OwnerUserId\": \"1422157\", \"cutoff\": 36, \"recall\": 1.0, \"count\": 1, \"precision\": 0.027777777777777776}, {\"OwnerUserId\": \"1422157\", \"cutoff\": 41, \"recall\": 1.0, \"count\": 1, \"precision\": 0.024390243902439025}, {\"OwnerUserId\": \"1422157\", \"cutoff\": 46, \"recall\": 1.0, \"count\": 1, \"precision\": 0.021739130434782608}, {\"OwnerUserId\": \"1444475\", \"cutoff\": 1, \"recall\": 0.012658227848101266, \"count\": 79, \"precision\": 1.0}, {\"OwnerUserId\": \"1444475\", \"cutoff\": 2, \"recall\": 0.02531645569620253, \"count\": 79, \"precision\": 1.0}, {\"OwnerUserId\": \"1444475\", \"cutoff\": 3, \"recall\": 0.02531645569620253, \"count\": 79, \"precision\": 0.6666666666666666}, {\"OwnerUserId\": \"1444475\", \"cutoff\": 4, \"recall\": 0.0379746835443038, \"count\": 79, \"precision\": 0.75}, {\"OwnerUserId\": \"1444475\", \"cutoff\": 5, \"recall\": 0.05063291139240506, \"count\": 79, \"precision\": 0.8}, {\"OwnerUserId\": \"1444475\", \"cutoff\": 6, \"recall\": 0.05063291139240506, \"count\": 79, \"precision\": 0.6666666666666666}, {\"OwnerUserId\": \"1444475\", \"cutoff\": 7, \"recall\": 0.06329113924050633, \"count\": 79, \"precision\": 0.7142857142857143}, {\"OwnerUserId\": \"1444475\", \"cutoff\": 8, \"recall\": 0.0759493670886076, \"count\": 79, \"precision\": 0.75}, {\"OwnerUserId\": \"1444475\", \"cutoff\": 9, \"recall\": 0.0759493670886076, \"count\": 79, \"precision\": 0.6666666666666666}, {\"OwnerUserId\": \"1444475\", \"cutoff\": 10, \"recall\": 0.08860759493670886, \"count\": 79, \"precision\": 0.7}, {\"OwnerUserId\": \"1444475\", \"cutoff\": 11, \"recall\": 0.08860759493670886, \"count\": 79, \"precision\": 0.6363636363636364}, {\"OwnerUserId\": \"1444475\", \"cutoff\": 16, \"recall\": 0.08860759493670886, \"count\": 79, \"precision\": 0.4375}, {\"OwnerUserId\": \"1444475\", \"cutoff\": 21, \"recall\": 0.13924050632911392, \"count\": 79, \"precision\": 0.5238095238095238}, {\"OwnerUserId\": \"1444475\", \"cutoff\": 26, \"recall\": 0.189873417721519, \"count\": 79, \"precision\": 0.5769230769230769}, {\"OwnerUserId\": \"1444475\", \"cutoff\": 31, \"recall\": 0.189873417721519, \"count\": 79, \"precision\": 0.4838709677419355}, {\"OwnerUserId\": \"1444475\", \"cutoff\": 36, \"recall\": 0.189873417721519, \"count\": 79, \"precision\": 0.4166666666666667}, {\"OwnerUserId\": \"1444475\", \"cutoff\": 41, \"recall\": 0.20253164556962025, \"count\": 79, \"precision\": 0.3902439024390244}, {\"OwnerUserId\": \"1444475\", \"cutoff\": 46, \"recall\": 0.21518987341772153, \"count\": 79, \"precision\": 0.3695652173913043}, {\"OwnerUserId\": \"1496353\", \"cutoff\": 1, \"recall\": 0.0, \"count\": 1, \"precision\": 0.0}, {\"OwnerUserId\": \"1496353\", \"cutoff\": 2, \"recall\": 0.0, \"count\": 1, \"precision\": 0.0}, {\"OwnerUserId\": \"1496353\", \"cutoff\": 3, \"recall\": 0.0, \"count\": 1, \"precision\": 0.0}, {\"OwnerUserId\": \"1496353\", \"cutoff\": 4, \"recall\": 0.0, \"count\": 1, \"precision\": 0.0}, {\"OwnerUserId\": \"1496353\", \"cutoff\": 5, \"recall\": 0.0, \"count\": 1, \"precision\": 0.0}, {\"OwnerUserId\": \"1496353\", \"cutoff\": 6, \"recall\": 0.0, \"count\": 1, \"precision\": 0.0}, {\"OwnerUserId\": \"1496353\", \"cutoff\": 7, \"recall\": 0.0, \"count\": 1, \"precision\": 0.0}, {\"OwnerUserId\": \"1496353\", \"cutoff\": 8, \"recall\": 0.0, \"count\": 1, \"precision\": 0.0}, {\"OwnerUserId\": \"1496353\", \"cutoff\": 9, \"recall\": 0.0, \"count\": 1, \"precision\": 0.0}, {\"OwnerUserId\": \"1496353\", \"cutoff\": 10, \"recall\": 0.0, \"count\": 1, \"precision\": 0.0}, {\"OwnerUserId\": \"1496353\", \"cutoff\": 11, \"recall\": 0.0, \"count\": 1, \"precision\": 0.0}, {\"OwnerUserId\": \"1496353\", \"cutoff\": 16, \"recall\": 0.0, \"count\": 1, \"precision\": 0.0}, {\"OwnerUserId\": \"1496353\", \"cutoff\": 21, \"recall\": 0.0, \"count\": 1, \"precision\": 0.0}, {\"OwnerUserId\": \"1496353\", \"cutoff\": 26, \"recall\": 0.0, \"count\": 1, \"precision\": 0.0}, {\"OwnerUserId\": \"1496353\", \"cutoff\": 31, \"recall\": 0.0, \"count\": 1, \"precision\": 0.0}, {\"OwnerUserId\": \"1496353\", \"cutoff\": 36, \"recall\": 0.0, \"count\": 1, \"precision\": 0.0}, {\"OwnerUserId\": \"1496353\", \"cutoff\": 41, \"recall\": 0.0, \"count\": 1, \"precision\": 0.0}, {\"OwnerUserId\": \"1496353\", \"cutoff\": 46, \"recall\": 0.0, \"count\": 1, \"precision\": 0.0}, {\"OwnerUserId\": \"1526510\", \"cutoff\": 1, \"recall\": 0.5, \"count\": 2, \"precision\": 1.0}, {\"OwnerUserId\": \"1526510\", \"cutoff\": 2, \"recall\": 0.5, \"count\": 2, \"precision\": 0.5}, {\"OwnerUserId\": \"1526510\", \"cutoff\": 3, \"recall\": 0.5, \"count\": 2, \"precision\": 0.3333333333333333}, {\"OwnerUserId\": \"1526510\", \"cutoff\": 4, \"recall\": 0.5, \"count\": 2, \"precision\": 0.25}, {\"OwnerUserId\": \"1526510\", \"cutoff\": 5, \"recall\": 0.5, \"count\": 2, \"precision\": 0.2}, {\"OwnerUserId\": \"1526510\", \"cutoff\": 6, \"recall\": 0.5, \"count\": 2, \"precision\": 0.16666666666666666}, {\"OwnerUserId\": \"1526510\", \"cutoff\": 7, \"recall\": 0.5, \"count\": 2, \"precision\": 0.14285714285714285}, {\"OwnerUserId\": \"1526510\", \"cutoff\": 8, \"recall\": 0.5, \"count\": 2, \"precision\": 0.125}, {\"OwnerUserId\": \"1526510\", \"cutoff\": 9, \"recall\": 0.5, \"count\": 2, \"precision\": 0.1111111111111111}, {\"OwnerUserId\": \"1526510\", \"cutoff\": 10, \"recall\": 0.5, \"count\": 2, \"precision\": 0.1}, {\"OwnerUserId\": \"1526510\", \"cutoff\": 11, \"recall\": 0.5, \"count\": 2, \"precision\": 0.09090909090909091}, {\"OwnerUserId\": \"1526510\", \"cutoff\": 16, \"recall\": 0.5, \"count\": 2, \"precision\": 0.0625}, {\"OwnerUserId\": \"1526510\", \"cutoff\": 21, \"recall\": 0.5, \"count\": 2, \"precision\": 0.047619047619047616}, {\"OwnerUserId\": \"1526510\", \"cutoff\": 26, \"recall\": 0.5, \"count\": 2, \"precision\": 0.038461538461538464}, {\"OwnerUserId\": \"1526510\", \"cutoff\": 31, \"recall\": 0.5, \"count\": 2, \"precision\": 0.03225806451612903}, {\"OwnerUserId\": \"1526510\", \"cutoff\": 36, \"recall\": 0.5, \"count\": 2, \"precision\": 0.027777777777777776}, {\"OwnerUserId\": \"1526510\", \"cutoff\": 41, \"recall\": 0.5, \"count\": 2, \"precision\": 0.024390243902439025}, {\"OwnerUserId\": \"1526510\", \"cutoff\": 46, \"recall\": 0.5, \"count\": 2, \"precision\": 0.021739130434782608}, {\"OwnerUserId\": \"1572845\", \"cutoff\": 1, \"recall\": 0.0, \"count\": 4, \"precision\": 0.0}, {\"OwnerUserId\": \"1572845\", \"cutoff\": 2, \"recall\": 0.0, \"count\": 4, \"precision\": 0.0}, {\"OwnerUserId\": \"1572845\", \"cutoff\": 3, \"recall\": 0.0, \"count\": 4, \"precision\": 0.0}, {\"OwnerUserId\": \"1572845\", \"cutoff\": 4, \"recall\": 0.0, \"count\": 4, \"precision\": 0.0}, {\"OwnerUserId\": \"1572845\", \"cutoff\": 5, \"recall\": 0.0, \"count\": 4, \"precision\": 0.0}, {\"OwnerUserId\": \"1572845\", \"cutoff\": 6, \"recall\": 0.25, \"count\": 4, \"precision\": 0.16666666666666666}, {\"OwnerUserId\": \"1572845\", \"cutoff\": 7, \"recall\": 0.25, \"count\": 4, \"precision\": 0.14285714285714285}, {\"OwnerUserId\": \"1572845\", \"cutoff\": 8, \"recall\": 0.25, \"count\": 4, \"precision\": 0.125}, {\"OwnerUserId\": \"1572845\", \"cutoff\": 9, \"recall\": 0.25, \"count\": 4, \"precision\": 0.1111111111111111}, {\"OwnerUserId\": \"1572845\", \"cutoff\": 10, \"recall\": 0.25, \"count\": 4, \"precision\": 0.1}, {\"OwnerUserId\": \"1572845\", \"cutoff\": 11, \"recall\": 0.25, \"count\": 4, \"precision\": 0.09090909090909091}, {\"OwnerUserId\": \"1572845\", \"cutoff\": 16, \"recall\": 0.25, \"count\": 4, \"precision\": 0.0625}, {\"OwnerUserId\": \"1572845\", \"cutoff\": 21, \"recall\": 0.25, \"count\": 4, \"precision\": 0.047619047619047616}, {\"OwnerUserId\": \"1572845\", \"cutoff\": 26, \"recall\": 0.25, \"count\": 4, \"precision\": 0.038461538461538464}, {\"OwnerUserId\": \"1572845\", \"cutoff\": 31, \"recall\": 0.25, \"count\": 4, \"precision\": 0.03225806451612903}, {\"OwnerUserId\": \"1572845\", \"cutoff\": 36, \"recall\": 0.25, \"count\": 4, \"precision\": 0.027777777777777776}, {\"OwnerUserId\": \"1572845\", \"cutoff\": 41, \"recall\": 0.25, \"count\": 4, \"precision\": 0.024390243902439025}, {\"OwnerUserId\": \"1572845\", \"cutoff\": 46, \"recall\": 0.25, \"count\": 4, \"precision\": 0.021739130434782608}, {\"OwnerUserId\": \"1622497\", \"cutoff\": 1, \"recall\": 0.0, \"count\": 1, \"precision\": 0.0}, {\"OwnerUserId\": \"1622497\", \"cutoff\": 2, \"recall\": 1.0, \"count\": 1, \"precision\": 0.5}, {\"OwnerUserId\": \"1622497\", \"cutoff\": 3, \"recall\": 1.0, \"count\": 1, \"precision\": 0.3333333333333333}, {\"OwnerUserId\": \"1622497\", \"cutoff\": 4, \"recall\": 1.0, \"count\": 1, \"precision\": 0.25}, {\"OwnerUserId\": \"1622497\", \"cutoff\": 5, \"recall\": 1.0, \"count\": 1, \"precision\": 0.2}, {\"OwnerUserId\": \"1622497\", \"cutoff\": 6, \"recall\": 1.0, \"count\": 1, \"precision\": 0.16666666666666666}, {\"OwnerUserId\": \"1622497\", \"cutoff\": 7, \"recall\": 1.0, \"count\": 1, \"precision\": 0.14285714285714285}, {\"OwnerUserId\": \"1622497\", \"cutoff\": 8, \"recall\": 1.0, \"count\": 1, \"precision\": 0.125}, {\"OwnerUserId\": \"1622497\", \"cutoff\": 9, \"recall\": 1.0, \"count\": 1, \"precision\": 0.1111111111111111}, {\"OwnerUserId\": \"1622497\", \"cutoff\": 10, \"recall\": 1.0, \"count\": 1, \"precision\": 0.1}, {\"OwnerUserId\": \"1622497\", \"cutoff\": 11, \"recall\": 1.0, \"count\": 1, \"precision\": 0.09090909090909091}, {\"OwnerUserId\": \"1622497\", \"cutoff\": 16, \"recall\": 1.0, \"count\": 1, \"precision\": 0.0625}, {\"OwnerUserId\": \"1622497\", \"cutoff\": 21, \"recall\": 1.0, \"count\": 1, \"precision\": 0.047619047619047616}, {\"OwnerUserId\": \"1622497\", \"cutoff\": 26, \"recall\": 1.0, \"count\": 1, \"precision\": 0.038461538461538464}, {\"OwnerUserId\": \"1622497\", \"cutoff\": 31, \"recall\": 1.0, \"count\": 1, \"precision\": 0.03225806451612903}, {\"OwnerUserId\": \"1622497\", \"cutoff\": 36, \"recall\": 1.0, \"count\": 1, \"precision\": 0.027777777777777776}, {\"OwnerUserId\": \"1622497\", \"cutoff\": 41, \"recall\": 1.0, \"count\": 1, \"precision\": 0.024390243902439025}, {\"OwnerUserId\": \"1622497\", \"cutoff\": 46, \"recall\": 1.0, \"count\": 1, \"precision\": 0.021739130434782608}, {\"OwnerUserId\": \"1629996\", \"cutoff\": 1, \"recall\": 0.0, \"count\": 2, \"precision\": 0.0}, {\"OwnerUserId\": \"1629996\", \"cutoff\": 2, \"recall\": 0.0, \"count\": 2, \"precision\": 0.0}, {\"OwnerUserId\": \"1629996\", \"cutoff\": 3, \"recall\": 0.0, \"count\": 2, \"precision\": 0.0}, {\"OwnerUserId\": \"1629996\", \"cutoff\": 4, \"recall\": 0.0, \"count\": 2, \"precision\": 0.0}, {\"OwnerUserId\": \"1629996\", \"cutoff\": 5, \"recall\": 0.5, \"count\": 2, \"precision\": 0.2}, {\"OwnerUserId\": \"1629996\", \"cutoff\": 6, \"recall\": 0.5, \"count\": 2, \"precision\": 0.16666666666666666}, {\"OwnerUserId\": \"1629996\", \"cutoff\": 7, \"recall\": 0.5, \"count\": 2, \"precision\": 0.14285714285714285}, {\"OwnerUserId\": \"1629996\", \"cutoff\": 8, \"recall\": 0.5, \"count\": 2, \"precision\": 0.125}, {\"OwnerUserId\": \"1629996\", \"cutoff\": 9, \"recall\": 0.5, \"count\": 2, \"precision\": 0.1111111111111111}, {\"OwnerUserId\": \"1629996\", \"cutoff\": 10, \"recall\": 0.5, \"count\": 2, \"precision\": 0.1}, {\"OwnerUserId\": \"1629996\", \"cutoff\": 11, \"recall\": 0.5, \"count\": 2, \"precision\": 0.09090909090909091}, {\"OwnerUserId\": \"1629996\", \"cutoff\": 16, \"recall\": 0.5, \"count\": 2, \"precision\": 0.0625}, {\"OwnerUserId\": \"1629996\", \"cutoff\": 21, \"recall\": 1.0, \"count\": 2, \"precision\": 0.09523809523809523}, {\"OwnerUserId\": \"1629996\", \"cutoff\": 26, \"recall\": 1.0, \"count\": 2, \"precision\": 0.07692307692307693}, {\"OwnerUserId\": \"1629996\", \"cutoff\": 31, \"recall\": 1.0, \"count\": 2, \"precision\": 0.06451612903225806}, {\"OwnerUserId\": \"1629996\", \"cutoff\": 36, \"recall\": 1.0, \"count\": 2, \"precision\": 0.05555555555555555}, {\"OwnerUserId\": \"1629996\", \"cutoff\": 41, \"recall\": 1.0, \"count\": 2, \"precision\": 0.04878048780487805}, {\"OwnerUserId\": \"1629996\", \"cutoff\": 46, \"recall\": 1.0, \"count\": 2, \"precision\": 0.043478260869565216}, {\"OwnerUserId\": \"193441\", \"cutoff\": 1, \"recall\": 0.0, \"count\": 1, \"precision\": 0.0}, {\"OwnerUserId\": \"193441\", \"cutoff\": 2, \"recall\": 0.0, \"count\": 1, \"precision\": 0.0}, {\"OwnerUserId\": \"193441\", \"cutoff\": 3, \"recall\": 0.0, \"count\": 1, \"precision\": 0.0}, {\"OwnerUserId\": \"193441\", \"cutoff\": 4, \"recall\": 0.0, \"count\": 1, \"precision\": 0.0}, {\"OwnerUserId\": \"193441\", \"cutoff\": 5, \"recall\": 0.0, \"count\": 1, \"precision\": 0.0}, {\"OwnerUserId\": \"193441\", \"cutoff\": 6, \"recall\": 0.0, \"count\": 1, \"precision\": 0.0}, {\"OwnerUserId\": \"193441\", \"cutoff\": 7, \"recall\": 0.0, \"count\": 1, \"precision\": 0.0}, {\"OwnerUserId\": \"193441\", \"cutoff\": 8, \"recall\": 0.0, \"count\": 1, \"precision\": 0.0}, {\"OwnerUserId\": \"193441\", \"cutoff\": 9, \"recall\": 0.0, \"count\": 1, \"precision\": 0.0}, {\"OwnerUserId\": \"193441\", \"cutoff\": 10, \"recall\": 0.0, \"count\": 1, \"precision\": 0.0}, {\"OwnerUserId\": \"193441\", \"cutoff\": 11, \"recall\": 0.0, \"count\": 1, \"precision\": 0.0}, {\"OwnerUserId\": \"193441\", \"cutoff\": 16, \"recall\": 0.0, \"count\": 1, \"precision\": 0.0}, {\"OwnerUserId\": \"193441\", \"cutoff\": 21, \"recall\": 0.0, \"count\": 1, \"precision\": 0.0}, {\"OwnerUserId\": \"193441\", \"cutoff\": 26, \"recall\": 0.0, \"count\": 1, \"precision\": 0.0}, {\"OwnerUserId\": \"193441\", \"cutoff\": 31, \"recall\": 0.0, \"count\": 1, \"precision\": 0.0}, {\"OwnerUserId\": \"193441\", \"cutoff\": 36, \"recall\": 0.0, \"count\": 1, \"precision\": 0.0}, {\"OwnerUserId\": \"193441\", \"cutoff\": 41, \"recall\": 0.0, \"count\": 1, \"precision\": 0.0}, {\"OwnerUserId\": \"193441\", \"cutoff\": 46, \"recall\": 0.0, \"count\": 1, \"precision\": 0.0}, {\"OwnerUserId\": \"215056\", \"cutoff\": 1, \"recall\": 0.0, \"count\": 5, \"precision\": 0.0}, {\"OwnerUserId\": \"215056\", \"cutoff\": 2, \"recall\": 0.0, \"count\": 5, \"precision\": 0.0}, {\"OwnerUserId\": \"215056\", \"cutoff\": 3, \"recall\": 0.0, \"count\": 5, \"precision\": 0.0}, {\"OwnerUserId\": \"215056\", \"cutoff\": 4, \"recall\": 0.0, \"count\": 5, \"precision\": 0.0}, {\"OwnerUserId\": \"215056\", \"cutoff\": 5, \"recall\": 0.0, \"count\": 5, \"precision\": 0.0}, {\"OwnerUserId\": \"215056\", \"cutoff\": 6, \"recall\": 0.0, \"count\": 5, \"precision\": 0.0}, {\"OwnerUserId\": \"215056\", \"cutoff\": 7, \"recall\": 0.0, \"count\": 5, \"precision\": 0.0}, {\"OwnerUserId\": \"215056\", \"cutoff\": 8, \"recall\": 0.0, \"count\": 5, \"precision\": 0.0}, {\"OwnerUserId\": \"215056\", \"cutoff\": 9, \"recall\": 0.0, \"count\": 5, \"precision\": 0.0}, {\"OwnerUserId\": \"215056\", \"cutoff\": 10, \"recall\": 0.0, \"count\": 5, \"precision\": 0.0}, {\"OwnerUserId\": \"215056\", \"cutoff\": 11, \"recall\": 0.0, \"count\": 5, \"precision\": 0.0}, {\"OwnerUserId\": \"215056\", \"cutoff\": 16, \"recall\": 0.0, \"count\": 5, \"precision\": 0.0}, {\"OwnerUserId\": \"215056\", \"cutoff\": 21, \"recall\": 0.0, \"count\": 5, \"precision\": 0.0}, {\"OwnerUserId\": \"215056\", \"cutoff\": 26, \"recall\": 0.0, \"count\": 5, \"precision\": 0.0}, {\"OwnerUserId\": \"215056\", \"cutoff\": 31, \"recall\": 0.2, \"count\": 5, \"precision\": 0.03225806451612903}, {\"OwnerUserId\": \"215056\", \"cutoff\": 36, \"recall\": 0.2, \"count\": 5, \"precision\": 0.027777777777777776}, {\"OwnerUserId\": \"215056\", \"cutoff\": 41, \"recall\": 0.4, \"count\": 5, \"precision\": 0.04878048780487805}, {\"OwnerUserId\": \"215056\", \"cutoff\": 46, \"recall\": 0.4, \"count\": 5, \"precision\": 0.043478260869565216}, {\"OwnerUserId\": \"239625\", \"cutoff\": 1, \"recall\": 0.0, \"count\": 1, \"precision\": 0.0}, {\"OwnerUserId\": \"239625\", \"cutoff\": 2, \"recall\": 0.0, \"count\": 1, \"precision\": 0.0}, {\"OwnerUserId\": \"239625\", \"cutoff\": 3, \"recall\": 0.0, \"count\": 1, \"precision\": 0.0}, {\"OwnerUserId\": \"239625\", \"cutoff\": 4, \"recall\": 0.0, \"count\": 1, \"precision\": 0.0}, {\"OwnerUserId\": \"239625\", \"cutoff\": 5, \"recall\": 0.0, \"count\": 1, \"precision\": 0.0}, {\"OwnerUserId\": \"239625\", \"cutoff\": 6, \"recall\": 0.0, \"count\": 1, \"precision\": 0.0}, {\"OwnerUserId\": \"239625\", \"cutoff\": 7, \"recall\": 0.0, \"count\": 1, \"precision\": 0.0}, {\"OwnerUserId\": \"239625\", \"cutoff\": 8, \"recall\": 0.0, \"count\": 1, \"precision\": 0.0}, {\"OwnerUserId\": \"239625\", \"cutoff\": 9, \"recall\": 0.0, \"count\": 1, \"precision\": 0.0}, {\"OwnerUserId\": \"239625\", \"cutoff\": 10, \"recall\": 1.0, \"count\": 1, \"precision\": 0.1}, {\"OwnerUserId\": \"239625\", \"cutoff\": 11, \"recall\": 1.0, \"count\": 1, \"precision\": 0.09090909090909091}, {\"OwnerUserId\": \"239625\", \"cutoff\": 16, \"recall\": 1.0, \"count\": 1, \"precision\": 0.0625}, {\"OwnerUserId\": \"239625\", \"cutoff\": 21, \"recall\": 1.0, \"count\": 1, \"precision\": 0.047619047619047616}, {\"OwnerUserId\": \"239625\", \"cutoff\": 26, \"recall\": 1.0, \"count\": 1, \"precision\": 0.038461538461538464}, {\"OwnerUserId\": \"239625\", \"cutoff\": 31, \"recall\": 1.0, \"count\": 1, \"precision\": 0.03225806451612903}, {\"OwnerUserId\": \"239625\", \"cutoff\": 36, \"recall\": 1.0, \"count\": 1, \"precision\": 0.027777777777777776}, {\"OwnerUserId\": \"239625\", \"cutoff\": 41, \"recall\": 1.0, \"count\": 1, \"precision\": 0.024390243902439025}, {\"OwnerUserId\": \"239625\", \"cutoff\": 46, \"recall\": 1.0, \"count\": 1, \"precision\": 0.021739130434782608}, {\"OwnerUserId\": \"261980\", \"cutoff\": 1, \"recall\": 1.0, \"count\": 1, \"precision\": 1.0}, {\"OwnerUserId\": \"261980\", \"cutoff\": 2, \"recall\": 1.0, \"count\": 1, \"precision\": 0.5}, {\"OwnerUserId\": \"261980\", \"cutoff\": 3, \"recall\": 1.0, \"count\": 1, \"precision\": 0.3333333333333333}, {\"OwnerUserId\": \"261980\", \"cutoff\": 4, \"recall\": 1.0, \"count\": 1, \"precision\": 0.25}, {\"OwnerUserId\": \"261980\", \"cutoff\": 5, \"recall\": 1.0, \"count\": 1, \"precision\": 0.2}, {\"OwnerUserId\": \"261980\", \"cutoff\": 6, \"recall\": 1.0, \"count\": 1, \"precision\": 0.16666666666666666}, {\"OwnerUserId\": \"261980\", \"cutoff\": 7, \"recall\": 1.0, \"count\": 1, \"precision\": 0.14285714285714285}, {\"OwnerUserId\": \"261980\", \"cutoff\": 8, \"recall\": 1.0, \"count\": 1, \"precision\": 0.125}, {\"OwnerUserId\": \"261980\", \"cutoff\": 9, \"recall\": 1.0, \"count\": 1, \"precision\": 0.1111111111111111}, {\"OwnerUserId\": \"261980\", \"cutoff\": 10, \"recall\": 1.0, \"count\": 1, \"precision\": 0.1}, {\"OwnerUserId\": \"261980\", \"cutoff\": 11, \"recall\": 1.0, \"count\": 1, \"precision\": 0.09090909090909091}, {\"OwnerUserId\": \"261980\", \"cutoff\": 16, \"recall\": 1.0, \"count\": 1, \"precision\": 0.0625}, {\"OwnerUserId\": \"261980\", \"cutoff\": 21, \"recall\": 1.0, \"count\": 1, \"precision\": 0.047619047619047616}, {\"OwnerUserId\": \"261980\", \"cutoff\": 26, \"recall\": 1.0, \"count\": 1, \"precision\": 0.038461538461538464}, {\"OwnerUserId\": \"261980\", \"cutoff\": 31, \"recall\": 1.0, \"count\": 1, \"precision\": 0.03225806451612903}, {\"OwnerUserId\": \"261980\", \"cutoff\": 36, \"recall\": 1.0, \"count\": 1, \"precision\": 0.027777777777777776}, {\"OwnerUserId\": \"261980\", \"cutoff\": 41, \"recall\": 1.0, \"count\": 1, \"precision\": 0.024390243902439025}, {\"OwnerUserId\": \"261980\", \"cutoff\": 46, \"recall\": 1.0, \"count\": 1, \"precision\": 0.021739130434782608}, {\"OwnerUserId\": \"323208\", \"cutoff\": 1, \"recall\": 0.0, \"count\": 1, \"precision\": 0.0}, {\"OwnerUserId\": \"323208\", \"cutoff\": 2, \"recall\": 0.0, \"count\": 1, \"precision\": 0.0}, {\"OwnerUserId\": \"323208\", \"cutoff\": 3, \"recall\": 0.0, \"count\": 1, \"precision\": 0.0}, {\"OwnerUserId\": \"323208\", \"cutoff\": 4, \"recall\": 0.0, \"count\": 1, \"precision\": 0.0}, {\"OwnerUserId\": \"323208\", \"cutoff\": 5, \"recall\": 0.0, \"count\": 1, \"precision\": 0.0}, {\"OwnerUserId\": \"323208\", \"cutoff\": 6, \"recall\": 0.0, \"count\": 1, \"precision\": 0.0}, {\"OwnerUserId\": \"323208\", \"cutoff\": 7, \"recall\": 0.0, \"count\": 1, \"precision\": 0.0}, {\"OwnerUserId\": \"323208\", \"cutoff\": 8, \"recall\": 0.0, \"count\": 1, \"precision\": 0.0}, {\"OwnerUserId\": \"323208\", \"cutoff\": 9, \"recall\": 0.0, \"count\": 1, \"precision\": 0.0}, {\"OwnerUserId\": \"323208\", \"cutoff\": 10, \"recall\": 0.0, \"count\": 1, \"precision\": 0.0}, {\"OwnerUserId\": \"323208\", \"cutoff\": 11, \"recall\": 0.0, \"count\": 1, \"precision\": 0.0}, {\"OwnerUserId\": \"323208\", \"cutoff\": 16, \"recall\": 0.0, \"count\": 1, \"precision\": 0.0}, {\"OwnerUserId\": \"323208\", \"cutoff\": 21, \"recall\": 0.0, \"count\": 1, \"precision\": 0.0}, {\"OwnerUserId\": \"323208\", \"cutoff\": 26, \"recall\": 0.0, \"count\": 1, \"precision\": 0.0}, {\"OwnerUserId\": \"323208\", \"cutoff\": 31, \"recall\": 0.0, \"count\": 1, \"precision\": 0.0}, {\"OwnerUserId\": \"323208\", \"cutoff\": 36, \"recall\": 0.0, \"count\": 1, \"precision\": 0.0}, {\"OwnerUserId\": \"323208\", \"cutoff\": 41, \"recall\": 0.0, \"count\": 1, \"precision\": 0.0}, {\"OwnerUserId\": \"323208\", \"cutoff\": 46, \"recall\": 0.0, \"count\": 1, \"precision\": 0.0}, {\"OwnerUserId\": \"328723\", \"cutoff\": 1, \"recall\": 0.0, \"count\": 4, \"precision\": 0.0}, {\"OwnerUserId\": \"328723\", \"cutoff\": 2, \"recall\": 0.0, \"count\": 4, \"precision\": 0.0}, {\"OwnerUserId\": \"328723\", \"cutoff\": 3, \"recall\": 0.0, \"count\": 4, \"precision\": 0.0}, {\"OwnerUserId\": \"328723\", \"cutoff\": 4, \"recall\": 0.0, \"count\": 4, \"precision\": 0.0}, {\"OwnerUserId\": \"328723\", \"cutoff\": 5, \"recall\": 0.0, \"count\": 4, \"precision\": 0.0}, {\"OwnerUserId\": \"328723\", \"cutoff\": 6, \"recall\": 0.0, \"count\": 4, \"precision\": 0.0}, {\"OwnerUserId\": \"328723\", \"cutoff\": 7, \"recall\": 0.0, \"count\": 4, \"precision\": 0.0}, {\"OwnerUserId\": \"328723\", \"cutoff\": 8, \"recall\": 0.0, \"count\": 4, \"precision\": 0.0}, {\"OwnerUserId\": \"328723\", \"cutoff\": 9, \"recall\": 0.0, \"count\": 4, \"precision\": 0.0}, {\"OwnerUserId\": \"328723\", \"cutoff\": 10, \"recall\": 0.0, \"count\": 4, \"precision\": 0.0}, {\"OwnerUserId\": \"328723\", \"cutoff\": 11, \"recall\": 0.0, \"count\": 4, \"precision\": 0.0}, {\"OwnerUserId\": \"328723\", \"cutoff\": 16, \"recall\": 0.0, \"count\": 4, \"precision\": 0.0}, {\"OwnerUserId\": \"328723\", \"cutoff\": 21, \"recall\": 0.0, \"count\": 4, \"precision\": 0.0}, {\"OwnerUserId\": \"328723\", \"cutoff\": 26, \"recall\": 0.0, \"count\": 4, \"precision\": 0.0}, {\"OwnerUserId\": \"328723\", \"cutoff\": 31, \"recall\": 0.0, \"count\": 4, \"precision\": 0.0}, {\"OwnerUserId\": \"328723\", \"cutoff\": 36, \"recall\": 0.0, \"count\": 4, \"precision\": 0.0}, {\"OwnerUserId\": \"328723\", \"cutoff\": 41, \"recall\": 0.0, \"count\": 4, \"precision\": 0.0}, {\"OwnerUserId\": \"328723\", \"cutoff\": 46, \"recall\": 0.0, \"count\": 4, \"precision\": 0.0}, {\"OwnerUserId\": \"354681\", \"cutoff\": 1, \"recall\": 0.0, \"count\": 1, \"precision\": 0.0}, {\"OwnerUserId\": \"354681\", \"cutoff\": 2, \"recall\": 0.0, \"count\": 1, \"precision\": 0.0}, {\"OwnerUserId\": \"354681\", \"cutoff\": 3, \"recall\": 0.0, \"count\": 1, \"precision\": 0.0}, {\"OwnerUserId\": \"354681\", \"cutoff\": 4, \"recall\": 0.0, \"count\": 1, \"precision\": 0.0}, {\"OwnerUserId\": \"354681\", \"cutoff\": 5, \"recall\": 0.0, \"count\": 1, \"precision\": 0.0}, {\"OwnerUserId\": \"354681\", \"cutoff\": 6, \"recall\": 0.0, \"count\": 1, \"precision\": 0.0}, {\"OwnerUserId\": \"354681\", \"cutoff\": 7, \"recall\": 0.0, \"count\": 1, \"precision\": 0.0}, {\"OwnerUserId\": \"354681\", \"cutoff\": 8, \"recall\": 0.0, \"count\": 1, \"precision\": 0.0}, {\"OwnerUserId\": \"354681\", \"cutoff\": 9, \"recall\": 0.0, \"count\": 1, \"precision\": 0.0}, {\"OwnerUserId\": \"354681\", \"cutoff\": 10, \"recall\": 0.0, \"count\": 1, \"precision\": 0.0}, {\"OwnerUserId\": \"354681\", \"cutoff\": 11, \"recall\": 0.0, \"count\": 1, \"precision\": 0.0}, {\"OwnerUserId\": \"354681\", \"cutoff\": 16, \"recall\": 0.0, \"count\": 1, \"precision\": 0.0}, {\"OwnerUserId\": \"354681\", \"cutoff\": 21, \"recall\": 0.0, \"count\": 1, \"precision\": 0.0}, {\"OwnerUserId\": \"354681\", \"cutoff\": 26, \"recall\": 0.0, \"count\": 1, \"precision\": 0.0}, {\"OwnerUserId\": \"354681\", \"cutoff\": 31, \"recall\": 0.0, \"count\": 1, \"precision\": 0.0}, {\"OwnerUserId\": \"354681\", \"cutoff\": 36, \"recall\": 0.0, \"count\": 1, \"precision\": 0.0}, {\"OwnerUserId\": \"354681\", \"cutoff\": 41, \"recall\": 0.0, \"count\": 1, \"precision\": 0.0}, {\"OwnerUserId\": \"354681\", \"cutoff\": 46, \"recall\": 0.0, \"count\": 1, \"precision\": 0.0}, {\"OwnerUserId\": \"369389\", \"cutoff\": 1, \"recall\": 0.0, \"count\": 1, \"precision\": 0.0}, {\"OwnerUserId\": \"369389\", \"cutoff\": 2, \"recall\": 0.0, \"count\": 1, \"precision\": 0.0}, {\"OwnerUserId\": \"369389\", \"cutoff\": 3, \"recall\": 0.0, \"count\": 1, \"precision\": 0.0}, {\"OwnerUserId\": \"369389\", \"cutoff\": 4, \"recall\": 0.0, \"count\": 1, \"precision\": 0.0}, {\"OwnerUserId\": \"369389\", \"cutoff\": 5, \"recall\": 0.0, \"count\": 1, \"precision\": 0.0}, {\"OwnerUserId\": \"369389\", \"cutoff\": 6, \"recall\": 0.0, \"count\": 1, \"precision\": 0.0}, {\"OwnerUserId\": \"369389\", \"cutoff\": 7, \"recall\": 0.0, \"count\": 1, \"precision\": 0.0}, {\"OwnerUserId\": \"369389\", \"cutoff\": 8, \"recall\": 0.0, \"count\": 1, \"precision\": 0.0}, {\"OwnerUserId\": \"369389\", \"cutoff\": 9, \"recall\": 0.0, \"count\": 1, \"precision\": 0.0}, {\"OwnerUserId\": \"369389\", \"cutoff\": 10, \"recall\": 0.0, \"count\": 1, \"precision\": 0.0}, {\"OwnerUserId\": \"369389\", \"cutoff\": 11, \"recall\": 0.0, \"count\": 1, \"precision\": 0.0}, {\"OwnerUserId\": \"369389\", \"cutoff\": 16, \"recall\": 0.0, \"count\": 1, \"precision\": 0.0}, {\"OwnerUserId\": \"369389\", \"cutoff\": 21, \"recall\": 0.0, \"count\": 1, \"precision\": 0.0}, {\"OwnerUserId\": \"369389\", \"cutoff\": 26, \"recall\": 0.0, \"count\": 1, \"precision\": 0.0}, {\"OwnerUserId\": \"369389\", \"cutoff\": 31, \"recall\": 0.0, \"count\": 1, \"precision\": 0.0}, {\"OwnerUserId\": \"369389\", \"cutoff\": 36, \"recall\": 0.0, \"count\": 1, \"precision\": 0.0}, {\"OwnerUserId\": \"369389\", \"cutoff\": 41, \"recall\": 0.0, \"count\": 1, \"precision\": 0.0}, {\"OwnerUserId\": \"369389\", \"cutoff\": 46, \"recall\": 0.0, \"count\": 1, \"precision\": 0.0}, {\"OwnerUserId\": \"561438\", \"cutoff\": 1, \"recall\": 0.16666666666666666, \"count\": 6, \"precision\": 1.0}, {\"OwnerUserId\": \"561438\", \"cutoff\": 2, \"recall\": 0.16666666666666666, \"count\": 6, \"precision\": 0.5}, {\"OwnerUserId\": \"561438\", \"cutoff\": 3, \"recall\": 0.16666666666666666, \"count\": 6, \"precision\": 0.3333333333333333}, {\"OwnerUserId\": \"561438\", \"cutoff\": 4, \"recall\": 0.16666666666666666, \"count\": 6, \"precision\": 0.25}, {\"OwnerUserId\": \"561438\", \"cutoff\": 5, \"recall\": 0.16666666666666666, \"count\": 6, \"precision\": 0.2}, {\"OwnerUserId\": \"561438\", \"cutoff\": 6, \"recall\": 0.16666666666666666, \"count\": 6, \"precision\": 0.16666666666666666}, {\"OwnerUserId\": \"561438\", \"cutoff\": 7, \"recall\": 0.16666666666666666, \"count\": 6, \"precision\": 0.14285714285714285}, {\"OwnerUserId\": \"561438\", \"cutoff\": 8, \"recall\": 0.16666666666666666, \"count\": 6, \"precision\": 0.125}, {\"OwnerUserId\": \"561438\", \"cutoff\": 9, \"recall\": 0.3333333333333333, \"count\": 6, \"precision\": 0.2222222222222222}, {\"OwnerUserId\": \"561438\", \"cutoff\": 10, \"recall\": 0.3333333333333333, \"count\": 6, \"precision\": 0.2}, {\"OwnerUserId\": \"561438\", \"cutoff\": 11, \"recall\": 0.3333333333333333, \"count\": 6, \"precision\": 0.18181818181818182}, {\"OwnerUserId\": \"561438\", \"cutoff\": 16, \"recall\": 0.3333333333333333, \"count\": 6, \"precision\": 0.125}, {\"OwnerUserId\": \"561438\", \"cutoff\": 21, \"recall\": 0.3333333333333333, \"count\": 6, \"precision\": 0.09523809523809523}, {\"OwnerUserId\": \"561438\", \"cutoff\": 26, \"recall\": 0.3333333333333333, \"count\": 6, \"precision\": 0.07692307692307693}, {\"OwnerUserId\": \"561438\", \"cutoff\": 31, \"recall\": 0.3333333333333333, \"count\": 6, \"precision\": 0.06451612903225806}, {\"OwnerUserId\": \"561438\", \"cutoff\": 36, \"recall\": 0.3333333333333333, \"count\": 6, \"precision\": 0.05555555555555555}, {\"OwnerUserId\": \"561438\", \"cutoff\": 41, \"recall\": 0.3333333333333333, \"count\": 6, \"precision\": 0.04878048780487805}, {\"OwnerUserId\": \"561438\", \"cutoff\": 46, \"recall\": 0.3333333333333333, \"count\": 6, \"precision\": 0.043478260869565216}, {\"OwnerUserId\": \"563445\", \"cutoff\": 1, \"recall\": 0.0, \"count\": 1, \"precision\": 0.0}, {\"OwnerUserId\": \"563445\", \"cutoff\": 2, \"recall\": 0.0, \"count\": 1, \"precision\": 0.0}, {\"OwnerUserId\": \"563445\", \"cutoff\": 3, \"recall\": 0.0, \"count\": 1, \"precision\": 0.0}, {\"OwnerUserId\": \"563445\", \"cutoff\": 4, \"recall\": 0.0, \"count\": 1, \"precision\": 0.0}, {\"OwnerUserId\": \"563445\", \"cutoff\": 5, \"recall\": 0.0, \"count\": 1, \"precision\": 0.0}, {\"OwnerUserId\": \"563445\", \"cutoff\": 6, \"recall\": 0.0, \"count\": 1, \"precision\": 0.0}, {\"OwnerUserId\": \"563445\", \"cutoff\": 7, \"recall\": 0.0, \"count\": 1, \"precision\": 0.0}, {\"OwnerUserId\": \"563445\", \"cutoff\": 8, \"recall\": 0.0, \"count\": 1, \"precision\": 0.0}, {\"OwnerUserId\": \"563445\", \"cutoff\": 9, \"recall\": 0.0, \"count\": 1, \"precision\": 0.0}, {\"OwnerUserId\": \"563445\", \"cutoff\": 10, \"recall\": 0.0, \"count\": 1, \"precision\": 0.0}, {\"OwnerUserId\": \"563445\", \"cutoff\": 11, \"recall\": 0.0, \"count\": 1, \"precision\": 0.0}, {\"OwnerUserId\": \"563445\", \"cutoff\": 16, \"recall\": 0.0, \"count\": 1, \"precision\": 0.0}, {\"OwnerUserId\": \"563445\", \"cutoff\": 21, \"recall\": 0.0, \"count\": 1, \"precision\": 0.0}, {\"OwnerUserId\": \"563445\", \"cutoff\": 26, \"recall\": 0.0, \"count\": 1, \"precision\": 0.0}, {\"OwnerUserId\": \"563445\", \"cutoff\": 31, \"recall\": 0.0, \"count\": 1, \"precision\": 0.0}, {\"OwnerUserId\": \"563445\", \"cutoff\": 36, \"recall\": 0.0, \"count\": 1, \"precision\": 0.0}, {\"OwnerUserId\": \"563445\", \"cutoff\": 41, \"recall\": 0.0, \"count\": 1, \"precision\": 0.0}, {\"OwnerUserId\": \"563445\", \"cutoff\": 46, \"recall\": 0.0, \"count\": 1, \"precision\": 0.0}, {\"OwnerUserId\": \"649275\", \"cutoff\": 1, \"recall\": 0.5, \"count\": 2, \"precision\": 1.0}, {\"OwnerUserId\": \"649275\", \"cutoff\": 2, \"recall\": 0.5, \"count\": 2, \"precision\": 0.5}, {\"OwnerUserId\": \"649275\", \"cutoff\": 3, \"recall\": 0.5, \"count\": 2, \"precision\": 0.3333333333333333}, {\"OwnerUserId\": \"649275\", \"cutoff\": 4, \"recall\": 0.5, \"count\": 2, \"precision\": 0.25}, {\"OwnerUserId\": \"649275\", \"cutoff\": 5, \"recall\": 0.5, \"count\": 2, \"precision\": 0.2}, {\"OwnerUserId\": \"649275\", \"cutoff\": 6, \"recall\": 0.5, \"count\": 2, \"precision\": 0.16666666666666666}, {\"OwnerUserId\": \"649275\", \"cutoff\": 7, \"recall\": 0.5, \"count\": 2, \"precision\": 0.14285714285714285}, {\"OwnerUserId\": \"649275\", \"cutoff\": 8, \"recall\": 0.5, \"count\": 2, \"precision\": 0.125}, {\"OwnerUserId\": \"649275\", \"cutoff\": 9, \"recall\": 0.5, \"count\": 2, \"precision\": 0.1111111111111111}, {\"OwnerUserId\": \"649275\", \"cutoff\": 10, \"recall\": 0.5, \"count\": 2, \"precision\": 0.1}, {\"OwnerUserId\": \"649275\", \"cutoff\": 11, \"recall\": 0.5, \"count\": 2, \"precision\": 0.09090909090909091}, {\"OwnerUserId\": \"649275\", \"cutoff\": 16, \"recall\": 0.5, \"count\": 2, \"precision\": 0.0625}, {\"OwnerUserId\": \"649275\", \"cutoff\": 21, \"recall\": 0.5, \"count\": 2, \"precision\": 0.047619047619047616}, {\"OwnerUserId\": \"649275\", \"cutoff\": 26, \"recall\": 0.5, \"count\": 2, \"precision\": 0.038461538461538464}, {\"OwnerUserId\": \"649275\", \"cutoff\": 31, \"recall\": 0.5, \"count\": 2, \"precision\": 0.03225806451612903}, {\"OwnerUserId\": \"649275\", \"cutoff\": 36, \"recall\": 0.5, \"count\": 2, \"precision\": 0.027777777777777776}, {\"OwnerUserId\": \"649275\", \"cutoff\": 41, \"recall\": 0.5, \"count\": 2, \"precision\": 0.024390243902439025}, {\"OwnerUserId\": \"649275\", \"cutoff\": 46, \"recall\": 0.5, \"count\": 2, \"precision\": 0.021739130434782608}, {\"OwnerUserId\": \"694646\", \"cutoff\": 1, \"recall\": 0.0, \"count\": 1, \"precision\": 0.0}, {\"OwnerUserId\": \"694646\", \"cutoff\": 2, \"recall\": 0.0, \"count\": 1, \"precision\": 0.0}, {\"OwnerUserId\": \"694646\", \"cutoff\": 3, \"recall\": 0.0, \"count\": 1, \"precision\": 0.0}, {\"OwnerUserId\": \"694646\", \"cutoff\": 4, \"recall\": 0.0, \"count\": 1, \"precision\": 0.0}, {\"OwnerUserId\": \"694646\", \"cutoff\": 5, \"recall\": 0.0, \"count\": 1, \"precision\": 0.0}, {\"OwnerUserId\": \"694646\", \"cutoff\": 6, \"recall\": 0.0, \"count\": 1, \"precision\": 0.0}, {\"OwnerUserId\": \"694646\", \"cutoff\": 7, \"recall\": 0.0, \"count\": 1, \"precision\": 0.0}, {\"OwnerUserId\": \"694646\", \"cutoff\": 8, \"recall\": 0.0, \"count\": 1, \"precision\": 0.0}, {\"OwnerUserId\": \"694646\", \"cutoff\": 9, \"recall\": 0.0, \"count\": 1, \"precision\": 0.0}, {\"OwnerUserId\": \"694646\", \"cutoff\": 10, \"recall\": 0.0, \"count\": 1, \"precision\": 0.0}, {\"OwnerUserId\": \"694646\", \"cutoff\": 11, \"recall\": 0.0, \"count\": 1, \"precision\": 0.0}, {\"OwnerUserId\": \"694646\", \"cutoff\": 16, \"recall\": 0.0, \"count\": 1, \"precision\": 0.0}, {\"OwnerUserId\": \"694646\", \"cutoff\": 21, \"recall\": 0.0, \"count\": 1, \"precision\": 0.0}, {\"OwnerUserId\": \"694646\", \"cutoff\": 26, \"recall\": 0.0, \"count\": 1, \"precision\": 0.0}, {\"OwnerUserId\": \"694646\", \"cutoff\": 31, \"recall\": 0.0, \"count\": 1, \"precision\": 0.0}, {\"OwnerUserId\": \"694646\", \"cutoff\": 36, \"recall\": 0.0, \"count\": 1, \"precision\": 0.0}, {\"OwnerUserId\": \"694646\", \"cutoff\": 41, \"recall\": 0.0, \"count\": 1, \"precision\": 0.0}, {\"OwnerUserId\": \"694646\", \"cutoff\": 46, \"recall\": 0.0, \"count\": 1, \"precision\": 0.0}, {\"OwnerUserId\": \"700926\", \"cutoff\": 1, \"recall\": 0.0, \"count\": 1, \"precision\": 0.0}, {\"OwnerUserId\": \"700926\", \"cutoff\": 2, \"recall\": 0.0, \"count\": 1, \"precision\": 0.0}, {\"OwnerUserId\": \"700926\", \"cutoff\": 3, \"recall\": 0.0, \"count\": 1, \"precision\": 0.0}, {\"OwnerUserId\": \"700926\", \"cutoff\": 4, \"recall\": 1.0, \"count\": 1, \"precision\": 0.25}, {\"OwnerUserId\": \"700926\", \"cutoff\": 5, \"recall\": 1.0, \"count\": 1, \"precision\": 0.2}, {\"OwnerUserId\": \"700926\", \"cutoff\": 6, \"recall\": 1.0, \"count\": 1, \"precision\": 0.16666666666666666}, {\"OwnerUserId\": \"700926\", \"cutoff\": 7, \"recall\": 1.0, \"count\": 1, \"precision\": 0.14285714285714285}, {\"OwnerUserId\": \"700926\", \"cutoff\": 8, \"recall\": 1.0, \"count\": 1, \"precision\": 0.125}, {\"OwnerUserId\": \"700926\", \"cutoff\": 9, \"recall\": 1.0, \"count\": 1, \"precision\": 0.1111111111111111}, {\"OwnerUserId\": \"700926\", \"cutoff\": 10, \"recall\": 1.0, \"count\": 1, \"precision\": 0.1}, {\"OwnerUserId\": \"700926\", \"cutoff\": 11, \"recall\": 1.0, \"count\": 1, \"precision\": 0.09090909090909091}, {\"OwnerUserId\": \"700926\", \"cutoff\": 16, \"recall\": 1.0, \"count\": 1, \"precision\": 0.0625}, {\"OwnerUserId\": \"700926\", \"cutoff\": 21, \"recall\": 1.0, \"count\": 1, \"precision\": 0.047619047619047616}, {\"OwnerUserId\": \"700926\", \"cutoff\": 26, \"recall\": 1.0, \"count\": 1, \"precision\": 0.038461538461538464}, {\"OwnerUserId\": \"700926\", \"cutoff\": 31, \"recall\": 1.0, \"count\": 1, \"precision\": 0.03225806451612903}, {\"OwnerUserId\": \"700926\", \"cutoff\": 36, \"recall\": 1.0, \"count\": 1, \"precision\": 0.027777777777777776}, {\"OwnerUserId\": \"700926\", \"cutoff\": 41, \"recall\": 1.0, \"count\": 1, \"precision\": 0.024390243902439025}, {\"OwnerUserId\": \"700926\", \"cutoff\": 46, \"recall\": 1.0, \"count\": 1, \"precision\": 0.021739130434782608}, {\"OwnerUserId\": \"71062\", \"cutoff\": 1, \"recall\": 0.04, \"count\": 25, \"precision\": 1.0}, {\"OwnerUserId\": \"71062\", \"cutoff\": 2, \"recall\": 0.08, \"count\": 25, \"precision\": 1.0}, {\"OwnerUserId\": \"71062\", \"cutoff\": 3, \"recall\": 0.08, \"count\": 25, \"precision\": 0.6666666666666666}, {\"OwnerUserId\": \"71062\", \"cutoff\": 4, \"recall\": 0.08, \"count\": 25, \"precision\": 0.5}, {\"OwnerUserId\": \"71062\", \"cutoff\": 5, \"recall\": 0.08, \"count\": 25, \"precision\": 0.4}, {\"OwnerUserId\": \"71062\", \"cutoff\": 6, \"recall\": 0.08, \"count\": 25, \"precision\": 0.3333333333333333}, {\"OwnerUserId\": \"71062\", \"cutoff\": 7, \"recall\": 0.08, \"count\": 25, \"precision\": 0.2857142857142857}, {\"OwnerUserId\": \"71062\", \"cutoff\": 8, \"recall\": 0.12, \"count\": 25, \"precision\": 0.375}, {\"OwnerUserId\": \"71062\", \"cutoff\": 9, \"recall\": 0.16, \"count\": 25, \"precision\": 0.4444444444444444}, {\"OwnerUserId\": \"71062\", \"cutoff\": 10, \"recall\": 0.16, \"count\": 25, \"precision\": 0.4}, {\"OwnerUserId\": \"71062\", \"cutoff\": 11, \"recall\": 0.16, \"count\": 25, \"precision\": 0.36363636363636365}, {\"OwnerUserId\": \"71062\", \"cutoff\": 16, \"recall\": 0.16, \"count\": 25, \"precision\": 0.25}, {\"OwnerUserId\": \"71062\", \"cutoff\": 21, \"recall\": 0.16, \"count\": 25, \"precision\": 0.19047619047619047}, {\"OwnerUserId\": \"71062\", \"cutoff\": 26, \"recall\": 0.2, \"count\": 25, \"precision\": 0.19230769230769232}, {\"OwnerUserId\": \"71062\", \"cutoff\": 31, \"recall\": 0.2, \"count\": 25, \"precision\": 0.16129032258064516}, {\"OwnerUserId\": \"71062\", \"cutoff\": 36, \"recall\": 0.24, \"count\": 25, \"precision\": 0.16666666666666666}, {\"OwnerUserId\": \"71062\", \"cutoff\": 41, \"recall\": 0.24, \"count\": 25, \"precision\": 0.14634146341463414}, {\"OwnerUserId\": \"71062\", \"cutoff\": 46, \"recall\": 0.24, \"count\": 25, \"precision\": 0.13043478260869565}, {\"OwnerUserId\": \"758164\", \"cutoff\": 1, \"recall\": 0.0, \"count\": 9, \"precision\": 0.0}, {\"OwnerUserId\": \"758164\", \"cutoff\": 2, \"recall\": 0.0, \"count\": 9, \"precision\": 0.0}, {\"OwnerUserId\": \"758164\", \"cutoff\": 3, \"recall\": 0.0, \"count\": 9, \"precision\": 0.0}, {\"OwnerUserId\": \"758164\", \"cutoff\": 4, \"recall\": 0.0, \"count\": 9, \"precision\": 0.0}, {\"OwnerUserId\": \"758164\", \"cutoff\": 5, \"recall\": 0.0, \"count\": 9, \"precision\": 0.0}, {\"OwnerUserId\": \"758164\", \"cutoff\": 6, \"recall\": 0.0, \"count\": 9, \"precision\": 0.0}, {\"OwnerUserId\": \"758164\", \"cutoff\": 7, \"recall\": 0.0, \"count\": 9, \"precision\": 0.0}, {\"OwnerUserId\": \"758164\", \"cutoff\": 8, \"recall\": 0.0, \"count\": 9, \"precision\": 0.0}, {\"OwnerUserId\": \"758164\", \"cutoff\": 9, \"recall\": 0.0, \"count\": 9, \"precision\": 0.0}, {\"OwnerUserId\": \"758164\", \"cutoff\": 10, \"recall\": 0.0, \"count\": 9, \"precision\": 0.0}, {\"OwnerUserId\": \"758164\", \"cutoff\": 11, \"recall\": 0.0, \"count\": 9, \"precision\": 0.0}, {\"OwnerUserId\": \"758164\", \"cutoff\": 16, \"recall\": 0.0, \"count\": 9, \"precision\": 0.0}, {\"OwnerUserId\": \"758164\", \"cutoff\": 21, \"recall\": 0.0, \"count\": 9, \"precision\": 0.0}, {\"OwnerUserId\": \"758164\", \"cutoff\": 26, \"recall\": 0.0, \"count\": 9, \"precision\": 0.0}, {\"OwnerUserId\": \"758164\", \"cutoff\": 31, \"recall\": 0.0, \"count\": 9, \"precision\": 0.0}, {\"OwnerUserId\": \"758164\", \"cutoff\": 36, \"recall\": 0.0, \"count\": 9, \"precision\": 0.0}, {\"OwnerUserId\": \"758164\", \"cutoff\": 41, \"recall\": 0.2222222222222222, \"count\": 9, \"precision\": 0.04878048780487805}, {\"OwnerUserId\": \"758164\", \"cutoff\": 46, \"recall\": 0.2222222222222222, \"count\": 9, \"precision\": 0.043478260869565216}, {\"OwnerUserId\": \"832601\", \"cutoff\": 1, \"recall\": 0.0, \"count\": 1, \"precision\": 0.0}, {\"OwnerUserId\": \"832601\", \"cutoff\": 2, \"recall\": 0.0, \"count\": 1, \"precision\": 0.0}, {\"OwnerUserId\": \"832601\", \"cutoff\": 3, \"recall\": 0.0, \"count\": 1, \"precision\": 0.0}, {\"OwnerUserId\": \"832601\", \"cutoff\": 4, \"recall\": 0.0, \"count\": 1, \"precision\": 0.0}, {\"OwnerUserId\": \"832601\", \"cutoff\": 5, \"recall\": 0.0, \"count\": 1, \"precision\": 0.0}, {\"OwnerUserId\": \"832601\", \"cutoff\": 6, \"recall\": 1.0, \"count\": 1, \"precision\": 0.16666666666666666}, {\"OwnerUserId\": \"832601\", \"cutoff\": 7, \"recall\": 1.0, \"count\": 1, \"precision\": 0.14285714285714285}, {\"OwnerUserId\": \"832601\", \"cutoff\": 8, \"recall\": 1.0, \"count\": 1, \"precision\": 0.125}, {\"OwnerUserId\": \"832601\", \"cutoff\": 9, \"recall\": 1.0, \"count\": 1, \"precision\": 0.1111111111111111}, {\"OwnerUserId\": \"832601\", \"cutoff\": 10, \"recall\": 1.0, \"count\": 1, \"precision\": 0.1}, {\"OwnerUserId\": \"832601\", \"cutoff\": 11, \"recall\": 1.0, \"count\": 1, \"precision\": 0.09090909090909091}, {\"OwnerUserId\": \"832601\", \"cutoff\": 16, \"recall\": 1.0, \"count\": 1, \"precision\": 0.0625}, {\"OwnerUserId\": \"832601\", \"cutoff\": 21, \"recall\": 1.0, \"count\": 1, \"precision\": 0.047619047619047616}, {\"OwnerUserId\": \"832601\", \"cutoff\": 26, \"recall\": 1.0, \"count\": 1, \"precision\": 0.038461538461538464}, {\"OwnerUserId\": \"832601\", \"cutoff\": 31, \"recall\": 1.0, \"count\": 1, \"precision\": 0.03225806451612903}, {\"OwnerUserId\": \"832601\", \"cutoff\": 36, \"recall\": 1.0, \"count\": 1, \"precision\": 0.027777777777777776}, {\"OwnerUserId\": \"832601\", \"cutoff\": 41, \"recall\": 1.0, \"count\": 1, \"precision\": 0.024390243902439025}, {\"OwnerUserId\": \"832601\", \"cutoff\": 46, \"recall\": 1.0, \"count\": 1, \"precision\": 0.021739130434782608}, {\"OwnerUserId\": \"983671\", \"cutoff\": 1, \"recall\": 0.0, \"count\": 3, \"precision\": 0.0}, {\"OwnerUserId\": \"983671\", \"cutoff\": 2, \"recall\": 0.0, \"count\": 3, \"precision\": 0.0}, {\"OwnerUserId\": \"983671\", \"cutoff\": 3, \"recall\": 0.0, \"count\": 3, \"precision\": 0.0}, {\"OwnerUserId\": \"983671\", \"cutoff\": 4, \"recall\": 0.0, \"count\": 3, \"precision\": 0.0}, {\"OwnerUserId\": \"983671\", \"cutoff\": 5, \"recall\": 0.0, \"count\": 3, \"precision\": 0.0}, {\"OwnerUserId\": \"983671\", \"cutoff\": 6, \"recall\": 0.0, \"count\": 3, \"precision\": 0.0}, {\"OwnerUserId\": \"983671\", \"cutoff\": 7, \"recall\": 0.0, \"count\": 3, \"precision\": 0.0}, {\"OwnerUserId\": \"983671\", \"cutoff\": 8, \"recall\": 0.0, \"count\": 3, \"precision\": 0.0}, {\"OwnerUserId\": \"983671\", \"cutoff\": 9, \"recall\": 0.0, \"count\": 3, \"precision\": 0.0}, {\"OwnerUserId\": \"983671\", \"cutoff\": 10, \"recall\": 0.3333333333333333, \"count\": 3, \"precision\": 0.1}, {\"OwnerUserId\": \"983671\", \"cutoff\": 11, \"recall\": 0.3333333333333333, \"count\": 3, \"precision\": 0.09090909090909091}, {\"OwnerUserId\": \"983671\", \"cutoff\": 16, \"recall\": 0.3333333333333333, \"count\": 3, \"precision\": 0.0625}, {\"OwnerUserId\": \"983671\", \"cutoff\": 21, \"recall\": 0.3333333333333333, \"count\": 3, \"precision\": 0.047619047619047616}, {\"OwnerUserId\": \"983671\", \"cutoff\": 26, \"recall\": 0.3333333333333333, \"count\": 3, \"precision\": 0.038461538461538464}, {\"OwnerUserId\": \"983671\", \"cutoff\": 31, \"recall\": 0.3333333333333333, \"count\": 3, \"precision\": 0.03225806451612903}, {\"OwnerUserId\": \"983671\", \"cutoff\": 36, \"recall\": 0.6666666666666666, \"count\": 3, \"precision\": 0.05555555555555555}, {\"OwnerUserId\": \"983671\", \"cutoff\": 41, \"recall\": 0.6666666666666666, \"count\": 3, \"precision\": 0.04878048780487805}, {\"OwnerUserId\": \"983671\", \"cutoff\": 46, \"recall\": 0.6666666666666666, \"count\": 3, \"precision\": 0.043478260869565216}]}]]}, e);\n",
       "                });\n",
       "            })();\n",
       "        "
      ]
     },
     "metadata": {},
     "output_type": "display_data"
    }
   ],
   "source": [
    "model_performance = graphlab.compare(test, [m1, m2], user_sample=0.05)\n",
    "graphlab.show_comparison(model_performance,[m1, m2])"
   ]
  }
 ],
 "metadata": {
  "kernelspec": {
   "display_name": "Python 2",
   "language": "python",
   "name": "python2"
  },
  "language_info": {
   "codemirror_mode": {
    "name": "ipython",
    "version": 2
   },
   "file_extension": ".py",
   "mimetype": "text/x-python",
   "name": "python",
   "nbconvert_exporter": "python",
   "pygments_lexer": "ipython2",
   "version": "2.7.11"
  }
 },
 "nbformat": 4,
 "nbformat_minor": 0
}
