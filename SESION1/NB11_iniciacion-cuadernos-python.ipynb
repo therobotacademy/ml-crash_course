{
 "cells": [
  {
   "cell_type": "markdown",
   "metadata": {
    "colab_type": "text",
    "id": "GB63yatwcr9n"
   },
   "source": [
    "# Primeros pasos con Python"
   ]
  },
  {
   "cell_type": "markdown",
   "metadata": {
    "colab_type": "text",
    "id": "8jeyWNsKaEQG"
   },
   "source": [
    "## Imprimir información por pantalla\n",
    "\n"
   ]
  },
  {
   "cell_type": "code",
   "execution_count": 31,
   "metadata": {
    "colab": {
     "base_uri": "https://localhost:8080/",
     "height": 34
    },
    "colab_type": "code",
    "collapsed": false,
    "executionInfo": {
     "elapsed": 544,
     "status": "ok",
     "timestamp": 1539023364319,
     "user": {
      "displayName": "Bernardo Ronquillo",
      "photoUrl": "",
      "userId": "01356136416445285241"
     },
     "user_tz": -120
    },
    "id": "Fe7YSEBgaJjU",
    "outputId": "c58f7c05-1f56-457d-af12-37b7ef9af399"
   },
   "outputs": [
    {
     "name": "stdout",
     "output_type": "stream",
     "text": [
      "hola\n"
     ]
    }
   ],
   "source": [
    "print \"hola\""
   ]
  },
  {
   "cell_type": "code",
   "execution_count": 32,
   "metadata": {
    "colab": {
     "base_uri": "https://localhost:8080/",
     "height": 34
    },
    "colab_type": "code",
    "collapsed": false,
    "executionInfo": {
     "elapsed": 597,
     "status": "ok",
     "timestamp": 1539023365106,
     "user": {
      "displayName": "Bernardo Ronquillo",
      "photoUrl": "",
      "userId": "01356136416445285241"
     },
     "user_tz": -120
    },
    "id": "vNhfZZsHcr9n",
    "outputId": "190ba030-1576-467b-dc36-4fb935d21e0f"
   },
   "outputs": [
    {
     "name": "stdout",
     "output_type": "stream",
     "text": [
      "¡Hola Mundo!\n"
     ]
    }
   ],
   "source": [
    "print '¡Hola Mundo!'"
   ]
  },
  {
   "cell_type": "markdown",
   "metadata": {
    "colab_type": "text",
    "id": "_9M_UrEMcr9t"
   },
   "source": [
    "## Creando variables en Python"
   ]
  },
  {
   "cell_type": "markdown",
   "metadata": {
    "colab_type": "text",
    "id": "IGWaJW6y0XxK"
   },
   "source": [
    "Creamos una variable asignando un número entero. Python lo interpretará como **entero**"
   ]
  },
  {
   "cell_type": "code",
   "execution_count": 0,
   "metadata": {
    "colab": {},
    "colab_type": "code",
    "collapsed": true,
    "id": "Ko8IDxQQcr9u"
   },
   "outputs": [],
   "source": [
    "i = 4  # tipo 'int' -> entero"
   ]
  },
  {
   "cell_type": "code",
   "execution_count": 34,
   "metadata": {
    "colab": {
     "base_uri": "https://localhost:8080/",
     "height": 34
    },
    "colab_type": "code",
    "collapsed": false,
    "executionInfo": {
     "elapsed": 644,
     "status": "ok",
     "timestamp": 1539023366685,
     "user": {
      "displayName": "Bernardo Ronquillo",
      "photoUrl": "",
      "userId": "01356136416445285241"
     },
     "user_tz": -120
    },
    "id": "i83moSLOcr9x",
    "outputId": "25805446-518c-4cdf-ac85-176258ba388f"
   },
   "outputs": [
    {
     "data": {
      "text/plain": [
       "int"
      ]
     },
     "execution_count": 34,
     "metadata": {
      "tags": []
     },
     "output_type": "execute_result"
    }
   ],
   "source": [
    "type(i)"
   ]
  },
  {
   "cell_type": "markdown",
   "metadata": {
    "colab_type": "text",
    "id": "R4npNkOA0j1_"
   },
   "source": [
    "Creamos otra variable asignando un número decimal. Python lo interpretará como tipo **float**"
   ]
  },
  {
   "cell_type": "code",
   "execution_count": 0,
   "metadata": {
    "colab": {},
    "colab_type": "code",
    "collapsed": true,
    "id": "HpAnYU25cr90"
   },
   "outputs": [],
   "source": [
    "f = 4.1  # tipo 'float' -> número decimal"
   ]
  },
  {
   "cell_type": "code",
   "execution_count": 36,
   "metadata": {
    "colab": {
     "base_uri": "https://localhost:8080/",
     "height": 34
    },
    "colab_type": "code",
    "collapsed": false,
    "executionInfo": {
     "elapsed": 575,
     "status": "ok",
     "timestamp": 1539023368528,
     "user": {
      "displayName": "Bernardo Ronquillo",
      "photoUrl": "",
      "userId": "01356136416445285241"
     },
     "user_tz": -120
    },
    "id": "SjGC0SO8cr92",
    "outputId": "c91f0ab7-51f5-4134-ca97-72a4071532f5"
   },
   "outputs": [
    {
     "data": {
      "text/plain": [
       "float"
      ]
     },
     "execution_count": 36,
     "metadata": {
      "tags": []
     },
     "output_type": "execute_result"
    }
   ],
   "source": [
    "type(f)"
   ]
  },
  {
   "cell_type": "markdown",
   "metadata": {
    "colab_type": "text",
    "id": "bVKOfOjY0roc"
   },
   "source": [
    "Creamos otra variable asignando un valor \"verdadero/ falso\". Python lo interpretará como **booleano**, y le asignará el tipo **bool**"
   ]
  },
  {
   "cell_type": "code",
   "execution_count": 0,
   "metadata": {
    "colab": {},
    "colab_type": "code",
    "collapsed": true,
    "id": "CVq2CVYDcr95"
   },
   "outputs": [],
   "source": [
    "b = True  # Variable booleana: verdadero (=True) / falso (=False)"
   ]
  },
  {
   "cell_type": "code",
   "execution_count": 38,
   "metadata": {
    "colab": {
     "base_uri": "https://localhost:8080/",
     "height": 34
    },
    "colab_type": "code",
    "collapsed": false,
    "executionInfo": {
     "elapsed": 655,
     "status": "ok",
     "timestamp": 1539023370164,
     "user": {
      "displayName": "Bernardo Ronquillo",
      "photoUrl": "",
      "userId": "01356136416445285241"
     },
     "user_tz": -120
    },
    "id": "6xdOCY5W1M1j",
    "outputId": "8ff57b42-e788-4442-dd1a-46695b0a97f7"
   },
   "outputs": [
    {
     "data": {
      "text/plain": [
       "bool"
      ]
     },
     "execution_count": 38,
     "metadata": {
      "tags": []
     },
     "output_type": "execute_result"
    }
   ],
   "source": [
    "type(b)"
   ]
  },
  {
   "cell_type": "markdown",
   "metadata": {
    "colab_type": "text",
    "id": "R9QZEI4500UB"
   },
   "source": [
    "Creamos otra variable asignando una cadena de caracteres. Python lo interpretará como **str**"
   ]
  },
  {
   "cell_type": "code",
   "execution_count": 0,
   "metadata": {
    "colab": {},
    "colab_type": "code",
    "collapsed": true,
    "id": "On7CPxkBcr98"
   },
   "outputs": [],
   "source": [
    "s = \"Esto es una cadena de letras\""
   ]
  },
  {
   "cell_type": "code",
   "execution_count": 40,
   "metadata": {
    "colab": {
     "base_uri": "https://localhost:8080/",
     "height": 34
    },
    "colab_type": "code",
    "collapsed": false,
    "executionInfo": {
     "elapsed": 560,
     "status": "ok",
     "timestamp": 1539023371683,
     "user": {
      "displayName": "Bernardo Ronquillo",
      "photoUrl": "",
      "userId": "01356136416445285241"
     },
     "user_tz": -120
    },
    "id": "3hkpO16J0-ie",
    "outputId": "b736a884-68d7-4c4e-e08c-d0451074ee35"
   },
   "outputs": [
    {
     "data": {
      "text/plain": [
       "str"
      ]
     },
     "execution_count": 40,
     "metadata": {
      "tags": []
     },
     "output_type": "execute_result"
    }
   ],
   "source": [
    "type(s)"
   ]
  },
  {
   "cell_type": "code",
   "execution_count": 42,
   "metadata": {
    "colab": {
     "base_uri": "https://localhost:8080/",
     "height": 34
    },
    "colab_type": "code",
    "collapsed": false,
    "executionInfo": {
     "elapsed": 598,
     "status": "ok",
     "timestamp": 1539023381820,
     "user": {
      "displayName": "Bernardo Ronquillo",
      "photoUrl": "",
      "userId": "01356136416445285241"
     },
     "user_tz": -120
    },
    "id": "pDP2vey-cr9_",
    "outputId": "783751bf-48d7-48ee-f91f-2df62301555f"
   },
   "outputs": [
    {
     "name": "stdout",
     "output_type": "stream",
     "text": [
      "Esto es una cadena de letras\n"
     ]
    }
   ],
   "source": [
    "print s"
   ]
  },
  {
   "cell_type": "markdown",
   "metadata": {
    "colab_type": "text",
    "id": "32mc4FK-cr-C"
   },
   "source": [
    "## Tipos (de variables) avanzados"
   ]
  },
  {
   "cell_type": "markdown",
   "metadata": {
    "colab_type": "text",
    "id": "XsQ8u0a61wm4"
   },
   "source": [
    "Una **lista** está compuesta de un conjunto de datos"
   ]
  },
  {
   "cell_type": "code",
   "execution_count": 0,
   "metadata": {
    "colab": {},
    "colab_type": "code",
    "collapsed": true,
    "id": "CkHz8nDscr-D"
   },
   "outputs": [],
   "source": [
    "l = [3,1,2,4]  # lista"
   ]
  },
  {
   "cell_type": "code",
   "execution_count": 13,
   "metadata": {
    "colab": {
     "base_uri": "https://localhost:8080/",
     "height": 34
    },
    "colab_type": "code",
    "collapsed": false,
    "executionInfo": {
     "elapsed": 562,
     "status": "ok",
     "timestamp": 1539023349040,
     "user": {
      "displayName": "Bernardo Ronquillo",
      "photoUrl": "",
      "userId": "01356136416445285241"
     },
     "user_tz": -120
    },
    "id": "4cBob-3Ycr-G",
    "outputId": "6b9187b3-9e19-4b6d-a1be-45af6024b5b8"
   },
   "outputs": [
    {
     "name": "stdout",
     "output_type": "stream",
     "text": [
      "[3, 1, 2, 4]\n"
     ]
    }
   ],
   "source": [
    "print l"
   ]
  },
  {
   "cell_type": "markdown",
   "metadata": {
    "colab_type": "text",
    "id": "hzNOdqhw13k1"
   },
   "source": [
    "El primer elemento es el de índice 0, y el último el de índice 3 (=número de elementos -1)"
   ]
  },
  {
   "cell_type": "code",
   "execution_count": 14,
   "metadata": {
    "colab": {
     "base_uri": "https://localhost:8080/",
     "height": 34
    },
    "colab_type": "code",
    "collapsed": false,
    "executionInfo": {
     "elapsed": 808,
     "status": "ok",
     "timestamp": 1539023350005,
     "user": {
      "displayName": "Bernardo Ronquillo",
      "photoUrl": "",
      "userId": "01356136416445285241"
     },
     "user_tz": -120
    },
    "id": "D2dTHjIUcr-I",
    "outputId": "6f155ced-4a4a-4c0d-a084-e92634afd1f9"
   },
   "outputs": [
    {
     "name": "stdout",
     "output_type": "stream",
     "text": [
      "2\n"
     ]
    }
   ],
   "source": [
    "print l[2] # Primer elemento"
   ]
  },
  {
   "cell_type": "markdown",
   "metadata": {
    "colab_type": "text",
    "id": "FAOgBWBm2Eq6"
   },
   "source": [
    "Un **diccionario** está compuesta de pares de valores \"key / value\" (como \"palabra / significado\")"
   ]
  },
  {
   "cell_type": "code",
   "execution_count": 0,
   "metadata": {
    "colab": {},
    "colab_type": "code",
    "collapsed": true,
    "id": "TZxqaLGVcr-M"
   },
   "outputs": [],
   "source": [
    "d = {'uno':1, 'dos coma tres':2.3, 's':'mi primer diccionario'}  # Diccionario"
   ]
  },
  {
   "cell_type": "markdown",
   "metadata": {
    "colab_type": "text",
    "id": "ymyOEhnc2UL4"
   },
   "source": [
    "La ordenación se produce en orden alfabético"
   ]
  },
  {
   "cell_type": "code",
   "execution_count": 16,
   "metadata": {
    "colab": {
     "base_uri": "https://localhost:8080/",
     "height": 34
    },
    "colab_type": "code",
    "collapsed": false,
    "executionInfo": {
     "elapsed": 628,
     "status": "ok",
     "timestamp": 1539023351600,
     "user": {
      "displayName": "Bernardo Ronquillo",
      "photoUrl": "",
      "userId": "01356136416445285241"
     },
     "user_tz": -120
    },
    "id": "M1jaoEUqcr-P",
    "outputId": "791ac879-baa8-4e78-f3de-c43eebe59953"
   },
   "outputs": [
    {
     "name": "stdout",
     "output_type": "stream",
     "text": [
      "{'dos coma tres': 2.3, 's': 'mi primer diccionario', 'uno': 1}\n"
     ]
    }
   ],
   "source": [
    "print d # Lo muestra en orden alfabético de las entradas"
   ]
  },
  {
   "cell_type": "markdown",
   "metadata": {
    "colab_type": "text",
    "id": "K22OATRr2aFo"
   },
   "source": [
    "Obtener el valor de un elemento del diccionario"
   ]
  },
  {
   "cell_type": "code",
   "execution_count": 17,
   "metadata": {
    "colab": {
     "base_uri": "https://localhost:8080/",
     "height": 34
    },
    "colab_type": "code",
    "collapsed": false,
    "executionInfo": {
     "elapsed": 600,
     "status": "ok",
     "timestamp": 1539023352382,
     "user": {
      "displayName": "Bernardo Ronquillo",
      "photoUrl": "",
      "userId": "01356136416445285241"
     },
     "user_tz": -120
    },
    "id": "gwQxSqmOcr-S",
    "outputId": "4cc54d9d-0604-4b57-d35e-f0cbf8b61da6"
   },
   "outputs": [
    {
     "name": "stdout",
     "output_type": "stream",
     "text": [
      "2.3\n"
     ]
    }
   ],
   "source": [
    "print d['dos coma tres']  # Un elemento del diccionario"
   ]
  },
  {
   "cell_type": "markdown",
   "metadata": {
    "colab_type": "text",
    "id": "QjR55xT82gVQ"
   },
   "source": [
    "Cómo representar el **valor nulo **en python, que es de tipo *NoneType*"
   ]
  },
  {
   "cell_type": "code",
   "execution_count": 0,
   "metadata": {
    "colab": {},
    "colab_type": "code",
    "collapsed": true,
    "id": "ndSiLSzacr-V"
   },
   "outputs": [],
   "source": [
    "n = None  # Tipo nulo en Python"
   ]
  },
  {
   "cell_type": "code",
   "execution_count": 19,
   "metadata": {
    "colab": {
     "base_uri": "https://localhost:8080/",
     "height": 34
    },
    "colab_type": "code",
    "collapsed": false,
    "executionInfo": {
     "elapsed": 589,
     "status": "ok",
     "timestamp": 1539023353979,
     "user": {
      "displayName": "Bernardo Ronquillo",
      "photoUrl": "",
      "userId": "01356136416445285241"
     },
     "user_tz": -120
    },
    "id": "zmz5Eopecr-X",
    "outputId": "99cbc3bb-1350-4f79-83f1-e375e3499235"
   },
   "outputs": [
    {
     "data": {
      "text/plain": [
       "NoneType"
      ]
     },
     "execution_count": 19,
     "metadata": {
      "tags": []
     },
     "output_type": "execute_result"
    }
   ],
   "source": [
    "type(n)"
   ]
  },
  {
   "cell_type": "markdown",
   "metadata": {
    "colab_type": "text",
    "id": "kUP8S-Zccr-a"
   },
   "source": [
    "## Impresión avanzada"
   ]
  },
  {
   "cell_type": "code",
   "execution_count": 20,
   "metadata": {
    "colab": {
     "base_uri": "https://localhost:8080/",
     "height": 34
    },
    "colab_type": "code",
    "collapsed": false,
    "executionInfo": {
     "elapsed": 584,
     "status": "ok",
     "timestamp": 1539023354779,
     "user": {
      "displayName": "Bernardo Ronquillo",
      "photoUrl": "",
      "userId": "01356136416445285241"
     },
     "user_tz": -120
    },
    "id": "WHAftOjtcr-a",
    "outputId": "0e0a8848-0da7-4d96-dd2f-9fdb83756fab"
   },
   "outputs": [
    {
     "name": "stdout",
     "output_type": "stream",
     "text": [
      "El número decimal es 4.1 y el valor entero es 4.\n"
     ]
    }
   ],
   "source": [
    "print \"El número decimal es %s y el valor entero es %s.\" % (f,i)  # %s imprime cualquier variable como cadena de caracteres"
   ]
  },
  {
   "cell_type": "markdown",
   "metadata": {
    "colab_type": "text",
    "id": "I8R_wqThcr-d"
   },
   "source": [
    "## Sentencias condicionales\n",
    "### EJERCICIO: Juega con los valores de 'i' y 'f' para reproducir las 3 condiciones posibles"
   ]
  },
  {
   "cell_type": "code",
   "execution_count": 0,
   "metadata": {
    "colab": {},
    "colab_type": "code",
    "collapsed": true,
    "id": "zi3-jlkhcr-e"
   },
   "outputs": [],
   "source": [
    "i=1\n",
    "f=5"
   ]
  },
  {
   "cell_type": "code",
   "execution_count": 22,
   "metadata": {
    "colab": {
     "base_uri": "https://localhost:8080/",
     "height": 34
    },
    "colab_type": "code",
    "collapsed": false,
    "executionInfo": {
     "elapsed": 586,
     "status": "ok",
     "timestamp": 1539023356331,
     "user": {
      "displayName": "Bernardo Ronquillo",
      "photoUrl": "",
      "userId": "01356136416445285241"
     },
     "user_tz": -120
    },
    "id": "7wnS9v8Ncr-g",
    "outputId": "94c2ff39-0ceb-4f48-90b5-4d214f149626"
   },
   "outputs": [
    {
     "name": "stdout",
     "output_type": "stream",
     "text": [
      "'i' y 'f' son ambos menores o iguales que 4\n"
     ]
    }
   ],
   "source": [
    "i=2\n",
    "f=4\n",
    "if i == 1 and f > 4:\n",
    "    print \"El valor de 'i' es 1 y 'f' es mayor que 4.\"\n",
    "elif i > 4 or f > 4:\n",
    "    print \"'i' y 'f' son ambos mayores que 4.\"\n",
    "else:\n",
    "    print \"'i' y 'f' son ambos menores o iguales que 4\"\n"
   ]
  },
  {
   "cell_type": "markdown",
   "metadata": {
    "colab_type": "text",
    "id": "FW8DFHQgcr-j"
   },
   "source": [
    "## Bucles fijos y condicionales"
   ]
  },
  {
   "cell_type": "code",
   "execution_count": 23,
   "metadata": {
    "colab": {
     "base_uri": "https://localhost:8080/",
     "height": 34
    },
    "colab_type": "code",
    "collapsed": false,
    "executionInfo": {
     "elapsed": 876,
     "status": "ok",
     "timestamp": 1539023357546,
     "user": {
      "displayName": "Bernardo Ronquillo",
      "photoUrl": "",
      "userId": "01356136416445285241"
     },
     "user_tz": -120
    },
    "id": "5GN0nyNdcr-j",
    "outputId": "7ff3b6be-bcfe-4a3a-cf51-09adbfe65d22"
   },
   "outputs": [
    {
     "name": "stdout",
     "output_type": "stream",
     "text": [
      "[3, 1, 2, 4]\n"
     ]
    }
   ],
   "source": [
    "print l"
   ]
  },
  {
   "cell_type": "code",
   "execution_count": 24,
   "metadata": {
    "colab": {
     "base_uri": "https://localhost:8080/",
     "height": 87
    },
    "colab_type": "code",
    "collapsed": false,
    "executionInfo": {
     "elapsed": 783,
     "status": "ok",
     "timestamp": 1539023358701,
     "user": {
      "displayName": "Bernardo Ronquillo",
      "photoUrl": "",
      "userId": "01356136416445285241"
     },
     "user_tz": -120
    },
    "id": "ki-Xhl_Ucr-m",
    "outputId": "18f87c96-bb6e-496b-d8bf-c54a7733b49c"
   },
   "outputs": [
    {
     "name": "stdout",
     "output_type": "stream",
     "text": [
      "3\n",
      "1\n",
      "2\n",
      "4\n"
     ]
    }
   ],
   "source": [
    "for e in l:\n",
    "    print e"
   ]
  },
  {
   "cell_type": "markdown",
   "metadata": {
    "colab_type": "text",
    "id": "AOcUxmG4cr-p"
   },
   "source": [
    "Ten en cuenta que en Python no usamos {} u otros marcadores para indicar la parte de líneas que se repiten. En su lugar, se usa el sangrado y alineamos las líneas que han de repetirse (el número de espacios de sangrado es indiferente siempre que las líneas estén alineadas)."
   ]
  },
  {
   "cell_type": "code",
   "execution_count": 25,
   "metadata": {
    "colab": {
     "base_uri": "https://localhost:8080/",
     "height": 122
    },
    "colab_type": "code",
    "collapsed": false,
    "executionInfo": {
     "elapsed": 585,
     "status": "ok",
     "timestamp": 1539023359447,
     "user": {
      "displayName": "Bernardo Ronquillo",
      "photoUrl": "",
      "userId": "01356136416445285241"
     },
     "user_tz": -120
    },
    "id": "QR06bwOwcr-p",
    "outputId": "4cdf3770-7ddf-4a49-f395-5326edf22197"
   },
   "outputs": [
    {
     "name": "stdout",
     "output_type": "stream",
     "text": [
      "5\n",
      "6\n",
      "7\n",
      "8\n",
      "9\n",
      "10\n"
     ]
    }
   ],
   "source": [
    "counter = 5\n",
    "while counter <= 10:\n",
    "    print counter\n",
    "    counter += 1"
   ]
  },
  {
   "cell_type": "markdown",
   "metadata": {
    "colab_type": "text",
    "id": "n8qlPMYlcr-s"
   },
   "source": [
    "# Creando funciones\n",
    "\n",
    "De nuevo no usamos {}, sino que sangramos las líneas que forman parte de la función."
   ]
  },
  {
   "cell_type": "code",
   "execution_count": 0,
   "metadata": {
    "colab": {},
    "colab_type": "code",
    "collapsed": true,
    "id": "ey4v4VE_cr-t"
   },
   "outputs": [],
   "source": [
    "def suma2(x):\n",
    "    y = x + 2\n",
    "    return y"
   ]
  },
  {
   "cell_type": "code",
   "execution_count": 0,
   "metadata": {
    "colab": {},
    "colab_type": "code",
    "collapsed": true,
    "id": "d9BFkjNecr-v"
   },
   "outputs": [],
   "source": [
    "i = 8"
   ]
  },
  {
   "cell_type": "code",
   "execution_count": 28,
   "metadata": {
    "colab": {
     "base_uri": "https://localhost:8080/",
     "height": 34
    },
    "colab_type": "code",
    "collapsed": false,
    "executionInfo": {
     "elapsed": 633,
     "status": "ok",
     "timestamp": 1539023361940,
     "user": {
      "displayName": "Bernardo Ronquillo",
      "photoUrl": "",
      "userId": "01356136416445285241"
     },
     "user_tz": -120
    },
    "id": "kJJDn_n9cr-x",
    "outputId": "f1d05b25-5b0b-4e76-ebef-2a2d68d2d8f6"
   },
   "outputs": [
    {
     "data": {
      "text/plain": [
       "10"
      ]
     },
     "execution_count": 28,
     "metadata": {
      "tags": []
     },
     "output_type": "execute_result"
    }
   ],
   "source": [
    "suma2(i)"
   ]
  },
  {
   "cell_type": "markdown",
   "metadata": {
    "colab_type": "text",
    "id": "fhpQeBxdcr-1"
   },
   "source": [
    "Podemos definir funciones sencillas usando 'lambdas':"
   ]
  },
  {
   "cell_type": "code",
   "execution_count": 0,
   "metadata": {
    "colab": {},
    "colab_type": "code",
    "collapsed": true,
    "id": "2uPaDWBrcr-2"
   },
   "outputs": [],
   "source": [
    "cuadrado = lambda x: x*x"
   ]
  },
  {
   "cell_type": "code",
   "execution_count": 30,
   "metadata": {
    "colab": {
     "base_uri": "https://localhost:8080/",
     "height": 34
    },
    "colab_type": "code",
    "collapsed": false,
    "executionInfo": {
     "elapsed": 615,
     "status": "ok",
     "timestamp": 1539023363562,
     "user": {
      "displayName": "Bernardo Ronquillo",
      "photoUrl": "",
      "userId": "01356136416445285241"
     },
     "user_tz": -120
    },
    "id": "LtTbzVOccr-6",
    "outputId": "f87f410f-881c-40aa-d63e-6ffd911ac19c"
   },
   "outputs": [
    {
     "data": {
      "text/plain": [
       "225"
      ]
     },
     "execution_count": 30,
     "metadata": {
      "tags": []
     },
     "output_type": "execute_result"
    }
   ],
   "source": [
    "cuadrado(15)"
   ]
  }
 ],
 "metadata": {
  "colab": {
   "name": "(python)iniciacion-cuadernos-python.ipynb",
   "provenance": [
    {
     "file_id": "1DsBFahH13coDVHd4wc_xOYmjYYfRzY_X",
     "timestamp": 1538819814141
    }
   ],
   "version": "0.3.2"
  },
  "kernelspec": {
   "display_name": "Python 2",
   "language": "python",
   "name": "python2"
  },
  "language_info": {
   "codemirror_mode": {
    "name": "ipython",
    "version": 2
   },
   "file_extension": ".py",
   "mimetype": "text/x-python",
   "name": "python",
   "nbconvert_exporter": "python",
   "pygments_lexer": "ipython2",
   "version": "2.7.11"
  }
 },
 "nbformat": 4,
 "nbformat_minor": 0
}
